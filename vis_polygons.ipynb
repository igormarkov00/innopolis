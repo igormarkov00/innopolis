{
 "cells": [
  {
   "cell_type": "code",
   "execution_count": 21,
   "id": "ada86182",
   "metadata": {
    "ExecuteTime": {
     "end_time": "2022-11-07T17:23:21.045795Z",
     "start_time": "2022-11-07T17:23:17.591744Z"
    }
   },
   "outputs": [],
   "source": [
    "import pandas as pd\n",
    "import seaborn as sns\n",
    "import matplotlib.pyplot as plt\n",
    "from sklearn.model_selection import train_test_split\n",
    "\n",
    "from sklearn.ensemble import RandomForestClassifier\n",
    "\n",
    "%matplotlib inline\n",
    "\n",
    "# import folium\n",
    "import numpy as np\n",
    "import random\n",
    "import json\n",
    "import lightgbm"
   ]
  },
  {
   "cell_type": "code",
   "execution_count": 22,
   "id": "8b6613d6",
   "metadata": {
    "ExecuteTime": {
     "end_time": "2022-11-07T17:23:31.251609Z",
     "start_time": "2022-11-07T17:23:30.825150Z"
    }
   },
   "outputs": [],
   "source": [
    "df = pd.read_csv(\"train.csv\")\n",
    "test_df = pd.read_csv(\"test.csv\")"
   ]
  },
  {
   "cell_type": "code",
   "execution_count": 23,
   "id": "7a36058b",
   "metadata": {
    "ExecuteTime": {
     "end_time": "2022-11-07T17:23:38.451803Z",
     "start_time": "2022-11-07T17:23:38.434332Z"
    }
   },
   "outputs": [
    {
     "data": {
      "text/plain": [
       "['.geo',\n",
       " 'area',\n",
       " 'crop',\n",
       " 'id',\n",
       " 'nd_mean_2021-04-15',\n",
       " 'nd_mean_2021-04-16',\n",
       " 'nd_mean_2021-04-18',\n",
       " 'nd_mean_2021-04-19',\n",
       " 'nd_mean_2021-04-20',\n",
       " 'nd_mean_2021-04-22',\n",
       " 'nd_mean_2021-04-23',\n",
       " 'nd_mean_2021-04-25',\n",
       " 'nd_mean_2021-04-26',\n",
       " 'nd_mean_2021-04-27',\n",
       " 'nd_mean_2021-04-28',\n",
       " 'nd_mean_2021-04-29',\n",
       " 'nd_mean_2021-04-30',\n",
       " 'nd_mean_2021-05-01',\n",
       " 'nd_mean_2021-05-02',\n",
       " 'nd_mean_2021-05-03',\n",
       " 'nd_mean_2021-05-04',\n",
       " 'nd_mean_2021-05-07',\n",
       " 'nd_mean_2021-05-08',\n",
       " 'nd_mean_2021-05-09',\n",
       " 'nd_mean_2021-05-10',\n",
       " 'nd_mean_2021-05-15',\n",
       " 'nd_mean_2021-05-16',\n",
       " 'nd_mean_2021-05-17',\n",
       " 'nd_mean_2021-05-19',\n",
       " 'nd_mean_2021-05-20',\n",
       " 'nd_mean_2021-05-21',\n",
       " 'nd_mean_2021-05-24',\n",
       " 'nd_mean_2021-05-26',\n",
       " 'nd_mean_2021-05-27',\n",
       " 'nd_mean_2021-05-29',\n",
       " 'nd_mean_2021-06-02',\n",
       " 'nd_mean_2021-06-03',\n",
       " 'nd_mean_2021-06-04',\n",
       " 'nd_mean_2021-06-05',\n",
       " 'nd_mean_2021-06-06',\n",
       " 'nd_mean_2021-06-07',\n",
       " 'nd_mean_2021-06-09',\n",
       " 'nd_mean_2021-06-10',\n",
       " 'nd_mean_2021-06-12',\n",
       " 'nd_mean_2021-06-13',\n",
       " 'nd_mean_2021-06-16',\n",
       " 'nd_mean_2021-06-18',\n",
       " 'nd_mean_2021-06-19',\n",
       " 'nd_mean_2021-06-20',\n",
       " 'nd_mean_2021-06-22',\n",
       " 'nd_mean_2021-06-25',\n",
       " 'nd_mean_2021-06-27',\n",
       " 'nd_mean_2021-06-28',\n",
       " 'nd_mean_2021-07-04',\n",
       " 'nd_mean_2021-07-05',\n",
       " 'nd_mean_2021-07-07',\n",
       " 'nd_mean_2021-07-08',\n",
       " 'nd_mean_2021-07-09',\n",
       " 'nd_mean_2021-07-13',\n",
       " 'nd_mean_2021-07-15',\n",
       " 'nd_mean_2021-07-17',\n",
       " 'nd_mean_2021-07-20',\n",
       " 'nd_mean_2021-07-26',\n",
       " 'nd_mean_2021-07-27',\n",
       " 'nd_mean_2021-07-29',\n",
       " 'nd_mean_2021-07-31',\n",
       " 'nd_mean_2021-08-01',\n",
       " 'nd_mean_2021-08-07',\n",
       " 'nd_mean_2021-08-10',\n",
       " 'nd_mean_2021-08-11',\n",
       " 'nd_mean_2021-08-12',\n",
       " 'nd_mean_2021-08-13',\n",
       " 'nd_mean_2021-08-23',\n",
       " 'nd_mean_2021-08-27']"
      ]
     },
     "execution_count": 23,
     "metadata": {},
     "output_type": "execute_result"
    }
   ],
   "source": [
    "sorted(df.columns)"
   ]
  },
  {
   "cell_type": "code",
   "execution_count": 24,
   "id": "393aa2f5",
   "metadata": {
    "ExecuteTime": {
     "end_time": "2022-11-07T16:34:31.563157Z",
     "start_time": "2022-11-07T16:34:30.055112Z"
    }
   },
   "outputs": [],
   "source": [
    "df['geo_dict'] = df['.geo'].apply(lambda x: json.loads(x))\n",
    "test_df['geo_dict'] = test_df['.geo'].apply(lambda x: json.loads(x))"
   ]
  },
  {
   "cell_type": "code",
   "execution_count": 25,
   "id": "57c702c3",
   "metadata": {
    "ExecuteTime": {
     "end_time": "2022-11-07T16:34:32.747165Z",
     "start_time": "2022-11-07T16:34:32.712784Z"
    }
   },
   "outputs": [
    {
     "data": {
      "text/html": [
       "<div>\n",
       "<style scoped>\n",
       "    .dataframe tbody tr th:only-of-type {\n",
       "        vertical-align: middle;\n",
       "    }\n",
       "\n",
       "    .dataframe tbody tr th {\n",
       "        vertical-align: top;\n",
       "    }\n",
       "\n",
       "    .dataframe thead th {\n",
       "        text-align: right;\n",
       "    }\n",
       "</style>\n",
       "<table border=\"1\" class=\"dataframe\">\n",
       "  <thead>\n",
       "    <tr style=\"text-align: right;\">\n",
       "      <th></th>\n",
       "      <th>id</th>\n",
       "      <th>area</th>\n",
       "      <th>nd_mean_2021-04-16</th>\n",
       "      <th>nd_mean_2021-04-19</th>\n",
       "      <th>nd_mean_2021-04-22</th>\n",
       "      <th>nd_mean_2021-04-26</th>\n",
       "      <th>nd_mean_2021-04-28</th>\n",
       "      <th>nd_mean_2021-05-02</th>\n",
       "      <th>nd_mean_2021-05-04</th>\n",
       "      <th>nd_mean_2021-05-07</th>\n",
       "      <th>...</th>\n",
       "      <th>nd_mean_2021-06-04</th>\n",
       "      <th>nd_mean_2021-06-05</th>\n",
       "      <th>nd_mean_2021-06-10</th>\n",
       "      <th>nd_mean_2021-07-05</th>\n",
       "      <th>nd_mean_2021-08-13</th>\n",
       "      <th>nd_mean_2021-08-27</th>\n",
       "      <th>nd_mean_2021-05-08</th>\n",
       "      <th>nd_mean_2021-05-24</th>\n",
       "      <th>crop</th>\n",
       "      <th>geo_dict</th>\n",
       "    </tr>\n",
       "  </thead>\n",
       "  <tbody>\n",
       "    <tr>\n",
       "      <th>4827</th>\n",
       "      <td>5226</td>\n",
       "      <td>58</td>\n",
       "      <td>0.191255</td>\n",
       "      <td>0.063581</td>\n",
       "      <td>0.140111</td>\n",
       "      <td>0.323984</td>\n",
       "      <td>0.000000</td>\n",
       "      <td>0.005056</td>\n",
       "      <td>0.092693</td>\n",
       "      <td>0.399439</td>\n",
       "      <td>...</td>\n",
       "      <td>0.187352</td>\n",
       "      <td>0.142930</td>\n",
       "      <td>0.000000</td>\n",
       "      <td>0.047572</td>\n",
       "      <td>0.007225</td>\n",
       "      <td>0.145505</td>\n",
       "      <td>0.051215</td>\n",
       "      <td>0.079730</td>\n",
       "      <td>6</td>\n",
       "      <td>{'type': 'Polygon', 'coordinates': [[[38.57789...</td>\n",
       "    </tr>\n",
       "    <tr>\n",
       "      <th>4828</th>\n",
       "      <td>5390</td>\n",
       "      <td>14</td>\n",
       "      <td>0.291399</td>\n",
       "      <td>0.221428</td>\n",
       "      <td>0.007247</td>\n",
       "      <td>0.055074</td>\n",
       "      <td>0.057781</td>\n",
       "      <td>0.187749</td>\n",
       "      <td>0.112403</td>\n",
       "      <td>0.183555</td>\n",
       "      <td>...</td>\n",
       "      <td>0.644357</td>\n",
       "      <td>0.085861</td>\n",
       "      <td>0.631304</td>\n",
       "      <td>0.694524</td>\n",
       "      <td>0.031836</td>\n",
       "      <td>0.453151</td>\n",
       "      <td>0.000000</td>\n",
       "      <td>0.006495</td>\n",
       "      <td>5</td>\n",
       "      <td>{'type': 'Polygon', 'coordinates': [[[53.31082...</td>\n",
       "    </tr>\n",
       "    <tr>\n",
       "      <th>4829</th>\n",
       "      <td>860</td>\n",
       "      <td>75</td>\n",
       "      <td>0.226925</td>\n",
       "      <td>0.043076</td>\n",
       "      <td>0.058611</td>\n",
       "      <td>0.440539</td>\n",
       "      <td>0.120169</td>\n",
       "      <td>0.138846</td>\n",
       "      <td>0.020173</td>\n",
       "      <td>0.117669</td>\n",
       "      <td>...</td>\n",
       "      <td>0.003272</td>\n",
       "      <td>0.000000</td>\n",
       "      <td>0.010312</td>\n",
       "      <td>0.227649</td>\n",
       "      <td>0.000000</td>\n",
       "      <td>0.096585</td>\n",
       "      <td>0.000000</td>\n",
       "      <td>0.011459</td>\n",
       "      <td>6</td>\n",
       "      <td>{'type': 'Polygon', 'coordinates': [[[38.79371...</td>\n",
       "    </tr>\n",
       "  </tbody>\n",
       "</table>\n",
       "<p>3 rows × 75 columns</p>\n",
       "</div>"
      ],
      "text/plain": [
       "        id  area  nd_mean_2021-04-16  nd_mean_2021-04-19  nd_mean_2021-04-22  \\\n",
       "4827  5226    58            0.191255            0.063581            0.140111   \n",
       "4828  5390    14            0.291399            0.221428            0.007247   \n",
       "4829   860    75            0.226925            0.043076            0.058611   \n",
       "\n",
       "      nd_mean_2021-04-26  nd_mean_2021-04-28  nd_mean_2021-05-02  \\\n",
       "4827            0.323984            0.000000            0.005056   \n",
       "4828            0.055074            0.057781            0.187749   \n",
       "4829            0.440539            0.120169            0.138846   \n",
       "\n",
       "      nd_mean_2021-05-04  nd_mean_2021-05-07  ...  nd_mean_2021-06-04  \\\n",
       "4827            0.092693            0.399439  ...            0.187352   \n",
       "4828            0.112403            0.183555  ...            0.644357   \n",
       "4829            0.020173            0.117669  ...            0.003272   \n",
       "\n",
       "      nd_mean_2021-06-05  nd_mean_2021-06-10  nd_mean_2021-07-05  \\\n",
       "4827            0.142930            0.000000            0.047572   \n",
       "4828            0.085861            0.631304            0.694524   \n",
       "4829            0.000000            0.010312            0.227649   \n",
       "\n",
       "      nd_mean_2021-08-13  nd_mean_2021-08-27  nd_mean_2021-05-08  \\\n",
       "4827            0.007225            0.145505            0.051215   \n",
       "4828            0.031836            0.453151            0.000000   \n",
       "4829            0.000000            0.096585            0.000000   \n",
       "\n",
       "      nd_mean_2021-05-24  crop  \\\n",
       "4827            0.079730     6   \n",
       "4828            0.006495     5   \n",
       "4829            0.011459     6   \n",
       "\n",
       "                                               geo_dict  \n",
       "4827  {'type': 'Polygon', 'coordinates': [[[38.57789...  \n",
       "4828  {'type': 'Polygon', 'coordinates': [[[53.31082...  \n",
       "4829  {'type': 'Polygon', 'coordinates': [[[38.79371...  \n",
       "\n",
       "[3 rows x 75 columns]"
      ]
     },
     "execution_count": 25,
     "metadata": {},
     "output_type": "execute_result"
    }
   ],
   "source": [
    "df.tail(3)"
   ]
  },
  {
   "cell_type": "code",
   "execution_count": 26,
   "id": "58850633",
   "metadata": {
    "ExecuteTime": {
     "end_time": "2022-11-07T16:34:35.599940Z",
     "start_time": "2022-11-07T16:34:35.587352Z"
    }
   },
   "outputs": [
    {
     "data": {
      "text/plain": [
       "Polygon               4801\n",
       "MultiPolygon            19\n",
       "GeometryCollection      10\n",
       "Name: geo_dict, dtype: int64"
      ]
     },
     "execution_count": 26,
     "metadata": {},
     "output_type": "execute_result"
    }
   ],
   "source": [
    "df['geo_dict'].apply(lambda x: x['type']).value_counts()"
   ]
  },
  {
   "cell_type": "markdown",
   "id": "20b46c9b",
   "metadata": {},
   "source": [
    "# add centroid coords"
   ]
  },
  {
   "cell_type": "code",
   "execution_count": 27,
   "id": "3e951a85",
   "metadata": {
    "ExecuteTime": {
     "end_time": "2022-11-07T16:36:15.126383Z",
     "start_time": "2022-11-07T16:36:13.607867Z"
    }
   },
   "outputs": [],
   "source": [
    "from shapely.geometry import shape\n",
    "\n",
    "df['x_centroid'] = df['geo_dict'].apply(lambda x: shape(x).centroid.x)\n",
    "df['y_centroid'] = df['geo_dict'].apply(lambda x: shape(x).centroid.y)\n",
    "\n",
    "test_df['x_centroid'] = test_df['geo_dict'].apply(lambda x: shape(x).centroid.x)\n",
    "test_df['y_centroid'] = test_df['geo_dict'].apply(lambda x: shape(x).centroid.y)"
   ]
  },
  {
   "cell_type": "code",
   "execution_count": 28,
   "id": "f1b81be0",
   "metadata": {
    "ExecuteTime": {
     "end_time": "2022-11-07T16:36:16.705749Z",
     "start_time": "2022-11-07T16:36:16.677401Z"
    }
   },
   "outputs": [
    {
     "data": {
      "text/html": [
       "<div>\n",
       "<style scoped>\n",
       "    .dataframe tbody tr th:only-of-type {\n",
       "        vertical-align: middle;\n",
       "    }\n",
       "\n",
       "    .dataframe tbody tr th {\n",
       "        vertical-align: top;\n",
       "    }\n",
       "\n",
       "    .dataframe thead th {\n",
       "        text-align: right;\n",
       "    }\n",
       "</style>\n",
       "<table border=\"1\" class=\"dataframe\">\n",
       "  <thead>\n",
       "    <tr style=\"text-align: right;\">\n",
       "      <th></th>\n",
       "      <th>id</th>\n",
       "      <th>area</th>\n",
       "      <th>nd_mean_2021-04-16</th>\n",
       "      <th>nd_mean_2021-04-19</th>\n",
       "      <th>nd_mean_2021-04-22</th>\n",
       "      <th>nd_mean_2021-04-26</th>\n",
       "      <th>nd_mean_2021-04-28</th>\n",
       "      <th>nd_mean_2021-05-02</th>\n",
       "      <th>nd_mean_2021-05-04</th>\n",
       "      <th>nd_mean_2021-05-07</th>\n",
       "      <th>...</th>\n",
       "      <th>nd_mean_2021-06-10</th>\n",
       "      <th>nd_mean_2021-07-05</th>\n",
       "      <th>nd_mean_2021-08-13</th>\n",
       "      <th>nd_mean_2021-08-27</th>\n",
       "      <th>nd_mean_2021-05-08</th>\n",
       "      <th>nd_mean_2021-05-24</th>\n",
       "      <th>crop</th>\n",
       "      <th>geo_dict</th>\n",
       "      <th>x_centroid</th>\n",
       "      <th>y_centroid</th>\n",
       "    </tr>\n",
       "  </thead>\n",
       "  <tbody>\n",
       "    <tr>\n",
       "      <th>4828</th>\n",
       "      <td>5390</td>\n",
       "      <td>14</td>\n",
       "      <td>0.291399</td>\n",
       "      <td>0.221428</td>\n",
       "      <td>0.007247</td>\n",
       "      <td>0.055074</td>\n",
       "      <td>0.057781</td>\n",
       "      <td>0.187749</td>\n",
       "      <td>0.112403</td>\n",
       "      <td>0.183555</td>\n",
       "      <td>...</td>\n",
       "      <td>0.631304</td>\n",
       "      <td>0.694524</td>\n",
       "      <td>0.031836</td>\n",
       "      <td>0.453151</td>\n",
       "      <td>0.0</td>\n",
       "      <td>0.006495</td>\n",
       "      <td>5</td>\n",
       "      <td>{'type': 'Polygon', 'coordinates': [[[53.31082...</td>\n",
       "      <td>53.320243</td>\n",
       "      <td>55.183351</td>\n",
       "    </tr>\n",
       "    <tr>\n",
       "      <th>4829</th>\n",
       "      <td>860</td>\n",
       "      <td>75</td>\n",
       "      <td>0.226925</td>\n",
       "      <td>0.043076</td>\n",
       "      <td>0.058611</td>\n",
       "      <td>0.440539</td>\n",
       "      <td>0.120169</td>\n",
       "      <td>0.138846</td>\n",
       "      <td>0.020173</td>\n",
       "      <td>0.117669</td>\n",
       "      <td>...</td>\n",
       "      <td>0.010312</td>\n",
       "      <td>0.227649</td>\n",
       "      <td>0.000000</td>\n",
       "      <td>0.096585</td>\n",
       "      <td>0.0</td>\n",
       "      <td>0.011459</td>\n",
       "      <td>6</td>\n",
       "      <td>{'type': 'Polygon', 'coordinates': [[[38.79371...</td>\n",
       "      <td>38.801961</td>\n",
       "      <td>52.728333</td>\n",
       "    </tr>\n",
       "  </tbody>\n",
       "</table>\n",
       "<p>2 rows × 77 columns</p>\n",
       "</div>"
      ],
      "text/plain": [
       "        id  area  nd_mean_2021-04-16  nd_mean_2021-04-19  nd_mean_2021-04-22  \\\n",
       "4828  5390    14            0.291399            0.221428            0.007247   \n",
       "4829   860    75            0.226925            0.043076            0.058611   \n",
       "\n",
       "      nd_mean_2021-04-26  nd_mean_2021-04-28  nd_mean_2021-05-02  \\\n",
       "4828            0.055074            0.057781            0.187749   \n",
       "4829            0.440539            0.120169            0.138846   \n",
       "\n",
       "      nd_mean_2021-05-04  nd_mean_2021-05-07  ...  nd_mean_2021-06-10  \\\n",
       "4828            0.112403            0.183555  ...            0.631304   \n",
       "4829            0.020173            0.117669  ...            0.010312   \n",
       "\n",
       "      nd_mean_2021-07-05  nd_mean_2021-08-13  nd_mean_2021-08-27  \\\n",
       "4828            0.694524            0.031836            0.453151   \n",
       "4829            0.227649            0.000000            0.096585   \n",
       "\n",
       "      nd_mean_2021-05-08  nd_mean_2021-05-24  crop  \\\n",
       "4828                 0.0            0.006495     5   \n",
       "4829                 0.0            0.011459     6   \n",
       "\n",
       "                                               geo_dict  x_centroid  \\\n",
       "4828  {'type': 'Polygon', 'coordinates': [[[53.31082...   53.320243   \n",
       "4829  {'type': 'Polygon', 'coordinates': [[[38.79371...   38.801961   \n",
       "\n",
       "      y_centroid  \n",
       "4828   55.183351  \n",
       "4829   52.728333  \n",
       "\n",
       "[2 rows x 77 columns]"
      ]
     },
     "execution_count": 28,
     "metadata": {},
     "output_type": "execute_result"
    }
   ],
   "source": [
    "df.tail(2)"
   ]
  },
  {
   "cell_type": "markdown",
   "id": "0e377c61",
   "metadata": {},
   "source": [
    "# vis"
   ]
  },
  {
   "cell_type": "code",
   "execution_count": 13,
   "id": "78ae2430",
   "metadata": {
    "ExecuteTime": {
     "end_time": "2022-11-07T14:29:53.528084Z",
     "start_time": "2022-11-07T14:29:53.525481Z"
    }
   },
   "outputs": [],
   "source": [
    "def add_points(data_, style):\n",
    "    for _, r in data_.iterrows():\n",
    "        geo_j = r[\"geo_dict\"]\n",
    "        geo_j = folium.GeoJson(data=geo_j, style_function=lambda x: style)\n",
    "        geo_j.add_to(m)\n",
    "        \n",
    "#         if random.random() < 0.1:\n",
    "#             folium.Marker(location=[r['y_centroid'], r['x_centroid']],\n",
    "#                       popup='area: {}'.format(r['area'])).add_to(m)"
   ]
  },
  {
   "cell_type": "code",
   "execution_count": 76,
   "id": "ae00845c",
   "metadata": {
    "ExecuteTime": {
     "end_time": "2022-11-07T14:29:53.817830Z",
     "start_time": "2022-11-07T14:29:53.813327Z"
    }
   },
   "outputs": [],
   "source": [
    "styles = [{\"fillColor\": \"red\", 'color': \"red\"}, #crop 0\n",
    "         {\"fillColor\": \"blue\", 'color': \"blue\"},\n",
    "         {\"fillColor\": \"green\", 'color': \"green\"},\n",
    "         {\"fillColor\": \"black\", 'color': \"black\"},\n",
    "         {\"fillColor\": \"pink\", 'color': \"pink\"},\n",
    "         {\"fillColor\": \"yellow\", 'color': \"yellow\"},\n",
    "         {\"fillColor\": \"orange\", 'color': \"orange\"}, #crop 6\n",
    "         {\"fillColor\": \"gray\", 'color': \"gray\"},] # test"
   ]
  },
  {
   "cell_type": "code",
   "execution_count": 78,
   "id": "9eb3a4d3",
   "metadata": {
    "ExecuteTime": {
     "end_time": "2022-11-07T14:30:36.173458Z",
     "start_time": "2022-11-07T14:30:36.168712Z"
    }
   },
   "outputs": [],
   "source": [
    "# m = folium.Map(location=[53.2, 50.1], zoom_start=5)\n",
    "\n",
    "# for crop in df.crop.unique():\n",
    "#     df_crop = df[df.crop == crop]\n",
    "#     add_points(df_crop, styles[crop])\n",
    "\n",
    "# add_points(test_df, styles[-1])\n",
    "\n",
    "# m"
   ]
  },
  {
   "cell_type": "code",
   "execution_count": 11,
   "id": "7dcbc10c",
   "metadata": {
    "ExecuteTime": {
     "end_time": "2022-11-07T16:36:28.249980Z",
     "start_time": "2022-11-07T16:36:28.245185Z"
    }
   },
   "outputs": [
    {
     "data": {
      "text/plain": [
       "((4830, 77), (2071, 76))"
      ]
     },
     "execution_count": 11,
     "metadata": {},
     "output_type": "execute_result"
    }
   ],
   "source": [
    "df.shape, test_df.shape"
   ]
  },
  {
   "cell_type": "code",
   "execution_count": 29,
   "id": "1dd15a68",
   "metadata": {
    "ExecuteTime": {
     "end_time": "2022-11-07T16:36:50.661328Z",
     "start_time": "2022-11-07T16:36:49.359228Z"
    }
   },
   "outputs": [],
   "source": [
    "df.drop(columns='geo_dict').to_csv('train+.csv', index=False)\n",
    "test_df.drop(columns='geo_dict').to_csv('test+.csv', index=False)"
   ]
  },
  {
   "cell_type": "code",
   "execution_count": null,
   "id": "4f1383d1",
   "metadata": {},
   "outputs": [],
   "source": []
  },
  {
   "cell_type": "code",
   "execution_count": null,
   "id": "35d1bddb",
   "metadata": {},
   "outputs": [],
   "source": []
  }
 ],
 "metadata": {
  "kernelspec": {
   "display_name": "Python 3 (ipykernel)",
   "language": "python",
   "name": "python3"
  },
  "language_info": {
   "codemirror_mode": {
    "name": "ipython",
    "version": 3
   },
   "file_extension": ".py",
   "mimetype": "text/x-python",
   "name": "python",
   "nbconvert_exporter": "python",
   "pygments_lexer": "ipython3",
   "version": "3.10.6"
  },
  "varInspector": {
   "cols": {
    "lenName": 16,
    "lenType": 16,
    "lenVar": 40
   },
   "kernels_config": {
    "python": {
     "delete_cmd_postfix": "",
     "delete_cmd_prefix": "del ",
     "library": "var_list.py",
     "varRefreshCmd": "print(var_dic_list())"
    },
    "r": {
     "delete_cmd_postfix": ") ",
     "delete_cmd_prefix": "rm(",
     "library": "var_list.r",
     "varRefreshCmd": "cat(var_dic_list()) "
    }
   },
   "types_to_exclude": [
    "module",
    "function",
    "builtin_function_or_method",
    "instance",
    "_Feature"
   ],
   "window_display": false
  }
 },
 "nbformat": 4,
 "nbformat_minor": 5
}
