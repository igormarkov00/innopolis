{
 "cells": [
  {
   "cell_type": "markdown",
   "metadata": {
    "id": "fnE1_J-4dhSR"
   },
   "source": [
    "# Preprocessing"
   ]
  },
  {
   "cell_type": "code",
   "execution_count": 137,
   "metadata": {
    "ExecuteTime": {
     "end_time": "2022-11-18T14:34:39.085166Z",
     "start_time": "2022-11-18T14:34:39.079541Z"
    },
    "id": "uaKzqUxsdjDa"
   },
   "outputs": [],
   "source": [
    "import pandas as pd\n",
    "import numpy as np\n",
    "import seaborn as sns\n",
    "import matplotlib.pyplot as plt\n",
    "from sklearn.model_selection import StratifiedKFold\n",
    "import catboost\n",
    "from catboost import CatBoostClassifier\n",
    "from sklearn.metrics import recall_score, precision_score\n",
    "import json\n",
    "import lightgbm as lgb\n",
    "from lightgbm import LGBMClassifier\n",
    "from sklearn.neighbors import KNeighborsClassifier, KDTree\n",
    "from sklearn.pipeline import Pipeline\n",
    "from sklearn.preprocessing import MinMaxScaler, StandardScaler\n",
    "from sklearn.linear_model import RidgeClassifier, LogisticRegression\n",
    "from sklearn.svm import SVC\n",
    "from sklearn.ensemble import RandomForestClassifier, StackingClassifier\n",
    "from sklearn.neural_network import MLPClassifier\n",
    "from sklearn.base import TransformerMixin\n",
    "from sklearn.decomposition import PCA\n",
    "\n",
    "%matplotlib inline\n",
    "plt.rcParams['figure.figsize'] = (12, 6)"
   ]
  },
  {
   "cell_type": "code",
   "execution_count": 97,
   "metadata": {
    "ExecuteTime": {
     "end_time": "2022-11-18T14:11:21.886191Z",
     "start_time": "2022-11-18T14:11:21.707309Z"
    },
    "id": "2scLoULoXkT0"
   },
   "outputs": [
    {
     "data": {
      "text/plain": [
       "((4830, 76), (2071, 75))"
      ]
     },
     "execution_count": 97,
     "metadata": {},
     "output_type": "execute_result"
    }
   ],
   "source": [
    "df_train = pd.read_csv(\"train+.csv\")\n",
    "df_train = df_train[sorted(df_train.columns)]\n",
    "df_test = pd.read_csv(\"test+.csv\")\n",
    "df_test = df_test[sorted(df_test.columns)]\n",
    "\n",
    "# df_train_filled = pd.read_csv(\"train_filled.csv\")\n",
    "# df_train_filled = df_train_filled[sorted(df_train_filled.columns)]\n",
    "# df_test_filled = pd.read_csv(\"test_filled.csv\")\n",
    "# df_test_filled = df_test_filled[sorted(df_test_filled.columns)]\n",
    "\n",
    "df_train.shape, df_test.shape"
   ]
  },
  {
   "cell_type": "markdown",
   "metadata": {},
   "source": [
    "# Utils"
   ]
  },
  {
   "cell_type": "code",
   "execution_count": 98,
   "metadata": {
    "ExecuteTime": {
     "end_time": "2022-11-18T14:11:23.122093Z",
     "start_time": "2022-11-18T14:11:23.116546Z"
    }
   },
   "outputs": [],
   "source": [
    "class FeaturesFilter(TransformerMixin):\n",
    "    def __init__(self, needed_cols):\n",
    "        self.needed_cols = needed_cols\n",
    "        \n",
    "    def fit(self, X, y=None):\n",
    "        return self\n",
    "        \n",
    "    def transform(self, X):\n",
    "        return X[:, self.needed_cols]"
   ]
  },
  {
   "cell_type": "markdown",
   "metadata": {},
   "source": [
    "# Feature Engineering"
   ]
  },
  {
   "cell_type": "code",
   "execution_count": 99,
   "metadata": {
    "ExecuteTime": {
     "end_time": "2022-11-18T14:11:24.933691Z",
     "start_time": "2022-11-18T14:11:24.542164Z"
    }
   },
   "outputs": [
    {
     "data": {
      "text/plain": [
       "<seaborn.axisgrid.JointGrid at 0x7feb3acf5f30>"
      ]
     },
     "execution_count": 99,
     "metadata": {},
     "output_type": "execute_result"
    },
    {
     "data": {
      "image/png": "[encoded data removed]",
      "text/plain": [
       "<Figure size 432x432 with 3 Axes>"
      ]
     },
     "metadata": {
      "needs_background": "light"
     },
     "output_type": "display_data"
    }
   ],
   "source": [
    "nd_cols = [col for col in df_train.columns if col.startswith('nd')]\n",
    "np.argsort(df_train[nd_cols].values)\n",
    "sns.jointplot(x=(df_train[nd_cols] == 0).sum(1), y=df_train['crop'], data=df_train, kind='reg')"
   ]
  },
  {
   "cell_type": "code",
   "execution_count": 100,
   "metadata": {
    "ExecuteTime": {
     "end_time": "2022-11-18T14:11:41.962550Z",
     "start_time": "2022-11-18T14:11:41.951511Z"
    }
   },
   "outputs": [],
   "source": [
    "def generate_features(df, mode, df_reference=None):\n",
    "    df_reference = df if df_reference is None else df_reference\n",
    "    \n",
    "#     df['nd_mean'] = df[[col for col in df.columns if col.startswith('nd_mean_2021')]].mean(1)\n",
    "#     df['nd_min'] = df[[col for col in df.columns if col.startswith('nd_mean_2021')]].min(1)\n",
    "#     df['nd_max'] = df[[col for col in df.columns if col.startswith('nd_mean_2021')]].max(1)\n",
    "#     df['nd_median'] = df[[col for col in df.columns if col.startswith('nd_mean_2021')]].median(1)\n",
    "#     df['nd_var'] = df[[col for col in df.columns if col.startswith('nd_mean_2021')]].std(1)\n",
    "    \n",
    "    \n",
    "    nd_cols = [col for col in df.columns if col.startswith('nd')]\n",
    "    for col in nd_cols:\n",
    "        df[f'{col}_bin'] = df[col] > 0.29\n",
    "        \n",
    "    k = 7\n",
    "    if mode == 'train':\n",
    "        kd = KDTree(df[['x_centroid', 'y_centroid']].values, metric='euclidean')\n",
    "        distances, indices = kd.query(df[['x_centroid', 'y_centroid']], k=k + 1)\n",
    "        distances, indices = distances[:, 1:], indices[:, 1:]\n",
    "    else:\n",
    "        kd = KDTree(df_reference[['x_centroid', 'y_centroid']].values, metric='euclidean')\n",
    "        distances, indices = kd.query(df[['x_centroid', 'y_centroid']], k=k + 1)\n",
    "\n",
    "    for i in range(k):\n",
    "        df[f'distance_{i}'] = distances[:, i]\n",
    "        df = df.join(pd.get_dummies(df_reference['crop'].values[indices[:, i]], prefix=f'closest_{i}_label=', prefix_sep=''))\n",
    "\n",
    "#     for col in nd_cols:\n",
    "#         df[f'{col}_rank'] = (df[col].values[:, None] > df[nd_cols].values).sum(1)\n",
    "        \n",
    "#     for i in range(10):\n",
    "#         df[[f'nd_peak_{i}' for i in range(len(nd_cols))]] = np.argsort(df[nd_cols].values, axis=1)\n",
    "    \n",
    "#     for col in nd_cols:\n",
    "#         df[f'{col}_bin'] = 0\n",
    "#         df.loc[df[col] > 0.3, f'{col}_bin'] = 1\n",
    "#         df.loc[df[col] > 0.5, f'{col}_bin'] = 2\n",
    "\n",
    "#     df['is_poligon'] = df['.geo'].apply(lambda x: json.loads(x)['type'] == 'Polygon')\n",
    "#     df['is_multipoligon'] = df['.geo'].apply(lambda x: json.loads(x)['type'] == 'MultiPolygon')\n",
    "#     df['is_gc'] = df['.geo'].apply(lambda x: json.loads(x)['type'] == 'GeometryCollection')\n",
    "#     df['bounds_count'] = df['.geo'].apply(lambda x: len(json.loads(x)['coordinates'][0]) if json.loads(x)['type'] == 'Polygon' else 0)\n",
    "    \n",
    "    return df"
   ]
  },
  {
   "cell_type": "code",
   "execution_count": 101,
   "metadata": {
    "ExecuteTime": {
     "end_time": "2022-11-18T14:11:42.723905Z",
     "start_time": "2022-11-18T14:11:42.647695Z"
    }
   },
   "outputs": [
    {
     "name": "stdout",
     "output_type": "stream",
     "text": [
      "CPU times: user 73.6 ms, sys: 0 ns, total: 73.6 ms\n",
      "Wall time: 73.3 ms\n"
     ]
    },
    {
     "data": {
      "text/plain": [
       "((4830, 210), (2071, 209))"
      ]
     },
     "execution_count": 101,
     "metadata": {},
     "output_type": "execute_result"
    }
   ],
   "source": [
    "%%time\n",
    "df_train = generate_features(df_train, 'train')\n",
    "df_test = generate_features(df_test, 'test', df_train)\n",
    "df_train.shape, df_test.shape"
   ]
  },
  {
   "cell_type": "code",
   "execution_count": 102,
   "metadata": {
    "ExecuteTime": {
     "end_time": "2022-11-18T14:11:45.209685Z",
     "start_time": "2022-11-18T14:11:44.993673Z"
    }
   },
   "outputs": [
    {
     "data": {
      "text/plain": [
       "[(0.03148072333775203, 'nd_mean_2021-07-09_bin'),\n",
       " (0.034776853536755456, 'nd_mean_2021-06-20_bin'),\n",
       " (0.044589781529442644, 'nd_mean_2021-06-22_bin'),\n",
       " (0.045721301355917114, 'nd_mean_2021-06-25'),\n",
       " (0.04664101755866713, 'nd_mean_2021-07-07_bin'),\n",
       " (0.05298662556683655, 'nd_mean_2021-06-25_bin'),\n",
       " (0.06872198212174271, 'nd_mean_2021-05-16_bin'),\n",
       " (0.07410070707348924, 'nd_mean_2021-08-12_bin'),\n",
       " (0.08270526745432215, 'nd_mean_2021-06-18_bin'),\n",
       " (0.08438776779109501, 'nd_mean_2021-05-16'),\n",
       " (0.08604602258323403, 'nd_mean_2021-07-09'),\n",
       " (0.09632145957169705, 'nd_mean_2021-06-19_bin'),\n",
       " (0.09730060419359297, 'nd_mean_2021-07-07'),\n",
       " (0.10089297869317604, 'nd_mean_2021-07-13_bin'),\n",
       " (0.10401923069027018, 'nd_mean_2021-04-19_bin'),\n",
       " (0.1149691002840451, 'nd_mean_2021-07-08_bin'),\n",
       " (0.12084658030910116, 'nd_mean_2021-07-26_bin'),\n",
       " (0.12671732990227416, 'nd_mean_2021-07-13'),\n",
       " (0.13271257835319986, 'nd_mean_2021-04-28_bin'),\n",
       " (0.1329569168920107, 'nd_mean_2021-04-16_bin'),\n",
       " (0.13336348081270172, 'closest_6_label=0'),\n",
       " (0.140181443668328, 'closest_5_label=0'),\n",
       " (0.14316172033470778, 'nd_mean_2021-06-20'),\n",
       " (0.1473057538647001, 'area'),\n",
       " (0.1475385241113382, 'closest_6_label=2'),\n",
       " (0.14815541156405726, 'nd_mean_2021-08-12'),\n",
       " (0.15362241772229251, 'closest_5_label=2'),\n",
       " (0.15475683558283249, 'closest_3_label=0'),\n",
       " (0.15511615104562315, 'nd_mean_2021-05-26_bin'),\n",
       " (0.15627780242387163, 'nd_mean_2021-05-26'),\n",
       " (0.15657834682714883, 'nd_mean_2021-07-29'),\n",
       " (0.15746900391635585, 'nd_mean_2021-05-27'),\n",
       " (0.15778449821377266, 'nd_mean_2021-07-08'),\n",
       " (0.15876525302550648, 'closest_2_label=2'),\n",
       " (0.16039206853003837, 'closest_7_label=0'),\n",
       " (0.16057207084365982, 'nd_mean_2021-06-22'),\n",
       " (0.16191079186438329, 'nd_mean_2021-04-19'),\n",
       " (0.16280360757229714, 'nd_mean_2021-05-02'),\n",
       " (0.16344067171674057, 'nd_mean_2021-07-17_bin'),\n",
       " (0.16391059846943212, 'nd_mean_2021-04-28'),\n",
       " (0.16462681893672315, 'nd_mean_2021-07-31'),\n",
       " (0.1650244540192105, 'closest_7_label=5'),\n",
       " (0.1669322837761606, 'nd_mean_2021-07-29_bin'),\n",
       " (0.16770696094164914, 'nd_mean_2021-05-02_bin'),\n",
       " (0.1691867694061085, 'nd_mean_2021-05-17_bin'),\n",
       " (0.17106634676818155, 'nd_mean_2021-04-25_bin'),\n",
       " (0.17152681562518146, 'closest_7_label=4'),\n",
       " (0.17325288921502313, 'closest_7_label=2'),\n",
       " (0.17407869076952903, 'closest_3_label=2'),\n",
       " (0.17603165757749933, 'nd_mean_2021-07-31_bin'),\n",
       " (0.17728473379404686, 'closest_4_label=0'),\n",
       " (0.17829636778759597, 'distance_0'),\n",
       " (0.17898054522291598, 'nd_mean_2021-04-30'),\n",
       " (0.18354599610468122, 'nd_mean_2021-06-18'),\n",
       " (0.187022773226164, 'nd_mean_2021-08-01'),\n",
       " (0.18903731217642278, 'closest_4_label=2'),\n",
       " (0.18935968599178063, 'nd_mean_2021-04-30_bin'),\n",
       " (0.18964710849436492, 'closest_1_label=2'),\n",
       " (0.1910813811800468, 'nd_mean_2021-05-27_bin'),\n",
       " (0.19119792605135436, 'nd_mean_2021-04-27'),\n",
       " (0.19413004636757322, 'nd_mean_2021-04-25'),\n",
       " (0.19495078344606595, 'closest_2_label=0'),\n",
       " (0.19549846310398553, 'nd_mean_2021-06-07_bin'),\n",
       " (0.19594095352801033, 'nd_mean_2021-04-22_bin'),\n",
       " (0.1962387465746175, 'nd_mean_2021-07-26'),\n",
       " (0.19910085021966423, 'closest_6_label=4'),\n",
       " (0.20463356698343263, 'nd_mean_2021-08-01_bin'),\n",
       " (0.20477081387201748, 'closest_4_label=5'),\n",
       " (0.20515544358268017, 'nd_mean_2021-04-22'),\n",
       " (0.20946378568504004, 'nd_mean_2021-05-15_bin'),\n",
       " (0.21097943103741582, 'nd_mean_2021-05-15'),\n",
       " (0.21166299128424146, 'closest_5_label=4'),\n",
       " (0.21248136572496382, 'distance_1'),\n",
       " (0.2129071167165497, 'closest_6_label=5'),\n",
       " (0.2181867498243831, 'nd_mean_2021-06-07'),\n",
       " (0.21853121854503482, 'nd_mean_2021-05-29'),\n",
       " (0.2195267391590407, 'nd_mean_2021-06-19'),\n",
       " (0.21999200826711324, 'nd_mean_2021-07-17'),\n",
       " (0.22269400831858374, 'nd_mean_2021-08-11'),\n",
       " (0.2231872252100073, 'closest_5_label=5'),\n",
       " (0.22559905279071754, 'closest_3_label=5'),\n",
       " (0.2257482143202607, 'closest_1_label=0'),\n",
       " (0.2276277465562871, 'nd_mean_2021-04-15_bin'),\n",
       " (0.22824856919838032, 'nd_mean_2021-05-29_bin'),\n",
       " (0.22852901902279132, 'nd_mean_2021-04-26'),\n",
       " (0.22967194229948953, 'closest_7_label=3'),\n",
       " (0.2297020782536043, 'distance_2'),\n",
       " (0.23065182959406347, 'nd_mean_2021-06-27_bin'),\n",
       " (0.23209455704137683, 'nd_mean_2021-04-26_bin'),\n",
       " (0.23418781087653687, 'distance_3'),\n",
       " (0.23585259129263245, 'nd_mean_2021-04-27_bin'),\n",
       " (0.23678787296553683, 'closest_6_label=3'),\n",
       " (0.23775696572292324, 'distance_5'),\n",
       " (0.23860741538421143, 'distance_4'),\n",
       " (0.2390215756311215, 'closest_1_label=5'),\n",
       " (0.23932692794358887, 'nd_mean_2021-04-16'),\n",
       " (0.2396676791750992, 'nd_mean_2021-07-27_bin'),\n",
       " (0.24017826319344918, 'distance_7'),\n",
       " (0.2403509107588425, 'distance_6'),\n",
       " (0.24244582886098082, 'closest_4_label=4'),\n",
       " (0.24249616559897172, 'closest_2_label=5'),\n",
       " (0.24383294898508698, 'nd_mean_2021-06-27'),\n",
       " (0.2479367231504143, 'nd_mean_2021-07-20_bin'),\n",
       " (0.24866778736178377, 'closest_5_label=3'),\n",
       " (0.25033135729172845, 'closest_3_label=4'),\n",
       " (0.2520488447246863, 'nd_mean_2021-04-18_bin'),\n",
       " (0.2543360595198762, 'nd_mean_2021-05-08'),\n",
       " (0.25989282151149457, 'closest_0_label=2'),\n",
       " (0.2637140284886237, 'nd_mean_2021-07-15_bin'),\n",
       " (0.2640434292881456, 'nd_mean_2021-04-23'),\n",
       " (0.2673521228548314, 'nd_mean_2021-07-20'),\n",
       " (0.2680210473538662, 'nd_mean_2021-07-15'),\n",
       " (0.2694876925221433, 'nd_mean_2021-05-17'),\n",
       " (0.2720839351167774, 'nd_mean_2021-04-29'),\n",
       " (0.27271914676697634, 'nd_mean_2021-05-03'),\n",
       " (0.2747711864024674, 'closest_7_label=6'),\n",
       " (0.2804680698095128, 'nd_mean_2021-07-27'),\n",
       " (0.2867665525521196, 'closest_0_label=0'),\n",
       " (0.29240248557987325, 'nd_mean_2021-04-29_bin'),\n",
       " (0.2987651953067808, 'closest_2_label=4'),\n",
       " (0.302843598064438, 'closest_6_label=6'),\n",
       " (0.3028746181860611, 'x_centroid'),\n",
       " (0.3044548497403642, 'y_centroid'),\n",
       " (0.3091231324823548, 'nd_mean_2021-05-04'),\n",
       " (0.3107434624167453, 'closest_4_label=3'),\n",
       " (0.31229782098842274, 'nd_mean_2021-05-07'),\n",
       " (0.3128066103978248, 'nd_mean_2021-08-11_bin'),\n",
       " (0.3190023954569339, 'nd_mean_2021-05-08_bin'),\n",
       " (0.32048795476406183, 'closest_3_label=3'),\n",
       " (0.32579191610969227, 'nd_mean_2021-04-18'),\n",
       " (0.3274557967030795, 'closest_0_label=5'),\n",
       " (0.3402320269089273, 'nd_mean_2021-08-07'),\n",
       " (0.3429587635745339, 'nd_mean_2021-04-23_bin'),\n",
       " (0.3444859828144359, 'nd_mean_2021-05-01'),\n",
       " (0.3461103436509337, 'nd_mean_2021-05-07_bin'),\n",
       " (0.3487413668759399, 'closest_1_label=4'),\n",
       " (0.349319545201358, 'closest_5_label=6'),\n",
       " (0.35508939001676876, 'nd_mean_2021-08-07_bin'),\n",
       " (0.35648484138267267, 'nd_mean_2021-05-21'),\n",
       " (0.37104199404515165, 'closest_2_label=3'),\n",
       " (0.37267433687816554, 'nd_mean_2021-04-15'),\n",
       " (0.3735077392051173, 'nd_mean_2021-05-01_bin'),\n",
       " (0.3888354424933124, 'closest_4_label=6'),\n",
       " (0.3907441587801376, 'closest_3_label=6'),\n",
       " (0.39258841126018207, 'nd_mean_2021-06-10'),\n",
       " (0.3982086290065166, 'closest_1_label=3'),\n",
       " (0.3996848499004526, 'nd_mean_2021-06-09'),\n",
       " (0.4006000459188819, 'nd_mean_2021-04-20_bin'),\n",
       " (0.40266804157637814, 'closest_0_label=4'),\n",
       " (0.40673914661455046, 'nd_mean_2021-06-16'),\n",
       " (0.4075660698231812, 'nd_mean_2021-05-03_bin'),\n",
       " (0.4168237875054762, 'nd_mean_2021-06-12'),\n",
       " (0.4171117918470614, 'nd_mean_2021-06-09_bin'),\n",
       " (0.4189699270111991, 'nd_mean_2021-05-04_bin'),\n",
       " (0.4193246888468734, 'nd_mean_2021-05-21_bin'),\n",
       " (0.41981858334699046, 'nd_mean_2021-06-16_bin'),\n",
       " (0.426309590280462, 'nd_mean_2021-06-10_bin'),\n",
       " (0.42780988940626774, 'nd_mean_2021-08-10'),\n",
       " (0.4331516139384065, 'nd_mean_2021-06-03_bin'),\n",
       " (0.44110551006446314, 'nd_mean_2021-06-03'),\n",
       " (0.4431280234637689, 'nd_mean_2021-08-10_bin'),\n",
       " (0.45006716848298134, 'nd_mean_2021-04-20'),\n",
       " (0.4604758942561202, 'nd_mean_2021-05-09'),\n",
       " (0.4662192377734259, 'nd_mean_2021-06-02'),\n",
       " (0.46793393536572137, 'closest_2_label=6'),\n",
       " (0.46963246423183164, 'nd_mean_2021-08-23'),\n",
       " (0.4793687761269809, 'nd_mean_2021-08-23_bin'),\n",
       " (0.4882725904115973, 'nd_mean_2021-08-27'),\n",
       " (0.4922492448597587, 'closest_6_label=1'),\n",
       " (0.4942111843551776, 'nd_mean_2021-06-06'),\n",
       " (0.4958390752802606, 'nd_mean_2021-06-02_bin'),\n",
       " (0.49723924450988793, 'closest_7_label=1'),\n",
       " (0.49805787080968406, 'nd_mean_2021-06-12_bin'),\n",
       " (0.5102521182069061, 'nd_mean_2021-06-13'),\n",
       " (0.5138082623082931, 'nd_mean_2021-06-06_bin'),\n",
       " (0.5145383498811551, 'nd_mean_2021-07-05'),\n",
       " (0.5149690994830894, 'closest_1_label=6'),\n",
       " (0.5159154270984913, 'nd_mean_2021-06-28'),\n",
       " (0.5248122234765543, 'nd_mean_2021-06-05'),\n",
       " (0.524952174625088, 'nd_mean_2021-05-20'),\n",
       " (0.5347335965488644, 'nd_mean_2021-05-10'),\n",
       " (0.5355464615855242, 'nd_mean_2021-07-05_bin'),\n",
       " (0.5359038457780863, 'closest_4_label=1'),\n",
       " (0.5365359384637074, 'nd_mean_2021-05-10_bin'),\n",
       " (0.5478669399999958, 'nd_mean_2021-06-28_bin'),\n",
       " (0.5490750697957735, 'closest_5_label=1'),\n",
       " (0.5549071979649829, 'closest_3_label=1'),\n",
       " (0.5594819264008243, 'closest_0_label=3'),\n",
       " (0.5636325239787922, 'nd_mean_2021-08-27_bin'),\n",
       " (0.567397828358921, 'nd_mean_2021-05-19'),\n",
       " (0.5768577634148946, 'nd_mean_2021-05-20_bin'),\n",
       " (0.5787112151634062, 'nd_mean_2021-06-04'),\n",
       " (0.5974664274087593, 'nd_mean_2021-06-13_bin'),\n",
       " (0.600842903971135, 'closest_2_label=1'),\n",
       " (0.6076584879771044, 'nd_mean_2021-06-05_bin'),\n",
       " (0.6090729523369846, 'nd_mean_2021-05-09_bin'),\n",
       " (0.6114464175629921, 'nd_mean_2021-06-04_bin'),\n",
       " (0.6364708504755331, 'nd_mean_2021-05-19_bin'),\n",
       " (0.6420501834532227, 'closest_0_label=6'),\n",
       " (0.6454072735695271, 'nd_mean_2021-07-04'),\n",
       " (0.6475836310412822, 'nd_mean_2021-05-24'),\n",
       " (0.6578429870377849, 'closest_1_label=1'),\n",
       " (0.685728887464304, 'nd_mean_2021-08-13'),\n",
       " (0.7125421208942156, 'nd_mean_2021-07-04_bin'),\n",
       " (0.7418701758640809, 'closest_0_label=1'),\n",
       " (0.746607619609953, 'nd_mean_2021-05-24_bin'),\n",
       " (0.7857433285648515, 'nd_mean_2021-08-13_bin')]"
      ]
     },
     "execution_count": 102,
     "metadata": {},
     "output_type": "execute_result"
    }
   ],
   "source": [
    "max_corrs = []\n",
    "for col in df_train.columns:\n",
    "    if col not in ['id', '.geo', 'crop']:\n",
    "        max_corrs.append((max(np.corrcoef(df_train[col], df_train['crop'] == i)[0][1] for i in range(7)), col))\n",
    "max_corrs = sorted(max_corrs)\n",
    "max_corrs"
   ]
  },
  {
   "cell_type": "code",
   "execution_count": 103,
   "metadata": {
    "ExecuteTime": {
     "end_time": "2022-11-18T14:11:45.332012Z",
     "start_time": "2022-11-18T14:11:45.315804Z"
    },
    "colab": {
     "base_uri": "https://localhost:8080/",
     "height": 424
    },
    "id": "JKsM5f-W5p4i",
    "outputId": "6d8b32c9-d2e3-4ae9-a023-154e1838419e"
   },
   "outputs": [
    {
     "name": "stdout",
     "output_type": "stream",
     "text": [
      "0\n"
     ]
    },
    {
     "data": {
      "text/html": [
       "<div>\n",
       "<style scoped>\n",
       "    .dataframe tbody tr th:only-of-type {\n",
       "        vertical-align: middle;\n",
       "    }\n",
       "\n",
       "    .dataframe tbody tr th {\n",
       "        vertical-align: top;\n",
       "    }\n",
       "\n",
       "    .dataframe thead th {\n",
       "        text-align: right;\n",
       "    }\n",
       "</style>\n",
       "<table border=\"1\" class=\"dataframe\">\n",
       "  <thead>\n",
       "    <tr style=\"text-align: right;\">\n",
       "      <th></th>\n",
       "      <th>area</th>\n",
       "      <th>nd_mean_2021-04-15</th>\n",
       "      <th>nd_mean_2021-04-16</th>\n",
       "      <th>nd_mean_2021-04-18</th>\n",
       "      <th>nd_mean_2021-04-19</th>\n",
       "      <th>nd_mean_2021-04-20</th>\n",
       "      <th>nd_mean_2021-04-22</th>\n",
       "      <th>nd_mean_2021-04-23</th>\n",
       "      <th>nd_mean_2021-04-25</th>\n",
       "      <th>nd_mean_2021-04-26</th>\n",
       "      <th>...</th>\n",
       "      <th>closest_6_label=5</th>\n",
       "      <th>closest_6_label=6</th>\n",
       "      <th>distance_7</th>\n",
       "      <th>closest_7_label=0</th>\n",
       "      <th>closest_7_label=1</th>\n",
       "      <th>closest_7_label=2</th>\n",
       "      <th>closest_7_label=3</th>\n",
       "      <th>closest_7_label=4</th>\n",
       "      <th>closest_7_label=5</th>\n",
       "      <th>closest_7_label=6</th>\n",
       "    </tr>\n",
       "  </thead>\n",
       "  <tbody>\n",
       "    <tr>\n",
       "      <th>0</th>\n",
       "      <td>20</td>\n",
       "      <td>0.187150</td>\n",
       "      <td>0.072846</td>\n",
       "      <td>0.262300</td>\n",
       "      <td>0.261778</td>\n",
       "      <td>0.063134</td>\n",
       "      <td>0.062981</td>\n",
       "      <td>0.000000</td>\n",
       "      <td>0.077577</td>\n",
       "      <td>0.104442</td>\n",
       "      <td>...</td>\n",
       "      <td>0</td>\n",
       "      <td>0</td>\n",
       "      <td>0.078700</td>\n",
       "      <td>0</td>\n",
       "      <td>0</td>\n",
       "      <td>1</td>\n",
       "      <td>0</td>\n",
       "      <td>0</td>\n",
       "      <td>0</td>\n",
       "      <td>0</td>\n",
       "    </tr>\n",
       "    <tr>\n",
       "      <th>1</th>\n",
       "      <td>45</td>\n",
       "      <td>0.245285</td>\n",
       "      <td>0.332928</td>\n",
       "      <td>0.349133</td>\n",
       "      <td>0.287182</td>\n",
       "      <td>0.064671</td>\n",
       "      <td>0.097138</td>\n",
       "      <td>0.024539</td>\n",
       "      <td>0.173578</td>\n",
       "      <td>0.152467</td>\n",
       "      <td>...</td>\n",
       "      <td>0</td>\n",
       "      <td>0</td>\n",
       "      <td>0.319622</td>\n",
       "      <td>0</td>\n",
       "      <td>0</td>\n",
       "      <td>0</td>\n",
       "      <td>0</td>\n",
       "      <td>1</td>\n",
       "      <td>0</td>\n",
       "      <td>0</td>\n",
       "    </tr>\n",
       "    <tr>\n",
       "      <th>2</th>\n",
       "      <td>28</td>\n",
       "      <td>0.006391</td>\n",
       "      <td>0.013679</td>\n",
       "      <td>0.000000</td>\n",
       "      <td>0.007055</td>\n",
       "      <td>0.000000</td>\n",
       "      <td>0.120804</td>\n",
       "      <td>0.112471</td>\n",
       "      <td>0.041751</td>\n",
       "      <td>0.037839</td>\n",
       "      <td>...</td>\n",
       "      <td>0</td>\n",
       "      <td>0</td>\n",
       "      <td>0.135481</td>\n",
       "      <td>0</td>\n",
       "      <td>0</td>\n",
       "      <td>1</td>\n",
       "      <td>0</td>\n",
       "      <td>0</td>\n",
       "      <td>0</td>\n",
       "      <td>0</td>\n",
       "    </tr>\n",
       "    <tr>\n",
       "      <th>3</th>\n",
       "      <td>19</td>\n",
       "      <td>0.293425</td>\n",
       "      <td>0.105976</td>\n",
       "      <td>0.318047</td>\n",
       "      <td>0.052500</td>\n",
       "      <td>0.153700</td>\n",
       "      <td>0.001917</td>\n",
       "      <td>0.045054</td>\n",
       "      <td>0.072589</td>\n",
       "      <td>0.011531</td>\n",
       "      <td>...</td>\n",
       "      <td>0</td>\n",
       "      <td>0</td>\n",
       "      <td>0.153200</td>\n",
       "      <td>0</td>\n",
       "      <td>0</td>\n",
       "      <td>0</td>\n",
       "      <td>0</td>\n",
       "      <td>0</td>\n",
       "      <td>1</td>\n",
       "      <td>0</td>\n",
       "    </tr>\n",
       "    <tr>\n",
       "      <th>4</th>\n",
       "      <td>33</td>\n",
       "      <td>0.027983</td>\n",
       "      <td>0.130885</td>\n",
       "      <td>0.117227</td>\n",
       "      <td>0.063492</td>\n",
       "      <td>0.040565</td>\n",
       "      <td>0.024416</td>\n",
       "      <td>0.163886</td>\n",
       "      <td>0.109385</td>\n",
       "      <td>0.000000</td>\n",
       "      <td>...</td>\n",
       "      <td>0</td>\n",
       "      <td>0</td>\n",
       "      <td>0.096134</td>\n",
       "      <td>0</td>\n",
       "      <td>1</td>\n",
       "      <td>0</td>\n",
       "      <td>0</td>\n",
       "      <td>0</td>\n",
       "      <td>0</td>\n",
       "      <td>0</td>\n",
       "    </tr>\n",
       "    <tr>\n",
       "      <th>...</th>\n",
       "      <td>...</td>\n",
       "      <td>...</td>\n",
       "      <td>...</td>\n",
       "      <td>...</td>\n",
       "      <td>...</td>\n",
       "      <td>...</td>\n",
       "      <td>...</td>\n",
       "      <td>...</td>\n",
       "      <td>...</td>\n",
       "      <td>...</td>\n",
       "      <td>...</td>\n",
       "      <td>...</td>\n",
       "      <td>...</td>\n",
       "      <td>...</td>\n",
       "      <td>...</td>\n",
       "      <td>...</td>\n",
       "      <td>...</td>\n",
       "      <td>...</td>\n",
       "      <td>...</td>\n",
       "      <td>...</td>\n",
       "      <td>...</td>\n",
       "    </tr>\n",
       "    <tr>\n",
       "      <th>4825</th>\n",
       "      <td>74</td>\n",
       "      <td>0.066154</td>\n",
       "      <td>0.028770</td>\n",
       "      <td>0.000000</td>\n",
       "      <td>0.038282</td>\n",
       "      <td>0.000000</td>\n",
       "      <td>0.255329</td>\n",
       "      <td>0.095812</td>\n",
       "      <td>0.241602</td>\n",
       "      <td>0.148166</td>\n",
       "      <td>...</td>\n",
       "      <td>0</td>\n",
       "      <td>1</td>\n",
       "      <td>0.068248</td>\n",
       "      <td>0</td>\n",
       "      <td>0</td>\n",
       "      <td>0</td>\n",
       "      <td>0</td>\n",
       "      <td>0</td>\n",
       "      <td>0</td>\n",
       "      <td>1</td>\n",
       "    </tr>\n",
       "    <tr>\n",
       "      <th>4826</th>\n",
       "      <td>109</td>\n",
       "      <td>0.243867</td>\n",
       "      <td>0.035939</td>\n",
       "      <td>0.013403</td>\n",
       "      <td>0.030722</td>\n",
       "      <td>0.246513</td>\n",
       "      <td>0.033869</td>\n",
       "      <td>0.000000</td>\n",
       "      <td>0.022246</td>\n",
       "      <td>0.029646</td>\n",
       "      <td>...</td>\n",
       "      <td>0</td>\n",
       "      <td>0</td>\n",
       "      <td>0.057700</td>\n",
       "      <td>1</td>\n",
       "      <td>0</td>\n",
       "      <td>0</td>\n",
       "      <td>0</td>\n",
       "      <td>0</td>\n",
       "      <td>0</td>\n",
       "      <td>0</td>\n",
       "    </tr>\n",
       "    <tr>\n",
       "      <th>4827</th>\n",
       "      <td>58</td>\n",
       "      <td>0.090026</td>\n",
       "      <td>0.191255</td>\n",
       "      <td>0.019897</td>\n",
       "      <td>0.063581</td>\n",
       "      <td>0.000000</td>\n",
       "      <td>0.140111</td>\n",
       "      <td>0.143922</td>\n",
       "      <td>0.218746</td>\n",
       "      <td>0.323984</td>\n",
       "      <td>...</td>\n",
       "      <td>0</td>\n",
       "      <td>0</td>\n",
       "      <td>0.130890</td>\n",
       "      <td>0</td>\n",
       "      <td>0</td>\n",
       "      <td>1</td>\n",
       "      <td>0</td>\n",
       "      <td>0</td>\n",
       "      <td>0</td>\n",
       "      <td>0</td>\n",
       "    </tr>\n",
       "    <tr>\n",
       "      <th>4828</th>\n",
       "      <td>14</td>\n",
       "      <td>0.301663</td>\n",
       "      <td>0.291399</td>\n",
       "      <td>0.295089</td>\n",
       "      <td>0.221428</td>\n",
       "      <td>0.326494</td>\n",
       "      <td>0.007247</td>\n",
       "      <td>0.006888</td>\n",
       "      <td>0.000000</td>\n",
       "      <td>0.055074</td>\n",
       "      <td>...</td>\n",
       "      <td>1</td>\n",
       "      <td>0</td>\n",
       "      <td>0.165382</td>\n",
       "      <td>0</td>\n",
       "      <td>0</td>\n",
       "      <td>0</td>\n",
       "      <td>0</td>\n",
       "      <td>0</td>\n",
       "      <td>1</td>\n",
       "      <td>0</td>\n",
       "    </tr>\n",
       "    <tr>\n",
       "      <th>4829</th>\n",
       "      <td>75</td>\n",
       "      <td>0.264959</td>\n",
       "      <td>0.226925</td>\n",
       "      <td>0.156903</td>\n",
       "      <td>0.043076</td>\n",
       "      <td>0.146099</td>\n",
       "      <td>0.058611</td>\n",
       "      <td>0.092287</td>\n",
       "      <td>0.107308</td>\n",
       "      <td>0.440539</td>\n",
       "      <td>...</td>\n",
       "      <td>0</td>\n",
       "      <td>1</td>\n",
       "      <td>0.140018</td>\n",
       "      <td>0</td>\n",
       "      <td>0</td>\n",
       "      <td>0</td>\n",
       "      <td>0</td>\n",
       "      <td>0</td>\n",
       "      <td>0</td>\n",
       "      <td>1</td>\n",
       "    </tr>\n",
       "  </tbody>\n",
       "</table>\n",
       "<p>4830 rows × 207 columns</p>\n",
       "</div>"
      ],
      "text/plain": [
       "      area  nd_mean_2021-04-15  nd_mean_2021-04-16  nd_mean_2021-04-18  \\\n",
       "0       20            0.187150            0.072846            0.262300   \n",
       "1       45            0.245285            0.332928            0.349133   \n",
       "2       28            0.006391            0.013679            0.000000   \n",
       "3       19            0.293425            0.105976            0.318047   \n",
       "4       33            0.027983            0.130885            0.117227   \n",
       "...    ...                 ...                 ...                 ...   \n",
       "4825    74            0.066154            0.028770            0.000000   \n",
       "4826   109            0.243867            0.035939            0.013403   \n",
       "4827    58            0.090026            0.191255            0.019897   \n",
       "4828    14            0.301663            0.291399            0.295089   \n",
       "4829    75            0.264959            0.226925            0.156903   \n",
       "\n",
       "      nd_mean_2021-04-19  nd_mean_2021-04-20  nd_mean_2021-04-22  \\\n",
       "0               0.261778            0.063134            0.062981   \n",
       "1               0.287182            0.064671            0.097138   \n",
       "2               0.007055            0.000000            0.120804   \n",
       "3               0.052500            0.153700            0.001917   \n",
       "4               0.063492            0.040565            0.024416   \n",
       "...                  ...                 ...                 ...   \n",
       "4825            0.038282            0.000000            0.255329   \n",
       "4826            0.030722            0.246513            0.033869   \n",
       "4827            0.063581            0.000000            0.140111   \n",
       "4828            0.221428            0.326494            0.007247   \n",
       "4829            0.043076            0.146099            0.058611   \n",
       "\n",
       "      nd_mean_2021-04-23  nd_mean_2021-04-25  nd_mean_2021-04-26  ...  \\\n",
       "0               0.000000            0.077577            0.104442  ...   \n",
       "1               0.024539            0.173578            0.152467  ...   \n",
       "2               0.112471            0.041751            0.037839  ...   \n",
       "3               0.045054            0.072589            0.011531  ...   \n",
       "4               0.163886            0.109385            0.000000  ...   \n",
       "...                  ...                 ...                 ...  ...   \n",
       "4825            0.095812            0.241602            0.148166  ...   \n",
       "4826            0.000000            0.022246            0.029646  ...   \n",
       "4827            0.143922            0.218746            0.323984  ...   \n",
       "4828            0.006888            0.000000            0.055074  ...   \n",
       "4829            0.092287            0.107308            0.440539  ...   \n",
       "\n",
       "      closest_6_label=5  closest_6_label=6  distance_7  closest_7_label=0  \\\n",
       "0                     0                  0    0.078700                  0   \n",
       "1                     0                  0    0.319622                  0   \n",
       "2                     0                  0    0.135481                  0   \n",
       "3                     0                  0    0.153200                  0   \n",
       "4                     0                  0    0.096134                  0   \n",
       "...                 ...                ...         ...                ...   \n",
       "4825                  0                  1    0.068248                  0   \n",
       "4826                  0                  0    0.057700                  1   \n",
       "4827                  0                  0    0.130890                  0   \n",
       "4828                  1                  0    0.165382                  0   \n",
       "4829                  0                  1    0.140018                  0   \n",
       "\n",
       "      closest_7_label=1  closest_7_label=2  closest_7_label=3  \\\n",
       "0                     0                  1                  0   \n",
       "1                     0                  0                  0   \n",
       "2                     0                  1                  0   \n",
       "3                     0                  0                  0   \n",
       "4                     1                  0                  0   \n",
       "...                 ...                ...                ...   \n",
       "4825                  0                  0                  0   \n",
       "4826                  0                  0                  0   \n",
       "4827                  0                  1                  0   \n",
       "4828                  0                  0                  0   \n",
       "4829                  0                  0                  0   \n",
       "\n",
       "      closest_7_label=4  closest_7_label=5  closest_7_label=6  \n",
       "0                     0                  0                  0  \n",
       "1                     1                  0                  0  \n",
       "2                     0                  0                  0  \n",
       "3                     0                  1                  0  \n",
       "4                     0                  0                  0  \n",
       "...                 ...                ...                ...  \n",
       "4825                  0                  0                  1  \n",
       "4826                  0                  0                  0  \n",
       "4827                  0                  0                  0  \n",
       "4828                  0                  1                  0  \n",
       "4829                  0                  0                  1  \n",
       "\n",
       "[4830 rows x 207 columns]"
      ]
     },
     "execution_count": 103,
     "metadata": {},
     "output_type": "execute_result"
    }
   ],
   "source": [
    "bad_cols = [f[1] for f in max_corrs if f[0] < 0.1]\n",
    "bad_cols = []\n",
    "print(len(bad_cols))\n",
    "X_train = df_train.drop(columns=['id', '.geo', 'crop'] + bad_cols)\n",
    "X_test = df_test.drop(columns=['id', '.geo'] + bad_cols)\n",
    "y_train = df_train['crop']\n",
    "X_train"
   ]
  },
  {
   "cell_type": "markdown",
   "metadata": {},
   "source": [
    "# Training"
   ]
  },
  {
   "cell_type": "code",
   "execution_count": 138,
   "metadata": {
    "ExecuteTime": {
     "end_time": "2022-11-18T14:34:47.643785Z",
     "start_time": "2022-11-18T14:34:47.640735Z"
    }
   },
   "outputs": [],
   "source": [
    "def cross_val_score(model, X, y, random_state=228, n_splits=5, fit_params={}):\n",
    "    X, y = np.array(X), np.array(y)\n",
    "    kf = StratifiedKFold(n_splits=n_splits, shuffle=True, random_state=random_state)\n",
    "    scores = []\n",
    "    for train_index, test_index in kf.split(X, y):\n",
    "        model.fit(X[train_index], y[train_index], **fit_params)\n",
    "        scores.append(recall_score(y[test_index], model.predict(X[test_index]), average=\"macro\", zero_division=0))\n",
    "        print('SCORE:', scores[-1])\n",
    "    return scores, model"
   ]
  },
  {
   "cell_type": "code",
   "execution_count": 139,
   "metadata": {
    "ExecuteTime": {
     "end_time": "2022-11-18T14:34:47.989298Z",
     "start_time": "2022-11-18T14:34:47.799231Z"
    }
   },
   "outputs": [
    {
     "name": "stdout",
     "output_type": "stream",
     "text": [
      "SCORE: 0.8538333555999349\n",
      "SCORE: 0.8607098143436585\n",
      "SCORE: 0.8541245397421431\n",
      "SCORE: 0.8547555845344432\n",
      "SCORE: 0.8649918012584586\n"
     ]
    },
    {
     "data": {
      "text/plain": [
       "(0.8576830190957276,\n",
       " [0.8538333555999349,\n",
       "  0.8607098143436585,\n",
       "  0.8541245397421431,\n",
       "  0.8547555845344432,\n",
       "  0.8649918012584586])"
      ]
     },
     "execution_count": 139,
     "metadata": {},
     "output_type": "execute_result"
    }
   ],
   "source": [
    "knn = Pipeline([('scaler', StandardScaler()),\n",
    "                ('knn', KNeighborsClassifier(7, weights='distance', p=2))])\n",
    "scores, model = cross_val_score(knn, X_train[[c for c in X_train.columns if 'bin' not in c]], y_train,\n",
    "                                random_state=228)\n",
    "np.mean(scores), scores"
   ]
  },
  {
   "cell_type": "code",
   "execution_count": 125,
   "metadata": {
    "ExecuteTime": {
     "end_time": "2022-11-18T14:18:38.173959Z",
     "start_time": "2022-11-18T14:18:33.086482Z"
    }
   },
   "outputs": [
    {
     "name": "stdout",
     "output_type": "stream",
     "text": [
      "SCORE: 0.9608922970179563\n",
      "SCORE: 0.9694948059371653\n",
      "SCORE: 0.9677262283304501\n",
      "SCORE: 0.9654960362040724\n",
      "SCORE: 0.970689183100348\n"
     ]
    },
    {
     "data": {
      "text/plain": [
       "(0.9668597101179985,\n",
       " [0.9608922970179563,\n",
       "  0.9694948059371653,\n",
       "  0.9677262283304501,\n",
       "  0.9654960362040724,\n",
       "  0.970689183100348])"
      ]
     },
     "execution_count": 125,
     "metadata": {},
     "output_type": "execute_result"
    }
   ],
   "source": [
    "logreg = Pipeline([('dropper', FeaturesFilter([i for i, c in enumerate(X_train.columns) if 'dfdfd' not in c])),\n",
    "                   ('scaler', StandardScaler()),\n",
    "                   ('logreg', LogisticRegression(penalty='l1', C=0.5, solver='liblinear', random_state=228))])\n",
    "scores, model = cross_val_score(logreg, X_train, y_train, n_splits=5)\n",
    "np.mean(scores), scores"
   ]
  },
  {
   "cell_type": "code",
   "execution_count": 127,
   "metadata": {
    "ExecuteTime": {
     "end_time": "2022-11-18T14:19:28.407468Z",
     "start_time": "2022-11-18T14:19:24.940820Z"
    }
   },
   "outputs": [
    {
     "name": "stdout",
     "output_type": "stream",
     "text": [
      "SCORE: 0.9650845034200712\n",
      "SCORE: 0.9675802840819311\n",
      "SCORE: 0.9716891171327088\n",
      "SCORE: 0.9654855327747026\n",
      "SCORE: 0.972017919252444\n"
     ]
    },
    {
     "data": {
      "text/plain": [
       "(0.9683714713323714,\n",
       " [0.9650845034200712,\n",
       "  0.9675802840819311,\n",
       "  0.9716891171327088,\n",
       "  0.9654855327747026,\n",
       "  0.972017919252444])"
      ]
     },
     "execution_count": 127,
     "metadata": {},
     "output_type": "execute_result"
    }
   ],
   "source": [
    "svc = Pipeline([('dropper', FeaturesFilter([i for i, c in enumerate(X_train.columns) if 'distance' not in c])),\n",
    "                ('scaler', StandardScaler()),\n",
    "                ('svc', SVC(C=2.5, kernel='rbf', random_state=228))])\n",
    "scores, model = cross_val_score(svc, X_train, y_train)\n",
    "np.mean(scores), scores"
   ]
  },
  {
   "cell_type": "code",
   "execution_count": 129,
   "metadata": {
    "ExecuteTime": {
     "end_time": "2022-11-18T14:20:14.854104Z",
     "start_time": "2022-11-18T14:20:01.543218Z"
    }
   },
   "outputs": [
    {
     "name": "stdout",
     "output_type": "stream",
     "text": [
      "SCORE: 0.9599415871223453\n",
      "SCORE: 0.9541675613699879\n",
      "SCORE: 0.9575232784269556\n",
      "SCORE: 0.9624652583223741\n",
      "SCORE: 0.9657645166657424\n"
     ]
    },
    {
     "data": {
      "text/plain": [
       "(0.9599724403814811,\n",
       " [0.9599415871223453,\n",
       "  0.9541675613699879,\n",
       "  0.9575232784269556,\n",
       "  0.9624652583223741,\n",
       "  0.9657645166657424])"
      ]
     },
     "execution_count": 129,
     "metadata": {},
     "output_type": "execute_result"
    }
   ],
   "source": [
    "mlp = Pipeline([('dropper', FeaturesFilter([i for i, c in enumerate(X_train.columns) if 'dfdfdf' not in c])),\n",
    "                ('min_max', StandardScaler()),\n",
    "                ('mlp', MLPClassifier(max_iter=500, hidden_layer_sizes=(50, ), activation='tanh', random_state=228))])\n",
    "scores, model = cross_val_score(mlp, X_train, y_train)\n",
    "np.mean(scores), scores"
   ]
  },
  {
   "cell_type": "code",
   "execution_count": 18,
   "metadata": {},
   "outputs": [
    {
     "name": "stdout",
     "output_type": "stream",
     "text": [
      "SCORE: 0.9640653623534262\n",
      "SCORE: 0.9766366764253668\n",
      "SCORE: 0.9676409766664242\n",
      "SCORE: 0.9716300646636651\n",
      "SCORE: 0.9648738067988247\n"
     ]
    },
    {
     "data": {
      "text/plain": [
       "(0.9689693773815413,\n",
       " [0.9640653623534262,\n",
       "  0.9766366764253668,\n",
       "  0.9676409766664242,\n",
       "  0.9716300646636651,\n",
       "  0.9648738067988247])"
      ]
     },
     "execution_count": 18,
     "metadata": {},
     "output_type": "execute_result"
    }
   ],
   "source": [
    "rf = Pipeline([('dropper', FeaturesFilter([i for i, c in enumerate(X_train.columns) if 'distance' not in c and '=' not in c])),\n",
    "               ('rf', RandomForestClassifier(n_estimators=500, max_features='log2', min_samples_split=3, random_state=228))])\n",
    "scores, model = cross_val_score(rf, X_train, y_train)\n",
    "np.mean(scores), scores"
   ]
  },
  {
   "cell_type": "code",
   "execution_count": 132,
   "metadata": {
    "ExecuteTime": {
     "end_time": "2022-11-18T14:21:24.423905Z",
     "start_time": "2022-11-18T14:21:07.705738Z"
    }
   },
   "outputs": [
    {
     "name": "stdout",
     "output_type": "stream",
     "text": [
      "SCORE: 0.969170493489455\n",
      "SCORE: 0.9746537878405006\n",
      "SCORE: 0.9758172931264973\n",
      "SCORE: 0.9744500591680946\n",
      "SCORE: 0.9738333970077713\n",
      "CPU times: user 2min 7s, sys: 265 ms, total: 2min 7s\n",
      "Wall time: 16.7 s\n"
     ]
    },
    {
     "data": {
      "text/plain": [
       "(0.9735850061264637,\n",
       " [0.969170493489455,\n",
       "  0.9746537878405006,\n",
       "  0.9758172931264973,\n",
       "  0.9744500591680946,\n",
       "  0.9738333970077713])"
      ]
     },
     "execution_count": 132,
     "metadata": {},
     "output_type": "execute_result"
    }
   ],
   "source": [
    "%%time\n",
    "lgbm = LGBMClassifier(boosting_type='dart', learning_rate=0.2, n_estimators=150, random_state=228)\n",
    "scores, model = cross_val_score(lgbm, X_train, y_train)\n",
    "np.mean(scores), scores"
   ]
  },
  {
   "cell_type": "code",
   "execution_count": 20,
   "metadata": {},
   "outputs": [
    {
     "name": "stdout",
     "output_type": "stream",
     "text": [
      "SCORE: 0.96727525868652\n",
      "SCORE: 0.9736685661656238\n",
      "SCORE: 0.9748745990059318\n",
      "SCORE: 0.972479615818341\n",
      "SCORE: 0.9760021521376965\n",
      "CPU times: user 1min 58s, sys: 259 ms, total: 1min 59s\n",
      "Wall time: 13.6 s\n"
     ]
    },
    {
     "data": {
      "text/plain": [
       "(0.9728600383628226,\n",
       " [0.96727525868652,\n",
       "  0.9736685661656238,\n",
       "  0.9748745990059318,\n",
       "  0.972479615818341,\n",
       "  0.9760021521376965])"
      ]
     },
     "execution_count": 20,
     "metadata": {},
     "output_type": "execute_result"
    }
   ],
   "source": [
    "%%time\n",
    "lgbm = LGBMClassifier(boosting_type='gbdt', learning_rate=0.1, n_estimators=500, random_state=228228)\n",
    "scores, model = cross_val_score(lgbm, X_train, y_train)\n",
    "np.mean(scores), scores"
   ]
  },
  {
   "cell_type": "code",
   "execution_count": 114,
   "metadata": {
    "ExecuteTime": {
     "end_time": "2022-11-18T14:15:05.814087Z",
     "start_time": "2022-11-18T14:14:56.391759Z"
    }
   },
   "outputs": [
    {
     "name": "stdout",
     "output_type": "stream",
     "text": [
      "SCORE: 0.9680074874521944\n",
      "SCORE: 0.981823857925401\n",
      "SCORE: 0.9747720231903666\n",
      "SCORE: 0.9725467129003633\n",
      "SCORE: 0.9709097473748828\n",
      "CPU times: user 1min 12s, sys: 136 ms, total: 1min 12s\n",
      "Wall time: 9.42 s\n"
     ]
    },
    {
     "data": {
      "text/plain": [
       "(0.9736119657686416,\n",
       " [0.9680074874521944,\n",
       "  0.981823857925401,\n",
       "  0.9747720231903666,\n",
       "  0.9725467129003633,\n",
       "  0.9709097473748828])"
      ]
     },
     "execution_count": 114,
     "metadata": {},
     "output_type": "execute_result"
    }
   ],
   "source": [
    "%%time\n",
    "lgbm = Pipeline([\n",
    "    ('dropper', FeaturesFilter([i for i, c in enumerate(X_train.columns) if '=' not in c])),\n",
    "    ('lgbm', LGBMClassifier(boosting_type='gbdt', learning_rate=0.1, n_estimators=100, random_state=18))\n",
    "])\n",
    "scores, model = cross_val_score(lgbm, X_train, y_train)\n",
    "np.mean(scores), scores"
   ]
  },
  {
   "cell_type": "code",
   "execution_count": 135,
   "metadata": {
    "ExecuteTime": {
     "end_time": "2022-11-18T14:22:34.146149Z",
     "start_time": "2022-11-18T14:22:23.888878Z"
    }
   },
   "outputs": [
    {
     "name": "stdout",
     "output_type": "stream",
     "text": [
      "SCORE: 0.9639640249371217\n",
      "SCORE: 0.9818663854797121\n",
      "SCORE: 0.971816358165736\n",
      "SCORE: 0.9726061821422457\n",
      "SCORE: 0.9687409922449577\n",
      "CPU times: user 1min 18s, sys: 213 ms, total: 1min 18s\n",
      "Wall time: 10.3 s\n"
     ]
    },
    {
     "data": {
      "text/plain": [
       "(0.9717987885939546,\n",
       " [0.9639640249371217,\n",
       "  0.9818663854797121,\n",
       "  0.971816358165736,\n",
       "  0.9726061821422457,\n",
       "  0.9687409922449577])"
      ]
     },
     "execution_count": 135,
     "metadata": {},
     "output_type": "execute_result"
    }
   ],
   "source": [
    "%%time\n",
    "lgbm = Pipeline([\n",
    "    ('dropper', FeaturesFilter([i for i, c in enumerate(X_train.columns) if '=' not in c])),\n",
    "    ('lgbm', LGBMClassifier(boosting_type='gbdt', learning_rate=0.1, n_estimators=200, random_state=18))\n",
    "])\n",
    "scores, model = cross_val_score(lgbm, X_train, y_train)\n",
    "np.mean(scores), scores"
   ]
  },
  {
   "cell_type": "code",
   "execution_count": 133,
   "metadata": {
    "ExecuteTime": {
     "end_time": "2022-11-18T14:21:56.177749Z",
     "start_time": "2022-11-18T14:21:54.840065Z"
    }
   },
   "outputs": [
    {
     "name": "stdout",
     "output_type": "stream",
     "text": [
      "SCORE: 0.9525727079747652\n",
      "SCORE: 0.9786555551292141\n",
      "SCORE: 0.9642849995609988\n",
      "SCORE: 0.9706433666326323\n",
      "SCORE: 0.9677302201352053\n",
      "CPU times: user 9.65 s, sys: 15.2 ms, total: 9.66 s\n",
      "Wall time: 1.33 s\n"
     ]
    },
    {
     "data": {
      "text/plain": [
       "(0.966777369886563,\n",
       " [0.9525727079747652,\n",
       "  0.9786555551292141,\n",
       "  0.9642849995609988,\n",
       "  0.9706433666326323,\n",
       "  0.9677302201352053])"
      ]
     },
     "execution_count": 133,
     "metadata": {},
     "output_type": "execute_result"
    }
   ],
   "source": [
    "%%time\n",
    "lgbm = Pipeline([\n",
    "    ('dropper', FeaturesFilter([i for i, c in enumerate(X_train.columns) if '=' not in c and 'bin' not in c])),\n",
    "    ('lgbm', LGBMClassifier(boosting_type='goss', max_depth=2, learning_rate=0.27, n_estimators=100, random_state=7))\n",
    "])\n",
    "scores, model = cross_val_score(lgbm, X_train, y_train)\n",
    "np.mean(scores), scores"
   ]
  },
  {
   "cell_type": "code",
   "execution_count": 24,
   "metadata": {},
   "outputs": [
    {
     "name": "stdout",
     "output_type": "stream",
     "text": [
      "SCORE: 0.9620178796700953\n",
      "SCORE: 0.9746905955997425\n",
      "SCORE: 0.9726742868718442\n",
      "SCORE: 0.9645245938533197\n",
      "SCORE: 0.9678171041030244\n",
      "CPU times: user 9min 12s, sys: 4.13 s, total: 9min 17s\n",
      "Wall time: 1min 18s\n"
     ]
    },
    {
     "data": {
      "text/plain": [
       "(0.9683448920196053,\n",
       " [0.9620178796700953,\n",
       "  0.9746905955997425,\n",
       "  0.9726742868718442,\n",
       "  0.9645245938533197,\n",
       "  0.9678171041030244])"
      ]
     },
     "execution_count": 24,
     "metadata": {},
     "output_type": "execute_result"
    }
   ],
   "source": [
    "%%time\n",
    "ctb = CatBoostClassifier(n_estimators=300, depth=6, random_state=228, verbose=False)\n",
    "scores, model = cross_val_score(ctb, X_train, y_train)\n",
    "np.mean(scores), scores"
   ]
  },
  {
   "cell_type": "code",
   "execution_count": 25,
   "metadata": {},
   "outputs": [
    {
     "name": "stdout",
     "output_type": "stream",
     "text": [
      "SCORE: 0.9639928688570597\n",
      "SCORE: 0.9735701171167931\n",
      "SCORE: 0.9728449786594499\n",
      "SCORE: 0.9725010229826052\n",
      "SCORE: 0.9709429256498986\n",
      "CPU times: user 1min 8s, sys: 2.05 s, total: 1min 10s\n",
      "Wall time: 10.7 s\n"
     ]
    },
    {
     "data": {
      "text/plain": [
       "(0.9707703826531613,\n",
       " [0.9639928688570597,\n",
       "  0.9735701171167931,\n",
       "  0.9728449786594499,\n",
       "  0.9725010229826052,\n",
       "  0.9709429256498986])"
      ]
     },
     "execution_count": 25,
     "metadata": {},
     "output_type": "execute_result"
    }
   ],
   "source": [
    "%%time\n",
    "ctb = CatBoostClassifier(n_estimators=300, depth=3, random_state=18, verbose=False)\n",
    "scores, model = cross_val_score(ctb, X_train, y_train)\n",
    "np.mean(scores), scores"
   ]
  },
  {
   "cell_type": "markdown",
   "metadata": {},
   "source": [
    "# Stacking"
   ]
  },
  {
   "cell_type": "code",
   "execution_count": 492,
   "metadata": {},
   "outputs": [
    {
     "name": "stderr",
     "output_type": "stream",
     "text": [
      "/home/user/.local/lib/python3.10/site-packages/sklearn/preprocessing/_label.py:154: DataConversionWarning: A column-vector y was passed when a 1d array was expected. Please change the shape of y to (n_samples, ), for example using ravel().\n",
      "  y = column_or_1d(y, warn=True)\n"
     ]
    },
    {
     "name": "stdout",
     "output_type": "stream",
     "text": [
      "SCORE: 0.9721862067753396\n"
     ]
    },
    {
     "name": "stderr",
     "output_type": "stream",
     "text": [
      "/home/user/.local/lib/python3.10/site-packages/sklearn/preprocessing/_label.py:154: DataConversionWarning: A column-vector y was passed when a 1d array was expected. Please change the shape of y to (n_samples, ), for example using ravel().\n",
      "  y = column_or_1d(y, warn=True)\n"
     ]
    },
    {
     "name": "stdout",
     "output_type": "stream",
     "text": [
      "SCORE: 0.9748247303856977\n"
     ]
    },
    {
     "name": "stderr",
     "output_type": "stream",
     "text": [
      "/home/user/.local/lib/python3.10/site-packages/sklearn/preprocessing/_label.py:154: DataConversionWarning: A column-vector y was passed when a 1d array was expected. Please change the shape of y to (n_samples, ), for example using ravel().\n",
      "  y = column_or_1d(y, warn=True)\n"
     ]
    },
    {
     "name": "stdout",
     "output_type": "stream",
     "text": [
      "SCORE: 0.9830187126272166\n"
     ]
    },
    {
     "name": "stderr",
     "output_type": "stream",
     "text": [
      "/home/user/.local/lib/python3.10/site-packages/sklearn/preprocessing/_label.py:154: DataConversionWarning: A column-vector y was passed when a 1d array was expected. Please change the shape of y to (n_samples, ), for example using ravel().\n",
      "  y = column_or_1d(y, warn=True)\n"
     ]
    },
    {
     "name": "stdout",
     "output_type": "stream",
     "text": [
      "SCORE: 0.9817299860642262\n",
      "SCORE: 0.9729496839549369\n",
      "CPU times: user 1min 32s, sys: 15.4 s, total: 1min 47s\n",
      "Wall time: 9min 38s\n"
     ]
    },
    {
     "name": "stderr",
     "output_type": "stream",
     "text": [
      "/home/user/.local/lib/python3.10/site-packages/sklearn/preprocessing/_label.py:154: DataConversionWarning: A column-vector y was passed when a 1d array was expected. Please change the shape of y to (n_samples, ), for example using ravel().\n",
      "  y = column_or_1d(y, warn=True)\n"
     ]
    },
    {
     "data": {
      "text/plain": [
       "(0.9769418639614834,\n",
       " [0.9721862067753396,\n",
       "  0.9748247303856977,\n",
       "  0.9830187126272166,\n",
       "  0.9817299860642262,\n",
       "  0.9729496839549369])"
      ]
     },
     "execution_count": 492,
     "metadata": {},
     "output_type": "execute_result"
    }
   ],
   "source": [
    "%%time\n",
    "# k = 8!!!!!!!!!!!!!\n",
    "SEED = 228\n",
    "knn = Pipeline([('dropper', FeaturesFilter([i for i, c in enumerate(X_train.columns) if '=' not in c and 'distance' not in c])),\n",
    "                ('scaler', StandardScaler()),\n",
    "                ('knn', KNeighborsClassifier(8, weights='distance', p=2))])\n",
    "logreg = Pipeline([('scaler', StandardScaler()),\n",
    "                   ('logreg', LogisticRegression(penalty='l1', C=0.5, solver='liblinear', random_state=SEED))])\n",
    "svc = Pipeline([('dropper', FeaturesFilter([i for i, c in enumerate(X_train.columns) if 'distance' not in c])),\n",
    "                ('scaler', StandardScaler()),\n",
    "                ('svc', SVC(C=2.5, kernel='rbf', random_state=SEED))])\n",
    "mlp = Pipeline([('min_max', StandardScaler()),\n",
    "                ('mlp', MLPClassifier(max_iter=500, hidden_layer_sizes=(50, ), activation='tanh', random_state=SEED))])\n",
    "rf = Pipeline([('dropper', FeaturesFilter([i for i, c in enumerate(X_train.columns) if 'distance' not in c and '=' not in c])),\n",
    "               ('rf', RandomForestClassifier(n_estimators=500, max_features='log2', min_samples_split=3, random_state=228))])\n",
    "lgbm_1 = LGBMClassifier(boosting_type='dart', learning_rate=0.2, n_estimators=150, random_state=SEED)\n",
    "lgbm_2 = Pipeline([\n",
    "    ('dropper', FeaturesFilter([i for i, c in enumerate(X_train.columns) if '=' not in c])),\n",
    "    ('lgbm', LGBMClassifier(boosting_type='gbdt', learning_rate=0.1, n_estimators=200, random_state=SEED + 1))\n",
    "])\n",
    "lgbm_3 = LGBMClassifier(boosting_type='gbdt', learning_rate=0.1, n_estimators=500, random_state=SEED + 2)\n",
    "ctb = CatBoostClassifier(n_estimators=300, depth=6, random_state=228, verbose=False)\n",
    "\n",
    "estimators = [\n",
    "    ('knn', knn),\n",
    "    ('logreg', logreg),\n",
    "    ('svc', svc),\n",
    "    ('mlp', mlp),\n",
    "    ('rf', rf),\n",
    "    ('lgbm_1', lgbm_1),\n",
    "    ('lgbm_2', lgbm_2),\n",
    "#     ('lgbm_3', lgbm_3),\n",
    "    ('ctb', ctb)\n",
    "]\n",
    "clf = StackingClassifier(estimators=estimators,\n",
    "                         final_estimator=CatBoostClassifier(depth=2, verbose=False, random_state=SEED),\n",
    "                         n_jobs=-1)\n",
    "scores, model = cross_val_score(clf, X_train, y_train, random_state)\n",
    "np.mean(scores), scores"
   ]
  },
  {
   "cell_type": "code",
   "execution_count": 303,
   "metadata": {},
   "outputs": [
    {
     "name": "stdout",
     "output_type": "stream",
     "text": [
      "Learning rate set to 0.084774\n",
      "0:\tlearn: 1.8004636\ttotal: 2.57ms\tremaining: 2.57s\n",
      "1:\tlearn: 1.6587048\ttotal: 4.7ms\tremaining: 2.35s\n",
      "2:\tlearn: 1.5326970\ttotal: 6.81ms\tremaining: 2.26s\n",
      "3:\tlearn: 1.4253540\ttotal: 8.86ms\tremaining: 2.21s\n",
      "4:\tlearn: 1.3378497\ttotal: 11.1ms\tremaining: 2.21s\n",
      "5:\tlearn: 1.2570410\ttotal: 13.2ms\tremaining: 2.18s\n",
      "6:\tlearn: 1.1881264\ttotal: 15.1ms\tremaining: 2.15s\n",
      "7:\tlearn: 1.1231943\ttotal: 17.2ms\tremaining: 2.13s\n",
      "8:\tlearn: 1.0656333\ttotal: 19.3ms\tremaining: 2.13s\n",
      "9:\tlearn: 1.0064358\ttotal: 21.5ms\tremaining: 2.13s\n",
      "10:\tlearn: 0.9550756\ttotal: 23.7ms\tremaining: 2.13s\n",
      "11:\tlearn: 0.9104482\ttotal: 25.9ms\tremaining: 2.13s\n",
      "12:\tlearn: 0.8655818\ttotal: 28.2ms\tremaining: 2.14s\n",
      "13:\tlearn: 0.8240511\ttotal: 30.3ms\tremaining: 2.13s\n",
      "14:\tlearn: 0.7866037\ttotal: 32.7ms\tremaining: 2.14s\n",
      "15:\tlearn: 0.7503171\ttotal: 34.9ms\tremaining: 2.15s\n",
      "16:\tlearn: 0.7169433\ttotal: 37.1ms\tremaining: 2.15s\n",
      "17:\tlearn: 0.6855691\ttotal: 39.3ms\tremaining: 2.14s\n",
      "18:\tlearn: 0.6580922\ttotal: 41.5ms\tremaining: 2.14s\n",
      "19:\tlearn: 0.6292187\ttotal: 43.5ms\tremaining: 2.13s\n",
      "20:\tlearn: 0.6023341\ttotal: 45.6ms\tremaining: 2.13s\n",
      "21:\tlearn: 0.5772562\ttotal: 47.7ms\tremaining: 2.12s\n",
      "22:\tlearn: 0.5542014\ttotal: 49.9ms\tremaining: 2.12s\n",
      "23:\tlearn: 0.5317005\ttotal: 52.1ms\tremaining: 2.12s\n",
      "24:\tlearn: 0.5103631\ttotal: 54.2ms\tremaining: 2.12s\n",
      "25:\tlearn: 0.4908675\ttotal: 56.4ms\tremaining: 2.11s\n",
      "26:\tlearn: 0.4717079\ttotal: 58.5ms\tremaining: 2.11s\n",
      "27:\tlearn: 0.4534598\ttotal: 60.7ms\tremaining: 2.11s\n",
      "28:\tlearn: 0.4369673\ttotal: 62.8ms\tremaining: 2.1s\n",
      "29:\tlearn: 0.4204075\ttotal: 65ms\tremaining: 2.1s\n",
      "30:\tlearn: 0.4041798\ttotal: 67.2ms\tremaining: 2.1s\n",
      "31:\tlearn: 0.3888194\ttotal: 69.3ms\tremaining: 2.1s\n",
      "32:\tlearn: 0.3738959\ttotal: 72.2ms\tremaining: 2.12s\n",
      "33:\tlearn: 0.3603416\ttotal: 74.5ms\tremaining: 2.12s\n",
      "34:\tlearn: 0.3472363\ttotal: 76.6ms\tremaining: 2.11s\n",
      "35:\tlearn: 0.3354602\ttotal: 78.6ms\tremaining: 2.1s\n",
      "36:\tlearn: 0.3244462\ttotal: 80.8ms\tremaining: 2.1s\n",
      "37:\tlearn: 0.3132954\ttotal: 82.9ms\tremaining: 2.1s\n",
      "38:\tlearn: 0.3030751\ttotal: 85.2ms\tremaining: 2.1s\n",
      "39:\tlearn: 0.2928013\ttotal: 87.4ms\tremaining: 2.1s\n",
      "40:\tlearn: 0.2826633\ttotal: 89.7ms\tremaining: 2.1s\n",
      "41:\tlearn: 0.2729079\ttotal: 91.9ms\tremaining: 2.1s\n",
      "42:\tlearn: 0.2639101\ttotal: 94.1ms\tremaining: 2.1s\n",
      "43:\tlearn: 0.2557788\ttotal: 96.4ms\tremaining: 2.09s\n",
      "44:\tlearn: 0.2475784\ttotal: 98.7ms\tremaining: 2.1s\n",
      "45:\tlearn: 0.2399335\ttotal: 101ms\tremaining: 2.09s\n",
      "46:\tlearn: 0.2325728\ttotal: 103ms\tremaining: 2.09s\n",
      "47:\tlearn: 0.2257969\ttotal: 105ms\tremaining: 2.09s\n",
      "48:\tlearn: 0.2194162\ttotal: 108ms\tremaining: 2.09s\n",
      "49:\tlearn: 0.2128360\ttotal: 110ms\tremaining: 2.09s\n",
      "50:\tlearn: 0.2067928\ttotal: 112ms\tremaining: 2.09s\n",
      "51:\tlearn: 0.2011674\ttotal: 115ms\tremaining: 2.09s\n",
      "52:\tlearn: 0.1958393\ttotal: 117ms\tremaining: 2.09s\n",
      "53:\tlearn: 0.1905429\ttotal: 119ms\tremaining: 2.09s\n",
      "54:\tlearn: 0.1861856\ttotal: 121ms\tremaining: 2.09s\n",
      "55:\tlearn: 0.1815042\ttotal: 124ms\tremaining: 2.08s\n",
      "56:\tlearn: 0.1768369\ttotal: 126ms\tremaining: 2.08s\n",
      "57:\tlearn: 0.1723237\ttotal: 128ms\tremaining: 2.08s\n",
      "58:\tlearn: 0.1680529\ttotal: 130ms\tremaining: 2.08s\n",
      "59:\tlearn: 0.1636187\ttotal: 133ms\tremaining: 2.08s\n",
      "60:\tlearn: 0.1598427\ttotal: 135ms\tremaining: 2.08s\n",
      "61:\tlearn: 0.1567119\ttotal: 137ms\tremaining: 2.08s\n",
      "62:\tlearn: 0.1531971\ttotal: 139ms\tremaining: 2.07s\n",
      "63:\tlearn: 0.1502485\ttotal: 142ms\tremaining: 2.07s\n",
      "64:\tlearn: 0.1478167\ttotal: 144ms\tremaining: 2.07s\n",
      "65:\tlearn: 0.1447472\ttotal: 146ms\tremaining: 2.07s\n",
      "66:\tlearn: 0.1421099\ttotal: 148ms\tremaining: 2.07s\n",
      "67:\tlearn: 0.1393088\ttotal: 151ms\tremaining: 2.07s\n",
      "68:\tlearn: 0.1366166\ttotal: 153ms\tremaining: 2.06s\n",
      "69:\tlearn: 0.1339281\ttotal: 155ms\tremaining: 2.06s\n",
      "70:\tlearn: 0.1314775\ttotal: 158ms\tremaining: 2.06s\n",
      "71:\tlearn: 0.1287145\ttotal: 160ms\tremaining: 2.06s\n",
      "72:\tlearn: 0.1268339\ttotal: 162ms\tremaining: 2.06s\n",
      "73:\tlearn: 0.1246121\ttotal: 164ms\tremaining: 2.06s\n",
      "74:\tlearn: 0.1226931\ttotal: 167ms\tremaining: 2.06s\n",
      "75:\tlearn: 0.1204161\ttotal: 169ms\tremaining: 2.06s\n",
      "76:\tlearn: 0.1182678\ttotal: 172ms\tremaining: 2.06s\n",
      "77:\tlearn: 0.1164551\ttotal: 174ms\tremaining: 2.06s\n",
      "78:\tlearn: 0.1151649\ttotal: 176ms\tremaining: 2.05s\n",
      "79:\tlearn: 0.1140316\ttotal: 178ms\tremaining: 2.05s\n",
      "80:\tlearn: 0.1122218\ttotal: 181ms\tremaining: 2.05s\n",
      "81:\tlearn: 0.1104112\ttotal: 183ms\tremaining: 2.05s\n",
      "82:\tlearn: 0.1092563\ttotal: 186ms\tremaining: 2.05s\n",
      "83:\tlearn: 0.1079624\ttotal: 188ms\tremaining: 2.05s\n",
      "84:\tlearn: 0.1063482\ttotal: 190ms\tremaining: 2.05s\n",
      "85:\tlearn: 0.1050704\ttotal: 193ms\tremaining: 2.05s\n",
      "86:\tlearn: 0.1037367\ttotal: 196ms\tremaining: 2.06s\n",
      "87:\tlearn: 0.1030625\ttotal: 199ms\tremaining: 2.06s\n",
      "88:\tlearn: 0.1016533\ttotal: 202ms\tremaining: 2.06s\n",
      "89:\tlearn: 0.1003127\ttotal: 204ms\tremaining: 2.06s\n",
      "90:\tlearn: 0.0992277\ttotal: 208ms\tremaining: 2.08s\n",
      "91:\tlearn: 0.0982878\ttotal: 213ms\tremaining: 2.11s\n",
      "92:\tlearn: 0.0975741\ttotal: 219ms\tremaining: 2.13s\n",
      "93:\tlearn: 0.0972189\ttotal: 221ms\tremaining: 2.13s\n",
      "94:\tlearn: 0.0962956\ttotal: 224ms\tremaining: 2.13s\n",
      "95:\tlearn: 0.0956822\ttotal: 226ms\tremaining: 2.13s\n",
      "96:\tlearn: 0.0949967\ttotal: 230ms\tremaining: 2.14s\n",
      "97:\tlearn: 0.0942351\ttotal: 233ms\tremaining: 2.14s\n",
      "98:\tlearn: 0.0931730\ttotal: 235ms\tremaining: 2.14s\n",
      "99:\tlearn: 0.0926438\ttotal: 237ms\tremaining: 2.14s\n",
      "100:\tlearn: 0.0920437\ttotal: 240ms\tremaining: 2.13s\n",
      "101:\tlearn: 0.0907804\ttotal: 242ms\tremaining: 2.13s\n",
      "102:\tlearn: 0.0900071\ttotal: 245ms\tremaining: 2.13s\n",
      "103:\tlearn: 0.0893668\ttotal: 247ms\tremaining: 2.13s\n",
      "104:\tlearn: 0.0888444\ttotal: 250ms\tremaining: 2.13s\n",
      "105:\tlearn: 0.0886264\ttotal: 252ms\tremaining: 2.13s\n",
      "106:\tlearn: 0.0878623\ttotal: 255ms\tremaining: 2.12s\n",
      "107:\tlearn: 0.0870669\ttotal: 257ms\tremaining: 2.13s\n",
      "108:\tlearn: 0.0866071\ttotal: 260ms\tremaining: 2.12s\n",
      "109:\tlearn: 0.0860006\ttotal: 262ms\tremaining: 2.12s\n",
      "110:\tlearn: 0.0855230\ttotal: 265ms\tremaining: 2.12s\n",
      "111:\tlearn: 0.0852804\ttotal: 267ms\tremaining: 2.12s\n",
      "112:\tlearn: 0.0848410\ttotal: 269ms\tremaining: 2.11s\n",
      "113:\tlearn: 0.0844486\ttotal: 272ms\tremaining: 2.11s\n",
      "114:\tlearn: 0.0838885\ttotal: 274ms\tremaining: 2.11s\n",
      "115:\tlearn: 0.0835449\ttotal: 276ms\tremaining: 2.1s\n",
      "116:\tlearn: 0.0827570\ttotal: 279ms\tremaining: 2.1s\n",
      "117:\tlearn: 0.0819510\ttotal: 281ms\tremaining: 2.1s\n",
      "118:\tlearn: 0.0813605\ttotal: 283ms\tremaining: 2.1s\n",
      "119:\tlearn: 0.0810543\ttotal: 286ms\tremaining: 2.09s\n",
      "120:\tlearn: 0.0806358\ttotal: 288ms\tremaining: 2.09s\n",
      "121:\tlearn: 0.0805705\ttotal: 290ms\tremaining: 2.09s\n",
      "122:\tlearn: 0.0799009\ttotal: 293ms\tremaining: 2.09s\n",
      "123:\tlearn: 0.0796094\ttotal: 295ms\tremaining: 2.08s\n",
      "124:\tlearn: 0.0794087\ttotal: 297ms\tremaining: 2.08s\n",
      "125:\tlearn: 0.0792783\ttotal: 300ms\tremaining: 2.08s\n",
      "126:\tlearn: 0.0788718\ttotal: 302ms\tremaining: 2.07s\n",
      "127:\tlearn: 0.0786542\ttotal: 304ms\tremaining: 2.07s\n",
      "128:\tlearn: 0.0784068\ttotal: 307ms\tremaining: 2.07s\n",
      "129:\tlearn: 0.0782460\ttotal: 309ms\tremaining: 2.07s\n",
      "130:\tlearn: 0.0780738\ttotal: 311ms\tremaining: 2.06s\n",
      "131:\tlearn: 0.0773749\ttotal: 314ms\tremaining: 2.06s\n",
      "132:\tlearn: 0.0768053\ttotal: 316ms\tremaining: 2.06s\n",
      "133:\tlearn: 0.0763035\ttotal: 319ms\tremaining: 2.06s\n",
      "134:\tlearn: 0.0760984\ttotal: 321ms\tremaining: 2.06s\n",
      "135:\tlearn: 0.0756470\ttotal: 323ms\tremaining: 2.05s\n",
      "136:\tlearn: 0.0753806\ttotal: 326ms\tremaining: 2.05s\n",
      "137:\tlearn: 0.0752570\ttotal: 328ms\tremaining: 2.05s\n",
      "138:\tlearn: 0.0749980\ttotal: 331ms\tremaining: 2.05s\n",
      "139:\tlearn: 0.0748569\ttotal: 333ms\tremaining: 2.05s\n",
      "140:\tlearn: 0.0743407\ttotal: 336ms\tremaining: 2.04s\n",
      "141:\tlearn: 0.0742022\ttotal: 338ms\tremaining: 2.04s\n",
      "142:\tlearn: 0.0741061\ttotal: 341ms\tremaining: 2.04s\n",
      "143:\tlearn: 0.0738834\ttotal: 343ms\tremaining: 2.04s\n",
      "144:\tlearn: 0.0738363\ttotal: 345ms\tremaining: 2.04s\n",
      "145:\tlearn: 0.0737300\ttotal: 348ms\tremaining: 2.03s\n",
      "146:\tlearn: 0.0733217\ttotal: 350ms\tremaining: 2.03s\n",
      "147:\tlearn: 0.0730207\ttotal: 353ms\tremaining: 2.03s\n",
      "148:\tlearn: 0.0729780\ttotal: 355ms\tremaining: 2.03s\n",
      "149:\tlearn: 0.0727081\ttotal: 358ms\tremaining: 2.03s\n",
      "150:\tlearn: 0.0725112\ttotal: 360ms\tremaining: 2.02s\n",
      "151:\tlearn: 0.0724402\ttotal: 363ms\tremaining: 2.02s\n",
      "152:\tlearn: 0.0721187\ttotal: 365ms\tremaining: 2.02s\n",
      "153:\tlearn: 0.0719068\ttotal: 367ms\tremaining: 2.02s\n",
      "154:\tlearn: 0.0717257\ttotal: 370ms\tremaining: 2.02s\n",
      "155:\tlearn: 0.0714372\ttotal: 372ms\tremaining: 2.01s\n",
      "156:\tlearn: 0.0713597\ttotal: 374ms\tremaining: 2.01s\n",
      "157:\tlearn: 0.0710113\ttotal: 377ms\tremaining: 2.01s\n",
      "158:\tlearn: 0.0706941\ttotal: 379ms\tremaining: 2.01s\n",
      "159:\tlearn: 0.0705296\ttotal: 382ms\tremaining: 2s\n",
      "160:\tlearn: 0.0701704\ttotal: 384ms\tremaining: 2s\n",
      "161:\tlearn: 0.0698434\ttotal: 387ms\tremaining: 2s\n"
     ]
    },
    {
     "name": "stdout",
     "output_type": "stream",
     "text": [
      "162:\tlearn: 0.0697450\ttotal: 389ms\tremaining: 2s\n",
      "163:\tlearn: 0.0696389\ttotal: 392ms\tremaining: 2s\n",
      "164:\tlearn: 0.0694916\ttotal: 395ms\tremaining: 2s\n",
      "165:\tlearn: 0.0692930\ttotal: 397ms\tremaining: 2s\n",
      "166:\tlearn: 0.0690576\ttotal: 400ms\tremaining: 2s\n",
      "167:\tlearn: 0.0689665\ttotal: 403ms\tremaining: 1.99s\n",
      "168:\tlearn: 0.0687705\ttotal: 410ms\tremaining: 2.02s\n",
      "169:\tlearn: 0.0686868\ttotal: 415ms\tremaining: 2.02s\n",
      "170:\tlearn: 0.0686324\ttotal: 417ms\tremaining: 2.02s\n",
      "171:\tlearn: 0.0684843\ttotal: 420ms\tremaining: 2.02s\n",
      "172:\tlearn: 0.0680656\ttotal: 423ms\tremaining: 2.02s\n",
      "173:\tlearn: 0.0679870\ttotal: 427ms\tremaining: 2.03s\n",
      "174:\tlearn: 0.0676383\ttotal: 431ms\tremaining: 2.03s\n",
      "175:\tlearn: 0.0674396\ttotal: 433ms\tremaining: 2.03s\n",
      "176:\tlearn: 0.0672918\ttotal: 436ms\tremaining: 2.03s\n",
      "177:\tlearn: 0.0672313\ttotal: 441ms\tremaining: 2.04s\n",
      "178:\tlearn: 0.0669703\ttotal: 444ms\tremaining: 2.04s\n",
      "179:\tlearn: 0.0668270\ttotal: 446ms\tremaining: 2.03s\n",
      "180:\tlearn: 0.0667130\ttotal: 449ms\tremaining: 2.03s\n",
      "181:\tlearn: 0.0664742\ttotal: 451ms\tremaining: 2.03s\n",
      "182:\tlearn: 0.0660296\ttotal: 455ms\tremaining: 2.03s\n",
      "183:\tlearn: 0.0658282\ttotal: 457ms\tremaining: 2.03s\n",
      "184:\tlearn: 0.0656768\ttotal: 460ms\tremaining: 2.02s\n",
      "185:\tlearn: 0.0654484\ttotal: 462ms\tremaining: 2.02s\n",
      "186:\tlearn: 0.0651401\ttotal: 464ms\tremaining: 2.02s\n",
      "187:\tlearn: 0.0647880\ttotal: 468ms\tremaining: 2.02s\n",
      "188:\tlearn: 0.0647443\ttotal: 471ms\tremaining: 2.02s\n",
      "189:\tlearn: 0.0646603\ttotal: 473ms\tremaining: 2.02s\n",
      "190:\tlearn: 0.0643578\ttotal: 475ms\tremaining: 2.01s\n",
      "191:\tlearn: 0.0641058\ttotal: 478ms\tremaining: 2.01s\n",
      "192:\tlearn: 0.0638689\ttotal: 480ms\tremaining: 2.01s\n",
      "193:\tlearn: 0.0636267\ttotal: 483ms\tremaining: 2.01s\n",
      "194:\tlearn: 0.0635634\ttotal: 485ms\tremaining: 2s\n",
      "195:\tlearn: 0.0634208\ttotal: 488ms\tremaining: 2s\n",
      "196:\tlearn: 0.0633431\ttotal: 490ms\tremaining: 2s\n",
      "197:\tlearn: 0.0632436\ttotal: 493ms\tremaining: 2s\n",
      "198:\tlearn: 0.0630275\ttotal: 495ms\tremaining: 1.99s\n",
      "199:\tlearn: 0.0629284\ttotal: 497ms\tremaining: 1.99s\n",
      "200:\tlearn: 0.0628929\ttotal: 500ms\tremaining: 1.99s\n",
      "201:\tlearn: 0.0627261\ttotal: 502ms\tremaining: 1.98s\n",
      "202:\tlearn: 0.0623265\ttotal: 505ms\tremaining: 1.98s\n",
      "203:\tlearn: 0.0621722\ttotal: 507ms\tremaining: 1.98s\n",
      "204:\tlearn: 0.0620934\ttotal: 509ms\tremaining: 1.98s\n",
      "205:\tlearn: 0.0618150\ttotal: 512ms\tremaining: 1.97s\n",
      "206:\tlearn: 0.0617561\ttotal: 514ms\tremaining: 1.97s\n",
      "207:\tlearn: 0.0615821\ttotal: 517ms\tremaining: 1.97s\n",
      "208:\tlearn: 0.0615420\ttotal: 519ms\tremaining: 1.97s\n",
      "209:\tlearn: 0.0611496\ttotal: 522ms\tremaining: 1.96s\n",
      "210:\tlearn: 0.0609905\ttotal: 525ms\tremaining: 1.96s\n",
      "211:\tlearn: 0.0609128\ttotal: 527ms\tremaining: 1.96s\n",
      "212:\tlearn: 0.0608308\ttotal: 529ms\tremaining: 1.96s\n",
      "213:\tlearn: 0.0607749\ttotal: 532ms\tremaining: 1.95s\n",
      "214:\tlearn: 0.0605953\ttotal: 534ms\tremaining: 1.95s\n",
      "215:\tlearn: 0.0604535\ttotal: 537ms\tremaining: 1.95s\n",
      "216:\tlearn: 0.0603816\ttotal: 539ms\tremaining: 1.94s\n",
      "217:\tlearn: 0.0603113\ttotal: 541ms\tremaining: 1.94s\n",
      "218:\tlearn: 0.0602585\ttotal: 544ms\tremaining: 1.94s\n",
      "219:\tlearn: 0.0601872\ttotal: 546ms\tremaining: 1.94s\n",
      "220:\tlearn: 0.0600688\ttotal: 548ms\tremaining: 1.93s\n",
      "221:\tlearn: 0.0599174\ttotal: 551ms\tremaining: 1.93s\n",
      "222:\tlearn: 0.0598029\ttotal: 553ms\tremaining: 1.93s\n",
      "223:\tlearn: 0.0597582\ttotal: 556ms\tremaining: 1.92s\n",
      "224:\tlearn: 0.0596678\ttotal: 558ms\tremaining: 1.92s\n",
      "225:\tlearn: 0.0595868\ttotal: 560ms\tremaining: 1.92s\n",
      "226:\tlearn: 0.0594531\ttotal: 563ms\tremaining: 1.92s\n",
      "227:\tlearn: 0.0593965\ttotal: 566ms\tremaining: 1.92s\n",
      "228:\tlearn: 0.0593652\ttotal: 568ms\tremaining: 1.91s\n",
      "229:\tlearn: 0.0592843\ttotal: 571ms\tremaining: 1.91s\n",
      "230:\tlearn: 0.0591747\ttotal: 573ms\tremaining: 1.91s\n",
      "231:\tlearn: 0.0591507\ttotal: 576ms\tremaining: 1.91s\n",
      "232:\tlearn: 0.0591010\ttotal: 578ms\tremaining: 1.9s\n",
      "233:\tlearn: 0.0590007\ttotal: 581ms\tremaining: 1.9s\n",
      "234:\tlearn: 0.0587334\ttotal: 584ms\tremaining: 1.9s\n",
      "235:\tlearn: 0.0585805\ttotal: 587ms\tremaining: 1.9s\n",
      "236:\tlearn: 0.0585049\ttotal: 589ms\tremaining: 1.9s\n",
      "237:\tlearn: 0.0584495\ttotal: 592ms\tremaining: 1.9s\n",
      "238:\tlearn: 0.0582622\ttotal: 595ms\tremaining: 1.89s\n",
      "239:\tlearn: 0.0581657\ttotal: 598ms\tremaining: 1.89s\n",
      "240:\tlearn: 0.0580220\ttotal: 601ms\tremaining: 1.89s\n",
      "241:\tlearn: 0.0579443\ttotal: 604ms\tremaining: 1.89s\n",
      "242:\tlearn: 0.0577882\ttotal: 606ms\tremaining: 1.89s\n",
      "243:\tlearn: 0.0577420\ttotal: 609ms\tremaining: 1.89s\n",
      "244:\tlearn: 0.0576183\ttotal: 611ms\tremaining: 1.88s\n",
      "245:\tlearn: 0.0575800\ttotal: 615ms\tremaining: 1.88s\n",
      "246:\tlearn: 0.0575184\ttotal: 617ms\tremaining: 1.88s\n",
      "247:\tlearn: 0.0573900\ttotal: 620ms\tremaining: 1.88s\n",
      "248:\tlearn: 0.0573155\ttotal: 622ms\tremaining: 1.88s\n",
      "249:\tlearn: 0.0571612\ttotal: 625ms\tremaining: 1.87s\n",
      "250:\tlearn: 0.0571392\ttotal: 627ms\tremaining: 1.87s\n",
      "251:\tlearn: 0.0570045\ttotal: 629ms\tremaining: 1.87s\n",
      "252:\tlearn: 0.0569618\ttotal: 632ms\tremaining: 1.86s\n",
      "253:\tlearn: 0.0568998\ttotal: 634ms\tremaining: 1.86s\n",
      "254:\tlearn: 0.0567004\ttotal: 637ms\tremaining: 1.86s\n",
      "255:\tlearn: 0.0566610\ttotal: 639ms\tremaining: 1.86s\n",
      "256:\tlearn: 0.0566054\ttotal: 641ms\tremaining: 1.85s\n",
      "257:\tlearn: 0.0563668\ttotal: 644ms\tremaining: 1.85s\n",
      "258:\tlearn: 0.0563246\ttotal: 646ms\tremaining: 1.85s\n",
      "259:\tlearn: 0.0560926\ttotal: 649ms\tremaining: 1.85s\n",
      "260:\tlearn: 0.0559951\ttotal: 651ms\tremaining: 1.84s\n",
      "261:\tlearn: 0.0559492\ttotal: 653ms\tremaining: 1.84s\n",
      "262:\tlearn: 0.0559103\ttotal: 656ms\tremaining: 1.84s\n",
      "263:\tlearn: 0.0558007\ttotal: 658ms\tremaining: 1.83s\n",
      "264:\tlearn: 0.0557327\ttotal: 661ms\tremaining: 1.83s\n",
      "265:\tlearn: 0.0557007\ttotal: 663ms\tremaining: 1.83s\n",
      "266:\tlearn: 0.0555590\ttotal: 666ms\tremaining: 1.83s\n",
      "267:\tlearn: 0.0553322\ttotal: 668ms\tremaining: 1.82s\n",
      "268:\tlearn: 0.0552065\ttotal: 670ms\tremaining: 1.82s\n",
      "269:\tlearn: 0.0549590\ttotal: 673ms\tremaining: 1.82s\n",
      "270:\tlearn: 0.0548831\ttotal: 675ms\tremaining: 1.82s\n",
      "271:\tlearn: 0.0548414\ttotal: 678ms\tremaining: 1.81s\n",
      "272:\tlearn: 0.0547364\ttotal: 680ms\tremaining: 1.81s\n",
      "273:\tlearn: 0.0546278\ttotal: 682ms\tremaining: 1.81s\n",
      "274:\tlearn: 0.0545575\ttotal: 685ms\tremaining: 1.8s\n",
      "275:\tlearn: 0.0544600\ttotal: 687ms\tremaining: 1.8s\n",
      "276:\tlearn: 0.0543258\ttotal: 690ms\tremaining: 1.8s\n",
      "277:\tlearn: 0.0542796\ttotal: 692ms\tremaining: 1.8s\n",
      "278:\tlearn: 0.0542444\ttotal: 695ms\tremaining: 1.79s\n",
      "279:\tlearn: 0.0541455\ttotal: 697ms\tremaining: 1.79s\n",
      "280:\tlearn: 0.0540836\ttotal: 699ms\tremaining: 1.79s\n",
      "281:\tlearn: 0.0540322\ttotal: 702ms\tremaining: 1.79s\n",
      "282:\tlearn: 0.0539778\ttotal: 704ms\tremaining: 1.78s\n",
      "283:\tlearn: 0.0539284\ttotal: 707ms\tremaining: 1.78s\n",
      "284:\tlearn: 0.0537606\ttotal: 709ms\tremaining: 1.78s\n",
      "285:\tlearn: 0.0536330\ttotal: 711ms\tremaining: 1.78s\n",
      "286:\tlearn: 0.0536010\ttotal: 714ms\tremaining: 1.77s\n",
      "287:\tlearn: 0.0535548\ttotal: 716ms\tremaining: 1.77s\n",
      "288:\tlearn: 0.0534934\ttotal: 719ms\tremaining: 1.77s\n",
      "289:\tlearn: 0.0533849\ttotal: 721ms\tremaining: 1.76s\n",
      "290:\tlearn: 0.0532868\ttotal: 724ms\tremaining: 1.76s\n",
      "291:\tlearn: 0.0532429\ttotal: 726ms\tremaining: 1.76s\n",
      "292:\tlearn: 0.0531366\ttotal: 728ms\tremaining: 1.76s\n",
      "293:\tlearn: 0.0530501\ttotal: 731ms\tremaining: 1.75s\n",
      "294:\tlearn: 0.0529435\ttotal: 733ms\tremaining: 1.75s\n",
      "295:\tlearn: 0.0528772\ttotal: 736ms\tremaining: 1.75s\n",
      "296:\tlearn: 0.0527820\ttotal: 738ms\tremaining: 1.75s\n",
      "297:\tlearn: 0.0525996\ttotal: 741ms\tremaining: 1.74s\n",
      "298:\tlearn: 0.0525604\ttotal: 743ms\tremaining: 1.74s\n",
      "299:\tlearn: 0.0525229\ttotal: 745ms\tremaining: 1.74s\n",
      "300:\tlearn: 0.0524984\ttotal: 748ms\tremaining: 1.74s\n",
      "301:\tlearn: 0.0524178\ttotal: 750ms\tremaining: 1.73s\n",
      "302:\tlearn: 0.0523866\ttotal: 752ms\tremaining: 1.73s\n",
      "303:\tlearn: 0.0522513\ttotal: 755ms\tremaining: 1.73s\n",
      "304:\tlearn: 0.0520986\ttotal: 757ms\tremaining: 1.73s\n",
      "305:\tlearn: 0.0519125\ttotal: 760ms\tremaining: 1.72s\n",
      "306:\tlearn: 0.0518827\ttotal: 762ms\tremaining: 1.72s\n",
      "307:\tlearn: 0.0517901\ttotal: 765ms\tremaining: 1.72s\n",
      "308:\tlearn: 0.0516969\ttotal: 767ms\tremaining: 1.72s\n",
      "309:\tlearn: 0.0515756\ttotal: 770ms\tremaining: 1.71s\n",
      "310:\tlearn: 0.0514677\ttotal: 772ms\tremaining: 1.71s\n",
      "311:\tlearn: 0.0514504\ttotal: 774ms\tremaining: 1.71s\n",
      "312:\tlearn: 0.0512898\ttotal: 777ms\tremaining: 1.71s\n",
      "313:\tlearn: 0.0512365\ttotal: 780ms\tremaining: 1.7s\n",
      "314:\tlearn: 0.0512204\ttotal: 783ms\tremaining: 1.7s\n",
      "315:\tlearn: 0.0510714\ttotal: 786ms\tremaining: 1.7s\n",
      "316:\tlearn: 0.0510194\ttotal: 788ms\tremaining: 1.7s\n",
      "317:\tlearn: 0.0509925\ttotal: 792ms\tremaining: 1.7s\n",
      "318:\tlearn: 0.0509623\ttotal: 794ms\tremaining: 1.7s\n",
      "319:\tlearn: 0.0509494\ttotal: 797ms\tremaining: 1.69s\n",
      "320:\tlearn: 0.0508447\ttotal: 799ms\tremaining: 1.69s\n",
      "321:\tlearn: 0.0507529\ttotal: 802ms\tremaining: 1.69s\n",
      "322:\tlearn: 0.0506537\ttotal: 804ms\tremaining: 1.69s\n",
      "323:\tlearn: 0.0505049\ttotal: 808ms\tremaining: 1.69s\n",
      "324:\tlearn: 0.0504536\ttotal: 811ms\tremaining: 1.68s\n",
      "325:\tlearn: 0.0504050\ttotal: 813ms\tremaining: 1.68s\n",
      "326:\tlearn: 0.0502659\ttotal: 816ms\tremaining: 1.68s\n",
      "327:\tlearn: 0.0502204\ttotal: 818ms\tremaining: 1.68s\n",
      "328:\tlearn: 0.0500336\ttotal: 821ms\tremaining: 1.67s\n",
      "329:\tlearn: 0.0499342\ttotal: 823ms\tremaining: 1.67s\n",
      "330:\tlearn: 0.0498323\ttotal: 826ms\tremaining: 1.67s\n",
      "331:\tlearn: 0.0497375\ttotal: 828ms\tremaining: 1.67s\n",
      "332:\tlearn: 0.0496381\ttotal: 831ms\tremaining: 1.66s\n",
      "333:\tlearn: 0.0495839\ttotal: 833ms\tremaining: 1.66s\n",
      "334:\tlearn: 0.0495176\ttotal: 835ms\tremaining: 1.66s\n",
      "335:\tlearn: 0.0494720\ttotal: 838ms\tremaining: 1.66s\n",
      "336:\tlearn: 0.0493182\ttotal: 840ms\tremaining: 1.65s\n",
      "337:\tlearn: 0.0492406\ttotal: 843ms\tremaining: 1.65s\n",
      "338:\tlearn: 0.0491194\ttotal: 845ms\tremaining: 1.65s\n",
      "339:\tlearn: 0.0490977\ttotal: 848ms\tremaining: 1.65s\n",
      "340:\tlearn: 0.0489847\ttotal: 850ms\tremaining: 1.64s\n",
      "341:\tlearn: 0.0489203\ttotal: 853ms\tremaining: 1.64s\n",
      "342:\tlearn: 0.0488943\ttotal: 855ms\tremaining: 1.64s\n",
      "343:\tlearn: 0.0488177\ttotal: 858ms\tremaining: 1.64s\n",
      "344:\tlearn: 0.0487958\ttotal: 860ms\tremaining: 1.63s\n",
      "345:\tlearn: 0.0487585\ttotal: 862ms\tremaining: 1.63s\n",
      "346:\tlearn: 0.0486236\ttotal: 865ms\tremaining: 1.63s\n",
      "347:\tlearn: 0.0485302\ttotal: 867ms\tremaining: 1.62s\n",
      "348:\tlearn: 0.0484863\ttotal: 869ms\tremaining: 1.62s\n",
      "349:\tlearn: 0.0484228\ttotal: 872ms\tremaining: 1.62s\n",
      "350:\tlearn: 0.0483965\ttotal: 874ms\tremaining: 1.62s\n",
      "351:\tlearn: 0.0483175\ttotal: 877ms\tremaining: 1.61s\n",
      "352:\tlearn: 0.0482652\ttotal: 879ms\tremaining: 1.61s\n",
      "353:\tlearn: 0.0482091\ttotal: 882ms\tremaining: 1.61s\n",
      "354:\tlearn: 0.0481879\ttotal: 884ms\tremaining: 1.61s\n",
      "355:\tlearn: 0.0481492\ttotal: 886ms\tremaining: 1.6s\n",
      "356:\tlearn: 0.0480927\ttotal: 889ms\tremaining: 1.6s\n",
      "357:\tlearn: 0.0480244\ttotal: 891ms\tremaining: 1.6s\n",
      "358:\tlearn: 0.0480073\ttotal: 894ms\tremaining: 1.59s\n",
      "359:\tlearn: 0.0478477\ttotal: 896ms\tremaining: 1.59s\n",
      "360:\tlearn: 0.0477777\ttotal: 899ms\tremaining: 1.59s\n",
      "361:\tlearn: 0.0476675\ttotal: 901ms\tremaining: 1.59s\n",
      "362:\tlearn: 0.0475991\ttotal: 904ms\tremaining: 1.58s\n",
      "363:\tlearn: 0.0475101\ttotal: 906ms\tremaining: 1.58s\n",
      "364:\tlearn: 0.0474325\ttotal: 909ms\tremaining: 1.58s\n",
      "365:\tlearn: 0.0473809\ttotal: 911ms\tremaining: 1.58s\n",
      "366:\tlearn: 0.0473013\ttotal: 913ms\tremaining: 1.57s\n",
      "367:\tlearn: 0.0472011\ttotal: 916ms\tremaining: 1.57s\n",
      "368:\tlearn: 0.0471111\ttotal: 918ms\tremaining: 1.57s\n",
      "369:\tlearn: 0.0470797\ttotal: 921ms\tremaining: 1.57s\n",
      "370:\tlearn: 0.0470201\ttotal: 923ms\tremaining: 1.56s\n",
      "371:\tlearn: 0.0469148\ttotal: 926ms\tremaining: 1.56s\n",
      "372:\tlearn: 0.0468178\ttotal: 928ms\tremaining: 1.56s\n",
      "373:\tlearn: 0.0466929\ttotal: 930ms\tremaining: 1.56s\n",
      "374:\tlearn: 0.0466297\ttotal: 933ms\tremaining: 1.55s\n",
      "375:\tlearn: 0.0465674\ttotal: 935ms\tremaining: 1.55s\n",
      "376:\tlearn: 0.0464668\ttotal: 938ms\tremaining: 1.55s\n",
      "377:\tlearn: 0.0464425\ttotal: 940ms\tremaining: 1.55s\n",
      "378:\tlearn: 0.0463527\ttotal: 942ms\tremaining: 1.54s\n",
      "379:\tlearn: 0.0463258\ttotal: 945ms\tremaining: 1.54s\n",
      "380:\tlearn: 0.0462949\ttotal: 947ms\tremaining: 1.54s\n",
      "381:\tlearn: 0.0462098\ttotal: 950ms\tremaining: 1.54s\n",
      "382:\tlearn: 0.0461883\ttotal: 952ms\tremaining: 1.53s\n",
      "383:\tlearn: 0.0461304\ttotal: 955ms\tremaining: 1.53s\n",
      "384:\tlearn: 0.0461148\ttotal: 957ms\tremaining: 1.53s\n",
      "385:\tlearn: 0.0459910\ttotal: 960ms\tremaining: 1.53s\n",
      "386:\tlearn: 0.0459274\ttotal: 962ms\tremaining: 1.52s\n",
      "387:\tlearn: 0.0458100\ttotal: 964ms\tremaining: 1.52s\n",
      "388:\tlearn: 0.0457858\ttotal: 967ms\tremaining: 1.52s\n",
      "389:\tlearn: 0.0457565\ttotal: 969ms\tremaining: 1.52s\n",
      "390:\tlearn: 0.0456870\ttotal: 972ms\tremaining: 1.51s\n"
     ]
    },
    {
     "name": "stdout",
     "output_type": "stream",
     "text": [
      "391:\tlearn: 0.0455680\ttotal: 975ms\tremaining: 1.51s\n",
      "392:\tlearn: 0.0453957\ttotal: 978ms\tremaining: 1.51s\n",
      "393:\tlearn: 0.0452963\ttotal: 981ms\tremaining: 1.51s\n",
      "394:\tlearn: 0.0451924\ttotal: 984ms\tremaining: 1.51s\n",
      "395:\tlearn: 0.0451006\ttotal: 987ms\tremaining: 1.5s\n",
      "396:\tlearn: 0.0450342\ttotal: 990ms\tremaining: 1.5s\n",
      "397:\tlearn: 0.0449618\ttotal: 992ms\tremaining: 1.5s\n",
      "398:\tlearn: 0.0447874\ttotal: 994ms\tremaining: 1.5s\n",
      "399:\tlearn: 0.0447636\ttotal: 997ms\tremaining: 1.5s\n",
      "400:\tlearn: 0.0447348\ttotal: 1000ms\tremaining: 1.49s\n",
      "401:\tlearn: 0.0446875\ttotal: 1s\tremaining: 1.49s\n",
      "402:\tlearn: 0.0445888\ttotal: 1s\tremaining: 1.49s\n",
      "403:\tlearn: 0.0444677\ttotal: 1.01s\tremaining: 1.49s\n",
      "404:\tlearn: 0.0444386\ttotal: 1.01s\tremaining: 1.48s\n",
      "405:\tlearn: 0.0443612\ttotal: 1.01s\tremaining: 1.48s\n",
      "406:\tlearn: 0.0442876\ttotal: 1.01s\tremaining: 1.48s\n",
      "407:\tlearn: 0.0442209\ttotal: 1.02s\tremaining: 1.48s\n",
      "408:\tlearn: 0.0441548\ttotal: 1.02s\tremaining: 1.47s\n",
      "409:\tlearn: 0.0440864\ttotal: 1.02s\tremaining: 1.47s\n",
      "410:\tlearn: 0.0440640\ttotal: 1.02s\tremaining: 1.47s\n",
      "411:\tlearn: 0.0440146\ttotal: 1.03s\tremaining: 1.46s\n",
      "412:\tlearn: 0.0439462\ttotal: 1.03s\tremaining: 1.46s\n",
      "413:\tlearn: 0.0438695\ttotal: 1.03s\tremaining: 1.46s\n",
      "414:\tlearn: 0.0438447\ttotal: 1.03s\tremaining: 1.46s\n",
      "415:\tlearn: 0.0437637\ttotal: 1.04s\tremaining: 1.45s\n",
      "416:\tlearn: 0.0437227\ttotal: 1.04s\tremaining: 1.45s\n",
      "417:\tlearn: 0.0436989\ttotal: 1.04s\tremaining: 1.45s\n",
      "418:\tlearn: 0.0436702\ttotal: 1.04s\tremaining: 1.45s\n",
      "419:\tlearn: 0.0436205\ttotal: 1.04s\tremaining: 1.44s\n",
      "420:\tlearn: 0.0436065\ttotal: 1.05s\tremaining: 1.44s\n",
      "421:\tlearn: 0.0435623\ttotal: 1.05s\tremaining: 1.44s\n",
      "422:\tlearn: 0.0435343\ttotal: 1.05s\tremaining: 1.44s\n",
      "423:\tlearn: 0.0434442\ttotal: 1.05s\tremaining: 1.43s\n",
      "424:\tlearn: 0.0434250\ttotal: 1.06s\tremaining: 1.43s\n",
      "425:\tlearn: 0.0434032\ttotal: 1.06s\tremaining: 1.43s\n",
      "426:\tlearn: 0.0433498\ttotal: 1.06s\tremaining: 1.43s\n",
      "427:\tlearn: 0.0433240\ttotal: 1.06s\tremaining: 1.42s\n",
      "428:\tlearn: 0.0432321\ttotal: 1.07s\tremaining: 1.42s\n",
      "429:\tlearn: 0.0431741\ttotal: 1.07s\tremaining: 1.42s\n",
      "430:\tlearn: 0.0430714\ttotal: 1.07s\tremaining: 1.42s\n",
      "431:\tlearn: 0.0430159\ttotal: 1.07s\tremaining: 1.41s\n",
      "432:\tlearn: 0.0429102\ttotal: 1.08s\tremaining: 1.41s\n",
      "433:\tlearn: 0.0428048\ttotal: 1.08s\tremaining: 1.41s\n",
      "434:\tlearn: 0.0427441\ttotal: 1.08s\tremaining: 1.41s\n",
      "435:\tlearn: 0.0427165\ttotal: 1.08s\tremaining: 1.4s\n",
      "436:\tlearn: 0.0426628\ttotal: 1.09s\tremaining: 1.4s\n",
      "437:\tlearn: 0.0426199\ttotal: 1.09s\tremaining: 1.4s\n",
      "438:\tlearn: 0.0425387\ttotal: 1.09s\tremaining: 1.4s\n",
      "439:\tlearn: 0.0424388\ttotal: 1.09s\tremaining: 1.39s\n",
      "440:\tlearn: 0.0424193\ttotal: 1.1s\tremaining: 1.39s\n",
      "441:\tlearn: 0.0424041\ttotal: 1.1s\tremaining: 1.39s\n",
      "442:\tlearn: 0.0423921\ttotal: 1.1s\tremaining: 1.39s\n",
      "443:\tlearn: 0.0423643\ttotal: 1.1s\tremaining: 1.38s\n",
      "444:\tlearn: 0.0422830\ttotal: 1.11s\tremaining: 1.38s\n",
      "445:\tlearn: 0.0422328\ttotal: 1.11s\tremaining: 1.38s\n",
      "446:\tlearn: 0.0422065\ttotal: 1.11s\tremaining: 1.38s\n",
      "447:\tlearn: 0.0420864\ttotal: 1.11s\tremaining: 1.37s\n",
      "448:\tlearn: 0.0420472\ttotal: 1.12s\tremaining: 1.37s\n",
      "449:\tlearn: 0.0420214\ttotal: 1.12s\tremaining: 1.37s\n",
      "450:\tlearn: 0.0419414\ttotal: 1.12s\tremaining: 1.37s\n",
      "451:\tlearn: 0.0418821\ttotal: 1.13s\tremaining: 1.36s\n",
      "452:\tlearn: 0.0417524\ttotal: 1.13s\tremaining: 1.36s\n",
      "453:\tlearn: 0.0417343\ttotal: 1.13s\tremaining: 1.36s\n",
      "454:\tlearn: 0.0416734\ttotal: 1.13s\tremaining: 1.36s\n",
      "455:\tlearn: 0.0416565\ttotal: 1.13s\tremaining: 1.35s\n",
      "456:\tlearn: 0.0416380\ttotal: 1.14s\tremaining: 1.35s\n",
      "457:\tlearn: 0.0416233\ttotal: 1.14s\tremaining: 1.35s\n",
      "458:\tlearn: 0.0415659\ttotal: 1.14s\tremaining: 1.35s\n",
      "459:\tlearn: 0.0414961\ttotal: 1.14s\tremaining: 1.34s\n",
      "460:\tlearn: 0.0414368\ttotal: 1.15s\tremaining: 1.34s\n",
      "461:\tlearn: 0.0414120\ttotal: 1.15s\tremaining: 1.34s\n",
      "462:\tlearn: 0.0413976\ttotal: 1.15s\tremaining: 1.33s\n",
      "463:\tlearn: 0.0413717\ttotal: 1.15s\tremaining: 1.33s\n",
      "464:\tlearn: 0.0413438\ttotal: 1.16s\tremaining: 1.33s\n",
      "465:\tlearn: 0.0413275\ttotal: 1.16s\tremaining: 1.33s\n",
      "466:\tlearn: 0.0413112\ttotal: 1.16s\tremaining: 1.32s\n",
      "467:\tlearn: 0.0412210\ttotal: 1.16s\tremaining: 1.32s\n",
      "468:\tlearn: 0.0411454\ttotal: 1.17s\tremaining: 1.32s\n",
      "469:\tlearn: 0.0411278\ttotal: 1.17s\tremaining: 1.32s\n",
      "470:\tlearn: 0.0410486\ttotal: 1.17s\tremaining: 1.31s\n",
      "471:\tlearn: 0.0409714\ttotal: 1.17s\tremaining: 1.31s\n",
      "472:\tlearn: 0.0408808\ttotal: 1.18s\tremaining: 1.31s\n",
      "473:\tlearn: 0.0407721\ttotal: 1.18s\tremaining: 1.31s\n",
      "474:\tlearn: 0.0407471\ttotal: 1.18s\tremaining: 1.31s\n",
      "475:\tlearn: 0.0407228\ttotal: 1.19s\tremaining: 1.3s\n",
      "476:\tlearn: 0.0406640\ttotal: 1.19s\tremaining: 1.3s\n",
      "477:\tlearn: 0.0405032\ttotal: 1.19s\tremaining: 1.3s\n",
      "478:\tlearn: 0.0404361\ttotal: 1.19s\tremaining: 1.3s\n",
      "479:\tlearn: 0.0404202\ttotal: 1.2s\tremaining: 1.29s\n",
      "480:\tlearn: 0.0403617\ttotal: 1.2s\tremaining: 1.29s\n",
      "481:\tlearn: 0.0402983\ttotal: 1.2s\tremaining: 1.29s\n",
      "482:\tlearn: 0.0402383\ttotal: 1.2s\tremaining: 1.29s\n",
      "483:\tlearn: 0.0402167\ttotal: 1.2s\tremaining: 1.28s\n",
      "484:\tlearn: 0.0401723\ttotal: 1.21s\tremaining: 1.28s\n",
      "485:\tlearn: 0.0401531\ttotal: 1.21s\tremaining: 1.28s\n",
      "486:\tlearn: 0.0401050\ttotal: 1.21s\tremaining: 1.28s\n",
      "487:\tlearn: 0.0400535\ttotal: 1.21s\tremaining: 1.27s\n",
      "488:\tlearn: 0.0400337\ttotal: 1.22s\tremaining: 1.27s\n",
      "489:\tlearn: 0.0399961\ttotal: 1.22s\tremaining: 1.27s\n",
      "490:\tlearn: 0.0399758\ttotal: 1.22s\tremaining: 1.27s\n",
      "491:\tlearn: 0.0399253\ttotal: 1.22s\tremaining: 1.26s\n",
      "492:\tlearn: 0.0399102\ttotal: 1.23s\tremaining: 1.26s\n",
      "493:\tlearn: 0.0398852\ttotal: 1.23s\tremaining: 1.26s\n",
      "494:\tlearn: 0.0398414\ttotal: 1.23s\tremaining: 1.26s\n",
      "495:\tlearn: 0.0398045\ttotal: 1.23s\tremaining: 1.25s\n",
      "496:\tlearn: 0.0397805\ttotal: 1.24s\tremaining: 1.25s\n",
      "497:\tlearn: 0.0397225\ttotal: 1.24s\tremaining: 1.25s\n",
      "498:\tlearn: 0.0396848\ttotal: 1.24s\tremaining: 1.25s\n",
      "499:\tlearn: 0.0396204\ttotal: 1.24s\tremaining: 1.24s\n",
      "500:\tlearn: 0.0395899\ttotal: 1.25s\tremaining: 1.24s\n",
      "501:\tlearn: 0.0395306\ttotal: 1.25s\tremaining: 1.24s\n",
      "502:\tlearn: 0.0395087\ttotal: 1.25s\tremaining: 1.24s\n",
      "503:\tlearn: 0.0394613\ttotal: 1.25s\tremaining: 1.23s\n",
      "504:\tlearn: 0.0394413\ttotal: 1.25s\tremaining: 1.23s\n",
      "505:\tlearn: 0.0394152\ttotal: 1.26s\tremaining: 1.23s\n",
      "506:\tlearn: 0.0393643\ttotal: 1.26s\tremaining: 1.23s\n",
      "507:\tlearn: 0.0393355\ttotal: 1.26s\tremaining: 1.22s\n",
      "508:\tlearn: 0.0393021\ttotal: 1.26s\tremaining: 1.22s\n",
      "509:\tlearn: 0.0392750\ttotal: 1.27s\tremaining: 1.22s\n",
      "510:\tlearn: 0.0392595\ttotal: 1.27s\tremaining: 1.22s\n",
      "511:\tlearn: 0.0392011\ttotal: 1.27s\tremaining: 1.21s\n",
      "512:\tlearn: 0.0391848\ttotal: 1.27s\tremaining: 1.21s\n",
      "513:\tlearn: 0.0391366\ttotal: 1.28s\tremaining: 1.21s\n",
      "514:\tlearn: 0.0390788\ttotal: 1.28s\tremaining: 1.21s\n",
      "515:\tlearn: 0.0390561\ttotal: 1.28s\tremaining: 1.2s\n",
      "516:\tlearn: 0.0390159\ttotal: 1.28s\tremaining: 1.2s\n",
      "517:\tlearn: 0.0389804\ttotal: 1.29s\tremaining: 1.2s\n",
      "518:\tlearn: 0.0389294\ttotal: 1.29s\tremaining: 1.2s\n",
      "519:\tlearn: 0.0388995\ttotal: 1.29s\tremaining: 1.19s\n",
      "520:\tlearn: 0.0388864\ttotal: 1.29s\tremaining: 1.19s\n",
      "521:\tlearn: 0.0388739\ttotal: 1.3s\tremaining: 1.19s\n",
      "522:\tlearn: 0.0387897\ttotal: 1.3s\tremaining: 1.19s\n",
      "523:\tlearn: 0.0387241\ttotal: 1.3s\tremaining: 1.18s\n",
      "524:\tlearn: 0.0387057\ttotal: 1.3s\tremaining: 1.18s\n",
      "525:\tlearn: 0.0386111\ttotal: 1.31s\tremaining: 1.18s\n",
      "526:\tlearn: 0.0385814\ttotal: 1.31s\tremaining: 1.18s\n",
      "527:\tlearn: 0.0385401\ttotal: 1.31s\tremaining: 1.17s\n",
      "528:\tlearn: 0.0384978\ttotal: 1.31s\tremaining: 1.17s\n",
      "529:\tlearn: 0.0384050\ttotal: 1.32s\tremaining: 1.17s\n",
      "530:\tlearn: 0.0383877\ttotal: 1.32s\tremaining: 1.17s\n",
      "531:\tlearn: 0.0383610\ttotal: 1.32s\tremaining: 1.16s\n",
      "532:\tlearn: 0.0382919\ttotal: 1.32s\tremaining: 1.16s\n",
      "533:\tlearn: 0.0382538\ttotal: 1.33s\tremaining: 1.16s\n",
      "534:\tlearn: 0.0381952\ttotal: 1.33s\tremaining: 1.16s\n",
      "535:\tlearn: 0.0381678\ttotal: 1.33s\tremaining: 1.15s\n",
      "536:\tlearn: 0.0380500\ttotal: 1.33s\tremaining: 1.15s\n",
      "537:\tlearn: 0.0379627\ttotal: 1.34s\tremaining: 1.15s\n",
      "538:\tlearn: 0.0379313\ttotal: 1.34s\tremaining: 1.15s\n",
      "539:\tlearn: 0.0379187\ttotal: 1.34s\tremaining: 1.14s\n",
      "540:\tlearn: 0.0378787\ttotal: 1.34s\tremaining: 1.14s\n",
      "541:\tlearn: 0.0378429\ttotal: 1.35s\tremaining: 1.14s\n",
      "542:\tlearn: 0.0377569\ttotal: 1.35s\tremaining: 1.14s\n",
      "543:\tlearn: 0.0377325\ttotal: 1.35s\tremaining: 1.13s\n",
      "544:\tlearn: 0.0377191\ttotal: 1.35s\tremaining: 1.13s\n",
      "545:\tlearn: 0.0376577\ttotal: 1.36s\tremaining: 1.13s\n",
      "546:\tlearn: 0.0376423\ttotal: 1.36s\tremaining: 1.13s\n",
      "547:\tlearn: 0.0376318\ttotal: 1.36s\tremaining: 1.12s\n",
      "548:\tlearn: 0.0376136\ttotal: 1.36s\tremaining: 1.12s\n",
      "549:\tlearn: 0.0375765\ttotal: 1.37s\tremaining: 1.12s\n",
      "550:\tlearn: 0.0375562\ttotal: 1.37s\tremaining: 1.12s\n",
      "551:\tlearn: 0.0375353\ttotal: 1.37s\tremaining: 1.11s\n",
      "552:\tlearn: 0.0375067\ttotal: 1.38s\tremaining: 1.11s\n",
      "553:\tlearn: 0.0374512\ttotal: 1.38s\tremaining: 1.11s\n",
      "554:\tlearn: 0.0373824\ttotal: 1.38s\tremaining: 1.11s\n",
      "555:\tlearn: 0.0372935\ttotal: 1.38s\tremaining: 1.1s\n",
      "556:\tlearn: 0.0372639\ttotal: 1.39s\tremaining: 1.1s\n",
      "557:\tlearn: 0.0372334\ttotal: 1.39s\tremaining: 1.1s\n",
      "558:\tlearn: 0.0372250\ttotal: 1.39s\tremaining: 1.1s\n",
      "559:\tlearn: 0.0371559\ttotal: 1.39s\tremaining: 1.09s\n",
      "560:\tlearn: 0.0371180\ttotal: 1.4s\tremaining: 1.09s\n",
      "561:\tlearn: 0.0370413\ttotal: 1.4s\tremaining: 1.09s\n",
      "562:\tlearn: 0.0369783\ttotal: 1.4s\tremaining: 1.09s\n",
      "563:\tlearn: 0.0369010\ttotal: 1.41s\tremaining: 1.09s\n",
      "564:\tlearn: 0.0368891\ttotal: 1.41s\tremaining: 1.08s\n",
      "565:\tlearn: 0.0368103\ttotal: 1.41s\tremaining: 1.08s\n",
      "566:\tlearn: 0.0367531\ttotal: 1.41s\tremaining: 1.08s\n",
      "567:\tlearn: 0.0366987\ttotal: 1.42s\tremaining: 1.08s\n",
      "568:\tlearn: 0.0366835\ttotal: 1.42s\tremaining: 1.07s\n",
      "569:\tlearn: 0.0366617\ttotal: 1.42s\tremaining: 1.07s\n",
      "570:\tlearn: 0.0366256\ttotal: 1.42s\tremaining: 1.07s\n",
      "571:\tlearn: 0.0365890\ttotal: 1.43s\tremaining: 1.07s\n",
      "572:\tlearn: 0.0365281\ttotal: 1.43s\tremaining: 1.06s\n",
      "573:\tlearn: 0.0365003\ttotal: 1.43s\tremaining: 1.06s\n",
      "574:\tlearn: 0.0364443\ttotal: 1.44s\tremaining: 1.06s\n",
      "575:\tlearn: 0.0363854\ttotal: 1.44s\tremaining: 1.06s\n",
      "576:\tlearn: 0.0363681\ttotal: 1.44s\tremaining: 1.06s\n",
      "577:\tlearn: 0.0363312\ttotal: 1.44s\tremaining: 1.05s\n",
      "578:\tlearn: 0.0362993\ttotal: 1.45s\tremaining: 1.05s\n",
      "579:\tlearn: 0.0362632\ttotal: 1.45s\tremaining: 1.05s\n",
      "580:\tlearn: 0.0362422\ttotal: 1.45s\tremaining: 1.05s\n",
      "581:\tlearn: 0.0362055\ttotal: 1.46s\tremaining: 1.05s\n",
      "582:\tlearn: 0.0361552\ttotal: 1.46s\tremaining: 1.04s\n",
      "583:\tlearn: 0.0361112\ttotal: 1.46s\tremaining: 1.04s\n",
      "584:\tlearn: 0.0361028\ttotal: 1.46s\tremaining: 1.04s\n",
      "585:\tlearn: 0.0360771\ttotal: 1.47s\tremaining: 1.04s\n",
      "586:\tlearn: 0.0360447\ttotal: 1.47s\tremaining: 1.03s\n",
      "587:\tlearn: 0.0359932\ttotal: 1.47s\tremaining: 1.03s\n",
      "588:\tlearn: 0.0358774\ttotal: 1.48s\tremaining: 1.03s\n",
      "589:\tlearn: 0.0358323\ttotal: 1.48s\tremaining: 1.03s\n",
      "590:\tlearn: 0.0357865\ttotal: 1.48s\tremaining: 1.02s\n",
      "591:\tlearn: 0.0357591\ttotal: 1.48s\tremaining: 1.02s\n",
      "592:\tlearn: 0.0357174\ttotal: 1.49s\tremaining: 1.02s\n",
      "593:\tlearn: 0.0356701\ttotal: 1.49s\tremaining: 1.02s\n",
      "594:\tlearn: 0.0356598\ttotal: 1.49s\tremaining: 1.02s\n",
      "595:\tlearn: 0.0355706\ttotal: 1.5s\tremaining: 1.01s\n",
      "596:\tlearn: 0.0355221\ttotal: 1.5s\tremaining: 1.01s\n",
      "597:\tlearn: 0.0354774\ttotal: 1.5s\tremaining: 1.01s\n",
      "598:\tlearn: 0.0354390\ttotal: 1.5s\tremaining: 1.01s\n",
      "599:\tlearn: 0.0354031\ttotal: 1.51s\tremaining: 1s\n",
      "600:\tlearn: 0.0353770\ttotal: 1.51s\tremaining: 1s\n",
      "601:\tlearn: 0.0353051\ttotal: 1.51s\tremaining: 1000ms\n",
      "602:\tlearn: 0.0352888\ttotal: 1.51s\tremaining: 998ms\n",
      "603:\tlearn: 0.0352490\ttotal: 1.52s\tremaining: 996ms\n",
      "604:\tlearn: 0.0351514\ttotal: 1.52s\tremaining: 993ms\n",
      "605:\tlearn: 0.0351173\ttotal: 1.52s\tremaining: 990ms\n",
      "606:\tlearn: 0.0351057\ttotal: 1.52s\tremaining: 988ms\n",
      "607:\tlearn: 0.0350839\ttotal: 1.53s\tremaining: 985ms\n",
      "608:\tlearn: 0.0350361\ttotal: 1.53s\tremaining: 983ms\n",
      "609:\tlearn: 0.0350174\ttotal: 1.53s\tremaining: 981ms\n",
      "610:\tlearn: 0.0350047\ttotal: 1.54s\tremaining: 978ms\n",
      "611:\tlearn: 0.0349775\ttotal: 1.54s\tremaining: 976ms\n",
      "612:\tlearn: 0.0349370\ttotal: 1.54s\tremaining: 973ms\n",
      "613:\tlearn: 0.0348977\ttotal: 1.54s\tremaining: 972ms\n",
      "614:\tlearn: 0.0348627\ttotal: 1.55s\tremaining: 969ms\n",
      "615:\tlearn: 0.0348052\ttotal: 1.55s\tremaining: 967ms\n",
      "616:\tlearn: 0.0346730\ttotal: 1.55s\tremaining: 964ms\n",
      "617:\tlearn: 0.0345743\ttotal: 1.55s\tremaining: 962ms\n",
      "618:\tlearn: 0.0345488\ttotal: 1.56s\tremaining: 959ms\n",
      "619:\tlearn: 0.0345384\ttotal: 1.56s\tremaining: 958ms\n"
     ]
    },
    {
     "name": "stdout",
     "output_type": "stream",
     "text": [
      "620:\tlearn: 0.0345229\ttotal: 1.56s\tremaining: 956ms\n",
      "621:\tlearn: 0.0345028\ttotal: 1.57s\tremaining: 953ms\n",
      "622:\tlearn: 0.0344895\ttotal: 1.57s\tremaining: 950ms\n",
      "623:\tlearn: 0.0344768\ttotal: 1.57s\tremaining: 948ms\n",
      "624:\tlearn: 0.0344258\ttotal: 1.57s\tremaining: 945ms\n",
      "625:\tlearn: 0.0343805\ttotal: 1.58s\tremaining: 943ms\n",
      "626:\tlearn: 0.0343535\ttotal: 1.58s\tremaining: 941ms\n",
      "627:\tlearn: 0.0343091\ttotal: 1.58s\tremaining: 939ms\n",
      "628:\tlearn: 0.0342876\ttotal: 1.59s\tremaining: 937ms\n",
      "629:\tlearn: 0.0342453\ttotal: 1.59s\tremaining: 934ms\n",
      "630:\tlearn: 0.0341921\ttotal: 1.59s\tremaining: 932ms\n",
      "631:\tlearn: 0.0341255\ttotal: 1.6s\tremaining: 931ms\n",
      "632:\tlearn: 0.0341012\ttotal: 1.6s\tremaining: 928ms\n",
      "633:\tlearn: 0.0340572\ttotal: 1.6s\tremaining: 926ms\n",
      "634:\tlearn: 0.0340459\ttotal: 1.6s\tremaining: 923ms\n",
      "635:\tlearn: 0.0340346\ttotal: 1.61s\tremaining: 920ms\n",
      "636:\tlearn: 0.0339468\ttotal: 1.61s\tremaining: 918ms\n",
      "637:\tlearn: 0.0339096\ttotal: 1.61s\tremaining: 916ms\n",
      "638:\tlearn: 0.0338767\ttotal: 1.62s\tremaining: 914ms\n",
      "639:\tlearn: 0.0338469\ttotal: 1.62s\tremaining: 911ms\n",
      "640:\tlearn: 0.0338027\ttotal: 1.62s\tremaining: 909ms\n",
      "641:\tlearn: 0.0337758\ttotal: 1.63s\tremaining: 906ms\n",
      "642:\tlearn: 0.0337490\ttotal: 1.63s\tremaining: 904ms\n",
      "643:\tlearn: 0.0337242\ttotal: 1.63s\tremaining: 902ms\n",
      "644:\tlearn: 0.0337118\ttotal: 1.63s\tremaining: 899ms\n",
      "645:\tlearn: 0.0336950\ttotal: 1.64s\tremaining: 897ms\n",
      "646:\tlearn: 0.0336810\ttotal: 1.64s\tremaining: 894ms\n",
      "647:\tlearn: 0.0336050\ttotal: 1.64s\tremaining: 892ms\n",
      "648:\tlearn: 0.0335887\ttotal: 1.65s\tremaining: 890ms\n",
      "649:\tlearn: 0.0335281\ttotal: 1.65s\tremaining: 888ms\n",
      "650:\tlearn: 0.0335104\ttotal: 1.65s\tremaining: 885ms\n",
      "651:\tlearn: 0.0334821\ttotal: 1.65s\tremaining: 883ms\n",
      "652:\tlearn: 0.0334390\ttotal: 1.66s\tremaining: 881ms\n",
      "653:\tlearn: 0.0333892\ttotal: 1.66s\tremaining: 879ms\n",
      "654:\tlearn: 0.0333418\ttotal: 1.66s\tremaining: 877ms\n",
      "655:\tlearn: 0.0333300\ttotal: 1.67s\tremaining: 874ms\n",
      "656:\tlearn: 0.0333068\ttotal: 1.67s\tremaining: 871ms\n",
      "657:\tlearn: 0.0332276\ttotal: 1.67s\tremaining: 869ms\n",
      "658:\tlearn: 0.0332102\ttotal: 1.67s\tremaining: 867ms\n",
      "659:\tlearn: 0.0331730\ttotal: 1.68s\tremaining: 864ms\n",
      "660:\tlearn: 0.0331609\ttotal: 1.68s\tremaining: 862ms\n",
      "661:\tlearn: 0.0331389\ttotal: 1.68s\tremaining: 859ms\n",
      "662:\tlearn: 0.0330715\ttotal: 1.69s\tremaining: 856ms\n",
      "663:\tlearn: 0.0330275\ttotal: 1.69s\tremaining: 854ms\n",
      "664:\tlearn: 0.0330089\ttotal: 1.69s\tremaining: 852ms\n",
      "665:\tlearn: 0.0329717\ttotal: 1.69s\tremaining: 850ms\n",
      "666:\tlearn: 0.0329479\ttotal: 1.7s\tremaining: 847ms\n",
      "667:\tlearn: 0.0329205\ttotal: 1.7s\tremaining: 845ms\n",
      "668:\tlearn: 0.0329134\ttotal: 1.7s\tremaining: 842ms\n",
      "669:\tlearn: 0.0328975\ttotal: 1.7s\tremaining: 839ms\n",
      "670:\tlearn: 0.0328631\ttotal: 1.71s\tremaining: 837ms\n",
      "671:\tlearn: 0.0328478\ttotal: 1.71s\tremaining: 835ms\n",
      "672:\tlearn: 0.0328257\ttotal: 1.71s\tremaining: 832ms\n",
      "673:\tlearn: 0.0328126\ttotal: 1.71s\tremaining: 829ms\n",
      "674:\tlearn: 0.0327395\ttotal: 1.72s\tremaining: 827ms\n",
      "675:\tlearn: 0.0327017\ttotal: 1.72s\tremaining: 824ms\n",
      "676:\tlearn: 0.0326793\ttotal: 1.73s\tremaining: 823ms\n",
      "677:\tlearn: 0.0325898\ttotal: 1.73s\tremaining: 821ms\n",
      "678:\tlearn: 0.0325506\ttotal: 1.73s\tremaining: 818ms\n",
      "679:\tlearn: 0.0325362\ttotal: 1.73s\tremaining: 815ms\n",
      "680:\tlearn: 0.0325211\ttotal: 1.74s\tremaining: 813ms\n",
      "681:\tlearn: 0.0325095\ttotal: 1.74s\tremaining: 811ms\n",
      "682:\tlearn: 0.0324947\ttotal: 1.74s\tremaining: 809ms\n",
      "683:\tlearn: 0.0324788\ttotal: 1.75s\tremaining: 806ms\n",
      "684:\tlearn: 0.0324421\ttotal: 1.75s\tremaining: 804ms\n",
      "685:\tlearn: 0.0324308\ttotal: 1.75s\tremaining: 801ms\n",
      "686:\tlearn: 0.0323858\ttotal: 1.75s\tremaining: 800ms\n",
      "687:\tlearn: 0.0323250\ttotal: 1.76s\tremaining: 797ms\n",
      "688:\tlearn: 0.0322694\ttotal: 1.76s\tremaining: 795ms\n",
      "689:\tlearn: 0.0322387\ttotal: 1.76s\tremaining: 792ms\n",
      "690:\tlearn: 0.0322287\ttotal: 1.77s\tremaining: 790ms\n",
      "691:\tlearn: 0.0321487\ttotal: 1.77s\tremaining: 788ms\n",
      "692:\tlearn: 0.0321241\ttotal: 1.77s\tremaining: 786ms\n",
      "693:\tlearn: 0.0320989\ttotal: 1.78s\tremaining: 784ms\n",
      "694:\tlearn: 0.0320425\ttotal: 1.78s\tremaining: 781ms\n",
      "695:\tlearn: 0.0320122\ttotal: 1.78s\tremaining: 778ms\n",
      "696:\tlearn: 0.0319799\ttotal: 1.78s\tremaining: 776ms\n",
      "697:\tlearn: 0.0319397\ttotal: 1.79s\tremaining: 774ms\n",
      "698:\tlearn: 0.0318916\ttotal: 1.79s\tremaining: 772ms\n",
      "699:\tlearn: 0.0318658\ttotal: 1.79s\tremaining: 769ms\n",
      "700:\tlearn: 0.0318022\ttotal: 1.8s\tremaining: 767ms\n",
      "701:\tlearn: 0.0317924\ttotal: 1.8s\tremaining: 764ms\n",
      "702:\tlearn: 0.0317797\ttotal: 1.8s\tremaining: 761ms\n",
      "703:\tlearn: 0.0317451\ttotal: 1.81s\tremaining: 760ms\n",
      "704:\tlearn: 0.0317164\ttotal: 1.81s\tremaining: 757ms\n",
      "705:\tlearn: 0.0316804\ttotal: 1.81s\tremaining: 754ms\n",
      "706:\tlearn: 0.0316523\ttotal: 1.81s\tremaining: 752ms\n",
      "707:\tlearn: 0.0315553\ttotal: 1.82s\tremaining: 749ms\n",
      "708:\tlearn: 0.0314685\ttotal: 1.82s\tremaining: 747ms\n",
      "709:\tlearn: 0.0314571\ttotal: 1.82s\tremaining: 744ms\n",
      "710:\tlearn: 0.0314288\ttotal: 1.82s\tremaining: 741ms\n",
      "711:\tlearn: 0.0314040\ttotal: 1.82s\tremaining: 739ms\n",
      "712:\tlearn: 0.0313749\ttotal: 1.83s\tremaining: 736ms\n",
      "713:\tlearn: 0.0313554\ttotal: 1.83s\tremaining: 733ms\n",
      "714:\tlearn: 0.0313307\ttotal: 1.83s\tremaining: 731ms\n",
      "715:\tlearn: 0.0312977\ttotal: 1.83s\tremaining: 728ms\n",
      "716:\tlearn: 0.0312888\ttotal: 1.84s\tremaining: 726ms\n",
      "717:\tlearn: 0.0312629\ttotal: 1.84s\tremaining: 723ms\n",
      "718:\tlearn: 0.0311942\ttotal: 1.84s\tremaining: 720ms\n",
      "719:\tlearn: 0.0311798\ttotal: 1.84s\tremaining: 718ms\n",
      "720:\tlearn: 0.0311593\ttotal: 1.85s\tremaining: 715ms\n",
      "721:\tlearn: 0.0311496\ttotal: 1.85s\tremaining: 713ms\n",
      "722:\tlearn: 0.0311343\ttotal: 1.85s\tremaining: 710ms\n",
      "723:\tlearn: 0.0311257\ttotal: 1.85s\tremaining: 707ms\n",
      "724:\tlearn: 0.0310656\ttotal: 1.86s\tremaining: 705ms\n",
      "725:\tlearn: 0.0310540\ttotal: 1.86s\tremaining: 702ms\n",
      "726:\tlearn: 0.0310413\ttotal: 1.86s\tremaining: 699ms\n",
      "727:\tlearn: 0.0310320\ttotal: 1.86s\tremaining: 697ms\n",
      "728:\tlearn: 0.0310144\ttotal: 1.87s\tremaining: 694ms\n",
      "729:\tlearn: 0.0309993\ttotal: 1.87s\tremaining: 692ms\n",
      "730:\tlearn: 0.0309764\ttotal: 1.87s\tremaining: 689ms\n",
      "731:\tlearn: 0.0309559\ttotal: 1.87s\tremaining: 686ms\n",
      "732:\tlearn: 0.0309111\ttotal: 1.88s\tremaining: 684ms\n",
      "733:\tlearn: 0.0308934\ttotal: 1.88s\tremaining: 681ms\n",
      "734:\tlearn: 0.0308565\ttotal: 1.88s\tremaining: 679ms\n",
      "735:\tlearn: 0.0308471\ttotal: 1.88s\tremaining: 676ms\n",
      "736:\tlearn: 0.0308057\ttotal: 1.89s\tremaining: 673ms\n",
      "737:\tlearn: 0.0307833\ttotal: 1.89s\tremaining: 671ms\n",
      "738:\tlearn: 0.0307448\ttotal: 1.89s\tremaining: 668ms\n",
      "739:\tlearn: 0.0307242\ttotal: 1.89s\tremaining: 665ms\n",
      "740:\tlearn: 0.0306951\ttotal: 1.9s\tremaining: 663ms\n",
      "741:\tlearn: 0.0306816\ttotal: 1.9s\tremaining: 660ms\n",
      "742:\tlearn: 0.0306686\ttotal: 1.9s\tremaining: 658ms\n",
      "743:\tlearn: 0.0306318\ttotal: 1.9s\tremaining: 655ms\n",
      "744:\tlearn: 0.0305850\ttotal: 1.91s\tremaining: 653ms\n",
      "745:\tlearn: 0.0305316\ttotal: 1.91s\tremaining: 650ms\n",
      "746:\tlearn: 0.0305174\ttotal: 1.91s\tremaining: 647ms\n",
      "747:\tlearn: 0.0305028\ttotal: 1.91s\tremaining: 645ms\n",
      "748:\tlearn: 0.0304814\ttotal: 1.92s\tremaining: 642ms\n",
      "749:\tlearn: 0.0304181\ttotal: 1.92s\tremaining: 639ms\n",
      "750:\tlearn: 0.0303462\ttotal: 1.92s\tremaining: 637ms\n",
      "751:\tlearn: 0.0303239\ttotal: 1.92s\tremaining: 634ms\n",
      "752:\tlearn: 0.0302466\ttotal: 1.93s\tremaining: 632ms\n",
      "753:\tlearn: 0.0302175\ttotal: 1.93s\tremaining: 629ms\n",
      "754:\tlearn: 0.0302096\ttotal: 1.93s\tremaining: 626ms\n",
      "755:\tlearn: 0.0301859\ttotal: 1.93s\tremaining: 624ms\n",
      "756:\tlearn: 0.0301740\ttotal: 1.94s\tremaining: 621ms\n",
      "757:\tlearn: 0.0301405\ttotal: 1.94s\tremaining: 619ms\n",
      "758:\tlearn: 0.0301023\ttotal: 1.94s\tremaining: 616ms\n",
      "759:\tlearn: 0.0300747\ttotal: 1.94s\tremaining: 613ms\n",
      "760:\tlearn: 0.0300043\ttotal: 1.94s\tremaining: 611ms\n",
      "761:\tlearn: 0.0299641\ttotal: 1.95s\tremaining: 608ms\n",
      "762:\tlearn: 0.0299401\ttotal: 1.95s\tremaining: 606ms\n",
      "763:\tlearn: 0.0298773\ttotal: 1.95s\tremaining: 603ms\n",
      "764:\tlearn: 0.0298596\ttotal: 1.95s\tremaining: 600ms\n",
      "765:\tlearn: 0.0298320\ttotal: 1.96s\tremaining: 598ms\n",
      "766:\tlearn: 0.0297983\ttotal: 1.96s\tremaining: 596ms\n",
      "767:\tlearn: 0.0297907\ttotal: 1.96s\tremaining: 593ms\n",
      "768:\tlearn: 0.0297715\ttotal: 1.97s\tremaining: 590ms\n",
      "769:\tlearn: 0.0297403\ttotal: 1.97s\tremaining: 588ms\n",
      "770:\tlearn: 0.0297074\ttotal: 1.97s\tremaining: 585ms\n",
      "771:\tlearn: 0.0296747\ttotal: 1.97s\tremaining: 583ms\n",
      "772:\tlearn: 0.0296377\ttotal: 1.98s\tremaining: 580ms\n",
      "773:\tlearn: 0.0296264\ttotal: 1.98s\tremaining: 578ms\n",
      "774:\tlearn: 0.0296153\ttotal: 1.98s\tremaining: 575ms\n",
      "775:\tlearn: 0.0295830\ttotal: 1.98s\tremaining: 573ms\n",
      "776:\tlearn: 0.0295265\ttotal: 1.99s\tremaining: 570ms\n",
      "777:\tlearn: 0.0295144\ttotal: 1.99s\tremaining: 567ms\n",
      "778:\tlearn: 0.0295008\ttotal: 1.99s\tremaining: 565ms\n",
      "779:\tlearn: 0.0294826\ttotal: 1.99s\tremaining: 562ms\n",
      "780:\tlearn: 0.0294125\ttotal: 2s\tremaining: 560ms\n",
      "781:\tlearn: 0.0293914\ttotal: 2s\tremaining: 558ms\n",
      "782:\tlearn: 0.0293733\ttotal: 2s\tremaining: 555ms\n",
      "783:\tlearn: 0.0293276\ttotal: 2s\tremaining: 552ms\n",
      "784:\tlearn: 0.0293191\ttotal: 2.01s\tremaining: 550ms\n",
      "785:\tlearn: 0.0292721\ttotal: 2.01s\tremaining: 547ms\n",
      "786:\tlearn: 0.0292543\ttotal: 2.01s\tremaining: 545ms\n",
      "787:\tlearn: 0.0291839\ttotal: 2.02s\tremaining: 542ms\n",
      "788:\tlearn: 0.0291635\ttotal: 2.02s\tremaining: 540ms\n",
      "789:\tlearn: 0.0291557\ttotal: 2.02s\tremaining: 537ms\n",
      "790:\tlearn: 0.0291384\ttotal: 2.02s\tremaining: 534ms\n",
      "791:\tlearn: 0.0291200\ttotal: 2.02s\tremaining: 532ms\n",
      "792:\tlearn: 0.0290694\ttotal: 2.03s\tremaining: 529ms\n",
      "793:\tlearn: 0.0290528\ttotal: 2.03s\tremaining: 527ms\n",
      "794:\tlearn: 0.0290300\ttotal: 2.03s\tremaining: 524ms\n",
      "795:\tlearn: 0.0290165\ttotal: 2.04s\tremaining: 522ms\n",
      "796:\tlearn: 0.0289842\ttotal: 2.04s\tremaining: 519ms\n",
      "797:\tlearn: 0.0289525\ttotal: 2.04s\tremaining: 516ms\n",
      "798:\tlearn: 0.0289081\ttotal: 2.04s\tremaining: 514ms\n",
      "799:\tlearn: 0.0288736\ttotal: 2.04s\tremaining: 511ms\n",
      "800:\tlearn: 0.0288364\ttotal: 2.05s\tremaining: 509ms\n",
      "801:\tlearn: 0.0288292\ttotal: 2.05s\tremaining: 506ms\n",
      "802:\tlearn: 0.0287461\ttotal: 2.05s\tremaining: 503ms\n",
      "803:\tlearn: 0.0287163\ttotal: 2.05s\tremaining: 501ms\n",
      "804:\tlearn: 0.0286833\ttotal: 2.06s\tremaining: 498ms\n",
      "805:\tlearn: 0.0286228\ttotal: 2.06s\tremaining: 496ms\n",
      "806:\tlearn: 0.0286111\ttotal: 2.06s\tremaining: 493ms\n",
      "807:\tlearn: 0.0285796\ttotal: 2.06s\tremaining: 491ms\n",
      "808:\tlearn: 0.0285692\ttotal: 2.07s\tremaining: 488ms\n",
      "809:\tlearn: 0.0285584\ttotal: 2.07s\tremaining: 485ms\n",
      "810:\tlearn: 0.0285303\ttotal: 2.07s\tremaining: 483ms\n",
      "811:\tlearn: 0.0284917\ttotal: 2.07s\tremaining: 480ms\n",
      "812:\tlearn: 0.0284635\ttotal: 2.08s\tremaining: 478ms\n",
      "813:\tlearn: 0.0284442\ttotal: 2.08s\tremaining: 475ms\n",
      "814:\tlearn: 0.0284035\ttotal: 2.08s\tremaining: 472ms\n",
      "815:\tlearn: 0.0283215\ttotal: 2.08s\tremaining: 470ms\n",
      "816:\tlearn: 0.0283146\ttotal: 2.09s\tremaining: 467ms\n",
      "817:\tlearn: 0.0282254\ttotal: 2.09s\tremaining: 465ms\n",
      "818:\tlearn: 0.0282182\ttotal: 2.09s\tremaining: 462ms\n",
      "819:\tlearn: 0.0282042\ttotal: 2.09s\tremaining: 460ms\n",
      "820:\tlearn: 0.0281695\ttotal: 2.1s\tremaining: 457ms\n",
      "821:\tlearn: 0.0281586\ttotal: 2.1s\tremaining: 454ms\n",
      "822:\tlearn: 0.0281399\ttotal: 2.1s\tremaining: 452ms\n",
      "823:\tlearn: 0.0281029\ttotal: 2.1s\tremaining: 449ms\n",
      "824:\tlearn: 0.0280575\ttotal: 2.1s\tremaining: 447ms\n",
      "825:\tlearn: 0.0280270\ttotal: 2.11s\tremaining: 444ms\n",
      "826:\tlearn: 0.0279947\ttotal: 2.11s\tremaining: 441ms\n",
      "827:\tlearn: 0.0279866\ttotal: 2.11s\tremaining: 439ms\n",
      "828:\tlearn: 0.0279513\ttotal: 2.11s\tremaining: 436ms\n",
      "829:\tlearn: 0.0279423\ttotal: 2.12s\tremaining: 434ms\n",
      "830:\tlearn: 0.0279071\ttotal: 2.12s\tremaining: 431ms\n",
      "831:\tlearn: 0.0278855\ttotal: 2.12s\tremaining: 429ms\n",
      "832:\tlearn: 0.0278398\ttotal: 2.12s\tremaining: 426ms\n",
      "833:\tlearn: 0.0278293\ttotal: 2.13s\tremaining: 423ms\n",
      "834:\tlearn: 0.0277717\ttotal: 2.13s\tremaining: 421ms\n",
      "835:\tlearn: 0.0277356\ttotal: 2.13s\tremaining: 418ms\n",
      "836:\tlearn: 0.0277184\ttotal: 2.13s\tremaining: 416ms\n",
      "837:\tlearn: 0.0276838\ttotal: 2.14s\tremaining: 413ms\n",
      "838:\tlearn: 0.0276551\ttotal: 2.14s\tremaining: 411ms\n",
      "839:\tlearn: 0.0276288\ttotal: 2.14s\tremaining: 408ms\n",
      "840:\tlearn: 0.0275773\ttotal: 2.14s\tremaining: 405ms\n",
      "841:\tlearn: 0.0275610\ttotal: 2.15s\tremaining: 403ms\n",
      "842:\tlearn: 0.0275548\ttotal: 2.15s\tremaining: 400ms\n"
     ]
    },
    {
     "name": "stdout",
     "output_type": "stream",
     "text": [
      "843:\tlearn: 0.0275320\ttotal: 2.15s\tremaining: 398ms\n",
      "844:\tlearn: 0.0275055\ttotal: 2.15s\tremaining: 395ms\n",
      "845:\tlearn: 0.0274880\ttotal: 2.16s\tremaining: 393ms\n",
      "846:\tlearn: 0.0274497\ttotal: 2.16s\tremaining: 390ms\n",
      "847:\tlearn: 0.0274184\ttotal: 2.16s\tremaining: 388ms\n",
      "848:\tlearn: 0.0274019\ttotal: 2.17s\tremaining: 385ms\n",
      "849:\tlearn: 0.0273643\ttotal: 2.17s\tremaining: 383ms\n",
      "850:\tlearn: 0.0273307\ttotal: 2.17s\tremaining: 380ms\n",
      "851:\tlearn: 0.0273179\ttotal: 2.17s\tremaining: 378ms\n",
      "852:\tlearn: 0.0272844\ttotal: 2.18s\tremaining: 375ms\n",
      "853:\tlearn: 0.0272317\ttotal: 2.18s\tremaining: 372ms\n",
      "854:\tlearn: 0.0271831\ttotal: 2.18s\tremaining: 370ms\n",
      "855:\tlearn: 0.0271443\ttotal: 2.18s\tremaining: 367ms\n",
      "856:\tlearn: 0.0271319\ttotal: 2.19s\tremaining: 365ms\n",
      "857:\tlearn: 0.0271066\ttotal: 2.19s\tremaining: 363ms\n",
      "858:\tlearn: 0.0270775\ttotal: 2.19s\tremaining: 360ms\n",
      "859:\tlearn: 0.0270415\ttotal: 2.19s\tremaining: 357ms\n",
      "860:\tlearn: 0.0270026\ttotal: 2.2s\tremaining: 355ms\n",
      "861:\tlearn: 0.0269882\ttotal: 2.2s\tremaining: 352ms\n",
      "862:\tlearn: 0.0269612\ttotal: 2.2s\tremaining: 350ms\n",
      "863:\tlearn: 0.0269483\ttotal: 2.21s\tremaining: 347ms\n",
      "864:\tlearn: 0.0269031\ttotal: 2.21s\tremaining: 345ms\n",
      "865:\tlearn: 0.0268819\ttotal: 2.21s\tremaining: 342ms\n",
      "866:\tlearn: 0.0268721\ttotal: 2.21s\tremaining: 339ms\n",
      "867:\tlearn: 0.0268629\ttotal: 2.21s\tremaining: 337ms\n",
      "868:\tlearn: 0.0268442\ttotal: 2.22s\tremaining: 334ms\n",
      "869:\tlearn: 0.0268098\ttotal: 2.22s\tremaining: 332ms\n",
      "870:\tlearn: 0.0267850\ttotal: 2.22s\tremaining: 329ms\n",
      "871:\tlearn: 0.0267754\ttotal: 2.22s\tremaining: 327ms\n",
      "872:\tlearn: 0.0267442\ttotal: 2.23s\tremaining: 324ms\n",
      "873:\tlearn: 0.0267192\ttotal: 2.23s\tremaining: 321ms\n",
      "874:\tlearn: 0.0267121\ttotal: 2.23s\tremaining: 319ms\n",
      "875:\tlearn: 0.0266756\ttotal: 2.23s\tremaining: 316ms\n",
      "876:\tlearn: 0.0266437\ttotal: 2.24s\tremaining: 314ms\n",
      "877:\tlearn: 0.0265949\ttotal: 2.24s\tremaining: 311ms\n",
      "878:\tlearn: 0.0265821\ttotal: 2.24s\tremaining: 309ms\n",
      "879:\tlearn: 0.0265654\ttotal: 2.24s\tremaining: 306ms\n",
      "880:\tlearn: 0.0265499\ttotal: 2.25s\tremaining: 303ms\n",
      "881:\tlearn: 0.0265344\ttotal: 2.25s\tremaining: 301ms\n",
      "882:\tlearn: 0.0265266\ttotal: 2.25s\tremaining: 298ms\n",
      "883:\tlearn: 0.0265038\ttotal: 2.25s\tremaining: 296ms\n",
      "884:\tlearn: 0.0264853\ttotal: 2.25s\tremaining: 293ms\n",
      "885:\tlearn: 0.0264673\ttotal: 2.26s\tremaining: 291ms\n",
      "886:\tlearn: 0.0264624\ttotal: 2.26s\tremaining: 288ms\n",
      "887:\tlearn: 0.0264534\ttotal: 2.26s\tremaining: 285ms\n",
      "888:\tlearn: 0.0263763\ttotal: 2.27s\tremaining: 283ms\n",
      "889:\tlearn: 0.0263671\ttotal: 2.27s\tremaining: 280ms\n",
      "890:\tlearn: 0.0263443\ttotal: 2.27s\tremaining: 278ms\n",
      "891:\tlearn: 0.0263076\ttotal: 2.27s\tremaining: 275ms\n",
      "892:\tlearn: 0.0262996\ttotal: 2.27s\tremaining: 273ms\n",
      "893:\tlearn: 0.0262343\ttotal: 2.28s\tremaining: 270ms\n",
      "894:\tlearn: 0.0262245\ttotal: 2.28s\tremaining: 267ms\n",
      "895:\tlearn: 0.0261945\ttotal: 2.28s\tremaining: 265ms\n",
      "896:\tlearn: 0.0261645\ttotal: 2.28s\tremaining: 262ms\n",
      "897:\tlearn: 0.0261478\ttotal: 2.29s\tremaining: 260ms\n",
      "898:\tlearn: 0.0261096\ttotal: 2.29s\tremaining: 257ms\n",
      "899:\tlearn: 0.0260656\ttotal: 2.29s\tremaining: 255ms\n",
      "900:\tlearn: 0.0260202\ttotal: 2.29s\tremaining: 252ms\n",
      "901:\tlearn: 0.0259507\ttotal: 2.3s\tremaining: 250ms\n",
      "902:\tlearn: 0.0259431\ttotal: 2.3s\tremaining: 247ms\n",
      "903:\tlearn: 0.0259150\ttotal: 2.3s\tremaining: 244ms\n",
      "904:\tlearn: 0.0258960\ttotal: 2.3s\tremaining: 242ms\n",
      "905:\tlearn: 0.0258706\ttotal: 2.31s\tremaining: 239ms\n",
      "906:\tlearn: 0.0258567\ttotal: 2.31s\tremaining: 237ms\n",
      "907:\tlearn: 0.0258418\ttotal: 2.31s\tremaining: 234ms\n",
      "908:\tlearn: 0.0258265\ttotal: 2.31s\tremaining: 232ms\n",
      "909:\tlearn: 0.0258027\ttotal: 2.32s\tremaining: 229ms\n",
      "910:\tlearn: 0.0257739\ttotal: 2.32s\tremaining: 227ms\n",
      "911:\tlearn: 0.0256995\ttotal: 2.32s\tremaining: 224ms\n",
      "912:\tlearn: 0.0256897\ttotal: 2.32s\tremaining: 221ms\n",
      "913:\tlearn: 0.0256354\ttotal: 2.33s\tremaining: 219ms\n",
      "914:\tlearn: 0.0256124\ttotal: 2.33s\tremaining: 216ms\n",
      "915:\tlearn: 0.0255819\ttotal: 2.33s\tremaining: 214ms\n",
      "916:\tlearn: 0.0255734\ttotal: 2.33s\tremaining: 211ms\n",
      "917:\tlearn: 0.0255555\ttotal: 2.34s\tremaining: 209ms\n",
      "918:\tlearn: 0.0255503\ttotal: 2.34s\tremaining: 206ms\n",
      "919:\tlearn: 0.0255321\ttotal: 2.34s\tremaining: 204ms\n",
      "920:\tlearn: 0.0255240\ttotal: 2.34s\tremaining: 201ms\n",
      "921:\tlearn: 0.0255160\ttotal: 2.35s\tremaining: 199ms\n",
      "922:\tlearn: 0.0254596\ttotal: 2.35s\tremaining: 196ms\n",
      "923:\tlearn: 0.0254519\ttotal: 2.35s\tremaining: 194ms\n",
      "924:\tlearn: 0.0254152\ttotal: 2.36s\tremaining: 191ms\n",
      "925:\tlearn: 0.0253919\ttotal: 2.36s\tremaining: 188ms\n",
      "926:\tlearn: 0.0253740\ttotal: 2.36s\tremaining: 186ms\n",
      "927:\tlearn: 0.0253514\ttotal: 2.36s\tremaining: 183ms\n",
      "928:\tlearn: 0.0253276\ttotal: 2.37s\tremaining: 181ms\n",
      "929:\tlearn: 0.0253045\ttotal: 2.37s\tremaining: 178ms\n",
      "930:\tlearn: 0.0252926\ttotal: 2.37s\tremaining: 176ms\n",
      "931:\tlearn: 0.0252851\ttotal: 2.37s\tremaining: 173ms\n",
      "932:\tlearn: 0.0252562\ttotal: 2.38s\tremaining: 171ms\n",
      "933:\tlearn: 0.0252402\ttotal: 2.38s\tremaining: 168ms\n",
      "934:\tlearn: 0.0252052\ttotal: 2.38s\tremaining: 166ms\n",
      "935:\tlearn: 0.0251883\ttotal: 2.38s\tremaining: 163ms\n",
      "936:\tlearn: 0.0251504\ttotal: 2.39s\tremaining: 160ms\n",
      "937:\tlearn: 0.0251298\ttotal: 2.39s\tremaining: 158ms\n",
      "938:\tlearn: 0.0251147\ttotal: 2.39s\tremaining: 155ms\n",
      "939:\tlearn: 0.0251054\ttotal: 2.39s\tremaining: 153ms\n",
      "940:\tlearn: 0.0250603\ttotal: 2.4s\tremaining: 150ms\n",
      "941:\tlearn: 0.0250443\ttotal: 2.4s\tremaining: 148ms\n",
      "942:\tlearn: 0.0250183\ttotal: 2.4s\tremaining: 145ms\n",
      "943:\tlearn: 0.0249884\ttotal: 2.4s\tremaining: 143ms\n",
      "944:\tlearn: 0.0249773\ttotal: 2.41s\tremaining: 140ms\n",
      "945:\tlearn: 0.0249556\ttotal: 2.41s\tremaining: 137ms\n",
      "946:\tlearn: 0.0249161\ttotal: 2.41s\tremaining: 135ms\n",
      "947:\tlearn: 0.0249033\ttotal: 2.41s\tremaining: 132ms\n",
      "948:\tlearn: 0.0248960\ttotal: 2.42s\tremaining: 130ms\n",
      "949:\tlearn: 0.0248790\ttotal: 2.42s\tremaining: 127ms\n",
      "950:\tlearn: 0.0248404\ttotal: 2.42s\tremaining: 125ms\n",
      "951:\tlearn: 0.0248347\ttotal: 2.42s\tremaining: 122ms\n",
      "952:\tlearn: 0.0247990\ttotal: 2.42s\tremaining: 120ms\n",
      "953:\tlearn: 0.0247545\ttotal: 2.43s\tremaining: 117ms\n",
      "954:\tlearn: 0.0247392\ttotal: 2.43s\tremaining: 115ms\n",
      "955:\tlearn: 0.0247194\ttotal: 2.43s\tremaining: 112ms\n",
      "956:\tlearn: 0.0246889\ttotal: 2.44s\tremaining: 109ms\n",
      "957:\tlearn: 0.0246708\ttotal: 2.44s\tremaining: 107ms\n",
      "958:\tlearn: 0.0246487\ttotal: 2.44s\tremaining: 104ms\n",
      "959:\tlearn: 0.0246425\ttotal: 2.44s\tremaining: 102ms\n",
      "960:\tlearn: 0.0246244\ttotal: 2.44s\tremaining: 99.2ms\n",
      "961:\tlearn: 0.0246007\ttotal: 2.45s\tremaining: 96.7ms\n",
      "962:\tlearn: 0.0245808\ttotal: 2.45s\tremaining: 94.1ms\n",
      "963:\tlearn: 0.0245712\ttotal: 2.45s\tremaining: 91.6ms\n",
      "964:\tlearn: 0.0245603\ttotal: 2.45s\tremaining: 89ms\n",
      "965:\tlearn: 0.0245503\ttotal: 2.46s\tremaining: 86.5ms\n",
      "966:\tlearn: 0.0245460\ttotal: 2.46s\tremaining: 84ms\n",
      "967:\tlearn: 0.0245142\ttotal: 2.46s\tremaining: 81.4ms\n",
      "968:\tlearn: 0.0244946\ttotal: 2.47s\tremaining: 78.9ms\n",
      "969:\tlearn: 0.0244536\ttotal: 2.47s\tremaining: 76.3ms\n",
      "970:\tlearn: 0.0244020\ttotal: 2.47s\tremaining: 73.8ms\n",
      "971:\tlearn: 0.0243689\ttotal: 2.47s\tremaining: 71.3ms\n",
      "972:\tlearn: 0.0243390\ttotal: 2.48s\tremaining: 68.7ms\n",
      "973:\tlearn: 0.0243072\ttotal: 2.48s\tremaining: 66.2ms\n",
      "974:\tlearn: 0.0242847\ttotal: 2.48s\tremaining: 63.6ms\n",
      "975:\tlearn: 0.0242717\ttotal: 2.48s\tremaining: 61.1ms\n",
      "976:\tlearn: 0.0242538\ttotal: 2.48s\tremaining: 58.5ms\n",
      "977:\tlearn: 0.0242370\ttotal: 2.49s\tremaining: 56ms\n",
      "978:\tlearn: 0.0241877\ttotal: 2.49s\tremaining: 53.4ms\n",
      "979:\tlearn: 0.0241435\ttotal: 2.49s\tremaining: 50.9ms\n",
      "980:\tlearn: 0.0241237\ttotal: 2.49s\tremaining: 48.3ms\n",
      "981:\tlearn: 0.0241023\ttotal: 2.5s\tremaining: 45.8ms\n",
      "982:\tlearn: 0.0240959\ttotal: 2.5s\tremaining: 43.2ms\n",
      "983:\tlearn: 0.0240838\ttotal: 2.5s\tremaining: 40.7ms\n",
      "984:\tlearn: 0.0240771\ttotal: 2.5s\tremaining: 38.1ms\n",
      "985:\tlearn: 0.0240580\ttotal: 2.51s\tremaining: 35.6ms\n",
      "986:\tlearn: 0.0240051\ttotal: 2.51s\tremaining: 33ms\n",
      "987:\tlearn: 0.0239910\ttotal: 2.51s\tremaining: 30.5ms\n",
      "988:\tlearn: 0.0239387\ttotal: 2.51s\tremaining: 28ms\n",
      "989:\tlearn: 0.0239358\ttotal: 2.52s\tremaining: 25.4ms\n",
      "990:\tlearn: 0.0239167\ttotal: 2.52s\tremaining: 22.9ms\n",
      "991:\tlearn: 0.0239053\ttotal: 2.52s\tremaining: 20.3ms\n",
      "992:\tlearn: 0.0238801\ttotal: 2.52s\tremaining: 17.8ms\n",
      "993:\tlearn: 0.0238438\ttotal: 2.53s\tremaining: 15.2ms\n",
      "994:\tlearn: 0.0238279\ttotal: 2.53s\tremaining: 12.7ms\n",
      "995:\tlearn: 0.0238196\ttotal: 2.53s\tremaining: 10.2ms\n",
      "996:\tlearn: 0.0238156\ttotal: 2.53s\tremaining: 7.62ms\n",
      "997:\tlearn: 0.0238054\ttotal: 2.54s\tremaining: 5.08ms\n",
      "998:\tlearn: 0.0237989\ttotal: 2.54s\tremaining: 2.54ms\n",
      "999:\tlearn: 0.0237705\ttotal: 2.54s\tremaining: 0us\n"
     ]
    },
    {
     "name": "stderr",
     "output_type": "stream",
     "text": [
      "/home/user/.local/lib/python3.10/site-packages/sklearn/preprocessing/_label.py:154: DataConversionWarning: A column-vector y was passed when a 1d array was expected. Please change the shape of y to (n_samples, ), for example using ravel().\n",
      "  y = column_or_1d(y, warn=True)\n"
     ]
    },
    {
     "name": "stdout",
     "output_type": "stream",
     "text": [
      "SCORE: 0.9721398421484589\n",
      "Learning rate set to 0.084774\n",
      "0:\tlearn: 1.7952338\ttotal: 2.54ms\tremaining: 2.54s\n",
      "1:\tlearn: 1.6550797\ttotal: 4.82ms\tremaining: 2.4s\n",
      "2:\tlearn: 1.5406819\ttotal: 7.04ms\tremaining: 2.34s\n",
      "3:\tlearn: 1.4182473\ttotal: 9.22ms\tremaining: 2.3s\n",
      "4:\tlearn: 1.3351302\ttotal: 11.4ms\tremaining: 2.26s\n",
      "5:\tlearn: 1.2516525\ttotal: 13.6ms\tremaining: 2.25s\n",
      "6:\tlearn: 1.1774451\ttotal: 15.8ms\tremaining: 2.24s\n",
      "7:\tlearn: 1.1171645\ttotal: 18ms\tremaining: 2.23s\n",
      "8:\tlearn: 1.0572239\ttotal: 20.2ms\tremaining: 2.23s\n",
      "9:\tlearn: 1.0053227\ttotal: 22.4ms\tremaining: 2.22s\n",
      "10:\tlearn: 0.9502101\ttotal: 24.6ms\tremaining: 2.21s\n",
      "11:\tlearn: 0.9037570\ttotal: 26.8ms\tremaining: 2.21s\n",
      "12:\tlearn: 0.8598018\ttotal: 29ms\tremaining: 2.2s\n",
      "13:\tlearn: 0.8180238\ttotal: 31.4ms\tremaining: 2.21s\n",
      "14:\tlearn: 0.7811306\ttotal: 33.6ms\tremaining: 2.21s\n",
      "15:\tlearn: 0.7459022\ttotal: 35.8ms\tremaining: 2.2s\n",
      "16:\tlearn: 0.7105749\ttotal: 38.1ms\tremaining: 2.2s\n",
      "17:\tlearn: 0.6801028\ttotal: 40.4ms\tremaining: 2.2s\n",
      "18:\tlearn: 0.6536716\ttotal: 42.6ms\tremaining: 2.2s\n",
      "19:\tlearn: 0.6251042\ttotal: 44.9ms\tremaining: 2.2s\n",
      "20:\tlearn: 0.6010206\ttotal: 47.2ms\tremaining: 2.2s\n",
      "21:\tlearn: 0.5770697\ttotal: 49.4ms\tremaining: 2.2s\n",
      "22:\tlearn: 0.5526965\ttotal: 51.8ms\tremaining: 2.2s\n",
      "23:\tlearn: 0.5302519\ttotal: 54.1ms\tremaining: 2.2s\n",
      "24:\tlearn: 0.5104477\ttotal: 56.3ms\tremaining: 2.19s\n",
      "25:\tlearn: 0.4913730\ttotal: 58.5ms\tremaining: 2.19s\n",
      "26:\tlearn: 0.4723544\ttotal: 60.7ms\tremaining: 2.19s\n",
      "27:\tlearn: 0.4526639\ttotal: 62.9ms\tremaining: 2.19s\n",
      "28:\tlearn: 0.4371609\ttotal: 65.2ms\tremaining: 2.18s\n",
      "29:\tlearn: 0.4202049\ttotal: 67.6ms\tremaining: 2.19s\n",
      "30:\tlearn: 0.4041713\ttotal: 69.8ms\tremaining: 2.18s\n",
      "31:\tlearn: 0.3895391\ttotal: 72.1ms\tremaining: 2.18s\n",
      "32:\tlearn: 0.3752320\ttotal: 74.3ms\tremaining: 2.18s\n",
      "33:\tlearn: 0.3611980\ttotal: 76.6ms\tremaining: 2.17s\n",
      "34:\tlearn: 0.3493026\ttotal: 78.8ms\tremaining: 2.17s\n",
      "35:\tlearn: 0.3370301\ttotal: 81.3ms\tremaining: 2.18s\n",
      "36:\tlearn: 0.3260808\ttotal: 83.5ms\tremaining: 2.17s\n",
      "37:\tlearn: 0.3152202\ttotal: 85.8ms\tremaining: 2.17s\n",
      "38:\tlearn: 0.3056172\ttotal: 88.1ms\tremaining: 2.17s\n",
      "39:\tlearn: 0.2957004\ttotal: 90.5ms\tremaining: 2.17s\n",
      "40:\tlearn: 0.2855173\ttotal: 92.8ms\tremaining: 2.17s\n",
      "41:\tlearn: 0.2758547\ttotal: 95.1ms\tremaining: 2.17s\n",
      "42:\tlearn: 0.2669165\ttotal: 97.5ms\tremaining: 2.17s\n",
      "43:\tlearn: 0.2586288\ttotal: 99.8ms\tremaining: 2.17s\n",
      "44:\tlearn: 0.2507630\ttotal: 102ms\tremaining: 2.17s\n",
      "45:\tlearn: 0.2428655\ttotal: 104ms\tremaining: 2.16s\n",
      "46:\tlearn: 0.2357910\ttotal: 107ms\tremaining: 2.16s\n",
      "47:\tlearn: 0.2294342\ttotal: 109ms\tremaining: 2.16s\n",
      "48:\tlearn: 0.2227896\ttotal: 111ms\tremaining: 2.16s\n",
      "49:\tlearn: 0.2170439\ttotal: 114ms\tremaining: 2.16s\n",
      "50:\tlearn: 0.2113484\ttotal: 116ms\tremaining: 2.16s\n",
      "51:\tlearn: 0.2054913\ttotal: 118ms\tremaining: 2.16s\n",
      "52:\tlearn: 0.1999684\ttotal: 121ms\tremaining: 2.16s\n",
      "53:\tlearn: 0.1945369\ttotal: 123ms\tremaining: 2.15s\n",
      "54:\tlearn: 0.1891714\ttotal: 125ms\tremaining: 2.15s\n",
      "55:\tlearn: 0.1842911\ttotal: 128ms\tremaining: 2.15s\n",
      "56:\tlearn: 0.1800915\ttotal: 130ms\tremaining: 2.15s\n",
      "57:\tlearn: 0.1753795\ttotal: 132ms\tremaining: 2.15s\n",
      "58:\tlearn: 0.1710415\ttotal: 135ms\tremaining: 2.15s\n",
      "59:\tlearn: 0.1674069\ttotal: 137ms\tremaining: 2.14s\n",
      "60:\tlearn: 0.1635084\ttotal: 139ms\tremaining: 2.14s\n",
      "61:\tlearn: 0.1596562\ttotal: 142ms\tremaining: 2.14s\n",
      "62:\tlearn: 0.1561018\ttotal: 144ms\tremaining: 2.14s\n",
      "63:\tlearn: 0.1529571\ttotal: 146ms\tremaining: 2.14s\n",
      "64:\tlearn: 0.1502520\ttotal: 149ms\tremaining: 2.14s\n",
      "65:\tlearn: 0.1466471\ttotal: 151ms\tremaining: 2.13s\n",
      "66:\tlearn: 0.1434807\ttotal: 153ms\tremaining: 2.13s\n",
      "67:\tlearn: 0.1404974\ttotal: 155ms\tremaining: 2.13s\n",
      "68:\tlearn: 0.1379089\ttotal: 158ms\tremaining: 2.13s\n",
      "69:\tlearn: 0.1354077\ttotal: 160ms\tremaining: 2.13s\n",
      "70:\tlearn: 0.1331475\ttotal: 163ms\tremaining: 2.13s\n",
      "71:\tlearn: 0.1304968\ttotal: 165ms\tremaining: 2.13s\n",
      "72:\tlearn: 0.1281563\ttotal: 167ms\tremaining: 2.13s\n",
      "73:\tlearn: 0.1270117\ttotal: 170ms\tremaining: 2.12s\n",
      "74:\tlearn: 0.1245884\ttotal: 172ms\tremaining: 2.12s\n",
      "75:\tlearn: 0.1226487\ttotal: 174ms\tremaining: 2.12s\n",
      "76:\tlearn: 0.1204456\ttotal: 177ms\tremaining: 2.12s\n",
      "77:\tlearn: 0.1184177\ttotal: 179ms\tremaining: 2.12s\n",
      "78:\tlearn: 0.1163953\ttotal: 182ms\tremaining: 2.12s\n",
      "79:\tlearn: 0.1155550\ttotal: 184ms\tremaining: 2.12s\n",
      "80:\tlearn: 0.1147673\ttotal: 186ms\tremaining: 2.11s\n",
      "81:\tlearn: 0.1128877\ttotal: 189ms\tremaining: 2.11s\n",
      "82:\tlearn: 0.1114724\ttotal: 191ms\tremaining: 2.11s\n",
      "83:\tlearn: 0.1101262\ttotal: 193ms\tremaining: 2.11s\n",
      "84:\tlearn: 0.1089575\ttotal: 196ms\tremaining: 2.11s\n",
      "85:\tlearn: 0.1078804\ttotal: 198ms\tremaining: 2.11s\n",
      "86:\tlearn: 0.1062333\ttotal: 201ms\tremaining: 2.11s\n",
      "87:\tlearn: 0.1046207\ttotal: 204ms\tremaining: 2.11s\n",
      "88:\tlearn: 0.1033583\ttotal: 207ms\tremaining: 2.12s\n",
      "89:\tlearn: 0.1023751\ttotal: 210ms\tremaining: 2.12s\n",
      "90:\tlearn: 0.1012438\ttotal: 213ms\tremaining: 2.13s\n",
      "91:\tlearn: 0.1002778\ttotal: 216ms\tremaining: 2.13s\n",
      "92:\tlearn: 0.0993128\ttotal: 218ms\tremaining: 2.13s\n",
      "93:\tlearn: 0.0986660\ttotal: 221ms\tremaining: 2.13s\n",
      "94:\tlearn: 0.0974817\ttotal: 223ms\tremaining: 2.13s\n",
      "95:\tlearn: 0.0961863\ttotal: 226ms\tremaining: 2.13s\n",
      "96:\tlearn: 0.0954390\ttotal: 228ms\tremaining: 2.12s\n",
      "97:\tlearn: 0.0942353\ttotal: 231ms\tremaining: 2.12s\n",
      "98:\tlearn: 0.0936474\ttotal: 233ms\tremaining: 2.12s\n",
      "99:\tlearn: 0.0932512\ttotal: 235ms\tremaining: 2.12s\n",
      "100:\tlearn: 0.0926952\ttotal: 238ms\tremaining: 2.11s\n",
      "101:\tlearn: 0.0915455\ttotal: 240ms\tremaining: 2.11s\n",
      "102:\tlearn: 0.0908610\ttotal: 243ms\tremaining: 2.11s\n",
      "103:\tlearn: 0.0904515\ttotal: 245ms\tremaining: 2.11s\n",
      "104:\tlearn: 0.0893978\ttotal: 247ms\tremaining: 2.11s\n",
      "105:\tlearn: 0.0891194\ttotal: 250ms\tremaining: 2.1s\n",
      "106:\tlearn: 0.0882604\ttotal: 252ms\tremaining: 2.1s\n",
      "107:\tlearn: 0.0874436\ttotal: 255ms\tremaining: 2.1s\n",
      "108:\tlearn: 0.0868677\ttotal: 257ms\tremaining: 2.1s\n",
      "109:\tlearn: 0.0863049\ttotal: 260ms\tremaining: 2.1s\n",
      "110:\tlearn: 0.0859846\ttotal: 262ms\tremaining: 2.1s\n",
      "111:\tlearn: 0.0858854\ttotal: 264ms\tremaining: 2.1s\n",
      "112:\tlearn: 0.0854911\ttotal: 267ms\tremaining: 2.09s\n",
      "113:\tlearn: 0.0849225\ttotal: 269ms\tremaining: 2.09s\n",
      "114:\tlearn: 0.0844306\ttotal: 272ms\tremaining: 2.09s\n",
      "115:\tlearn: 0.0836429\ttotal: 274ms\tremaining: 2.09s\n",
      "116:\tlearn: 0.0831065\ttotal: 277ms\tremaining: 2.09s\n",
      "117:\tlearn: 0.0825107\ttotal: 279ms\tremaining: 2.08s\n",
      "118:\tlearn: 0.0821076\ttotal: 282ms\tremaining: 2.09s\n",
      "119:\tlearn: 0.0815648\ttotal: 285ms\tremaining: 2.09s\n",
      "120:\tlearn: 0.0810942\ttotal: 287ms\tremaining: 2.08s\n",
      "121:\tlearn: 0.0807075\ttotal: 290ms\tremaining: 2.08s\n",
      "122:\tlearn: 0.0801521\ttotal: 292ms\tremaining: 2.08s\n",
      "123:\tlearn: 0.0798041\ttotal: 294ms\tremaining: 2.08s\n",
      "124:\tlearn: 0.0794041\ttotal: 297ms\tremaining: 2.08s\n",
      "125:\tlearn: 0.0789893\ttotal: 299ms\tremaining: 2.07s\n",
      "126:\tlearn: 0.0787197\ttotal: 302ms\tremaining: 2.07s\n",
      "127:\tlearn: 0.0783791\ttotal: 304ms\tremaining: 2.07s\n",
      "128:\tlearn: 0.0778833\ttotal: 307ms\tremaining: 2.07s\n",
      "129:\tlearn: 0.0773935\ttotal: 309ms\tremaining: 2.07s\n",
      "130:\tlearn: 0.0771798\ttotal: 311ms\tremaining: 2.06s\n",
      "131:\tlearn: 0.0766671\ttotal: 314ms\tremaining: 2.06s\n",
      "132:\tlearn: 0.0765029\ttotal: 316ms\tremaining: 2.06s\n",
      "133:\tlearn: 0.0763777\ttotal: 319ms\tremaining: 2.06s\n",
      "134:\tlearn: 0.0760958\ttotal: 321ms\tremaining: 2.06s\n",
      "135:\tlearn: 0.0759212\ttotal: 323ms\tremaining: 2.05s\n",
      "136:\tlearn: 0.0755739\ttotal: 326ms\tremaining: 2.05s\n",
      "137:\tlearn: 0.0750426\ttotal: 328ms\tremaining: 2.05s\n",
      "138:\tlearn: 0.0749503\ttotal: 330ms\tremaining: 2.05s\n",
      "139:\tlearn: 0.0746493\ttotal: 333ms\tremaining: 2.04s\n",
      "140:\tlearn: 0.0741692\ttotal: 335ms\tremaining: 2.04s\n",
      "141:\tlearn: 0.0737039\ttotal: 338ms\tremaining: 2.04s\n",
      "142:\tlearn: 0.0734771\ttotal: 340ms\tremaining: 2.04s\n",
      "143:\tlearn: 0.0733818\ttotal: 342ms\tremaining: 2.03s\n",
      "144:\tlearn: 0.0733371\ttotal: 345ms\tremaining: 2.03s\n",
      "145:\tlearn: 0.0731035\ttotal: 347ms\tremaining: 2.03s\n",
      "146:\tlearn: 0.0730101\ttotal: 349ms\tremaining: 2.03s\n",
      "147:\tlearn: 0.0728021\ttotal: 352ms\tremaining: 2.02s\n",
      "148:\tlearn: 0.0725640\ttotal: 354ms\tremaining: 2.02s\n",
      "149:\tlearn: 0.0725223\ttotal: 357ms\tremaining: 2.02s\n",
      "150:\tlearn: 0.0721987\ttotal: 359ms\tremaining: 2.02s\n",
      "151:\tlearn: 0.0714576\ttotal: 362ms\tremaining: 2.02s\n",
      "152:\tlearn: 0.0709167\ttotal: 364ms\tremaining: 2.02s\n",
      "153:\tlearn: 0.0706309\ttotal: 366ms\tremaining: 2.01s\n",
      "154:\tlearn: 0.0703516\ttotal: 369ms\tremaining: 2.01s\n",
      "155:\tlearn: 0.0700976\ttotal: 371ms\tremaining: 2.01s\n",
      "156:\tlearn: 0.0700094\ttotal: 374ms\tremaining: 2.01s\n",
      "157:\tlearn: 0.0699544\ttotal: 376ms\tremaining: 2s\n",
      "158:\tlearn: 0.0695251\ttotal: 379ms\tremaining: 2s\n",
      "159:\tlearn: 0.0691715\ttotal: 382ms\tremaining: 2s\n",
      "160:\tlearn: 0.0688418\ttotal: 385ms\tremaining: 2s\n"
     ]
    },
    {
     "name": "stdout",
     "output_type": "stream",
     "text": [
      "161:\tlearn: 0.0687499\ttotal: 387ms\tremaining: 2s\n",
      "162:\tlearn: 0.0685022\ttotal: 390ms\tremaining: 2s\n",
      "163:\tlearn: 0.0682339\ttotal: 393ms\tremaining: 2s\n",
      "164:\tlearn: 0.0679620\ttotal: 395ms\tremaining: 2s\n",
      "165:\tlearn: 0.0675103\ttotal: 398ms\tremaining: 2s\n",
      "166:\tlearn: 0.0674962\ttotal: 401ms\tremaining: 2s\n",
      "167:\tlearn: 0.0672346\ttotal: 403ms\tremaining: 2s\n",
      "168:\tlearn: 0.0671696\ttotal: 406ms\tremaining: 2s\n",
      "169:\tlearn: 0.0670198\ttotal: 408ms\tremaining: 1.99s\n",
      "170:\tlearn: 0.0668019\ttotal: 411ms\tremaining: 1.99s\n",
      "171:\tlearn: 0.0666926\ttotal: 414ms\tremaining: 1.99s\n",
      "172:\tlearn: 0.0665018\ttotal: 417ms\tremaining: 1.99s\n",
      "173:\tlearn: 0.0661000\ttotal: 419ms\tremaining: 1.99s\n",
      "174:\tlearn: 0.0658108\ttotal: 421ms\tremaining: 1.99s\n",
      "175:\tlearn: 0.0655123\ttotal: 424ms\tremaining: 1.98s\n",
      "176:\tlearn: 0.0653136\ttotal: 426ms\tremaining: 1.98s\n",
      "177:\tlearn: 0.0652826\ttotal: 429ms\tremaining: 1.98s\n",
      "178:\tlearn: 0.0651278\ttotal: 431ms\tremaining: 1.98s\n",
      "179:\tlearn: 0.0649072\ttotal: 433ms\tremaining: 1.97s\n",
      "180:\tlearn: 0.0647211\ttotal: 436ms\tremaining: 1.97s\n",
      "181:\tlearn: 0.0645700\ttotal: 438ms\tremaining: 1.97s\n",
      "182:\tlearn: 0.0644066\ttotal: 441ms\tremaining: 1.97s\n",
      "183:\tlearn: 0.0643593\ttotal: 443ms\tremaining: 1.97s\n",
      "184:\tlearn: 0.0642920\ttotal: 446ms\tremaining: 1.96s\n",
      "185:\tlearn: 0.0642331\ttotal: 448ms\tremaining: 1.96s\n",
      "186:\tlearn: 0.0641433\ttotal: 450ms\tremaining: 1.96s\n",
      "187:\tlearn: 0.0641146\ttotal: 453ms\tremaining: 1.96s\n",
      "188:\tlearn: 0.0639083\ttotal: 455ms\tremaining: 1.95s\n",
      "189:\tlearn: 0.0637364\ttotal: 458ms\tremaining: 1.95s\n",
      "190:\tlearn: 0.0635927\ttotal: 460ms\tremaining: 1.95s\n",
      "191:\tlearn: 0.0634910\ttotal: 462ms\tremaining: 1.95s\n",
      "192:\tlearn: 0.0633247\ttotal: 465ms\tremaining: 1.94s\n",
      "193:\tlearn: 0.0631202\ttotal: 467ms\tremaining: 1.94s\n",
      "194:\tlearn: 0.0630517\ttotal: 469ms\tremaining: 1.94s\n",
      "195:\tlearn: 0.0630023\ttotal: 472ms\tremaining: 1.94s\n",
      "196:\tlearn: 0.0627530\ttotal: 474ms\tremaining: 1.93s\n",
      "197:\tlearn: 0.0625852\ttotal: 477ms\tremaining: 1.93s\n",
      "198:\tlearn: 0.0625180\ttotal: 480ms\tremaining: 1.93s\n",
      "199:\tlearn: 0.0621842\ttotal: 483ms\tremaining: 1.93s\n",
      "200:\tlearn: 0.0621252\ttotal: 485ms\tremaining: 1.93s\n",
      "201:\tlearn: 0.0618730\ttotal: 488ms\tremaining: 1.93s\n",
      "202:\tlearn: 0.0616739\ttotal: 490ms\tremaining: 1.92s\n",
      "203:\tlearn: 0.0613649\ttotal: 493ms\tremaining: 1.92s\n",
      "204:\tlearn: 0.0612368\ttotal: 495ms\tremaining: 1.92s\n",
      "205:\tlearn: 0.0610890\ttotal: 497ms\tremaining: 1.92s\n",
      "206:\tlearn: 0.0609373\ttotal: 500ms\tremaining: 1.91s\n",
      "207:\tlearn: 0.0608458\ttotal: 502ms\tremaining: 1.91s\n",
      "208:\tlearn: 0.0608208\ttotal: 505ms\tremaining: 1.91s\n",
      "209:\tlearn: 0.0607642\ttotal: 507ms\tremaining: 1.91s\n",
      "210:\tlearn: 0.0606468\ttotal: 509ms\tremaining: 1.9s\n",
      "211:\tlearn: 0.0604202\ttotal: 512ms\tremaining: 1.9s\n",
      "212:\tlearn: 0.0602478\ttotal: 514ms\tremaining: 1.9s\n",
      "213:\tlearn: 0.0601871\ttotal: 517ms\tremaining: 1.9s\n",
      "214:\tlearn: 0.0601012\ttotal: 519ms\tremaining: 1.9s\n",
      "215:\tlearn: 0.0599602\ttotal: 521ms\tremaining: 1.89s\n",
      "216:\tlearn: 0.0597643\ttotal: 524ms\tremaining: 1.89s\n",
      "217:\tlearn: 0.0596525\ttotal: 526ms\tremaining: 1.89s\n",
      "218:\tlearn: 0.0595330\ttotal: 529ms\tremaining: 1.88s\n",
      "219:\tlearn: 0.0594921\ttotal: 531ms\tremaining: 1.88s\n",
      "220:\tlearn: 0.0592771\ttotal: 533ms\tremaining: 1.88s\n",
      "221:\tlearn: 0.0592314\ttotal: 536ms\tremaining: 1.88s\n",
      "222:\tlearn: 0.0592076\ttotal: 538ms\tremaining: 1.88s\n",
      "223:\tlearn: 0.0590041\ttotal: 541ms\tremaining: 1.87s\n",
      "224:\tlearn: 0.0587116\ttotal: 543ms\tremaining: 1.87s\n",
      "225:\tlearn: 0.0586201\ttotal: 546ms\tremaining: 1.87s\n",
      "226:\tlearn: 0.0585030\ttotal: 548ms\tremaining: 1.87s\n",
      "227:\tlearn: 0.0583970\ttotal: 550ms\tremaining: 1.86s\n",
      "228:\tlearn: 0.0583619\ttotal: 553ms\tremaining: 1.86s\n",
      "229:\tlearn: 0.0579326\ttotal: 555ms\tremaining: 1.86s\n",
      "230:\tlearn: 0.0575574\ttotal: 558ms\tremaining: 1.86s\n",
      "231:\tlearn: 0.0573168\ttotal: 560ms\tremaining: 1.85s\n",
      "232:\tlearn: 0.0571334\ttotal: 562ms\tremaining: 1.85s\n",
      "233:\tlearn: 0.0569676\ttotal: 565ms\tremaining: 1.85s\n",
      "234:\tlearn: 0.0568094\ttotal: 567ms\tremaining: 1.85s\n",
      "235:\tlearn: 0.0566367\ttotal: 570ms\tremaining: 1.84s\n",
      "236:\tlearn: 0.0565870\ttotal: 572ms\tremaining: 1.84s\n",
      "237:\tlearn: 0.0565369\ttotal: 575ms\tremaining: 1.84s\n",
      "238:\tlearn: 0.0563945\ttotal: 577ms\tremaining: 1.84s\n",
      "239:\tlearn: 0.0561797\ttotal: 580ms\tremaining: 1.83s\n",
      "240:\tlearn: 0.0559602\ttotal: 583ms\tremaining: 1.84s\n",
      "241:\tlearn: 0.0557330\ttotal: 586ms\tremaining: 1.84s\n",
      "242:\tlearn: 0.0554681\ttotal: 589ms\tremaining: 1.83s\n",
      "243:\tlearn: 0.0553709\ttotal: 593ms\tremaining: 1.83s\n",
      "244:\tlearn: 0.0553381\ttotal: 595ms\tremaining: 1.83s\n",
      "245:\tlearn: 0.0552509\ttotal: 597ms\tremaining: 1.83s\n",
      "246:\tlearn: 0.0549532\ttotal: 600ms\tremaining: 1.83s\n",
      "247:\tlearn: 0.0549186\ttotal: 602ms\tremaining: 1.83s\n",
      "248:\tlearn: 0.0548960\ttotal: 605ms\tremaining: 1.82s\n",
      "249:\tlearn: 0.0547121\ttotal: 608ms\tremaining: 1.82s\n",
      "250:\tlearn: 0.0546983\ttotal: 610ms\tremaining: 1.82s\n",
      "251:\tlearn: 0.0546763\ttotal: 612ms\tremaining: 1.82s\n",
      "252:\tlearn: 0.0546391\ttotal: 615ms\tremaining: 1.81s\n",
      "253:\tlearn: 0.0546244\ttotal: 617ms\tremaining: 1.81s\n",
      "254:\tlearn: 0.0546013\ttotal: 619ms\tremaining: 1.81s\n",
      "255:\tlearn: 0.0545346\ttotal: 622ms\tremaining: 1.81s\n",
      "256:\tlearn: 0.0544368\ttotal: 624ms\tremaining: 1.8s\n",
      "257:\tlearn: 0.0544155\ttotal: 627ms\tremaining: 1.8s\n",
      "258:\tlearn: 0.0543464\ttotal: 629ms\tremaining: 1.8s\n",
      "259:\tlearn: 0.0543018\ttotal: 631ms\tremaining: 1.8s\n",
      "260:\tlearn: 0.0542025\ttotal: 634ms\tremaining: 1.79s\n",
      "261:\tlearn: 0.0541136\ttotal: 636ms\tremaining: 1.79s\n",
      "262:\tlearn: 0.0540184\ttotal: 638ms\tremaining: 1.79s\n",
      "263:\tlearn: 0.0539736\ttotal: 641ms\tremaining: 1.79s\n",
      "264:\tlearn: 0.0539529\ttotal: 643ms\tremaining: 1.78s\n",
      "265:\tlearn: 0.0538528\ttotal: 646ms\tremaining: 1.78s\n",
      "266:\tlearn: 0.0536836\ttotal: 648ms\tremaining: 1.78s\n",
      "267:\tlearn: 0.0535314\ttotal: 651ms\tremaining: 1.78s\n",
      "268:\tlearn: 0.0534507\ttotal: 653ms\tremaining: 1.77s\n",
      "269:\tlearn: 0.0534085\ttotal: 655ms\tremaining: 1.77s\n",
      "270:\tlearn: 0.0533137\ttotal: 658ms\tremaining: 1.77s\n",
      "271:\tlearn: 0.0531904\ttotal: 660ms\tremaining: 1.77s\n",
      "272:\tlearn: 0.0531444\ttotal: 662ms\tremaining: 1.76s\n",
      "273:\tlearn: 0.0530652\ttotal: 665ms\tremaining: 1.76s\n",
      "274:\tlearn: 0.0529271\ttotal: 667ms\tremaining: 1.76s\n",
      "275:\tlearn: 0.0527745\ttotal: 670ms\tremaining: 1.76s\n",
      "276:\tlearn: 0.0525454\ttotal: 672ms\tremaining: 1.75s\n",
      "277:\tlearn: 0.0524441\ttotal: 675ms\tremaining: 1.75s\n",
      "278:\tlearn: 0.0523189\ttotal: 678ms\tremaining: 1.75s\n",
      "279:\tlearn: 0.0521921\ttotal: 680ms\tremaining: 1.75s\n",
      "280:\tlearn: 0.0520812\ttotal: 682ms\tremaining: 1.75s\n",
      "281:\tlearn: 0.0519465\ttotal: 685ms\tremaining: 1.74s\n",
      "282:\tlearn: 0.0519065\ttotal: 687ms\tremaining: 1.74s\n",
      "283:\tlearn: 0.0518905\ttotal: 690ms\tremaining: 1.74s\n",
      "284:\tlearn: 0.0518447\ttotal: 692ms\tremaining: 1.74s\n",
      "285:\tlearn: 0.0517416\ttotal: 694ms\tremaining: 1.73s\n",
      "286:\tlearn: 0.0517093\ttotal: 697ms\tremaining: 1.73s\n",
      "287:\tlearn: 0.0515061\ttotal: 699ms\tremaining: 1.73s\n",
      "288:\tlearn: 0.0513556\ttotal: 702ms\tremaining: 1.73s\n",
      "289:\tlearn: 0.0513287\ttotal: 704ms\tremaining: 1.72s\n",
      "290:\tlearn: 0.0511677\ttotal: 707ms\tremaining: 1.72s\n",
      "291:\tlearn: 0.0510322\ttotal: 709ms\tremaining: 1.72s\n",
      "292:\tlearn: 0.0509948\ttotal: 711ms\tremaining: 1.72s\n",
      "293:\tlearn: 0.0508351\ttotal: 714ms\tremaining: 1.71s\n",
      "294:\tlearn: 0.0507878\ttotal: 716ms\tremaining: 1.71s\n",
      "295:\tlearn: 0.0507651\ttotal: 719ms\tremaining: 1.71s\n",
      "296:\tlearn: 0.0506813\ttotal: 721ms\tremaining: 1.71s\n",
      "297:\tlearn: 0.0506593\ttotal: 724ms\tremaining: 1.7s\n",
      "298:\tlearn: 0.0506315\ttotal: 726ms\tremaining: 1.7s\n",
      "299:\tlearn: 0.0505863\ttotal: 729ms\tremaining: 1.7s\n",
      "300:\tlearn: 0.0505671\ttotal: 731ms\tremaining: 1.7s\n",
      "301:\tlearn: 0.0504976\ttotal: 734ms\tremaining: 1.7s\n",
      "302:\tlearn: 0.0504774\ttotal: 736ms\tremaining: 1.69s\n",
      "303:\tlearn: 0.0503684\ttotal: 739ms\tremaining: 1.69s\n",
      "304:\tlearn: 0.0503025\ttotal: 742ms\tremaining: 1.69s\n",
      "305:\tlearn: 0.0502677\ttotal: 744ms\tremaining: 1.69s\n",
      "306:\tlearn: 0.0501360\ttotal: 747ms\tremaining: 1.69s\n",
      "307:\tlearn: 0.0500210\ttotal: 749ms\tremaining: 1.68s\n",
      "308:\tlearn: 0.0499759\ttotal: 752ms\tremaining: 1.68s\n",
      "309:\tlearn: 0.0499478\ttotal: 754ms\tremaining: 1.68s\n",
      "310:\tlearn: 0.0498010\ttotal: 757ms\tremaining: 1.68s\n",
      "311:\tlearn: 0.0497259\ttotal: 759ms\tremaining: 1.67s\n",
      "312:\tlearn: 0.0496338\ttotal: 762ms\tremaining: 1.67s\n",
      "313:\tlearn: 0.0495801\ttotal: 764ms\tremaining: 1.67s\n",
      "314:\tlearn: 0.0493073\ttotal: 766ms\tremaining: 1.67s\n",
      "315:\tlearn: 0.0492714\ttotal: 769ms\tremaining: 1.66s\n",
      "316:\tlearn: 0.0492443\ttotal: 771ms\tremaining: 1.66s\n",
      "317:\tlearn: 0.0490818\ttotal: 776ms\tremaining: 1.66s\n",
      "318:\tlearn: 0.0489895\ttotal: 778ms\tremaining: 1.66s\n",
      "319:\tlearn: 0.0488239\ttotal: 784ms\tremaining: 1.66s\n",
      "320:\tlearn: 0.0487264\ttotal: 786ms\tremaining: 1.66s\n",
      "321:\tlearn: 0.0486634\ttotal: 789ms\tremaining: 1.66s\n",
      "322:\tlearn: 0.0486085\ttotal: 792ms\tremaining: 1.66s\n",
      "323:\tlearn: 0.0485812\ttotal: 794ms\tremaining: 1.66s\n",
      "324:\tlearn: 0.0485491\ttotal: 796ms\tremaining: 1.65s\n",
      "325:\tlearn: 0.0483533\ttotal: 799ms\tremaining: 1.65s\n",
      "326:\tlearn: 0.0482469\ttotal: 801ms\tremaining: 1.65s\n",
      "327:\tlearn: 0.0482046\ttotal: 804ms\tremaining: 1.65s\n",
      "328:\tlearn: 0.0481695\ttotal: 806ms\tremaining: 1.64s\n",
      "329:\tlearn: 0.0480709\ttotal: 809ms\tremaining: 1.64s\n",
      "330:\tlearn: 0.0479659\ttotal: 811ms\tremaining: 1.64s\n",
      "331:\tlearn: 0.0479097\ttotal: 814ms\tremaining: 1.64s\n",
      "332:\tlearn: 0.0477649\ttotal: 816ms\tremaining: 1.63s\n",
      "333:\tlearn: 0.0476830\ttotal: 819ms\tremaining: 1.63s\n",
      "334:\tlearn: 0.0476518\ttotal: 821ms\tremaining: 1.63s\n",
      "335:\tlearn: 0.0476345\ttotal: 823ms\tremaining: 1.63s\n",
      "336:\tlearn: 0.0474096\ttotal: 826ms\tremaining: 1.62s\n",
      "337:\tlearn: 0.0472283\ttotal: 828ms\tremaining: 1.62s\n",
      "338:\tlearn: 0.0471128\ttotal: 831ms\tremaining: 1.62s\n",
      "339:\tlearn: 0.0469802\ttotal: 833ms\tremaining: 1.62s\n",
      "340:\tlearn: 0.0467438\ttotal: 836ms\tremaining: 1.61s\n",
      "341:\tlearn: 0.0467191\ttotal: 838ms\tremaining: 1.61s\n",
      "342:\tlearn: 0.0466587\ttotal: 840ms\tremaining: 1.61s\n",
      "343:\tlearn: 0.0466268\ttotal: 843ms\tremaining: 1.61s\n",
      "344:\tlearn: 0.0466006\ttotal: 845ms\tremaining: 1.6s\n",
      "345:\tlearn: 0.0465364\ttotal: 848ms\tremaining: 1.6s\n",
      "346:\tlearn: 0.0465212\ttotal: 850ms\tremaining: 1.6s\n",
      "347:\tlearn: 0.0463565\ttotal: 852ms\tremaining: 1.6s\n",
      "348:\tlearn: 0.0462291\ttotal: 855ms\tremaining: 1.59s\n",
      "349:\tlearn: 0.0461439\ttotal: 857ms\tremaining: 1.59s\n",
      "350:\tlearn: 0.0460088\ttotal: 860ms\tremaining: 1.59s\n",
      "351:\tlearn: 0.0459786\ttotal: 862ms\tremaining: 1.59s\n",
      "352:\tlearn: 0.0458667\ttotal: 865ms\tremaining: 1.58s\n",
      "353:\tlearn: 0.0458381\ttotal: 868ms\tremaining: 1.58s\n",
      "354:\tlearn: 0.0456726\ttotal: 870ms\tremaining: 1.58s\n",
      "355:\tlearn: 0.0455740\ttotal: 872ms\tremaining: 1.58s\n",
      "356:\tlearn: 0.0455001\ttotal: 875ms\tremaining: 1.58s\n",
      "357:\tlearn: 0.0454757\ttotal: 878ms\tremaining: 1.57s\n",
      "358:\tlearn: 0.0454474\ttotal: 880ms\tremaining: 1.57s\n",
      "359:\tlearn: 0.0453502\ttotal: 882ms\tremaining: 1.57s\n",
      "360:\tlearn: 0.0453149\ttotal: 885ms\tremaining: 1.57s\n",
      "361:\tlearn: 0.0452601\ttotal: 887ms\tremaining: 1.56s\n",
      "362:\tlearn: 0.0452293\ttotal: 890ms\tremaining: 1.56s\n",
      "363:\tlearn: 0.0451639\ttotal: 892ms\tremaining: 1.56s\n",
      "364:\tlearn: 0.0450732\ttotal: 895ms\tremaining: 1.56s\n",
      "365:\tlearn: 0.0450460\ttotal: 898ms\tremaining: 1.55s\n",
      "366:\tlearn: 0.0448994\ttotal: 900ms\tremaining: 1.55s\n",
      "367:\tlearn: 0.0447965\ttotal: 902ms\tremaining: 1.55s\n",
      "368:\tlearn: 0.0447717\ttotal: 905ms\tremaining: 1.55s\n",
      "369:\tlearn: 0.0447454\ttotal: 907ms\tremaining: 1.54s\n",
      "370:\tlearn: 0.0446869\ttotal: 909ms\tremaining: 1.54s\n",
      "371:\tlearn: 0.0446757\ttotal: 912ms\tremaining: 1.54s\n",
      "372:\tlearn: 0.0446046\ttotal: 914ms\tremaining: 1.54s\n",
      "373:\tlearn: 0.0445794\ttotal: 917ms\tremaining: 1.53s\n",
      "374:\tlearn: 0.0445568\ttotal: 919ms\tremaining: 1.53s\n",
      "375:\tlearn: 0.0444115\ttotal: 922ms\tremaining: 1.53s\n",
      "376:\tlearn: 0.0442974\ttotal: 924ms\tremaining: 1.53s\n",
      "377:\tlearn: 0.0442715\ttotal: 926ms\tremaining: 1.52s\n",
      "378:\tlearn: 0.0440909\ttotal: 929ms\tremaining: 1.52s\n",
      "379:\tlearn: 0.0439982\ttotal: 931ms\tremaining: 1.52s\n",
      "380:\tlearn: 0.0439498\ttotal: 934ms\tremaining: 1.52s\n",
      "381:\tlearn: 0.0438174\ttotal: 936ms\tremaining: 1.51s\n",
      "382:\tlearn: 0.0437850\ttotal: 938ms\tremaining: 1.51s\n",
      "383:\tlearn: 0.0437684\ttotal: 941ms\tremaining: 1.51s\n",
      "384:\tlearn: 0.0437046\ttotal: 943ms\tremaining: 1.51s\n",
      "385:\tlearn: 0.0436381\ttotal: 946ms\tremaining: 1.5s\n",
      "386:\tlearn: 0.0436058\ttotal: 948ms\tremaining: 1.5s\n",
      "387:\tlearn: 0.0435013\ttotal: 950ms\tremaining: 1.5s\n",
      "388:\tlearn: 0.0433600\ttotal: 953ms\tremaining: 1.5s\n",
      "389:\tlearn: 0.0433299\ttotal: 955ms\tremaining: 1.49s\n",
      "390:\tlearn: 0.0432266\ttotal: 958ms\tremaining: 1.49s\n",
      "391:\tlearn: 0.0431741\ttotal: 961ms\tremaining: 1.49s\n",
      "392:\tlearn: 0.0431526\ttotal: 964ms\tremaining: 1.49s\n",
      "393:\tlearn: 0.0430710\ttotal: 966ms\tremaining: 1.49s\n",
      "394:\tlearn: 0.0430605\ttotal: 968ms\tremaining: 1.48s\n",
      "395:\tlearn: 0.0430123\ttotal: 971ms\tremaining: 1.48s\n"
     ]
    },
    {
     "name": "stdout",
     "output_type": "stream",
     "text": [
      "396:\tlearn: 0.0429731\ttotal: 975ms\tremaining: 1.48s\n",
      "397:\tlearn: 0.0429295\ttotal: 978ms\tremaining: 1.48s\n",
      "398:\tlearn: 0.0429041\ttotal: 981ms\tremaining: 1.48s\n",
      "399:\tlearn: 0.0428037\ttotal: 985ms\tremaining: 1.48s\n",
      "400:\tlearn: 0.0427489\ttotal: 987ms\tremaining: 1.47s\n",
      "401:\tlearn: 0.0426869\ttotal: 990ms\tremaining: 1.47s\n",
      "402:\tlearn: 0.0425657\ttotal: 993ms\tremaining: 1.47s\n",
      "403:\tlearn: 0.0425277\ttotal: 996ms\tremaining: 1.47s\n",
      "404:\tlearn: 0.0424209\ttotal: 998ms\tremaining: 1.47s\n",
      "405:\tlearn: 0.0424038\ttotal: 1s\tremaining: 1.46s\n",
      "406:\tlearn: 0.0423972\ttotal: 1s\tremaining: 1.46s\n",
      "407:\tlearn: 0.0422917\ttotal: 1s\tremaining: 1.46s\n",
      "408:\tlearn: 0.0421510\ttotal: 1.01s\tremaining: 1.46s\n",
      "409:\tlearn: 0.0420847\ttotal: 1.01s\tremaining: 1.45s\n",
      "410:\tlearn: 0.0420581\ttotal: 1.01s\tremaining: 1.45s\n",
      "411:\tlearn: 0.0420316\ttotal: 1.01s\tremaining: 1.45s\n",
      "412:\tlearn: 0.0419825\ttotal: 1.02s\tremaining: 1.45s\n",
      "413:\tlearn: 0.0419302\ttotal: 1.02s\tremaining: 1.45s\n",
      "414:\tlearn: 0.0419031\ttotal: 1.02s\tremaining: 1.44s\n",
      "415:\tlearn: 0.0418838\ttotal: 1.02s\tremaining: 1.44s\n",
      "416:\tlearn: 0.0418410\ttotal: 1.03s\tremaining: 1.44s\n",
      "417:\tlearn: 0.0417633\ttotal: 1.03s\tremaining: 1.44s\n",
      "418:\tlearn: 0.0416632\ttotal: 1.03s\tremaining: 1.43s\n",
      "419:\tlearn: 0.0416542\ttotal: 1.03s\tremaining: 1.43s\n",
      "420:\tlearn: 0.0416142\ttotal: 1.04s\tremaining: 1.43s\n",
      "421:\tlearn: 0.0415663\ttotal: 1.04s\tremaining: 1.42s\n",
      "422:\tlearn: 0.0415473\ttotal: 1.04s\tremaining: 1.42s\n",
      "423:\tlearn: 0.0415262\ttotal: 1.04s\tremaining: 1.42s\n",
      "424:\tlearn: 0.0415129\ttotal: 1.05s\tremaining: 1.42s\n",
      "425:\tlearn: 0.0414812\ttotal: 1.05s\tremaining: 1.41s\n",
      "426:\tlearn: 0.0414598\ttotal: 1.05s\tremaining: 1.41s\n",
      "427:\tlearn: 0.0414421\ttotal: 1.05s\tremaining: 1.41s\n",
      "428:\tlearn: 0.0413332\ttotal: 1.06s\tremaining: 1.41s\n",
      "429:\tlearn: 0.0412554\ttotal: 1.06s\tremaining: 1.4s\n",
      "430:\tlearn: 0.0412397\ttotal: 1.06s\tremaining: 1.4s\n",
      "431:\tlearn: 0.0411641\ttotal: 1.06s\tremaining: 1.4s\n",
      "432:\tlearn: 0.0410949\ttotal: 1.07s\tremaining: 1.4s\n",
      "433:\tlearn: 0.0410298\ttotal: 1.07s\tremaining: 1.39s\n",
      "434:\tlearn: 0.0409789\ttotal: 1.07s\tremaining: 1.39s\n",
      "435:\tlearn: 0.0409142\ttotal: 1.07s\tremaining: 1.39s\n",
      "436:\tlearn: 0.0408425\ttotal: 1.08s\tremaining: 1.39s\n",
      "437:\tlearn: 0.0407708\ttotal: 1.08s\tremaining: 1.38s\n",
      "438:\tlearn: 0.0407524\ttotal: 1.08s\tremaining: 1.38s\n",
      "439:\tlearn: 0.0407233\ttotal: 1.08s\tremaining: 1.38s\n",
      "440:\tlearn: 0.0406941\ttotal: 1.09s\tremaining: 1.38s\n",
      "441:\tlearn: 0.0406509\ttotal: 1.09s\tremaining: 1.37s\n",
      "442:\tlearn: 0.0406308\ttotal: 1.09s\tremaining: 1.37s\n",
      "443:\tlearn: 0.0405985\ttotal: 1.09s\tremaining: 1.37s\n",
      "444:\tlearn: 0.0405187\ttotal: 1.1s\tremaining: 1.37s\n",
      "445:\tlearn: 0.0404686\ttotal: 1.1s\tremaining: 1.36s\n",
      "446:\tlearn: 0.0404291\ttotal: 1.1s\tremaining: 1.36s\n",
      "447:\tlearn: 0.0403396\ttotal: 1.1s\tremaining: 1.36s\n",
      "448:\tlearn: 0.0403153\ttotal: 1.11s\tremaining: 1.36s\n",
      "449:\tlearn: 0.0403055\ttotal: 1.11s\tremaining: 1.35s\n",
      "450:\tlearn: 0.0402318\ttotal: 1.11s\tremaining: 1.35s\n",
      "451:\tlearn: 0.0401543\ttotal: 1.11s\tremaining: 1.35s\n",
      "452:\tlearn: 0.0400966\ttotal: 1.12s\tremaining: 1.35s\n",
      "453:\tlearn: 0.0400885\ttotal: 1.12s\tremaining: 1.34s\n",
      "454:\tlearn: 0.0400731\ttotal: 1.12s\tremaining: 1.34s\n",
      "455:\tlearn: 0.0399444\ttotal: 1.12s\tremaining: 1.34s\n",
      "456:\tlearn: 0.0399222\ttotal: 1.13s\tremaining: 1.34s\n",
      "457:\tlearn: 0.0398836\ttotal: 1.13s\tremaining: 1.33s\n",
      "458:\tlearn: 0.0398530\ttotal: 1.13s\tremaining: 1.33s\n",
      "459:\tlearn: 0.0398323\ttotal: 1.13s\tremaining: 1.33s\n",
      "460:\tlearn: 0.0398142\ttotal: 1.14s\tremaining: 1.33s\n",
      "461:\tlearn: 0.0397727\ttotal: 1.14s\tremaining: 1.33s\n",
      "462:\tlearn: 0.0397551\ttotal: 1.14s\tremaining: 1.32s\n",
      "463:\tlearn: 0.0396653\ttotal: 1.14s\tremaining: 1.32s\n",
      "464:\tlearn: 0.0395828\ttotal: 1.15s\tremaining: 1.32s\n",
      "465:\tlearn: 0.0395670\ttotal: 1.15s\tremaining: 1.32s\n",
      "466:\tlearn: 0.0395210\ttotal: 1.15s\tremaining: 1.31s\n",
      "467:\tlearn: 0.0394470\ttotal: 1.15s\tremaining: 1.31s\n",
      "468:\tlearn: 0.0394369\ttotal: 1.16s\tremaining: 1.31s\n",
      "469:\tlearn: 0.0394202\ttotal: 1.16s\tremaining: 1.31s\n",
      "470:\tlearn: 0.0393887\ttotal: 1.16s\tremaining: 1.3s\n",
      "471:\tlearn: 0.0393526\ttotal: 1.16s\tremaining: 1.3s\n",
      "472:\tlearn: 0.0392569\ttotal: 1.17s\tremaining: 1.3s\n",
      "473:\tlearn: 0.0392138\ttotal: 1.17s\tremaining: 1.3s\n",
      "474:\tlearn: 0.0391742\ttotal: 1.17s\tremaining: 1.29s\n",
      "475:\tlearn: 0.0391146\ttotal: 1.18s\tremaining: 1.29s\n",
      "476:\tlearn: 0.0390899\ttotal: 1.18s\tremaining: 1.29s\n",
      "477:\tlearn: 0.0390734\ttotal: 1.18s\tremaining: 1.29s\n",
      "478:\tlearn: 0.0390438\ttotal: 1.18s\tremaining: 1.29s\n",
      "479:\tlearn: 0.0389964\ttotal: 1.19s\tremaining: 1.28s\n",
      "480:\tlearn: 0.0389811\ttotal: 1.19s\tremaining: 1.28s\n",
      "481:\tlearn: 0.0389611\ttotal: 1.19s\tremaining: 1.28s\n",
      "482:\tlearn: 0.0389031\ttotal: 1.19s\tremaining: 1.28s\n",
      "483:\tlearn: 0.0388017\ttotal: 1.2s\tremaining: 1.28s\n",
      "484:\tlearn: 0.0387141\ttotal: 1.2s\tremaining: 1.27s\n",
      "485:\tlearn: 0.0387022\ttotal: 1.2s\tremaining: 1.27s\n",
      "486:\tlearn: 0.0386731\ttotal: 1.2s\tremaining: 1.27s\n",
      "487:\tlearn: 0.0386587\ttotal: 1.21s\tremaining: 1.27s\n",
      "488:\tlearn: 0.0385744\ttotal: 1.21s\tremaining: 1.26s\n",
      "489:\tlearn: 0.0384825\ttotal: 1.21s\tremaining: 1.26s\n",
      "490:\tlearn: 0.0384553\ttotal: 1.21s\tremaining: 1.26s\n",
      "491:\tlearn: 0.0384285\ttotal: 1.22s\tremaining: 1.25s\n",
      "492:\tlearn: 0.0383475\ttotal: 1.22s\tremaining: 1.25s\n",
      "493:\tlearn: 0.0383318\ttotal: 1.22s\tremaining: 1.25s\n",
      "494:\tlearn: 0.0383075\ttotal: 1.22s\tremaining: 1.25s\n",
      "495:\tlearn: 0.0382947\ttotal: 1.23s\tremaining: 1.25s\n",
      "496:\tlearn: 0.0382497\ttotal: 1.23s\tremaining: 1.24s\n",
      "497:\tlearn: 0.0382228\ttotal: 1.23s\tremaining: 1.24s\n",
      "498:\tlearn: 0.0382042\ttotal: 1.23s\tremaining: 1.24s\n",
      "499:\tlearn: 0.0381529\ttotal: 1.24s\tremaining: 1.24s\n",
      "500:\tlearn: 0.0380741\ttotal: 1.24s\tremaining: 1.23s\n",
      "501:\tlearn: 0.0380370\ttotal: 1.24s\tremaining: 1.23s\n",
      "502:\tlearn: 0.0379724\ttotal: 1.24s\tremaining: 1.23s\n",
      "503:\tlearn: 0.0379482\ttotal: 1.25s\tremaining: 1.23s\n",
      "504:\tlearn: 0.0378732\ttotal: 1.25s\tremaining: 1.22s\n",
      "505:\tlearn: 0.0378533\ttotal: 1.25s\tremaining: 1.22s\n",
      "506:\tlearn: 0.0378232\ttotal: 1.25s\tremaining: 1.22s\n",
      "507:\tlearn: 0.0377219\ttotal: 1.25s\tremaining: 1.22s\n",
      "508:\tlearn: 0.0376538\ttotal: 1.26s\tremaining: 1.21s\n",
      "509:\tlearn: 0.0376163\ttotal: 1.26s\tremaining: 1.21s\n",
      "510:\tlearn: 0.0376091\ttotal: 1.26s\tremaining: 1.21s\n",
      "511:\tlearn: 0.0375174\ttotal: 1.26s\tremaining: 1.21s\n",
      "512:\tlearn: 0.0375056\ttotal: 1.27s\tremaining: 1.2s\n",
      "513:\tlearn: 0.0374881\ttotal: 1.27s\tremaining: 1.2s\n",
      "514:\tlearn: 0.0374744\ttotal: 1.27s\tremaining: 1.2s\n",
      "515:\tlearn: 0.0374331\ttotal: 1.28s\tremaining: 1.2s\n",
      "516:\tlearn: 0.0374165\ttotal: 1.28s\tremaining: 1.19s\n",
      "517:\tlearn: 0.0373420\ttotal: 1.28s\tremaining: 1.19s\n",
      "518:\tlearn: 0.0373279\ttotal: 1.28s\tremaining: 1.19s\n",
      "519:\tlearn: 0.0372935\ttotal: 1.29s\tremaining: 1.19s\n",
      "520:\tlearn: 0.0372757\ttotal: 1.29s\tremaining: 1.19s\n",
      "521:\tlearn: 0.0372320\ttotal: 1.29s\tremaining: 1.18s\n",
      "522:\tlearn: 0.0372168\ttotal: 1.29s\tremaining: 1.18s\n",
      "523:\tlearn: 0.0371830\ttotal: 1.3s\tremaining: 1.18s\n",
      "524:\tlearn: 0.0371618\ttotal: 1.3s\tremaining: 1.18s\n",
      "525:\tlearn: 0.0371304\ttotal: 1.3s\tremaining: 1.17s\n",
      "526:\tlearn: 0.0370794\ttotal: 1.3s\tremaining: 1.17s\n",
      "527:\tlearn: 0.0370679\ttotal: 1.31s\tremaining: 1.17s\n",
      "528:\tlearn: 0.0370258\ttotal: 1.31s\tremaining: 1.17s\n",
      "529:\tlearn: 0.0370197\ttotal: 1.31s\tremaining: 1.16s\n",
      "530:\tlearn: 0.0369585\ttotal: 1.31s\tremaining: 1.16s\n",
      "531:\tlearn: 0.0368801\ttotal: 1.32s\tremaining: 1.16s\n",
      "532:\tlearn: 0.0368624\ttotal: 1.32s\tremaining: 1.16s\n",
      "533:\tlearn: 0.0368280\ttotal: 1.32s\tremaining: 1.15s\n",
      "534:\tlearn: 0.0368023\ttotal: 1.32s\tremaining: 1.15s\n",
      "535:\tlearn: 0.0367334\ttotal: 1.33s\tremaining: 1.15s\n",
      "536:\tlearn: 0.0367067\ttotal: 1.33s\tremaining: 1.15s\n",
      "537:\tlearn: 0.0366288\ttotal: 1.33s\tremaining: 1.14s\n",
      "538:\tlearn: 0.0365863\ttotal: 1.33s\tremaining: 1.14s\n",
      "539:\tlearn: 0.0365695\ttotal: 1.34s\tremaining: 1.14s\n",
      "540:\tlearn: 0.0365255\ttotal: 1.34s\tremaining: 1.14s\n",
      "541:\tlearn: 0.0365099\ttotal: 1.34s\tremaining: 1.13s\n",
      "542:\tlearn: 0.0364519\ttotal: 1.34s\tremaining: 1.13s\n",
      "543:\tlearn: 0.0364014\ttotal: 1.35s\tremaining: 1.13s\n",
      "544:\tlearn: 0.0363878\ttotal: 1.35s\tremaining: 1.13s\n",
      "545:\tlearn: 0.0363315\ttotal: 1.35s\tremaining: 1.12s\n",
      "546:\tlearn: 0.0363067\ttotal: 1.35s\tremaining: 1.12s\n",
      "547:\tlearn: 0.0362774\ttotal: 1.36s\tremaining: 1.12s\n",
      "548:\tlearn: 0.0362395\ttotal: 1.36s\tremaining: 1.12s\n",
      "549:\tlearn: 0.0362294\ttotal: 1.36s\tremaining: 1.11s\n",
      "550:\tlearn: 0.0361876\ttotal: 1.36s\tremaining: 1.11s\n",
      "551:\tlearn: 0.0361537\ttotal: 1.37s\tremaining: 1.11s\n",
      "552:\tlearn: 0.0360841\ttotal: 1.37s\tremaining: 1.11s\n",
      "553:\tlearn: 0.0360523\ttotal: 1.38s\tremaining: 1.11s\n",
      "554:\tlearn: 0.0360160\ttotal: 1.38s\tremaining: 1.1s\n",
      "555:\tlearn: 0.0360007\ttotal: 1.38s\tremaining: 1.1s\n",
      "556:\tlearn: 0.0359335\ttotal: 1.38s\tremaining: 1.1s\n",
      "557:\tlearn: 0.0359030\ttotal: 1.39s\tremaining: 1.1s\n",
      "558:\tlearn: 0.0358731\ttotal: 1.39s\tremaining: 1.09s\n",
      "559:\tlearn: 0.0358312\ttotal: 1.39s\tremaining: 1.09s\n",
      "560:\tlearn: 0.0358210\ttotal: 1.39s\tremaining: 1.09s\n",
      "561:\tlearn: 0.0357377\ttotal: 1.4s\tremaining: 1.09s\n",
      "562:\tlearn: 0.0356819\ttotal: 1.4s\tremaining: 1.08s\n",
      "563:\tlearn: 0.0356195\ttotal: 1.4s\tremaining: 1.08s\n",
      "564:\tlearn: 0.0355593\ttotal: 1.4s\tremaining: 1.08s\n",
      "565:\tlearn: 0.0355474\ttotal: 1.41s\tremaining: 1.08s\n",
      "566:\tlearn: 0.0355347\ttotal: 1.41s\tremaining: 1.07s\n",
      "567:\tlearn: 0.0354411\ttotal: 1.41s\tremaining: 1.07s\n",
      "568:\tlearn: 0.0353860\ttotal: 1.41s\tremaining: 1.07s\n",
      "569:\tlearn: 0.0353731\ttotal: 1.42s\tremaining: 1.07s\n",
      "570:\tlearn: 0.0353244\ttotal: 1.42s\tremaining: 1.06s\n",
      "571:\tlearn: 0.0353099\ttotal: 1.42s\tremaining: 1.06s\n",
      "572:\tlearn: 0.0352273\ttotal: 1.42s\tremaining: 1.06s\n",
      "573:\tlearn: 0.0351424\ttotal: 1.42s\tremaining: 1.06s\n",
      "574:\tlearn: 0.0350477\ttotal: 1.43s\tremaining: 1.05s\n",
      "575:\tlearn: 0.0349431\ttotal: 1.43s\tremaining: 1.05s\n",
      "576:\tlearn: 0.0348783\ttotal: 1.43s\tremaining: 1.05s\n",
      "577:\tlearn: 0.0347675\ttotal: 1.43s\tremaining: 1.05s\n",
      "578:\tlearn: 0.0347380\ttotal: 1.44s\tremaining: 1.04s\n",
      "579:\tlearn: 0.0346744\ttotal: 1.44s\tremaining: 1.04s\n",
      "580:\tlearn: 0.0345700\ttotal: 1.44s\tremaining: 1.04s\n",
      "581:\tlearn: 0.0345182\ttotal: 1.44s\tremaining: 1.04s\n",
      "582:\tlearn: 0.0344641\ttotal: 1.45s\tremaining: 1.03s\n",
      "583:\tlearn: 0.0344395\ttotal: 1.45s\tremaining: 1.03s\n",
      "584:\tlearn: 0.0344038\ttotal: 1.45s\tremaining: 1.03s\n",
      "585:\tlearn: 0.0343130\ttotal: 1.45s\tremaining: 1.03s\n",
      "586:\tlearn: 0.0342922\ttotal: 1.46s\tremaining: 1.02s\n",
      "587:\tlearn: 0.0342086\ttotal: 1.46s\tremaining: 1.02s\n",
      "588:\tlearn: 0.0341964\ttotal: 1.46s\tremaining: 1.02s\n",
      "589:\tlearn: 0.0341896\ttotal: 1.46s\tremaining: 1.02s\n",
      "590:\tlearn: 0.0341344\ttotal: 1.47s\tremaining: 1.01s\n",
      "591:\tlearn: 0.0341169\ttotal: 1.47s\tremaining: 1.01s\n",
      "592:\tlearn: 0.0341051\ttotal: 1.47s\tremaining: 1.01s\n",
      "593:\tlearn: 0.0340864\ttotal: 1.47s\tremaining: 1.01s\n",
      "594:\tlearn: 0.0340745\ttotal: 1.48s\tremaining: 1s\n",
      "595:\tlearn: 0.0340559\ttotal: 1.48s\tremaining: 1s\n",
      "596:\tlearn: 0.0340008\ttotal: 1.48s\tremaining: 999ms\n",
      "597:\tlearn: 0.0339485\ttotal: 1.48s\tremaining: 997ms\n",
      "598:\tlearn: 0.0338664\ttotal: 1.49s\tremaining: 994ms\n",
      "599:\tlearn: 0.0338140\ttotal: 1.49s\tremaining: 992ms\n",
      "600:\tlearn: 0.0337904\ttotal: 1.49s\tremaining: 989ms\n",
      "601:\tlearn: 0.0337792\ttotal: 1.49s\tremaining: 987ms\n",
      "602:\tlearn: 0.0337069\ttotal: 1.49s\tremaining: 984ms\n",
      "603:\tlearn: 0.0335842\ttotal: 1.5s\tremaining: 982ms\n",
      "604:\tlearn: 0.0335708\ttotal: 1.5s\tremaining: 979ms\n",
      "605:\tlearn: 0.0335309\ttotal: 1.5s\tremaining: 977ms\n",
      "606:\tlearn: 0.0335197\ttotal: 1.5s\tremaining: 974ms\n",
      "607:\tlearn: 0.0334914\ttotal: 1.51s\tremaining: 972ms\n",
      "608:\tlearn: 0.0334199\ttotal: 1.51s\tremaining: 969ms\n",
      "609:\tlearn: 0.0333863\ttotal: 1.51s\tremaining: 967ms\n",
      "610:\tlearn: 0.0333714\ttotal: 1.51s\tremaining: 964ms\n",
      "611:\tlearn: 0.0332848\ttotal: 1.52s\tremaining: 962ms\n",
      "612:\tlearn: 0.0332502\ttotal: 1.52s\tremaining: 959ms\n",
      "613:\tlearn: 0.0332399\ttotal: 1.52s\tremaining: 957ms\n",
      "614:\tlearn: 0.0331671\ttotal: 1.52s\tremaining: 954ms\n",
      "615:\tlearn: 0.0331505\ttotal: 1.53s\tremaining: 952ms\n",
      "616:\tlearn: 0.0330438\ttotal: 1.53s\tremaining: 950ms\n",
      "617:\tlearn: 0.0330359\ttotal: 1.53s\tremaining: 947ms\n",
      "618:\tlearn: 0.0329991\ttotal: 1.53s\tremaining: 945ms\n",
      "619:\tlearn: 0.0329790\ttotal: 1.54s\tremaining: 942ms\n",
      "620:\tlearn: 0.0329619\ttotal: 1.54s\tremaining: 940ms\n",
      "621:\tlearn: 0.0328725\ttotal: 1.54s\tremaining: 937ms\n",
      "622:\tlearn: 0.0328654\ttotal: 1.54s\tremaining: 935ms\n",
      "623:\tlearn: 0.0328438\ttotal: 1.55s\tremaining: 932ms\n",
      "624:\tlearn: 0.0328206\ttotal: 1.55s\tremaining: 930ms\n",
      "625:\tlearn: 0.0327745\ttotal: 1.55s\tremaining: 927ms\n",
      "626:\tlearn: 0.0327273\ttotal: 1.55s\tremaining: 925ms\n",
      "627:\tlearn: 0.0327105\ttotal: 1.56s\tremaining: 923ms\n"
     ]
    },
    {
     "name": "stdout",
     "output_type": "stream",
     "text": [
      "628:\tlearn: 0.0326650\ttotal: 1.56s\tremaining: 920ms\n",
      "629:\tlearn: 0.0326117\ttotal: 1.56s\tremaining: 918ms\n",
      "630:\tlearn: 0.0325884\ttotal: 1.56s\tremaining: 916ms\n",
      "631:\tlearn: 0.0324980\ttotal: 1.57s\tremaining: 913ms\n",
      "632:\tlearn: 0.0324266\ttotal: 1.57s\tremaining: 911ms\n",
      "633:\tlearn: 0.0323839\ttotal: 1.57s\tremaining: 909ms\n",
      "634:\tlearn: 0.0323722\ttotal: 1.58s\tremaining: 907ms\n",
      "635:\tlearn: 0.0323167\ttotal: 1.58s\tremaining: 904ms\n",
      "636:\tlearn: 0.0323100\ttotal: 1.58s\tremaining: 902ms\n",
      "637:\tlearn: 0.0322799\ttotal: 1.58s\tremaining: 899ms\n",
      "638:\tlearn: 0.0322494\ttotal: 1.59s\tremaining: 897ms\n",
      "639:\tlearn: 0.0322020\ttotal: 1.59s\tremaining: 894ms\n",
      "640:\tlearn: 0.0321700\ttotal: 1.59s\tremaining: 892ms\n",
      "641:\tlearn: 0.0321357\ttotal: 1.59s\tremaining: 889ms\n",
      "642:\tlearn: 0.0321225\ttotal: 1.6s\tremaining: 886ms\n",
      "643:\tlearn: 0.0321042\ttotal: 1.6s\tremaining: 884ms\n",
      "644:\tlearn: 0.0320978\ttotal: 1.6s\tremaining: 881ms\n",
      "645:\tlearn: 0.0320339\ttotal: 1.6s\tremaining: 879ms\n",
      "646:\tlearn: 0.0319612\ttotal: 1.61s\tremaining: 876ms\n",
      "647:\tlearn: 0.0319280\ttotal: 1.61s\tremaining: 874ms\n",
      "648:\tlearn: 0.0318994\ttotal: 1.61s\tremaining: 871ms\n",
      "649:\tlearn: 0.0318241\ttotal: 1.61s\tremaining: 869ms\n",
      "650:\tlearn: 0.0318135\ttotal: 1.61s\tremaining: 866ms\n",
      "651:\tlearn: 0.0317325\ttotal: 1.62s\tremaining: 864ms\n",
      "652:\tlearn: 0.0317049\ttotal: 1.62s\tremaining: 861ms\n",
      "653:\tlearn: 0.0316701\ttotal: 1.62s\tremaining: 859ms\n",
      "654:\tlearn: 0.0316602\ttotal: 1.63s\tremaining: 856ms\n",
      "655:\tlearn: 0.0316170\ttotal: 1.63s\tremaining: 854ms\n",
      "656:\tlearn: 0.0315225\ttotal: 1.63s\tremaining: 851ms\n",
      "657:\tlearn: 0.0314974\ttotal: 1.63s\tremaining: 849ms\n",
      "658:\tlearn: 0.0314591\ttotal: 1.64s\tremaining: 846ms\n",
      "659:\tlearn: 0.0314169\ttotal: 1.64s\tremaining: 844ms\n",
      "660:\tlearn: 0.0313941\ttotal: 1.64s\tremaining: 841ms\n",
      "661:\tlearn: 0.0313870\ttotal: 1.64s\tremaining: 839ms\n",
      "662:\tlearn: 0.0313772\ttotal: 1.64s\tremaining: 836ms\n",
      "663:\tlearn: 0.0312992\ttotal: 1.65s\tremaining: 834ms\n",
      "664:\tlearn: 0.0312777\ttotal: 1.65s\tremaining: 831ms\n",
      "665:\tlearn: 0.0312377\ttotal: 1.65s\tremaining: 829ms\n",
      "666:\tlearn: 0.0312056\ttotal: 1.65s\tremaining: 826ms\n",
      "667:\tlearn: 0.0310822\ttotal: 1.66s\tremaining: 824ms\n",
      "668:\tlearn: 0.0310728\ttotal: 1.66s\tremaining: 821ms\n",
      "669:\tlearn: 0.0309930\ttotal: 1.66s\tremaining: 819ms\n",
      "670:\tlearn: 0.0309772\ttotal: 1.66s\tremaining: 816ms\n",
      "671:\tlearn: 0.0309467\ttotal: 1.67s\tremaining: 814ms\n",
      "672:\tlearn: 0.0308948\ttotal: 1.67s\tremaining: 811ms\n",
      "673:\tlearn: 0.0308516\ttotal: 1.67s\tremaining: 809ms\n",
      "674:\tlearn: 0.0308434\ttotal: 1.67s\tremaining: 806ms\n",
      "675:\tlearn: 0.0307832\ttotal: 1.68s\tremaining: 804ms\n",
      "676:\tlearn: 0.0307734\ttotal: 1.68s\tremaining: 801ms\n",
      "677:\tlearn: 0.0307525\ttotal: 1.68s\tremaining: 799ms\n",
      "678:\tlearn: 0.0307324\ttotal: 1.68s\tremaining: 796ms\n",
      "679:\tlearn: 0.0307027\ttotal: 1.69s\tremaining: 794ms\n",
      "680:\tlearn: 0.0306757\ttotal: 1.69s\tremaining: 791ms\n",
      "681:\tlearn: 0.0306413\ttotal: 1.69s\tremaining: 789ms\n",
      "682:\tlearn: 0.0306082\ttotal: 1.69s\tremaining: 786ms\n",
      "683:\tlearn: 0.0305641\ttotal: 1.7s\tremaining: 784ms\n",
      "684:\tlearn: 0.0305493\ttotal: 1.7s\tremaining: 781ms\n",
      "685:\tlearn: 0.0305288\ttotal: 1.7s\tremaining: 779ms\n",
      "686:\tlearn: 0.0305098\ttotal: 1.7s\tremaining: 776ms\n",
      "687:\tlearn: 0.0304789\ttotal: 1.71s\tremaining: 774ms\n",
      "688:\tlearn: 0.0304466\ttotal: 1.71s\tremaining: 771ms\n",
      "689:\tlearn: 0.0304322\ttotal: 1.71s\tremaining: 769ms\n",
      "690:\tlearn: 0.0303642\ttotal: 1.71s\tremaining: 766ms\n",
      "691:\tlearn: 0.0303576\ttotal: 1.72s\tremaining: 764ms\n",
      "692:\tlearn: 0.0303236\ttotal: 1.72s\tremaining: 761ms\n",
      "693:\tlearn: 0.0303116\ttotal: 1.72s\tremaining: 758ms\n",
      "694:\tlearn: 0.0302785\ttotal: 1.72s\tremaining: 756ms\n",
      "695:\tlearn: 0.0302489\ttotal: 1.73s\tremaining: 753ms\n",
      "696:\tlearn: 0.0302377\ttotal: 1.73s\tremaining: 751ms\n",
      "697:\tlearn: 0.0302162\ttotal: 1.73s\tremaining: 748ms\n",
      "698:\tlearn: 0.0301806\ttotal: 1.73s\tremaining: 746ms\n",
      "699:\tlearn: 0.0301236\ttotal: 1.73s\tremaining: 743ms\n",
      "700:\tlearn: 0.0301180\ttotal: 1.74s\tremaining: 741ms\n",
      "701:\tlearn: 0.0300699\ttotal: 1.74s\tremaining: 738ms\n",
      "702:\tlearn: 0.0300268\ttotal: 1.74s\tremaining: 736ms\n",
      "703:\tlearn: 0.0300194\ttotal: 1.74s\tremaining: 733ms\n",
      "704:\tlearn: 0.0299708\ttotal: 1.75s\tremaining: 731ms\n",
      "705:\tlearn: 0.0299485\ttotal: 1.75s\tremaining: 729ms\n",
      "706:\tlearn: 0.0299185\ttotal: 1.75s\tremaining: 726ms\n",
      "707:\tlearn: 0.0298981\ttotal: 1.75s\tremaining: 724ms\n",
      "708:\tlearn: 0.0298644\ttotal: 1.76s\tremaining: 721ms\n",
      "709:\tlearn: 0.0298531\ttotal: 1.76s\tremaining: 719ms\n",
      "710:\tlearn: 0.0297753\ttotal: 1.76s\tremaining: 717ms\n",
      "711:\tlearn: 0.0297360\ttotal: 1.77s\tremaining: 715ms\n",
      "712:\tlearn: 0.0297097\ttotal: 1.77s\tremaining: 712ms\n",
      "713:\tlearn: 0.0296878\ttotal: 1.77s\tremaining: 710ms\n",
      "714:\tlearn: 0.0296801\ttotal: 1.77s\tremaining: 707ms\n",
      "715:\tlearn: 0.0296603\ttotal: 1.78s\tremaining: 705ms\n",
      "716:\tlearn: 0.0296263\ttotal: 1.78s\tremaining: 702ms\n",
      "717:\tlearn: 0.0296065\ttotal: 1.78s\tremaining: 700ms\n",
      "718:\tlearn: 0.0295646\ttotal: 1.78s\tremaining: 697ms\n",
      "719:\tlearn: 0.0295135\ttotal: 1.79s\tremaining: 695ms\n",
      "720:\tlearn: 0.0294718\ttotal: 1.79s\tremaining: 692ms\n",
      "721:\tlearn: 0.0294612\ttotal: 1.79s\tremaining: 690ms\n",
      "722:\tlearn: 0.0294397\ttotal: 1.79s\tremaining: 687ms\n",
      "723:\tlearn: 0.0293969\ttotal: 1.8s\tremaining: 685ms\n",
      "724:\tlearn: 0.0293793\ttotal: 1.8s\tremaining: 682ms\n",
      "725:\tlearn: 0.0293464\ttotal: 1.8s\tremaining: 680ms\n",
      "726:\tlearn: 0.0293143\ttotal: 1.8s\tremaining: 677ms\n",
      "727:\tlearn: 0.0292816\ttotal: 1.81s\tremaining: 675ms\n",
      "728:\tlearn: 0.0292672\ttotal: 1.81s\tremaining: 672ms\n",
      "729:\tlearn: 0.0292617\ttotal: 1.81s\tremaining: 670ms\n",
      "730:\tlearn: 0.0292254\ttotal: 1.81s\tremaining: 667ms\n",
      "731:\tlearn: 0.0292196\ttotal: 1.82s\tremaining: 665ms\n",
      "732:\tlearn: 0.0291644\ttotal: 1.82s\tremaining: 663ms\n",
      "733:\tlearn: 0.0291478\ttotal: 1.82s\tremaining: 660ms\n",
      "734:\tlearn: 0.0291095\ttotal: 1.82s\tremaining: 658ms\n",
      "735:\tlearn: 0.0290704\ttotal: 1.83s\tremaining: 655ms\n",
      "736:\tlearn: 0.0290405\ttotal: 1.83s\tremaining: 653ms\n",
      "737:\tlearn: 0.0289406\ttotal: 1.83s\tremaining: 650ms\n",
      "738:\tlearn: 0.0288697\ttotal: 1.83s\tremaining: 648ms\n",
      "739:\tlearn: 0.0288378\ttotal: 1.84s\tremaining: 645ms\n",
      "740:\tlearn: 0.0288091\ttotal: 1.84s\tremaining: 643ms\n",
      "741:\tlearn: 0.0287775\ttotal: 1.84s\tremaining: 640ms\n",
      "742:\tlearn: 0.0287596\ttotal: 1.84s\tremaining: 638ms\n",
      "743:\tlearn: 0.0287307\ttotal: 1.85s\tremaining: 635ms\n",
      "744:\tlearn: 0.0287161\ttotal: 1.85s\tremaining: 633ms\n",
      "745:\tlearn: 0.0286788\ttotal: 1.85s\tremaining: 630ms\n",
      "746:\tlearn: 0.0286505\ttotal: 1.85s\tremaining: 628ms\n",
      "747:\tlearn: 0.0286137\ttotal: 1.85s\tremaining: 625ms\n",
      "748:\tlearn: 0.0285958\ttotal: 1.86s\tremaining: 623ms\n",
      "749:\tlearn: 0.0285481\ttotal: 1.86s\tremaining: 620ms\n",
      "750:\tlearn: 0.0285323\ttotal: 1.86s\tremaining: 618ms\n",
      "751:\tlearn: 0.0285001\ttotal: 1.87s\tremaining: 616ms\n",
      "752:\tlearn: 0.0284550\ttotal: 1.87s\tremaining: 613ms\n",
      "753:\tlearn: 0.0284398\ttotal: 1.87s\tremaining: 611ms\n",
      "754:\tlearn: 0.0284132\ttotal: 1.87s\tremaining: 608ms\n",
      "755:\tlearn: 0.0283785\ttotal: 1.88s\tremaining: 606ms\n",
      "756:\tlearn: 0.0283516\ttotal: 1.88s\tremaining: 603ms\n",
      "757:\tlearn: 0.0283371\ttotal: 1.88s\tremaining: 601ms\n",
      "758:\tlearn: 0.0282836\ttotal: 1.88s\tremaining: 598ms\n",
      "759:\tlearn: 0.0282692\ttotal: 1.89s\tremaining: 596ms\n",
      "760:\tlearn: 0.0282141\ttotal: 1.89s\tremaining: 593ms\n",
      "761:\tlearn: 0.0281755\ttotal: 1.89s\tremaining: 591ms\n",
      "762:\tlearn: 0.0281683\ttotal: 1.89s\tremaining: 589ms\n",
      "763:\tlearn: 0.0281237\ttotal: 1.9s\tremaining: 586ms\n",
      "764:\tlearn: 0.0280857\ttotal: 1.9s\tremaining: 584ms\n",
      "765:\tlearn: 0.0280785\ttotal: 1.9s\tremaining: 581ms\n",
      "766:\tlearn: 0.0280497\ttotal: 1.91s\tremaining: 579ms\n",
      "767:\tlearn: 0.0280431\ttotal: 1.91s\tremaining: 577ms\n",
      "768:\tlearn: 0.0279221\ttotal: 1.91s\tremaining: 575ms\n",
      "769:\tlearn: 0.0278629\ttotal: 1.92s\tremaining: 572ms\n",
      "770:\tlearn: 0.0278310\ttotal: 1.92s\tremaining: 570ms\n",
      "771:\tlearn: 0.0277918\ttotal: 1.92s\tremaining: 567ms\n",
      "772:\tlearn: 0.0277542\ttotal: 1.92s\tremaining: 565ms\n",
      "773:\tlearn: 0.0277471\ttotal: 1.93s\tremaining: 562ms\n",
      "774:\tlearn: 0.0277096\ttotal: 1.93s\tremaining: 560ms\n",
      "775:\tlearn: 0.0276115\ttotal: 1.93s\tremaining: 558ms\n",
      "776:\tlearn: 0.0275216\ttotal: 1.93s\tremaining: 555ms\n",
      "777:\tlearn: 0.0275083\ttotal: 1.94s\tremaining: 553ms\n",
      "778:\tlearn: 0.0274837\ttotal: 1.94s\tremaining: 550ms\n",
      "779:\tlearn: 0.0274570\ttotal: 1.94s\tremaining: 548ms\n",
      "780:\tlearn: 0.0274242\ttotal: 1.94s\tremaining: 545ms\n",
      "781:\tlearn: 0.0274049\ttotal: 1.95s\tremaining: 543ms\n",
      "782:\tlearn: 0.0273788\ttotal: 1.95s\tremaining: 540ms\n",
      "783:\tlearn: 0.0273343\ttotal: 1.95s\tremaining: 538ms\n",
      "784:\tlearn: 0.0273271\ttotal: 1.95s\tremaining: 535ms\n",
      "785:\tlearn: 0.0273030\ttotal: 1.96s\tremaining: 533ms\n",
      "786:\tlearn: 0.0272960\ttotal: 1.96s\tremaining: 530ms\n",
      "787:\tlearn: 0.0272535\ttotal: 1.96s\tremaining: 528ms\n",
      "788:\tlearn: 0.0272383\ttotal: 1.96s\tremaining: 525ms\n",
      "789:\tlearn: 0.0272111\ttotal: 1.97s\tremaining: 523ms\n",
      "790:\tlearn: 0.0271803\ttotal: 1.97s\tremaining: 521ms\n",
      "791:\tlearn: 0.0271037\ttotal: 1.97s\tremaining: 518ms\n",
      "792:\tlearn: 0.0270428\ttotal: 1.98s\tremaining: 516ms\n",
      "793:\tlearn: 0.0270388\ttotal: 1.98s\tremaining: 513ms\n",
      "794:\tlearn: 0.0270151\ttotal: 1.98s\tremaining: 511ms\n",
      "795:\tlearn: 0.0269940\ttotal: 1.98s\tremaining: 508ms\n",
      "796:\tlearn: 0.0269412\ttotal: 1.99s\tremaining: 506ms\n",
      "797:\tlearn: 0.0269127\ttotal: 1.99s\tremaining: 504ms\n",
      "798:\tlearn: 0.0268947\ttotal: 1.99s\tremaining: 501ms\n",
      "799:\tlearn: 0.0268780\ttotal: 1.99s\tremaining: 499ms\n",
      "800:\tlearn: 0.0268521\ttotal: 2s\tremaining: 496ms\n",
      "801:\tlearn: 0.0268377\ttotal: 2s\tremaining: 494ms\n",
      "802:\tlearn: 0.0268206\ttotal: 2s\tremaining: 491ms\n",
      "803:\tlearn: 0.0267932\ttotal: 2s\tremaining: 489ms\n",
      "804:\tlearn: 0.0267606\ttotal: 2.01s\tremaining: 486ms\n",
      "805:\tlearn: 0.0267568\ttotal: 2.01s\tremaining: 484ms\n",
      "806:\tlearn: 0.0267508\ttotal: 2.01s\tremaining: 481ms\n",
      "807:\tlearn: 0.0267161\ttotal: 2.01s\tremaining: 479ms\n",
      "808:\tlearn: 0.0266777\ttotal: 2.02s\tremaining: 476ms\n",
      "809:\tlearn: 0.0266580\ttotal: 2.02s\tremaining: 474ms\n",
      "810:\tlearn: 0.0266357\ttotal: 2.02s\tremaining: 471ms\n",
      "811:\tlearn: 0.0265966\ttotal: 2.02s\tremaining: 469ms\n",
      "812:\tlearn: 0.0265764\ttotal: 2.03s\tremaining: 466ms\n",
      "813:\tlearn: 0.0265432\ttotal: 2.03s\tremaining: 464ms\n",
      "814:\tlearn: 0.0264712\ttotal: 2.03s\tremaining: 461ms\n",
      "815:\tlearn: 0.0264655\ttotal: 2.03s\tremaining: 459ms\n",
      "816:\tlearn: 0.0264468\ttotal: 2.04s\tremaining: 456ms\n",
      "817:\tlearn: 0.0264377\ttotal: 2.04s\tremaining: 454ms\n",
      "818:\tlearn: 0.0264095\ttotal: 2.04s\tremaining: 451ms\n",
      "819:\tlearn: 0.0263928\ttotal: 2.04s\tremaining: 449ms\n",
      "820:\tlearn: 0.0263552\ttotal: 2.05s\tremaining: 446ms\n",
      "821:\tlearn: 0.0263510\ttotal: 2.05s\tremaining: 444ms\n",
      "822:\tlearn: 0.0263151\ttotal: 2.05s\tremaining: 441ms\n",
      "823:\tlearn: 0.0263039\ttotal: 2.05s\tremaining: 439ms\n",
      "824:\tlearn: 0.0262574\ttotal: 2.06s\tremaining: 436ms\n",
      "825:\tlearn: 0.0262435\ttotal: 2.06s\tremaining: 434ms\n",
      "826:\tlearn: 0.0262285\ttotal: 2.06s\tremaining: 431ms\n",
      "827:\tlearn: 0.0262252\ttotal: 2.06s\tremaining: 429ms\n",
      "828:\tlearn: 0.0262094\ttotal: 2.07s\tremaining: 426ms\n",
      "829:\tlearn: 0.0261910\ttotal: 2.07s\tremaining: 424ms\n",
      "830:\tlearn: 0.0261768\ttotal: 2.07s\tremaining: 421ms\n",
      "831:\tlearn: 0.0261526\ttotal: 2.07s\tremaining: 419ms\n",
      "832:\tlearn: 0.0261283\ttotal: 2.08s\tremaining: 416ms\n",
      "833:\tlearn: 0.0261162\ttotal: 2.08s\tremaining: 414ms\n",
      "834:\tlearn: 0.0261059\ttotal: 2.08s\tremaining: 411ms\n",
      "835:\tlearn: 0.0260849\ttotal: 2.08s\tremaining: 409ms\n",
      "836:\tlearn: 0.0260319\ttotal: 2.09s\tremaining: 406ms\n",
      "837:\tlearn: 0.0260137\ttotal: 2.09s\tremaining: 404ms\n",
      "838:\tlearn: 0.0259890\ttotal: 2.09s\tremaining: 401ms\n",
      "839:\tlearn: 0.0259296\ttotal: 2.09s\tremaining: 399ms\n",
      "840:\tlearn: 0.0259152\ttotal: 2.1s\tremaining: 396ms\n",
      "841:\tlearn: 0.0259062\ttotal: 2.1s\tremaining: 394ms\n",
      "842:\tlearn: 0.0259015\ttotal: 2.1s\tremaining: 391ms\n",
      "843:\tlearn: 0.0258937\ttotal: 2.1s\tremaining: 389ms\n",
      "844:\tlearn: 0.0258647\ttotal: 2.1s\tremaining: 386ms\n",
      "845:\tlearn: 0.0258320\ttotal: 2.11s\tremaining: 384ms\n",
      "846:\tlearn: 0.0257869\ttotal: 2.11s\tremaining: 381ms\n",
      "847:\tlearn: 0.0257558\ttotal: 2.11s\tremaining: 379ms\n",
      "848:\tlearn: 0.0257374\ttotal: 2.12s\tremaining: 376ms\n",
      "849:\tlearn: 0.0257104\ttotal: 2.12s\tremaining: 374ms\n",
      "850:\tlearn: 0.0256847\ttotal: 2.12s\tremaining: 371ms\n",
      "851:\tlearn: 0.0256553\ttotal: 2.12s\tremaining: 369ms\n",
      "852:\tlearn: 0.0256226\ttotal: 2.13s\tremaining: 367ms\n",
      "853:\tlearn: 0.0256192\ttotal: 2.13s\tremaining: 364ms\n",
      "854:\tlearn: 0.0256059\ttotal: 2.13s\tremaining: 362ms\n",
      "855:\tlearn: 0.0255800\ttotal: 2.13s\tremaining: 359ms\n",
      "856:\tlearn: 0.0255648\ttotal: 2.14s\tremaining: 357ms\n",
      "857:\tlearn: 0.0255416\ttotal: 2.14s\tremaining: 354ms\n"
     ]
    },
    {
     "name": "stdout",
     "output_type": "stream",
     "text": [
      "858:\tlearn: 0.0255092\ttotal: 2.14s\tremaining: 352ms\n",
      "859:\tlearn: 0.0253764\ttotal: 2.14s\tremaining: 349ms\n",
      "860:\tlearn: 0.0253590\ttotal: 2.15s\tremaining: 347ms\n",
      "861:\tlearn: 0.0253473\ttotal: 2.15s\tremaining: 344ms\n",
      "862:\tlearn: 0.0253401\ttotal: 2.15s\tremaining: 342ms\n",
      "863:\tlearn: 0.0253303\ttotal: 2.15s\tremaining: 339ms\n",
      "864:\tlearn: 0.0253208\ttotal: 2.16s\tremaining: 337ms\n",
      "865:\tlearn: 0.0253154\ttotal: 2.16s\tremaining: 334ms\n",
      "866:\tlearn: 0.0253052\ttotal: 2.16s\tremaining: 332ms\n",
      "867:\tlearn: 0.0252731\ttotal: 2.17s\tremaining: 329ms\n",
      "868:\tlearn: 0.0252580\ttotal: 2.17s\tremaining: 327ms\n",
      "869:\tlearn: 0.0252326\ttotal: 2.17s\tremaining: 324ms\n",
      "870:\tlearn: 0.0252081\ttotal: 2.17s\tremaining: 322ms\n",
      "871:\tlearn: 0.0251772\ttotal: 2.18s\tremaining: 319ms\n",
      "872:\tlearn: 0.0251335\ttotal: 2.18s\tremaining: 317ms\n",
      "873:\tlearn: 0.0251067\ttotal: 2.18s\tremaining: 314ms\n",
      "874:\tlearn: 0.0250671\ttotal: 2.18s\tremaining: 312ms\n",
      "875:\tlearn: 0.0250555\ttotal: 2.19s\tremaining: 309ms\n",
      "876:\tlearn: 0.0250163\ttotal: 2.19s\tremaining: 307ms\n",
      "877:\tlearn: 0.0249991\ttotal: 2.19s\tremaining: 305ms\n",
      "878:\tlearn: 0.0249760\ttotal: 2.19s\tremaining: 302ms\n",
      "879:\tlearn: 0.0249481\ttotal: 2.2s\tremaining: 300ms\n",
      "880:\tlearn: 0.0249180\ttotal: 2.2s\tremaining: 297ms\n",
      "881:\tlearn: 0.0248856\ttotal: 2.2s\tremaining: 295ms\n",
      "882:\tlearn: 0.0248624\ttotal: 2.2s\tremaining: 292ms\n",
      "883:\tlearn: 0.0248141\ttotal: 2.21s\tremaining: 290ms\n",
      "884:\tlearn: 0.0247982\ttotal: 2.21s\tremaining: 287ms\n",
      "885:\tlearn: 0.0247802\ttotal: 2.21s\tremaining: 285ms\n",
      "886:\tlearn: 0.0247665\ttotal: 2.21s\tremaining: 282ms\n",
      "887:\tlearn: 0.0247413\ttotal: 2.22s\tremaining: 280ms\n",
      "888:\tlearn: 0.0247361\ttotal: 2.22s\tremaining: 277ms\n",
      "889:\tlearn: 0.0247244\ttotal: 2.22s\tremaining: 275ms\n",
      "890:\tlearn: 0.0247192\ttotal: 2.22s\tremaining: 272ms\n",
      "891:\tlearn: 0.0246870\ttotal: 2.23s\tremaining: 270ms\n",
      "892:\tlearn: 0.0246339\ttotal: 2.23s\tremaining: 267ms\n",
      "893:\tlearn: 0.0245981\ttotal: 2.23s\tremaining: 265ms\n",
      "894:\tlearn: 0.0245871\ttotal: 2.23s\tremaining: 262ms\n",
      "895:\tlearn: 0.0245417\ttotal: 2.24s\tremaining: 260ms\n",
      "896:\tlearn: 0.0245236\ttotal: 2.24s\tremaining: 257ms\n",
      "897:\tlearn: 0.0244918\ttotal: 2.24s\tremaining: 255ms\n",
      "898:\tlearn: 0.0244649\ttotal: 2.24s\tremaining: 252ms\n",
      "899:\tlearn: 0.0244606\ttotal: 2.25s\tremaining: 250ms\n",
      "900:\tlearn: 0.0244311\ttotal: 2.25s\tremaining: 247ms\n",
      "901:\tlearn: 0.0243875\ttotal: 2.25s\tremaining: 245ms\n",
      "902:\tlearn: 0.0243851\ttotal: 2.25s\tremaining: 242ms\n",
      "903:\tlearn: 0.0243647\ttotal: 2.26s\tremaining: 240ms\n",
      "904:\tlearn: 0.0243467\ttotal: 2.26s\tremaining: 237ms\n",
      "905:\tlearn: 0.0243315\ttotal: 2.26s\tremaining: 235ms\n",
      "906:\tlearn: 0.0243000\ttotal: 2.26s\tremaining: 232ms\n",
      "907:\tlearn: 0.0242858\ttotal: 2.27s\tremaining: 230ms\n",
      "908:\tlearn: 0.0242757\ttotal: 2.27s\tremaining: 227ms\n",
      "909:\tlearn: 0.0242595\ttotal: 2.27s\tremaining: 225ms\n",
      "910:\tlearn: 0.0241946\ttotal: 2.27s\tremaining: 222ms\n",
      "911:\tlearn: 0.0241801\ttotal: 2.28s\tremaining: 220ms\n",
      "912:\tlearn: 0.0241674\ttotal: 2.28s\tremaining: 217ms\n",
      "913:\tlearn: 0.0241220\ttotal: 2.28s\tremaining: 215ms\n",
      "914:\tlearn: 0.0241095\ttotal: 2.28s\tremaining: 212ms\n",
      "915:\tlearn: 0.0240919\ttotal: 2.29s\tremaining: 210ms\n",
      "916:\tlearn: 0.0240746\ttotal: 2.29s\tremaining: 207ms\n",
      "917:\tlearn: 0.0240638\ttotal: 2.29s\tremaining: 205ms\n",
      "918:\tlearn: 0.0240609\ttotal: 2.29s\tremaining: 202ms\n",
      "919:\tlearn: 0.0240392\ttotal: 2.3s\tremaining: 200ms\n",
      "920:\tlearn: 0.0240307\ttotal: 2.3s\tremaining: 197ms\n",
      "921:\tlearn: 0.0240183\ttotal: 2.3s\tremaining: 195ms\n",
      "922:\tlearn: 0.0240033\ttotal: 2.3s\tremaining: 192ms\n",
      "923:\tlearn: 0.0239900\ttotal: 2.31s\tremaining: 190ms\n",
      "924:\tlearn: 0.0239464\ttotal: 2.31s\tremaining: 187ms\n",
      "925:\tlearn: 0.0239374\ttotal: 2.31s\tremaining: 185ms\n",
      "926:\tlearn: 0.0239097\ttotal: 2.31s\tremaining: 182ms\n",
      "927:\tlearn: 0.0238760\ttotal: 2.31s\tremaining: 180ms\n",
      "928:\tlearn: 0.0238391\ttotal: 2.32s\tremaining: 177ms\n",
      "929:\tlearn: 0.0238027\ttotal: 2.32s\tremaining: 175ms\n",
      "930:\tlearn: 0.0237870\ttotal: 2.32s\tremaining: 172ms\n",
      "931:\tlearn: 0.0237288\ttotal: 2.33s\tremaining: 170ms\n",
      "932:\tlearn: 0.0236790\ttotal: 2.33s\tremaining: 167ms\n",
      "933:\tlearn: 0.0236489\ttotal: 2.33s\tremaining: 165ms\n",
      "934:\tlearn: 0.0236447\ttotal: 2.33s\tremaining: 162ms\n",
      "935:\tlearn: 0.0236187\ttotal: 2.34s\tremaining: 160ms\n",
      "936:\tlearn: 0.0236047\ttotal: 2.34s\tremaining: 157ms\n",
      "937:\tlearn: 0.0235640\ttotal: 2.34s\tremaining: 155ms\n",
      "938:\tlearn: 0.0235484\ttotal: 2.35s\tremaining: 152ms\n",
      "939:\tlearn: 0.0235194\ttotal: 2.35s\tremaining: 150ms\n",
      "940:\tlearn: 0.0235100\ttotal: 2.35s\tremaining: 147ms\n",
      "941:\tlearn: 0.0234932\ttotal: 2.35s\tremaining: 145ms\n",
      "942:\tlearn: 0.0234742\ttotal: 2.36s\tremaining: 143ms\n",
      "943:\tlearn: 0.0234415\ttotal: 2.36s\tremaining: 140ms\n",
      "944:\tlearn: 0.0234232\ttotal: 2.36s\tremaining: 138ms\n",
      "945:\tlearn: 0.0233838\ttotal: 2.37s\tremaining: 135ms\n",
      "946:\tlearn: 0.0233792\ttotal: 2.37s\tremaining: 133ms\n",
      "947:\tlearn: 0.0233462\ttotal: 2.37s\tremaining: 130ms\n",
      "948:\tlearn: 0.0233231\ttotal: 2.37s\tremaining: 128ms\n",
      "949:\tlearn: 0.0233044\ttotal: 2.38s\tremaining: 125ms\n",
      "950:\tlearn: 0.0232770\ttotal: 2.38s\tremaining: 123ms\n",
      "951:\tlearn: 0.0232579\ttotal: 2.38s\tremaining: 120ms\n",
      "952:\tlearn: 0.0232452\ttotal: 2.38s\tremaining: 117ms\n",
      "953:\tlearn: 0.0232259\ttotal: 2.38s\tremaining: 115ms\n",
      "954:\tlearn: 0.0232051\ttotal: 2.39s\tremaining: 112ms\n",
      "955:\tlearn: 0.0232002\ttotal: 2.39s\tremaining: 110ms\n",
      "956:\tlearn: 0.0231949\ttotal: 2.39s\tremaining: 107ms\n",
      "957:\tlearn: 0.0231725\ttotal: 2.39s\tremaining: 105ms\n",
      "958:\tlearn: 0.0231261\ttotal: 2.4s\tremaining: 102ms\n",
      "959:\tlearn: 0.0230971\ttotal: 2.4s\tremaining: 100ms\n",
      "960:\tlearn: 0.0230761\ttotal: 2.4s\tremaining: 97.5ms\n",
      "961:\tlearn: 0.0230590\ttotal: 2.4s\tremaining: 95ms\n",
      "962:\tlearn: 0.0230446\ttotal: 2.41s\tremaining: 92.5ms\n",
      "963:\tlearn: 0.0230284\ttotal: 2.41s\tremaining: 90ms\n",
      "964:\tlearn: 0.0229910\ttotal: 2.41s\tremaining: 87.5ms\n",
      "965:\tlearn: 0.0229780\ttotal: 2.41s\tremaining: 85ms\n",
      "966:\tlearn: 0.0229715\ttotal: 2.42s\tremaining: 82.4ms\n",
      "967:\tlearn: 0.0229561\ttotal: 2.42s\tremaining: 79.9ms\n",
      "968:\tlearn: 0.0229277\ttotal: 2.42s\tremaining: 77.4ms\n",
      "969:\tlearn: 0.0228646\ttotal: 2.42s\tremaining: 74.9ms\n",
      "970:\tlearn: 0.0228541\ttotal: 2.42s\tremaining: 72.4ms\n",
      "971:\tlearn: 0.0228405\ttotal: 2.43s\tremaining: 69.9ms\n",
      "972:\tlearn: 0.0228287\ttotal: 2.43s\tremaining: 67.4ms\n",
      "973:\tlearn: 0.0228244\ttotal: 2.43s\tremaining: 64.9ms\n",
      "974:\tlearn: 0.0227619\ttotal: 2.44s\tremaining: 62.4ms\n",
      "975:\tlearn: 0.0227092\ttotal: 2.44s\tremaining: 59.9ms\n",
      "976:\tlearn: 0.0226682\ttotal: 2.44s\tremaining: 57.4ms\n",
      "977:\tlearn: 0.0226581\ttotal: 2.44s\tremaining: 54.9ms\n",
      "978:\tlearn: 0.0226415\ttotal: 2.44s\tremaining: 52.4ms\n",
      "979:\tlearn: 0.0226168\ttotal: 2.45s\tremaining: 50ms\n",
      "980:\tlearn: 0.0225912\ttotal: 2.45s\tremaining: 47.5ms\n",
      "981:\tlearn: 0.0225714\ttotal: 2.45s\tremaining: 45ms\n",
      "982:\tlearn: 0.0225347\ttotal: 2.46s\tremaining: 42.5ms\n",
      "983:\tlearn: 0.0225179\ttotal: 2.46s\tremaining: 40ms\n",
      "984:\tlearn: 0.0224581\ttotal: 2.46s\tremaining: 37.5ms\n",
      "985:\tlearn: 0.0223812\ttotal: 2.46s\tremaining: 35ms\n",
      "986:\tlearn: 0.0223556\ttotal: 2.46s\tremaining: 32.5ms\n",
      "987:\tlearn: 0.0223200\ttotal: 2.47s\tremaining: 30ms\n",
      "988:\tlearn: 0.0223153\ttotal: 2.47s\tremaining: 27.5ms\n",
      "989:\tlearn: 0.0222964\ttotal: 2.47s\tremaining: 25ms\n",
      "990:\tlearn: 0.0222827\ttotal: 2.47s\tremaining: 22.5ms\n",
      "991:\tlearn: 0.0222291\ttotal: 2.48s\tremaining: 20ms\n",
      "992:\tlearn: 0.0221888\ttotal: 2.48s\tremaining: 17.5ms\n",
      "993:\tlearn: 0.0221746\ttotal: 2.48s\tremaining: 15ms\n",
      "994:\tlearn: 0.0221552\ttotal: 2.48s\tremaining: 12.5ms\n",
      "995:\tlearn: 0.0221386\ttotal: 2.49s\tremaining: 9.99ms\n",
      "996:\tlearn: 0.0221341\ttotal: 2.49s\tremaining: 7.49ms\n",
      "997:\tlearn: 0.0221085\ttotal: 2.49s\tremaining: 4.99ms\n",
      "998:\tlearn: 0.0220850\ttotal: 2.49s\tremaining: 2.5ms\n",
      "999:\tlearn: 0.0220747\ttotal: 2.5s\tremaining: 0us\n"
     ]
    },
    {
     "name": "stderr",
     "output_type": "stream",
     "text": [
      "/home/user/.local/lib/python3.10/site-packages/sklearn/preprocessing/_label.py:154: DataConversionWarning: A column-vector y was passed when a 1d array was expected. Please change the shape of y to (n_samples, ), for example using ravel().\n",
      "  y = column_or_1d(y, warn=True)\n"
     ]
    },
    {
     "name": "stdout",
     "output_type": "stream",
     "text": [
      "SCORE: 0.9768552219967054\n",
      "Learning rate set to 0.084774\n",
      "0:\tlearn: 1.7952709\ttotal: 2.51ms\tremaining: 2.51s\n",
      "1:\tlearn: 1.6556247\ttotal: 5.86ms\tremaining: 2.92s\n",
      "2:\tlearn: 1.5227325\ttotal: 8.04ms\tremaining: 2.67s\n",
      "3:\tlearn: 1.4175403\ttotal: 10.1ms\tremaining: 2.5s\n",
      "4:\tlearn: 1.3316342\ttotal: 12.3ms\tremaining: 2.44s\n",
      "5:\tlearn: 1.2586311\ttotal: 14.3ms\tremaining: 2.37s\n",
      "6:\tlearn: 1.1840057\ttotal: 16.4ms\tremaining: 2.32s\n",
      "7:\tlearn: 1.1241414\ttotal: 20.5ms\tremaining: 2.54s\n",
      "8:\tlearn: 1.0591882\ttotal: 22.6ms\tremaining: 2.49s\n",
      "9:\tlearn: 1.0066013\ttotal: 24.7ms\tremaining: 2.45s\n",
      "10:\tlearn: 0.9498165\ttotal: 26.8ms\tremaining: 2.41s\n",
      "11:\tlearn: 0.9033298\ttotal: 28.9ms\tremaining: 2.38s\n",
      "12:\tlearn: 0.8604216\ttotal: 30.9ms\tremaining: 2.35s\n",
      "13:\tlearn: 0.8197736\ttotal: 33.1ms\tremaining: 2.33s\n",
      "14:\tlearn: 0.7838322\ttotal: 35.5ms\tremaining: 2.33s\n",
      "15:\tlearn: 0.7481568\ttotal: 37.8ms\tremaining: 2.33s\n",
      "16:\tlearn: 0.7156720\ttotal: 40ms\tremaining: 2.31s\n",
      "17:\tlearn: 0.6846835\ttotal: 42.1ms\tremaining: 2.29s\n",
      "18:\tlearn: 0.6560387\ttotal: 44.1ms\tremaining: 2.28s\n",
      "19:\tlearn: 0.6278128\ttotal: 46.2ms\tremaining: 2.26s\n",
      "20:\tlearn: 0.6017691\ttotal: 48.4ms\tremaining: 2.26s\n",
      "21:\tlearn: 0.5769250\ttotal: 51.4ms\tremaining: 2.29s\n",
      "22:\tlearn: 0.5522230\ttotal: 53.6ms\tremaining: 2.28s\n",
      "23:\tlearn: 0.5315042\ttotal: 55.8ms\tremaining: 2.27s\n",
      "24:\tlearn: 0.5104173\ttotal: 58ms\tremaining: 2.26s\n",
      "25:\tlearn: 0.4911266\ttotal: 60.1ms\tremaining: 2.25s\n",
      "26:\tlearn: 0.4720656\ttotal: 62.2ms\tremaining: 2.24s\n",
      "27:\tlearn: 0.4550419\ttotal: 64.4ms\tremaining: 2.23s\n",
      "28:\tlearn: 0.4407511\ttotal: 67.6ms\tremaining: 2.26s\n",
      "29:\tlearn: 0.4250977\ttotal: 70ms\tremaining: 2.26s\n",
      "30:\tlearn: 0.4092741\ttotal: 72.3ms\tremaining: 2.26s\n",
      "31:\tlearn: 0.3942859\ttotal: 74.4ms\tremaining: 2.25s\n",
      "32:\tlearn: 0.3801858\ttotal: 76.6ms\tremaining: 2.25s\n",
      "33:\tlearn: 0.3675039\ttotal: 78.8ms\tremaining: 2.24s\n",
      "34:\tlearn: 0.3554748\ttotal: 80.9ms\tremaining: 2.23s\n",
      "35:\tlearn: 0.3425446\ttotal: 83.2ms\tremaining: 2.23s\n",
      "36:\tlearn: 0.3311791\ttotal: 85.5ms\tremaining: 2.22s\n",
      "37:\tlearn: 0.3194757\ttotal: 87.7ms\tremaining: 2.22s\n",
      "38:\tlearn: 0.3093425\ttotal: 89.8ms\tremaining: 2.21s\n",
      "39:\tlearn: 0.2997942\ttotal: 91.9ms\tremaining: 2.21s\n",
      "40:\tlearn: 0.2903730\ttotal: 94.1ms\tremaining: 2.2s\n",
      "41:\tlearn: 0.2813891\ttotal: 96.4ms\tremaining: 2.2s\n",
      "42:\tlearn: 0.2720441\ttotal: 99.7ms\tremaining: 2.22s\n",
      "43:\tlearn: 0.2647705\ttotal: 102ms\tremaining: 2.21s\n",
      "44:\tlearn: 0.2577371\ttotal: 104ms\tremaining: 2.21s\n",
      "45:\tlearn: 0.2496969\ttotal: 106ms\tremaining: 2.21s\n",
      "46:\tlearn: 0.2423487\ttotal: 109ms\tremaining: 2.2s\n",
      "47:\tlearn: 0.2353045\ttotal: 111ms\tremaining: 2.2s\n",
      "48:\tlearn: 0.2282825\ttotal: 113ms\tremaining: 2.19s\n",
      "49:\tlearn: 0.2219942\ttotal: 116ms\tremaining: 2.2s\n",
      "50:\tlearn: 0.2155342\ttotal: 118ms\tremaining: 2.19s\n",
      "51:\tlearn: 0.2096959\ttotal: 120ms\tremaining: 2.19s\n",
      "52:\tlearn: 0.2038181\ttotal: 122ms\tremaining: 2.19s\n",
      "53:\tlearn: 0.1982559\ttotal: 125ms\tremaining: 2.18s\n",
      "54:\tlearn: 0.1934937\ttotal: 127ms\tremaining: 2.18s\n",
      "55:\tlearn: 0.1892069\ttotal: 129ms\tremaining: 2.17s\n",
      "56:\tlearn: 0.1845921\ttotal: 132ms\tremaining: 2.17s\n",
      "57:\tlearn: 0.1809523\ttotal: 134ms\tremaining: 2.18s\n",
      "58:\tlearn: 0.1772862\ttotal: 136ms\tremaining: 2.17s\n",
      "59:\tlearn: 0.1738367\ttotal: 138ms\tremaining: 2.17s\n",
      "60:\tlearn: 0.1705010\ttotal: 141ms\tremaining: 2.17s\n",
      "61:\tlearn: 0.1665461\ttotal: 143ms\tremaining: 2.16s\n",
      "62:\tlearn: 0.1633356\ttotal: 145ms\tremaining: 2.16s\n",
      "63:\tlearn: 0.1597915\ttotal: 148ms\tremaining: 2.16s\n",
      "64:\tlearn: 0.1567276\ttotal: 150ms\tremaining: 2.16s\n",
      "65:\tlearn: 0.1532886\ttotal: 152ms\tremaining: 2.16s\n",
      "66:\tlearn: 0.1499256\ttotal: 155ms\tremaining: 2.15s\n",
      "67:\tlearn: 0.1469093\ttotal: 157ms\tremaining: 2.15s\n",
      "68:\tlearn: 0.1442405\ttotal: 159ms\tremaining: 2.15s\n",
      "69:\tlearn: 0.1418996\ttotal: 161ms\tremaining: 2.14s\n",
      "70:\tlearn: 0.1394037\ttotal: 164ms\tremaining: 2.14s\n",
      "71:\tlearn: 0.1371956\ttotal: 166ms\tremaining: 2.14s\n",
      "72:\tlearn: 0.1345599\ttotal: 169ms\tremaining: 2.14s\n",
      "73:\tlearn: 0.1322335\ttotal: 171ms\tremaining: 2.14s\n",
      "74:\tlearn: 0.1304550\ttotal: 173ms\tremaining: 2.13s\n",
      "75:\tlearn: 0.1278631\ttotal: 176ms\tremaining: 2.13s\n",
      "76:\tlearn: 0.1257898\ttotal: 178ms\tremaining: 2.13s\n",
      "77:\tlearn: 0.1239515\ttotal: 180ms\tremaining: 2.13s\n",
      "78:\tlearn: 0.1232242\ttotal: 183ms\tremaining: 2.13s\n",
      "79:\tlearn: 0.1215204\ttotal: 185ms\tremaining: 2.13s\n",
      "80:\tlearn: 0.1197990\ttotal: 187ms\tremaining: 2.13s\n",
      "81:\tlearn: 0.1186868\ttotal: 190ms\tremaining: 2.12s\n",
      "82:\tlearn: 0.1173809\ttotal: 192ms\tremaining: 2.12s\n",
      "83:\tlearn: 0.1156718\ttotal: 196ms\tremaining: 2.13s\n",
      "84:\tlearn: 0.1143948\ttotal: 199ms\tremaining: 2.14s\n",
      "85:\tlearn: 0.1131415\ttotal: 201ms\tremaining: 2.14s\n",
      "86:\tlearn: 0.1113493\ttotal: 203ms\tremaining: 2.13s\n",
      "87:\tlearn: 0.1105096\ttotal: 206ms\tremaining: 2.13s\n",
      "88:\tlearn: 0.1089411\ttotal: 208ms\tremaining: 2.13s\n",
      "89:\tlearn: 0.1079964\ttotal: 212ms\tremaining: 2.14s\n",
      "90:\tlearn: 0.1074245\ttotal: 214ms\tremaining: 2.14s\n",
      "91:\tlearn: 0.1068796\ttotal: 217ms\tremaining: 2.14s\n",
      "92:\tlearn: 0.1056656\ttotal: 219ms\tremaining: 2.14s\n",
      "93:\tlearn: 0.1048095\ttotal: 222ms\tremaining: 2.14s\n",
      "94:\tlearn: 0.1033889\ttotal: 224ms\tremaining: 2.13s\n",
      "95:\tlearn: 0.1024499\ttotal: 228ms\tremaining: 2.14s\n",
      "96:\tlearn: 0.1013101\ttotal: 230ms\tremaining: 2.14s\n",
      "97:\tlearn: 0.1006127\ttotal: 232ms\tremaining: 2.14s\n",
      "98:\tlearn: 0.0997122\ttotal: 235ms\tremaining: 2.14s\n",
      "99:\tlearn: 0.0990279\ttotal: 237ms\tremaining: 2.13s\n",
      "100:\tlearn: 0.0986498\ttotal: 239ms\tremaining: 2.13s\n",
      "101:\tlearn: 0.0980072\ttotal: 244ms\tremaining: 2.14s\n",
      "102:\tlearn: 0.0968856\ttotal: 246ms\tremaining: 2.14s\n",
      "103:\tlearn: 0.0962526\ttotal: 248ms\tremaining: 2.14s\n",
      "104:\tlearn: 0.0956626\ttotal: 251ms\tremaining: 2.14s\n",
      "105:\tlearn: 0.0950032\ttotal: 253ms\tremaining: 2.13s\n",
      "106:\tlearn: 0.0940287\ttotal: 255ms\tremaining: 2.13s\n",
      "107:\tlearn: 0.0930505\ttotal: 258ms\tremaining: 2.13s\n",
      "108:\tlearn: 0.0920670\ttotal: 260ms\tremaining: 2.13s\n",
      "109:\tlearn: 0.0911310\ttotal: 263ms\tremaining: 2.13s\n",
      "110:\tlearn: 0.0906993\ttotal: 265ms\tremaining: 2.12s\n",
      "111:\tlearn: 0.0899973\ttotal: 268ms\tremaining: 2.12s\n",
      "112:\tlearn: 0.0894194\ttotal: 270ms\tremaining: 2.12s\n",
      "113:\tlearn: 0.0890315\ttotal: 272ms\tremaining: 2.12s\n",
      "114:\tlearn: 0.0885468\ttotal: 276ms\tremaining: 2.12s\n",
      "115:\tlearn: 0.0882040\ttotal: 278ms\tremaining: 2.12s\n",
      "116:\tlearn: 0.0880323\ttotal: 281ms\tremaining: 2.12s\n",
      "117:\tlearn: 0.0875878\ttotal: 283ms\tremaining: 2.12s\n",
      "118:\tlearn: 0.0871881\ttotal: 285ms\tremaining: 2.11s\n",
      "119:\tlearn: 0.0867898\ttotal: 288ms\tremaining: 2.11s\n",
      "120:\tlearn: 0.0864507\ttotal: 290ms\tremaining: 2.11s\n",
      "121:\tlearn: 0.0857181\ttotal: 293ms\tremaining: 2.1s\n",
      "122:\tlearn: 0.0854292\ttotal: 295ms\tremaining: 2.1s\n",
      "123:\tlearn: 0.0850391\ttotal: 298ms\tremaining: 2.1s\n",
      "124:\tlearn: 0.0845095\ttotal: 300ms\tremaining: 2.1s\n",
      "125:\tlearn: 0.0837978\ttotal: 302ms\tremaining: 2.1s\n",
      "126:\tlearn: 0.0835631\ttotal: 305ms\tremaining: 2.09s\n",
      "127:\tlearn: 0.0833630\ttotal: 307ms\tremaining: 2.09s\n",
      "128:\tlearn: 0.0830979\ttotal: 310ms\tremaining: 2.09s\n",
      "129:\tlearn: 0.0827987\ttotal: 313ms\tremaining: 2.1s\n",
      "130:\tlearn: 0.0822255\ttotal: 316ms\tremaining: 2.09s\n",
      "131:\tlearn: 0.0818731\ttotal: 318ms\tremaining: 2.09s\n",
      "132:\tlearn: 0.0814695\ttotal: 320ms\tremaining: 2.09s\n",
      "133:\tlearn: 0.0811237\ttotal: 323ms\tremaining: 2.08s\n",
      "134:\tlearn: 0.0808812\ttotal: 326ms\tremaining: 2.08s\n",
      "135:\tlearn: 0.0805290\ttotal: 328ms\tremaining: 2.08s\n",
      "136:\tlearn: 0.0801885\ttotal: 330ms\tremaining: 2.08s\n",
      "137:\tlearn: 0.0799437\ttotal: 333ms\tremaining: 2.08s\n",
      "138:\tlearn: 0.0797555\ttotal: 335ms\tremaining: 2.08s\n",
      "139:\tlearn: 0.0796764\ttotal: 338ms\tremaining: 2.07s\n",
      "140:\tlearn: 0.0794250\ttotal: 341ms\tremaining: 2.08s\n",
      "141:\tlearn: 0.0791460\ttotal: 344ms\tremaining: 2.08s\n",
      "142:\tlearn: 0.0790420\ttotal: 346ms\tremaining: 2.07s\n",
      "143:\tlearn: 0.0786800\ttotal: 348ms\tremaining: 2.07s\n",
      "144:\tlearn: 0.0781536\ttotal: 351ms\tremaining: 2.07s\n",
      "145:\tlearn: 0.0778402\ttotal: 353ms\tremaining: 2.07s\n",
      "146:\tlearn: 0.0776557\ttotal: 356ms\tremaining: 2.06s\n",
      "147:\tlearn: 0.0775787\ttotal: 358ms\tremaining: 2.06s\n",
      "148:\tlearn: 0.0772025\ttotal: 361ms\tremaining: 2.06s\n",
      "149:\tlearn: 0.0769333\ttotal: 363ms\tremaining: 2.06s\n",
      "150:\tlearn: 0.0768534\ttotal: 365ms\tremaining: 2.05s\n",
      "151:\tlearn: 0.0765997\ttotal: 368ms\tremaining: 2.05s\n",
      "152:\tlearn: 0.0761796\ttotal: 370ms\tremaining: 2.05s\n",
      "153:\tlearn: 0.0758372\ttotal: 373ms\tremaining: 2.05s\n",
      "154:\tlearn: 0.0756315\ttotal: 376ms\tremaining: 2.05s\n",
      "155:\tlearn: 0.0754381\ttotal: 378ms\tremaining: 2.04s\n",
      "156:\tlearn: 0.0752413\ttotal: 380ms\tremaining: 2.04s\n",
      "157:\tlearn: 0.0747022\ttotal: 383ms\tremaining: 2.04s\n",
      "158:\tlearn: 0.0746181\ttotal: 385ms\tremaining: 2.04s\n",
      "159:\tlearn: 0.0743236\ttotal: 388ms\tremaining: 2.03s\n"
     ]
    },
    {
     "name": "stdout",
     "output_type": "stream",
     "text": [
      "160:\tlearn: 0.0741376\ttotal: 390ms\tremaining: 2.03s\n",
      "161:\tlearn: 0.0740203\ttotal: 394ms\tremaining: 2.04s\n",
      "162:\tlearn: 0.0737372\ttotal: 396ms\tremaining: 2.03s\n",
      "163:\tlearn: 0.0734767\ttotal: 399ms\tremaining: 2.03s\n",
      "164:\tlearn: 0.0734079\ttotal: 401ms\tremaining: 2.03s\n",
      "165:\tlearn: 0.0731595\ttotal: 404ms\tremaining: 2.03s\n",
      "166:\tlearn: 0.0728024\ttotal: 406ms\tremaining: 2.03s\n",
      "167:\tlearn: 0.0726306\ttotal: 409ms\tremaining: 2.02s\n",
      "168:\tlearn: 0.0723733\ttotal: 411ms\tremaining: 2.02s\n",
      "169:\tlearn: 0.0721586\ttotal: 414ms\tremaining: 2.02s\n",
      "170:\tlearn: 0.0719887\ttotal: 416ms\tremaining: 2.02s\n",
      "171:\tlearn: 0.0715430\ttotal: 418ms\tremaining: 2.01s\n",
      "172:\tlearn: 0.0713291\ttotal: 421ms\tremaining: 2.01s\n",
      "173:\tlearn: 0.0711872\ttotal: 423ms\tremaining: 2.01s\n",
      "174:\tlearn: 0.0710975\ttotal: 426ms\tremaining: 2.01s\n",
      "175:\tlearn: 0.0708987\ttotal: 428ms\tremaining: 2s\n",
      "176:\tlearn: 0.0705641\ttotal: 431ms\tremaining: 2s\n",
      "177:\tlearn: 0.0703229\ttotal: 434ms\tremaining: 2s\n",
      "178:\tlearn: 0.0701914\ttotal: 436ms\tremaining: 2s\n",
      "179:\tlearn: 0.0699821\ttotal: 439ms\tremaining: 2s\n",
      "180:\tlearn: 0.0698122\ttotal: 441ms\tremaining: 2s\n",
      "181:\tlearn: 0.0695827\ttotal: 444ms\tremaining: 1.99s\n",
      "182:\tlearn: 0.0694274\ttotal: 446ms\tremaining: 1.99s\n",
      "183:\tlearn: 0.0692929\ttotal: 449ms\tremaining: 1.99s\n",
      "184:\tlearn: 0.0691579\ttotal: 451ms\tremaining: 1.99s\n",
      "185:\tlearn: 0.0689796\ttotal: 455ms\tremaining: 1.99s\n",
      "186:\tlearn: 0.0687837\ttotal: 457ms\tremaining: 1.99s\n",
      "187:\tlearn: 0.0686956\ttotal: 460ms\tremaining: 1.99s\n",
      "188:\tlearn: 0.0685695\ttotal: 462ms\tremaining: 1.98s\n",
      "189:\tlearn: 0.0685341\ttotal: 465ms\tremaining: 1.98s\n",
      "190:\tlearn: 0.0682665\ttotal: 467ms\tremaining: 1.98s\n",
      "191:\tlearn: 0.0679102\ttotal: 471ms\tremaining: 1.98s\n",
      "192:\tlearn: 0.0678008\ttotal: 473ms\tremaining: 1.98s\n",
      "193:\tlearn: 0.0675724\ttotal: 476ms\tremaining: 1.98s\n",
      "194:\tlearn: 0.0673852\ttotal: 478ms\tremaining: 1.97s\n",
      "195:\tlearn: 0.0672258\ttotal: 480ms\tremaining: 1.97s\n",
      "196:\tlearn: 0.0670930\ttotal: 483ms\tremaining: 1.97s\n",
      "197:\tlearn: 0.0669662\ttotal: 485ms\tremaining: 1.97s\n",
      "198:\tlearn: 0.0668242\ttotal: 488ms\tremaining: 1.96s\n",
      "199:\tlearn: 0.0666598\ttotal: 490ms\tremaining: 1.96s\n",
      "200:\tlearn: 0.0663799\ttotal: 493ms\tremaining: 1.96s\n",
      "201:\tlearn: 0.0660981\ttotal: 495ms\tremaining: 1.96s\n",
      "202:\tlearn: 0.0659026\ttotal: 498ms\tremaining: 1.95s\n",
      "203:\tlearn: 0.0658055\ttotal: 500ms\tremaining: 1.95s\n",
      "204:\tlearn: 0.0656638\ttotal: 503ms\tremaining: 1.95s\n",
      "205:\tlearn: 0.0654235\ttotal: 505ms\tremaining: 1.95s\n",
      "206:\tlearn: 0.0651410\ttotal: 508ms\tremaining: 1.94s\n",
      "207:\tlearn: 0.0649965\ttotal: 510ms\tremaining: 1.94s\n",
      "208:\tlearn: 0.0648821\ttotal: 513ms\tremaining: 1.94s\n",
      "209:\tlearn: 0.0645137\ttotal: 515ms\tremaining: 1.94s\n",
      "210:\tlearn: 0.0644045\ttotal: 518ms\tremaining: 1.94s\n",
      "211:\tlearn: 0.0643697\ttotal: 521ms\tremaining: 1.94s\n",
      "212:\tlearn: 0.0642314\ttotal: 523ms\tremaining: 1.93s\n",
      "213:\tlearn: 0.0639924\ttotal: 525ms\tremaining: 1.93s\n",
      "214:\tlearn: 0.0638467\ttotal: 528ms\tremaining: 1.93s\n",
      "215:\tlearn: 0.0637109\ttotal: 530ms\tremaining: 1.92s\n",
      "216:\tlearn: 0.0635286\ttotal: 533ms\tremaining: 1.92s\n",
      "217:\tlearn: 0.0634044\ttotal: 535ms\tremaining: 1.92s\n",
      "218:\tlearn: 0.0633758\ttotal: 538ms\tremaining: 1.92s\n",
      "219:\tlearn: 0.0632321\ttotal: 540ms\tremaining: 1.91s\n",
      "220:\tlearn: 0.0630369\ttotal: 542ms\tremaining: 1.91s\n",
      "221:\tlearn: 0.0629904\ttotal: 545ms\tremaining: 1.91s\n",
      "222:\tlearn: 0.0629107\ttotal: 547ms\tremaining: 1.91s\n",
      "223:\tlearn: 0.0628566\ttotal: 550ms\tremaining: 1.9s\n",
      "224:\tlearn: 0.0626731\ttotal: 552ms\tremaining: 1.9s\n",
      "225:\tlearn: 0.0624641\ttotal: 555ms\tremaining: 1.9s\n",
      "226:\tlearn: 0.0623515\ttotal: 557ms\tremaining: 1.9s\n",
      "227:\tlearn: 0.0622615\ttotal: 560ms\tremaining: 1.89s\n",
      "228:\tlearn: 0.0621763\ttotal: 562ms\tremaining: 1.89s\n",
      "229:\tlearn: 0.0620975\ttotal: 564ms\tremaining: 1.89s\n",
      "230:\tlearn: 0.0619855\ttotal: 567ms\tremaining: 1.89s\n",
      "231:\tlearn: 0.0618601\ttotal: 570ms\tremaining: 1.89s\n",
      "232:\tlearn: 0.0616996\ttotal: 572ms\tremaining: 1.88s\n",
      "233:\tlearn: 0.0615955\ttotal: 574ms\tremaining: 1.88s\n",
      "234:\tlearn: 0.0614683\ttotal: 577ms\tremaining: 1.88s\n",
      "235:\tlearn: 0.0612887\ttotal: 579ms\tremaining: 1.87s\n",
      "236:\tlearn: 0.0610757\ttotal: 582ms\tremaining: 1.87s\n",
      "237:\tlearn: 0.0609605\ttotal: 584ms\tremaining: 1.87s\n",
      "238:\tlearn: 0.0608730\ttotal: 587ms\tremaining: 1.87s\n",
      "239:\tlearn: 0.0607652\ttotal: 590ms\tremaining: 1.87s\n",
      "240:\tlearn: 0.0607273\ttotal: 592ms\tremaining: 1.86s\n",
      "241:\tlearn: 0.0606021\ttotal: 595ms\tremaining: 1.86s\n",
      "242:\tlearn: 0.0605479\ttotal: 597ms\tremaining: 1.86s\n",
      "243:\tlearn: 0.0604170\ttotal: 600ms\tremaining: 1.86s\n",
      "244:\tlearn: 0.0602422\ttotal: 602ms\tremaining: 1.86s\n",
      "245:\tlearn: 0.0601508\ttotal: 605ms\tremaining: 1.85s\n",
      "246:\tlearn: 0.0600430\ttotal: 607ms\tremaining: 1.85s\n",
      "247:\tlearn: 0.0599342\ttotal: 610ms\tremaining: 1.85s\n",
      "248:\tlearn: 0.0598236\ttotal: 612ms\tremaining: 1.85s\n",
      "249:\tlearn: 0.0597990\ttotal: 616ms\tremaining: 1.85s\n",
      "250:\tlearn: 0.0597248\ttotal: 618ms\tremaining: 1.84s\n",
      "251:\tlearn: 0.0594813\ttotal: 621ms\tremaining: 1.84s\n",
      "252:\tlearn: 0.0593869\ttotal: 624ms\tremaining: 1.84s\n",
      "253:\tlearn: 0.0591231\ttotal: 626ms\tremaining: 1.84s\n",
      "254:\tlearn: 0.0590076\ttotal: 629ms\tremaining: 1.84s\n",
      "255:\tlearn: 0.0588800\ttotal: 633ms\tremaining: 1.84s\n",
      "256:\tlearn: 0.0587857\ttotal: 635ms\tremaining: 1.84s\n",
      "257:\tlearn: 0.0586364\ttotal: 638ms\tremaining: 1.83s\n",
      "258:\tlearn: 0.0584799\ttotal: 640ms\tremaining: 1.83s\n",
      "259:\tlearn: 0.0583566\ttotal: 643ms\tremaining: 1.83s\n",
      "260:\tlearn: 0.0582691\ttotal: 645ms\tremaining: 1.83s\n",
      "261:\tlearn: 0.0581687\ttotal: 649ms\tremaining: 1.83s\n",
      "262:\tlearn: 0.0579865\ttotal: 651ms\tremaining: 1.82s\n",
      "263:\tlearn: 0.0579102\ttotal: 654ms\tremaining: 1.82s\n",
      "264:\tlearn: 0.0577577\ttotal: 656ms\tremaining: 1.82s\n",
      "265:\tlearn: 0.0577202\ttotal: 659ms\tremaining: 1.82s\n",
      "266:\tlearn: 0.0576387\ttotal: 661ms\tremaining: 1.81s\n",
      "267:\tlearn: 0.0575215\ttotal: 665ms\tremaining: 1.82s\n",
      "268:\tlearn: 0.0574314\ttotal: 668ms\tremaining: 1.81s\n",
      "269:\tlearn: 0.0573033\ttotal: 670ms\tremaining: 1.81s\n",
      "270:\tlearn: 0.0571662\ttotal: 672ms\tremaining: 1.81s\n",
      "271:\tlearn: 0.0570995\ttotal: 675ms\tremaining: 1.81s\n",
      "272:\tlearn: 0.0570225\ttotal: 677ms\tremaining: 1.8s\n",
      "273:\tlearn: 0.0568725\ttotal: 680ms\tremaining: 1.8s\n",
      "274:\tlearn: 0.0567327\ttotal: 682ms\tremaining: 1.8s\n",
      "275:\tlearn: 0.0566619\ttotal: 685ms\tremaining: 1.8s\n",
      "276:\tlearn: 0.0565904\ttotal: 687ms\tremaining: 1.79s\n",
      "277:\tlearn: 0.0564406\ttotal: 689ms\tremaining: 1.79s\n",
      "278:\tlearn: 0.0562161\ttotal: 692ms\tremaining: 1.79s\n",
      "279:\tlearn: 0.0560901\ttotal: 694ms\tremaining: 1.78s\n",
      "280:\tlearn: 0.0558268\ttotal: 697ms\tremaining: 1.78s\n",
      "281:\tlearn: 0.0557259\ttotal: 700ms\tremaining: 1.78s\n",
      "282:\tlearn: 0.0556240\ttotal: 702ms\tremaining: 1.78s\n",
      "283:\tlearn: 0.0555232\ttotal: 704ms\tremaining: 1.77s\n",
      "284:\tlearn: 0.0552994\ttotal: 707ms\tremaining: 1.77s\n",
      "285:\tlearn: 0.0552068\ttotal: 709ms\tremaining: 1.77s\n",
      "286:\tlearn: 0.0551043\ttotal: 713ms\tremaining: 1.77s\n",
      "287:\tlearn: 0.0550020\ttotal: 715ms\tremaining: 1.77s\n",
      "288:\tlearn: 0.0549268\ttotal: 717ms\tremaining: 1.76s\n",
      "289:\tlearn: 0.0548323\ttotal: 720ms\tremaining: 1.76s\n",
      "290:\tlearn: 0.0547447\ttotal: 722ms\tremaining: 1.76s\n",
      "291:\tlearn: 0.0546549\ttotal: 724ms\tremaining: 1.76s\n",
      "292:\tlearn: 0.0545699\ttotal: 728ms\tremaining: 1.76s\n",
      "293:\tlearn: 0.0544432\ttotal: 731ms\tremaining: 1.75s\n",
      "294:\tlearn: 0.0543539\ttotal: 733ms\tremaining: 1.75s\n",
      "295:\tlearn: 0.0542935\ttotal: 736ms\tremaining: 1.75s\n",
      "296:\tlearn: 0.0542377\ttotal: 738ms\tremaining: 1.75s\n",
      "297:\tlearn: 0.0540905\ttotal: 740ms\tremaining: 1.74s\n",
      "298:\tlearn: 0.0538984\ttotal: 743ms\tremaining: 1.74s\n",
      "299:\tlearn: 0.0537687\ttotal: 745ms\tremaining: 1.74s\n",
      "300:\tlearn: 0.0536408\ttotal: 748ms\tremaining: 1.74s\n",
      "301:\tlearn: 0.0535044\ttotal: 750ms\tremaining: 1.73s\n",
      "302:\tlearn: 0.0534499\ttotal: 753ms\tremaining: 1.73s\n",
      "303:\tlearn: 0.0534061\ttotal: 755ms\tremaining: 1.73s\n",
      "304:\tlearn: 0.0533632\ttotal: 758ms\tremaining: 1.73s\n",
      "305:\tlearn: 0.0531456\ttotal: 762ms\tremaining: 1.73s\n",
      "306:\tlearn: 0.0531187\ttotal: 764ms\tremaining: 1.73s\n",
      "307:\tlearn: 0.0530391\ttotal: 767ms\tremaining: 1.72s\n",
      "308:\tlearn: 0.0529763\ttotal: 769ms\tremaining: 1.72s\n",
      "309:\tlearn: 0.0528931\ttotal: 772ms\tremaining: 1.72s\n",
      "310:\tlearn: 0.0527311\ttotal: 774ms\tremaining: 1.72s\n",
      "311:\tlearn: 0.0526800\ttotal: 778ms\tremaining: 1.72s\n",
      "312:\tlearn: 0.0526228\ttotal: 781ms\tremaining: 1.71s\n",
      "313:\tlearn: 0.0525344\ttotal: 783ms\tremaining: 1.71s\n",
      "314:\tlearn: 0.0523817\ttotal: 786ms\tremaining: 1.71s\n",
      "315:\tlearn: 0.0523369\ttotal: 788ms\tremaining: 1.71s\n",
      "316:\tlearn: 0.0522782\ttotal: 791ms\tremaining: 1.7s\n",
      "317:\tlearn: 0.0522566\ttotal: 794ms\tremaining: 1.7s\n",
      "318:\tlearn: 0.0521845\ttotal: 797ms\tremaining: 1.7s\n",
      "319:\tlearn: 0.0519870\ttotal: 799ms\tremaining: 1.7s\n",
      "320:\tlearn: 0.0519122\ttotal: 802ms\tremaining: 1.7s\n",
      "321:\tlearn: 0.0517178\ttotal: 804ms\tremaining: 1.69s\n",
      "322:\tlearn: 0.0516463\ttotal: 807ms\tremaining: 1.69s\n",
      "323:\tlearn: 0.0515937\ttotal: 809ms\tremaining: 1.69s\n",
      "324:\tlearn: 0.0515275\ttotal: 812ms\tremaining: 1.69s\n",
      "325:\tlearn: 0.0514659\ttotal: 814ms\tremaining: 1.68s\n",
      "326:\tlearn: 0.0513818\ttotal: 817ms\tremaining: 1.68s\n",
      "327:\tlearn: 0.0513170\ttotal: 819ms\tremaining: 1.68s\n",
      "328:\tlearn: 0.0511149\ttotal: 822ms\tremaining: 1.68s\n",
      "329:\tlearn: 0.0509823\ttotal: 825ms\tremaining: 1.68s\n",
      "330:\tlearn: 0.0509216\ttotal: 828ms\tremaining: 1.67s\n",
      "331:\tlearn: 0.0508185\ttotal: 830ms\tremaining: 1.67s\n",
      "332:\tlearn: 0.0507016\ttotal: 833ms\tremaining: 1.67s\n",
      "333:\tlearn: 0.0506312\ttotal: 835ms\tremaining: 1.67s\n",
      "334:\tlearn: 0.0505700\ttotal: 838ms\tremaining: 1.66s\n",
      "335:\tlearn: 0.0505498\ttotal: 842ms\tremaining: 1.66s\n",
      "336:\tlearn: 0.0503924\ttotal: 845ms\tremaining: 1.66s\n",
      "337:\tlearn: 0.0502975\ttotal: 849ms\tremaining: 1.66s\n",
      "338:\tlearn: 0.0501455\ttotal: 852ms\tremaining: 1.66s\n",
      "339:\tlearn: 0.0500960\ttotal: 854ms\tremaining: 1.66s\n",
      "340:\tlearn: 0.0500092\ttotal: 857ms\tremaining: 1.66s\n",
      "341:\tlearn: 0.0499132\ttotal: 859ms\tremaining: 1.65s\n",
      "342:\tlearn: 0.0497943\ttotal: 862ms\tremaining: 1.65s\n",
      "343:\tlearn: 0.0497659\ttotal: 864ms\tremaining: 1.65s\n",
      "344:\tlearn: 0.0496473\ttotal: 867ms\tremaining: 1.65s\n",
      "345:\tlearn: 0.0495064\ttotal: 869ms\tremaining: 1.64s\n",
      "346:\tlearn: 0.0494216\ttotal: 872ms\tremaining: 1.64s\n",
      "347:\tlearn: 0.0493778\ttotal: 875ms\tremaining: 1.64s\n",
      "348:\tlearn: 0.0492881\ttotal: 877ms\tremaining: 1.64s\n",
      "349:\tlearn: 0.0492151\ttotal: 880ms\tremaining: 1.63s\n",
      "350:\tlearn: 0.0490661\ttotal: 882ms\tremaining: 1.63s\n",
      "351:\tlearn: 0.0489718\ttotal: 885ms\tremaining: 1.63s\n",
      "352:\tlearn: 0.0489031\ttotal: 887ms\tremaining: 1.63s\n",
      "353:\tlearn: 0.0488106\ttotal: 891ms\tremaining: 1.63s\n",
      "354:\tlearn: 0.0486718\ttotal: 893ms\tremaining: 1.62s\n",
      "355:\tlearn: 0.0485660\ttotal: 896ms\tremaining: 1.62s\n",
      "356:\tlearn: 0.0485248\ttotal: 898ms\tremaining: 1.62s\n",
      "357:\tlearn: 0.0484760\ttotal: 901ms\tremaining: 1.61s\n",
      "358:\tlearn: 0.0484066\ttotal: 903ms\tremaining: 1.61s\n",
      "359:\tlearn: 0.0482820\ttotal: 906ms\tremaining: 1.61s\n",
      "360:\tlearn: 0.0482345\ttotal: 909ms\tremaining: 1.61s\n",
      "361:\tlearn: 0.0480610\ttotal: 911ms\tremaining: 1.6s\n",
      "362:\tlearn: 0.0480015\ttotal: 914ms\tremaining: 1.6s\n",
      "363:\tlearn: 0.0478845\ttotal: 916ms\tremaining: 1.6s\n",
      "364:\tlearn: 0.0478122\ttotal: 918ms\tremaining: 1.6s\n",
      "365:\tlearn: 0.0477465\ttotal: 922ms\tremaining: 1.6s\n",
      "366:\tlearn: 0.0476351\ttotal: 925ms\tremaining: 1.59s\n",
      "367:\tlearn: 0.0475750\ttotal: 927ms\tremaining: 1.59s\n",
      "368:\tlearn: 0.0475022\ttotal: 930ms\tremaining: 1.59s\n",
      "369:\tlearn: 0.0474280\ttotal: 932ms\tremaining: 1.59s\n",
      "370:\tlearn: 0.0473461\ttotal: 936ms\tremaining: 1.59s\n",
      "371:\tlearn: 0.0472755\ttotal: 939ms\tremaining: 1.58s\n",
      "372:\tlearn: 0.0472245\ttotal: 942ms\tremaining: 1.58s\n",
      "373:\tlearn: 0.0470933\ttotal: 944ms\tremaining: 1.58s\n",
      "374:\tlearn: 0.0470428\ttotal: 947ms\tremaining: 1.58s\n",
      "375:\tlearn: 0.0469818\ttotal: 950ms\tremaining: 1.58s\n",
      "376:\tlearn: 0.0469613\ttotal: 953ms\tremaining: 1.57s\n",
      "377:\tlearn: 0.0469380\ttotal: 955ms\tremaining: 1.57s\n",
      "378:\tlearn: 0.0468642\ttotal: 958ms\tremaining: 1.57s\n",
      "379:\tlearn: 0.0468161\ttotal: 961ms\tremaining: 1.57s\n",
      "380:\tlearn: 0.0467687\ttotal: 964ms\tremaining: 1.57s\n",
      "381:\tlearn: 0.0466855\ttotal: 967ms\tremaining: 1.56s\n",
      "382:\tlearn: 0.0466042\ttotal: 969ms\tremaining: 1.56s\n",
      "383:\tlearn: 0.0465678\ttotal: 972ms\tremaining: 1.56s\n",
      "384:\tlearn: 0.0465301\ttotal: 974ms\tremaining: 1.56s\n"
     ]
    },
    {
     "name": "stdout",
     "output_type": "stream",
     "text": [
      "385:\tlearn: 0.0464529\ttotal: 977ms\tremaining: 1.55s\n",
      "386:\tlearn: 0.0464342\ttotal: 980ms\tremaining: 1.55s\n",
      "387:\tlearn: 0.0463769\ttotal: 982ms\tremaining: 1.55s\n",
      "388:\tlearn: 0.0463567\ttotal: 985ms\tremaining: 1.55s\n",
      "389:\tlearn: 0.0462565\ttotal: 987ms\tremaining: 1.54s\n",
      "390:\tlearn: 0.0461367\ttotal: 990ms\tremaining: 1.54s\n",
      "391:\tlearn: 0.0460711\ttotal: 992ms\tremaining: 1.54s\n",
      "392:\tlearn: 0.0460554\ttotal: 995ms\tremaining: 1.54s\n",
      "393:\tlearn: 0.0459818\ttotal: 997ms\tremaining: 1.53s\n",
      "394:\tlearn: 0.0459478\ttotal: 1000ms\tremaining: 1.53s\n",
      "395:\tlearn: 0.0458724\ttotal: 1s\tremaining: 1.53s\n",
      "396:\tlearn: 0.0458108\ttotal: 1s\tremaining: 1.52s\n",
      "397:\tlearn: 0.0457808\ttotal: 1.01s\tremaining: 1.52s\n",
      "398:\tlearn: 0.0456453\ttotal: 1.01s\tremaining: 1.52s\n",
      "399:\tlearn: 0.0456048\ttotal: 1.01s\tremaining: 1.52s\n",
      "400:\tlearn: 0.0454464\ttotal: 1.01s\tremaining: 1.51s\n",
      "401:\tlearn: 0.0453437\ttotal: 1.02s\tremaining: 1.51s\n",
      "402:\tlearn: 0.0453150\ttotal: 1.02s\tremaining: 1.51s\n",
      "403:\tlearn: 0.0452339\ttotal: 1.02s\tremaining: 1.51s\n",
      "404:\tlearn: 0.0452077\ttotal: 1.02s\tremaining: 1.5s\n",
      "405:\tlearn: 0.0451321\ttotal: 1.03s\tremaining: 1.5s\n",
      "406:\tlearn: 0.0450674\ttotal: 1.03s\tremaining: 1.5s\n",
      "407:\tlearn: 0.0450284\ttotal: 1.03s\tremaining: 1.5s\n",
      "408:\tlearn: 0.0449914\ttotal: 1.04s\tremaining: 1.5s\n",
      "409:\tlearn: 0.0449600\ttotal: 1.04s\tremaining: 1.49s\n",
      "410:\tlearn: 0.0448934\ttotal: 1.04s\tremaining: 1.49s\n",
      "411:\tlearn: 0.0448751\ttotal: 1.04s\tremaining: 1.49s\n",
      "412:\tlearn: 0.0448429\ttotal: 1.05s\tremaining: 1.49s\n",
      "413:\tlearn: 0.0447007\ttotal: 1.05s\tremaining: 1.49s\n",
      "414:\tlearn: 0.0446241\ttotal: 1.05s\tremaining: 1.48s\n",
      "415:\tlearn: 0.0446130\ttotal: 1.05s\tremaining: 1.48s\n",
      "416:\tlearn: 0.0445797\ttotal: 1.06s\tremaining: 1.48s\n",
      "417:\tlearn: 0.0444654\ttotal: 1.06s\tremaining: 1.48s\n",
      "418:\tlearn: 0.0443190\ttotal: 1.06s\tremaining: 1.47s\n",
      "419:\tlearn: 0.0442796\ttotal: 1.06s\tremaining: 1.47s\n",
      "420:\tlearn: 0.0442222\ttotal: 1.07s\tremaining: 1.47s\n",
      "421:\tlearn: 0.0441640\ttotal: 1.07s\tremaining: 1.47s\n",
      "422:\tlearn: 0.0440858\ttotal: 1.07s\tremaining: 1.46s\n",
      "423:\tlearn: 0.0440544\ttotal: 1.08s\tremaining: 1.46s\n",
      "424:\tlearn: 0.0440358\ttotal: 1.08s\tremaining: 1.46s\n",
      "425:\tlearn: 0.0440040\ttotal: 1.08s\tremaining: 1.46s\n",
      "426:\tlearn: 0.0439773\ttotal: 1.08s\tremaining: 1.45s\n",
      "427:\tlearn: 0.0439216\ttotal: 1.09s\tremaining: 1.45s\n",
      "428:\tlearn: 0.0437934\ttotal: 1.09s\tremaining: 1.45s\n",
      "429:\tlearn: 0.0437490\ttotal: 1.09s\tremaining: 1.45s\n",
      "430:\tlearn: 0.0436886\ttotal: 1.09s\tremaining: 1.45s\n",
      "431:\tlearn: 0.0435770\ttotal: 1.1s\tremaining: 1.44s\n",
      "432:\tlearn: 0.0435185\ttotal: 1.1s\tremaining: 1.44s\n",
      "433:\tlearn: 0.0434815\ttotal: 1.1s\tremaining: 1.44s\n",
      "434:\tlearn: 0.0434013\ttotal: 1.1s\tremaining: 1.44s\n",
      "435:\tlearn: 0.0433831\ttotal: 1.11s\tremaining: 1.43s\n",
      "436:\tlearn: 0.0433746\ttotal: 1.11s\tremaining: 1.43s\n",
      "437:\tlearn: 0.0433454\ttotal: 1.11s\tremaining: 1.43s\n",
      "438:\tlearn: 0.0433193\ttotal: 1.12s\tremaining: 1.43s\n",
      "439:\tlearn: 0.0432726\ttotal: 1.12s\tremaining: 1.42s\n",
      "440:\tlearn: 0.0432446\ttotal: 1.12s\tremaining: 1.42s\n",
      "441:\tlearn: 0.0431956\ttotal: 1.13s\tremaining: 1.42s\n",
      "442:\tlearn: 0.0431235\ttotal: 1.13s\tremaining: 1.42s\n",
      "443:\tlearn: 0.0430545\ttotal: 1.13s\tremaining: 1.42s\n",
      "444:\tlearn: 0.0430220\ttotal: 1.13s\tremaining: 1.41s\n",
      "445:\tlearn: 0.0429832\ttotal: 1.14s\tremaining: 1.41s\n",
      "446:\tlearn: 0.0429292\ttotal: 1.14s\tremaining: 1.41s\n",
      "447:\tlearn: 0.0428044\ttotal: 1.14s\tremaining: 1.41s\n",
      "448:\tlearn: 0.0427595\ttotal: 1.14s\tremaining: 1.4s\n",
      "449:\tlearn: 0.0427172\ttotal: 1.15s\tremaining: 1.4s\n",
      "450:\tlearn: 0.0426838\ttotal: 1.15s\tremaining: 1.4s\n",
      "451:\tlearn: 0.0425917\ttotal: 1.15s\tremaining: 1.4s\n",
      "452:\tlearn: 0.0424778\ttotal: 1.15s\tremaining: 1.39s\n",
      "453:\tlearn: 0.0423757\ttotal: 1.16s\tremaining: 1.39s\n",
      "454:\tlearn: 0.0423353\ttotal: 1.16s\tremaining: 1.39s\n",
      "455:\tlearn: 0.0422666\ttotal: 1.16s\tremaining: 1.39s\n",
      "456:\tlearn: 0.0422115\ttotal: 1.17s\tremaining: 1.39s\n",
      "457:\tlearn: 0.0421411\ttotal: 1.17s\tremaining: 1.38s\n",
      "458:\tlearn: 0.0420683\ttotal: 1.17s\tremaining: 1.38s\n",
      "459:\tlearn: 0.0420154\ttotal: 1.17s\tremaining: 1.38s\n",
      "460:\tlearn: 0.0419460\ttotal: 1.18s\tremaining: 1.38s\n",
      "461:\tlearn: 0.0418084\ttotal: 1.18s\tremaining: 1.37s\n",
      "462:\tlearn: 0.0417789\ttotal: 1.18s\tremaining: 1.37s\n",
      "463:\tlearn: 0.0417398\ttotal: 1.18s\tremaining: 1.37s\n",
      "464:\tlearn: 0.0416906\ttotal: 1.19s\tremaining: 1.36s\n",
      "465:\tlearn: 0.0416686\ttotal: 1.19s\tremaining: 1.36s\n",
      "466:\tlearn: 0.0416422\ttotal: 1.19s\tremaining: 1.36s\n",
      "467:\tlearn: 0.0415750\ttotal: 1.19s\tremaining: 1.36s\n",
      "468:\tlearn: 0.0415089\ttotal: 1.2s\tremaining: 1.35s\n",
      "469:\tlearn: 0.0414564\ttotal: 1.2s\tremaining: 1.35s\n",
      "470:\tlearn: 0.0414175\ttotal: 1.2s\tremaining: 1.35s\n",
      "471:\tlearn: 0.0413894\ttotal: 1.2s\tremaining: 1.35s\n",
      "472:\tlearn: 0.0412928\ttotal: 1.21s\tremaining: 1.34s\n",
      "473:\tlearn: 0.0411859\ttotal: 1.21s\tremaining: 1.34s\n",
      "474:\tlearn: 0.0411506\ttotal: 1.21s\tremaining: 1.34s\n",
      "475:\tlearn: 0.0411077\ttotal: 1.22s\tremaining: 1.34s\n",
      "476:\tlearn: 0.0410439\ttotal: 1.22s\tremaining: 1.33s\n",
      "477:\tlearn: 0.0409632\ttotal: 1.22s\tremaining: 1.33s\n",
      "478:\tlearn: 0.0408784\ttotal: 1.22s\tremaining: 1.33s\n",
      "479:\tlearn: 0.0408464\ttotal: 1.23s\tremaining: 1.33s\n",
      "480:\tlearn: 0.0407723\ttotal: 1.23s\tremaining: 1.33s\n",
      "481:\tlearn: 0.0406896\ttotal: 1.23s\tremaining: 1.32s\n",
      "482:\tlearn: 0.0406486\ttotal: 1.24s\tremaining: 1.32s\n",
      "483:\tlearn: 0.0405852\ttotal: 1.24s\tremaining: 1.32s\n",
      "484:\tlearn: 0.0405508\ttotal: 1.24s\tremaining: 1.32s\n",
      "485:\tlearn: 0.0405268\ttotal: 1.24s\tremaining: 1.31s\n",
      "486:\tlearn: 0.0404651\ttotal: 1.25s\tremaining: 1.31s\n",
      "487:\tlearn: 0.0404097\ttotal: 1.25s\tremaining: 1.31s\n",
      "488:\tlearn: 0.0403708\ttotal: 1.25s\tremaining: 1.31s\n",
      "489:\tlearn: 0.0403120\ttotal: 1.25s\tremaining: 1.3s\n",
      "490:\tlearn: 0.0402868\ttotal: 1.25s\tremaining: 1.3s\n",
      "491:\tlearn: 0.0402085\ttotal: 1.26s\tremaining: 1.3s\n",
      "492:\tlearn: 0.0401726\ttotal: 1.26s\tremaining: 1.3s\n",
      "493:\tlearn: 0.0401500\ttotal: 1.26s\tremaining: 1.29s\n",
      "494:\tlearn: 0.0400920\ttotal: 1.26s\tremaining: 1.29s\n",
      "495:\tlearn: 0.0400209\ttotal: 1.27s\tremaining: 1.29s\n",
      "496:\tlearn: 0.0399270\ttotal: 1.27s\tremaining: 1.29s\n",
      "497:\tlearn: 0.0398939\ttotal: 1.27s\tremaining: 1.28s\n",
      "498:\tlearn: 0.0398203\ttotal: 1.28s\tremaining: 1.28s\n",
      "499:\tlearn: 0.0397882\ttotal: 1.28s\tremaining: 1.28s\n",
      "500:\tlearn: 0.0397332\ttotal: 1.28s\tremaining: 1.28s\n",
      "501:\tlearn: 0.0396744\ttotal: 1.28s\tremaining: 1.27s\n",
      "502:\tlearn: 0.0395981\ttotal: 1.29s\tremaining: 1.27s\n",
      "503:\tlearn: 0.0395423\ttotal: 1.29s\tremaining: 1.27s\n",
      "504:\tlearn: 0.0395173\ttotal: 1.29s\tremaining: 1.27s\n",
      "505:\tlearn: 0.0394955\ttotal: 1.29s\tremaining: 1.26s\n",
      "506:\tlearn: 0.0394633\ttotal: 1.3s\tremaining: 1.26s\n",
      "507:\tlearn: 0.0394265\ttotal: 1.3s\tremaining: 1.26s\n",
      "508:\tlearn: 0.0393947\ttotal: 1.3s\tremaining: 1.26s\n",
      "509:\tlearn: 0.0393479\ttotal: 1.3s\tremaining: 1.25s\n",
      "510:\tlearn: 0.0392935\ttotal: 1.31s\tremaining: 1.25s\n",
      "511:\tlearn: 0.0392681\ttotal: 1.31s\tremaining: 1.25s\n",
      "512:\tlearn: 0.0392321\ttotal: 1.31s\tremaining: 1.25s\n",
      "513:\tlearn: 0.0391783\ttotal: 1.31s\tremaining: 1.24s\n",
      "514:\tlearn: 0.0391565\ttotal: 1.32s\tremaining: 1.24s\n",
      "515:\tlearn: 0.0390907\ttotal: 1.32s\tremaining: 1.24s\n",
      "516:\tlearn: 0.0390201\ttotal: 1.32s\tremaining: 1.24s\n",
      "517:\tlearn: 0.0389858\ttotal: 1.33s\tremaining: 1.23s\n",
      "518:\tlearn: 0.0389360\ttotal: 1.33s\tremaining: 1.23s\n",
      "519:\tlearn: 0.0388925\ttotal: 1.33s\tremaining: 1.23s\n",
      "520:\tlearn: 0.0388704\ttotal: 1.33s\tremaining: 1.23s\n",
      "521:\tlearn: 0.0388410\ttotal: 1.34s\tremaining: 1.23s\n",
      "522:\tlearn: 0.0386966\ttotal: 1.34s\tremaining: 1.22s\n",
      "523:\tlearn: 0.0386753\ttotal: 1.34s\tremaining: 1.22s\n",
      "524:\tlearn: 0.0386553\ttotal: 1.34s\tremaining: 1.22s\n",
      "525:\tlearn: 0.0386026\ttotal: 1.35s\tremaining: 1.21s\n",
      "526:\tlearn: 0.0385679\ttotal: 1.35s\tremaining: 1.21s\n",
      "527:\tlearn: 0.0385476\ttotal: 1.35s\tremaining: 1.21s\n",
      "528:\tlearn: 0.0385226\ttotal: 1.36s\tremaining: 1.21s\n",
      "529:\tlearn: 0.0384901\ttotal: 1.36s\tremaining: 1.21s\n",
      "530:\tlearn: 0.0383570\ttotal: 1.36s\tremaining: 1.2s\n",
      "531:\tlearn: 0.0383246\ttotal: 1.36s\tremaining: 1.2s\n",
      "532:\tlearn: 0.0382927\ttotal: 1.37s\tremaining: 1.2s\n",
      "533:\tlearn: 0.0382327\ttotal: 1.37s\tremaining: 1.2s\n",
      "534:\tlearn: 0.0381814\ttotal: 1.37s\tremaining: 1.19s\n",
      "535:\tlearn: 0.0381061\ttotal: 1.38s\tremaining: 1.19s\n",
      "536:\tlearn: 0.0380118\ttotal: 1.38s\tremaining: 1.19s\n",
      "537:\tlearn: 0.0379221\ttotal: 1.38s\tremaining: 1.19s\n",
      "538:\tlearn: 0.0377898\ttotal: 1.38s\tremaining: 1.18s\n",
      "539:\tlearn: 0.0377738\ttotal: 1.39s\tremaining: 1.18s\n",
      "540:\tlearn: 0.0377422\ttotal: 1.39s\tremaining: 1.18s\n",
      "541:\tlearn: 0.0376961\ttotal: 1.39s\tremaining: 1.18s\n",
      "542:\tlearn: 0.0376138\ttotal: 1.39s\tremaining: 1.17s\n",
      "543:\tlearn: 0.0375853\ttotal: 1.4s\tremaining: 1.17s\n",
      "544:\tlearn: 0.0375193\ttotal: 1.4s\tremaining: 1.17s\n",
      "545:\tlearn: 0.0374831\ttotal: 1.4s\tremaining: 1.17s\n",
      "546:\tlearn: 0.0374543\ttotal: 1.4s\tremaining: 1.16s\n",
      "547:\tlearn: 0.0374335\ttotal: 1.41s\tremaining: 1.16s\n",
      "548:\tlearn: 0.0373943\ttotal: 1.41s\tremaining: 1.16s\n",
      "549:\tlearn: 0.0373796\ttotal: 1.41s\tremaining: 1.15s\n",
      "550:\tlearn: 0.0373716\ttotal: 1.41s\tremaining: 1.15s\n",
      "551:\tlearn: 0.0373288\ttotal: 1.42s\tremaining: 1.15s\n",
      "552:\tlearn: 0.0372827\ttotal: 1.42s\tremaining: 1.15s\n",
      "553:\tlearn: 0.0372520\ttotal: 1.42s\tremaining: 1.15s\n",
      "554:\tlearn: 0.0372009\ttotal: 1.43s\tremaining: 1.14s\n",
      "555:\tlearn: 0.0371610\ttotal: 1.43s\tremaining: 1.14s\n",
      "556:\tlearn: 0.0371422\ttotal: 1.43s\tremaining: 1.14s\n",
      "557:\tlearn: 0.0370717\ttotal: 1.43s\tremaining: 1.14s\n",
      "558:\tlearn: 0.0369670\ttotal: 1.44s\tremaining: 1.13s\n",
      "559:\tlearn: 0.0369144\ttotal: 1.44s\tremaining: 1.13s\n",
      "560:\tlearn: 0.0368948\ttotal: 1.44s\tremaining: 1.13s\n",
      "561:\tlearn: 0.0368498\ttotal: 1.44s\tremaining: 1.13s\n",
      "562:\tlearn: 0.0367675\ttotal: 1.45s\tremaining: 1.12s\n",
      "563:\tlearn: 0.0366802\ttotal: 1.45s\tremaining: 1.12s\n",
      "564:\tlearn: 0.0366623\ttotal: 1.45s\tremaining: 1.12s\n",
      "565:\tlearn: 0.0366336\ttotal: 1.45s\tremaining: 1.11s\n",
      "566:\tlearn: 0.0366154\ttotal: 1.46s\tremaining: 1.11s\n",
      "567:\tlearn: 0.0365962\ttotal: 1.46s\tremaining: 1.11s\n",
      "568:\tlearn: 0.0365490\ttotal: 1.46s\tremaining: 1.11s\n",
      "569:\tlearn: 0.0365019\ttotal: 1.46s\tremaining: 1.1s\n",
      "570:\tlearn: 0.0364563\ttotal: 1.47s\tremaining: 1.1s\n",
      "571:\tlearn: 0.0364256\ttotal: 1.47s\tremaining: 1.1s\n",
      "572:\tlearn: 0.0363922\ttotal: 1.47s\tremaining: 1.1s\n",
      "573:\tlearn: 0.0363453\ttotal: 1.47s\tremaining: 1.09s\n",
      "574:\tlearn: 0.0362991\ttotal: 1.48s\tremaining: 1.09s\n",
      "575:\tlearn: 0.0361918\ttotal: 1.48s\tremaining: 1.09s\n",
      "576:\tlearn: 0.0361468\ttotal: 1.48s\tremaining: 1.09s\n",
      "577:\tlearn: 0.0361366\ttotal: 1.48s\tremaining: 1.08s\n",
      "578:\tlearn: 0.0361020\ttotal: 1.49s\tremaining: 1.08s\n",
      "579:\tlearn: 0.0360852\ttotal: 1.49s\tremaining: 1.08s\n",
      "580:\tlearn: 0.0360160\ttotal: 1.49s\tremaining: 1.08s\n",
      "581:\tlearn: 0.0359888\ttotal: 1.49s\tremaining: 1.07s\n",
      "582:\tlearn: 0.0359755\ttotal: 1.5s\tremaining: 1.07s\n",
      "583:\tlearn: 0.0359585\ttotal: 1.5s\tremaining: 1.07s\n",
      "584:\tlearn: 0.0359056\ttotal: 1.5s\tremaining: 1.07s\n",
      "585:\tlearn: 0.0358715\ttotal: 1.51s\tremaining: 1.06s\n",
      "586:\tlearn: 0.0358240\ttotal: 1.51s\tremaining: 1.06s\n",
      "587:\tlearn: 0.0358097\ttotal: 1.51s\tremaining: 1.06s\n",
      "588:\tlearn: 0.0357669\ttotal: 1.51s\tremaining: 1.06s\n",
      "589:\tlearn: 0.0357473\ttotal: 1.52s\tremaining: 1.05s\n",
      "590:\tlearn: 0.0357367\ttotal: 1.52s\tremaining: 1.05s\n",
      "591:\tlearn: 0.0357216\ttotal: 1.52s\tremaining: 1.05s\n",
      "592:\tlearn: 0.0356705\ttotal: 1.52s\tremaining: 1.04s\n",
      "593:\tlearn: 0.0356550\ttotal: 1.53s\tremaining: 1.04s\n",
      "594:\tlearn: 0.0356395\ttotal: 1.53s\tremaining: 1.04s\n",
      "595:\tlearn: 0.0356261\ttotal: 1.53s\tremaining: 1.04s\n",
      "596:\tlearn: 0.0355844\ttotal: 1.53s\tremaining: 1.04s\n",
      "597:\tlearn: 0.0355427\ttotal: 1.54s\tremaining: 1.03s\n",
      "598:\tlearn: 0.0355005\ttotal: 1.54s\tremaining: 1.03s\n",
      "599:\tlearn: 0.0354362\ttotal: 1.54s\tremaining: 1.03s\n",
      "600:\tlearn: 0.0353690\ttotal: 1.54s\tremaining: 1.03s\n",
      "601:\tlearn: 0.0353543\ttotal: 1.55s\tremaining: 1.02s\n",
      "602:\tlearn: 0.0353031\ttotal: 1.55s\tremaining: 1.02s\n",
      "603:\tlearn: 0.0352891\ttotal: 1.55s\tremaining: 1.02s\n",
      "604:\tlearn: 0.0352570\ttotal: 1.55s\tremaining: 1.01s\n",
      "605:\tlearn: 0.0352468\ttotal: 1.56s\tremaining: 1.01s\n"
     ]
    },
    {
     "name": "stdout",
     "output_type": "stream",
     "text": [
      "606:\tlearn: 0.0351911\ttotal: 1.56s\tremaining: 1.01s\n",
      "607:\tlearn: 0.0351681\ttotal: 1.56s\tremaining: 1.01s\n",
      "608:\tlearn: 0.0351405\ttotal: 1.57s\tremaining: 1.01s\n",
      "609:\tlearn: 0.0351218\ttotal: 1.57s\tremaining: 1s\n",
      "610:\tlearn: 0.0350921\ttotal: 1.57s\tremaining: 1s\n",
      "611:\tlearn: 0.0350018\ttotal: 1.57s\tremaining: 998ms\n",
      "612:\tlearn: 0.0349629\ttotal: 1.58s\tremaining: 996ms\n",
      "613:\tlearn: 0.0349401\ttotal: 1.58s\tremaining: 993ms\n",
      "614:\tlearn: 0.0348768\ttotal: 1.58s\tremaining: 991ms\n",
      "615:\tlearn: 0.0348580\ttotal: 1.58s\tremaining: 988ms\n",
      "616:\tlearn: 0.0348158\ttotal: 1.59s\tremaining: 985ms\n",
      "617:\tlearn: 0.0347917\ttotal: 1.59s\tremaining: 983ms\n",
      "618:\tlearn: 0.0347484\ttotal: 1.59s\tremaining: 981ms\n",
      "619:\tlearn: 0.0346926\ttotal: 1.6s\tremaining: 978ms\n",
      "620:\tlearn: 0.0346698\ttotal: 1.6s\tremaining: 976ms\n",
      "621:\tlearn: 0.0345746\ttotal: 1.6s\tremaining: 973ms\n",
      "622:\tlearn: 0.0345227\ttotal: 1.6s\tremaining: 971ms\n",
      "623:\tlearn: 0.0345018\ttotal: 1.61s\tremaining: 968ms\n",
      "624:\tlearn: 0.0344770\ttotal: 1.61s\tremaining: 966ms\n",
      "625:\tlearn: 0.0344202\ttotal: 1.61s\tremaining: 964ms\n",
      "626:\tlearn: 0.0344075\ttotal: 1.61s\tremaining: 961ms\n",
      "627:\tlearn: 0.0343538\ttotal: 1.62s\tremaining: 958ms\n",
      "628:\tlearn: 0.0343181\ttotal: 1.62s\tremaining: 956ms\n",
      "629:\tlearn: 0.0342692\ttotal: 1.62s\tremaining: 953ms\n",
      "630:\tlearn: 0.0342260\ttotal: 1.63s\tremaining: 951ms\n",
      "631:\tlearn: 0.0341726\ttotal: 1.63s\tremaining: 948ms\n",
      "632:\tlearn: 0.0340841\ttotal: 1.63s\tremaining: 946ms\n",
      "633:\tlearn: 0.0340520\ttotal: 1.63s\tremaining: 943ms\n",
      "634:\tlearn: 0.0340035\ttotal: 1.64s\tremaining: 941ms\n",
      "635:\tlearn: 0.0339899\ttotal: 1.64s\tremaining: 938ms\n",
      "636:\tlearn: 0.0339524\ttotal: 1.64s\tremaining: 936ms\n",
      "637:\tlearn: 0.0338763\ttotal: 1.64s\tremaining: 933ms\n",
      "638:\tlearn: 0.0337160\ttotal: 1.65s\tremaining: 931ms\n",
      "639:\tlearn: 0.0336928\ttotal: 1.65s\tremaining: 928ms\n",
      "640:\tlearn: 0.0336716\ttotal: 1.65s\tremaining: 926ms\n",
      "641:\tlearn: 0.0336441\ttotal: 1.66s\tremaining: 923ms\n",
      "642:\tlearn: 0.0336188\ttotal: 1.66s\tremaining: 920ms\n",
      "643:\tlearn: 0.0335526\ttotal: 1.66s\tremaining: 918ms\n",
      "644:\tlearn: 0.0334849\ttotal: 1.66s\tremaining: 915ms\n",
      "645:\tlearn: 0.0334709\ttotal: 1.67s\tremaining: 912ms\n",
      "646:\tlearn: 0.0334359\ttotal: 1.67s\tremaining: 910ms\n",
      "647:\tlearn: 0.0333962\ttotal: 1.67s\tremaining: 907ms\n",
      "648:\tlearn: 0.0333485\ttotal: 1.67s\tremaining: 905ms\n",
      "649:\tlearn: 0.0333149\ttotal: 1.68s\tremaining: 903ms\n",
      "650:\tlearn: 0.0332201\ttotal: 1.68s\tremaining: 900ms\n",
      "651:\tlearn: 0.0332047\ttotal: 1.68s\tremaining: 897ms\n",
      "652:\tlearn: 0.0331891\ttotal: 1.68s\tremaining: 895ms\n",
      "653:\tlearn: 0.0331542\ttotal: 1.69s\tremaining: 892ms\n",
      "654:\tlearn: 0.0331169\ttotal: 1.69s\tremaining: 890ms\n",
      "655:\tlearn: 0.0330593\ttotal: 1.69s\tremaining: 887ms\n",
      "656:\tlearn: 0.0330036\ttotal: 1.69s\tremaining: 885ms\n",
      "657:\tlearn: 0.0329555\ttotal: 1.7s\tremaining: 882ms\n",
      "658:\tlearn: 0.0329316\ttotal: 1.7s\tremaining: 879ms\n",
      "659:\tlearn: 0.0328162\ttotal: 1.7s\tremaining: 877ms\n",
      "660:\tlearn: 0.0328019\ttotal: 1.71s\tremaining: 875ms\n",
      "661:\tlearn: 0.0327884\ttotal: 1.71s\tremaining: 872ms\n",
      "662:\tlearn: 0.0327329\ttotal: 1.71s\tremaining: 870ms\n",
      "663:\tlearn: 0.0327191\ttotal: 1.71s\tremaining: 867ms\n",
      "664:\tlearn: 0.0326653\ttotal: 1.72s\tremaining: 865ms\n",
      "665:\tlearn: 0.0325807\ttotal: 1.72s\tremaining: 862ms\n",
      "666:\tlearn: 0.0325616\ttotal: 1.72s\tremaining: 859ms\n",
      "667:\tlearn: 0.0325413\ttotal: 1.72s\tremaining: 857ms\n",
      "668:\tlearn: 0.0325251\ttotal: 1.73s\tremaining: 854ms\n",
      "669:\tlearn: 0.0325051\ttotal: 1.73s\tremaining: 852ms\n",
      "670:\tlearn: 0.0324437\ttotal: 1.73s\tremaining: 849ms\n",
      "671:\tlearn: 0.0323792\ttotal: 1.73s\tremaining: 846ms\n",
      "672:\tlearn: 0.0323575\ttotal: 1.74s\tremaining: 844ms\n",
      "673:\tlearn: 0.0323254\ttotal: 1.74s\tremaining: 842ms\n",
      "674:\tlearn: 0.0322998\ttotal: 1.74s\tremaining: 839ms\n",
      "675:\tlearn: 0.0322880\ttotal: 1.75s\tremaining: 836ms\n",
      "676:\tlearn: 0.0322706\ttotal: 1.75s\tremaining: 834ms\n",
      "677:\tlearn: 0.0322507\ttotal: 1.75s\tremaining: 831ms\n",
      "678:\tlearn: 0.0322145\ttotal: 1.75s\tremaining: 829ms\n",
      "679:\tlearn: 0.0321969\ttotal: 1.75s\tremaining: 826ms\n",
      "680:\tlearn: 0.0321690\ttotal: 1.76s\tremaining: 824ms\n",
      "681:\tlearn: 0.0321379\ttotal: 1.76s\tremaining: 821ms\n",
      "682:\tlearn: 0.0321063\ttotal: 1.76s\tremaining: 819ms\n",
      "683:\tlearn: 0.0320728\ttotal: 1.77s\tremaining: 816ms\n",
      "684:\tlearn: 0.0320424\ttotal: 1.77s\tremaining: 813ms\n",
      "685:\tlearn: 0.0320324\ttotal: 1.77s\tremaining: 811ms\n",
      "686:\tlearn: 0.0320184\ttotal: 1.77s\tremaining: 808ms\n",
      "687:\tlearn: 0.0319954\ttotal: 1.78s\tremaining: 806ms\n",
      "688:\tlearn: 0.0319569\ttotal: 1.78s\tremaining: 803ms\n",
      "689:\tlearn: 0.0318883\ttotal: 1.78s\tremaining: 800ms\n",
      "690:\tlearn: 0.0318471\ttotal: 1.78s\tremaining: 798ms\n",
      "691:\tlearn: 0.0318044\ttotal: 1.79s\tremaining: 795ms\n",
      "692:\tlearn: 0.0317624\ttotal: 1.79s\tremaining: 792ms\n",
      "693:\tlearn: 0.0317390\ttotal: 1.79s\tremaining: 790ms\n",
      "694:\tlearn: 0.0317183\ttotal: 1.79s\tremaining: 787ms\n",
      "695:\tlearn: 0.0316754\ttotal: 1.79s\tremaining: 784ms\n",
      "696:\tlearn: 0.0316399\ttotal: 1.8s\tremaining: 782ms\n",
      "697:\tlearn: 0.0316180\ttotal: 1.8s\tremaining: 779ms\n",
      "698:\tlearn: 0.0315873\ttotal: 1.8s\tremaining: 776ms\n",
      "699:\tlearn: 0.0315505\ttotal: 1.8s\tremaining: 774ms\n",
      "700:\tlearn: 0.0315248\ttotal: 1.81s\tremaining: 771ms\n",
      "701:\tlearn: 0.0315126\ttotal: 1.81s\tremaining: 769ms\n",
      "702:\tlearn: 0.0314704\ttotal: 1.81s\tremaining: 766ms\n",
      "703:\tlearn: 0.0314646\ttotal: 1.81s\tremaining: 763ms\n",
      "704:\tlearn: 0.0314336\ttotal: 1.82s\tremaining: 761ms\n",
      "705:\tlearn: 0.0313840\ttotal: 1.82s\tremaining: 758ms\n",
      "706:\tlearn: 0.0313779\ttotal: 1.82s\tremaining: 756ms\n",
      "707:\tlearn: 0.0313522\ttotal: 1.83s\tremaining: 754ms\n",
      "708:\tlearn: 0.0313064\ttotal: 1.83s\tremaining: 751ms\n",
      "709:\tlearn: 0.0312725\ttotal: 1.83s\tremaining: 749ms\n",
      "710:\tlearn: 0.0312265\ttotal: 1.83s\tremaining: 746ms\n",
      "711:\tlearn: 0.0312058\ttotal: 1.84s\tremaining: 743ms\n",
      "712:\tlearn: 0.0311880\ttotal: 1.84s\tremaining: 741ms\n",
      "713:\tlearn: 0.0311234\ttotal: 1.84s\tremaining: 738ms\n",
      "714:\tlearn: 0.0310995\ttotal: 1.84s\tremaining: 736ms\n",
      "715:\tlearn: 0.0310686\ttotal: 1.85s\tremaining: 733ms\n",
      "716:\tlearn: 0.0310494\ttotal: 1.85s\tremaining: 731ms\n",
      "717:\tlearn: 0.0310069\ttotal: 1.85s\tremaining: 729ms\n",
      "718:\tlearn: 0.0309836\ttotal: 1.86s\tremaining: 726ms\n",
      "719:\tlearn: 0.0309517\ttotal: 1.86s\tremaining: 724ms\n",
      "720:\tlearn: 0.0309095\ttotal: 1.86s\tremaining: 721ms\n",
      "721:\tlearn: 0.0308547\ttotal: 1.87s\tremaining: 719ms\n",
      "722:\tlearn: 0.0308248\ttotal: 1.87s\tremaining: 716ms\n",
      "723:\tlearn: 0.0308124\ttotal: 1.87s\tremaining: 713ms\n",
      "724:\tlearn: 0.0307850\ttotal: 1.87s\tremaining: 711ms\n",
      "725:\tlearn: 0.0307612\ttotal: 1.88s\tremaining: 708ms\n",
      "726:\tlearn: 0.0306888\ttotal: 1.88s\tremaining: 706ms\n",
      "727:\tlearn: 0.0306563\ttotal: 1.88s\tremaining: 703ms\n",
      "728:\tlearn: 0.0306449\ttotal: 1.88s\tremaining: 701ms\n",
      "729:\tlearn: 0.0306340\ttotal: 1.89s\tremaining: 698ms\n",
      "730:\tlearn: 0.0306123\ttotal: 1.89s\tremaining: 695ms\n",
      "731:\tlearn: 0.0305858\ttotal: 1.89s\tremaining: 693ms\n",
      "732:\tlearn: 0.0305492\ttotal: 1.89s\tremaining: 690ms\n",
      "733:\tlearn: 0.0305046\ttotal: 1.9s\tremaining: 687ms\n",
      "734:\tlearn: 0.0304528\ttotal: 1.9s\tremaining: 685ms\n",
      "735:\tlearn: 0.0304255\ttotal: 1.9s\tremaining: 682ms\n",
      "736:\tlearn: 0.0303880\ttotal: 1.9s\tremaining: 680ms\n",
      "737:\tlearn: 0.0303426\ttotal: 1.91s\tremaining: 677ms\n",
      "738:\tlearn: 0.0303329\ttotal: 1.91s\tremaining: 674ms\n",
      "739:\tlearn: 0.0302928\ttotal: 1.91s\tremaining: 672ms\n",
      "740:\tlearn: 0.0302688\ttotal: 1.92s\tremaining: 669ms\n",
      "741:\tlearn: 0.0301883\ttotal: 1.92s\tremaining: 667ms\n",
      "742:\tlearn: 0.0301761\ttotal: 1.92s\tremaining: 664ms\n",
      "743:\tlearn: 0.0301563\ttotal: 1.92s\tremaining: 662ms\n",
      "744:\tlearn: 0.0301462\ttotal: 1.93s\tremaining: 659ms\n",
      "745:\tlearn: 0.0300532\ttotal: 1.93s\tremaining: 656ms\n",
      "746:\tlearn: 0.0300140\ttotal: 1.93s\tremaining: 654ms\n",
      "747:\tlearn: 0.0299979\ttotal: 1.93s\tremaining: 652ms\n",
      "748:\tlearn: 0.0299673\ttotal: 1.94s\tremaining: 649ms\n",
      "749:\tlearn: 0.0299248\ttotal: 1.94s\tremaining: 646ms\n",
      "750:\tlearn: 0.0298961\ttotal: 1.94s\tremaining: 644ms\n",
      "751:\tlearn: 0.0298641\ttotal: 1.94s\tremaining: 641ms\n",
      "752:\tlearn: 0.0298492\ttotal: 1.95s\tremaining: 639ms\n",
      "753:\tlearn: 0.0298044\ttotal: 1.95s\tremaining: 636ms\n",
      "754:\tlearn: 0.0297615\ttotal: 1.95s\tremaining: 634ms\n",
      "755:\tlearn: 0.0297276\ttotal: 1.96s\tremaining: 631ms\n",
      "756:\tlearn: 0.0296880\ttotal: 1.96s\tremaining: 628ms\n",
      "757:\tlearn: 0.0296687\ttotal: 1.96s\tremaining: 626ms\n",
      "758:\tlearn: 0.0296445\ttotal: 1.96s\tremaining: 623ms\n",
      "759:\tlearn: 0.0296385\ttotal: 1.97s\tremaining: 621ms\n",
      "760:\tlearn: 0.0295538\ttotal: 1.97s\tremaining: 618ms\n",
      "761:\tlearn: 0.0295364\ttotal: 1.97s\tremaining: 616ms\n",
      "762:\tlearn: 0.0294966\ttotal: 1.97s\tremaining: 613ms\n",
      "763:\tlearn: 0.0294858\ttotal: 1.98s\tremaining: 610ms\n",
      "764:\tlearn: 0.0294412\ttotal: 1.98s\tremaining: 608ms\n",
      "765:\tlearn: 0.0294240\ttotal: 1.98s\tremaining: 605ms\n",
      "766:\tlearn: 0.0293989\ttotal: 1.98s\tremaining: 603ms\n",
      "767:\tlearn: 0.0293873\ttotal: 1.99s\tremaining: 600ms\n",
      "768:\tlearn: 0.0293399\ttotal: 1.99s\tremaining: 597ms\n",
      "769:\tlearn: 0.0293270\ttotal: 1.99s\tremaining: 595ms\n",
      "770:\tlearn: 0.0292828\ttotal: 1.99s\tremaining: 593ms\n",
      "771:\tlearn: 0.0292456\ttotal: 2s\tremaining: 590ms\n",
      "772:\tlearn: 0.0292202\ttotal: 2s\tremaining: 587ms\n",
      "773:\tlearn: 0.0292054\ttotal: 2s\tremaining: 585ms\n",
      "774:\tlearn: 0.0291814\ttotal: 2s\tremaining: 582ms\n",
      "775:\tlearn: 0.0290634\ttotal: 2.01s\tremaining: 580ms\n",
      "776:\tlearn: 0.0290546\ttotal: 2.01s\tremaining: 577ms\n",
      "777:\tlearn: 0.0290303\ttotal: 2.01s\tremaining: 575ms\n",
      "778:\tlearn: 0.0290225\ttotal: 2.02s\tremaining: 572ms\n",
      "779:\tlearn: 0.0290132\ttotal: 2.02s\tremaining: 570ms\n",
      "780:\tlearn: 0.0289980\ttotal: 2.02s\tremaining: 567ms\n",
      "781:\tlearn: 0.0289490\ttotal: 2.02s\tremaining: 564ms\n",
      "782:\tlearn: 0.0289464\ttotal: 2.03s\tremaining: 562ms\n",
      "783:\tlearn: 0.0289315\ttotal: 2.03s\tremaining: 559ms\n",
      "784:\tlearn: 0.0289130\ttotal: 2.03s\tremaining: 556ms\n",
      "785:\tlearn: 0.0288769\ttotal: 2.03s\tremaining: 554ms\n",
      "786:\tlearn: 0.0288471\ttotal: 2.04s\tremaining: 551ms\n",
      "787:\tlearn: 0.0288309\ttotal: 2.04s\tremaining: 549ms\n",
      "788:\tlearn: 0.0287972\ttotal: 2.04s\tremaining: 546ms\n",
      "789:\tlearn: 0.0287722\ttotal: 2.04s\tremaining: 543ms\n",
      "790:\tlearn: 0.0287223\ttotal: 2.05s\tremaining: 541ms\n",
      "791:\tlearn: 0.0286977\ttotal: 2.05s\tremaining: 538ms\n",
      "792:\tlearn: 0.0286329\ttotal: 2.05s\tremaining: 536ms\n",
      "793:\tlearn: 0.0285949\ttotal: 2.06s\tremaining: 533ms\n",
      "794:\tlearn: 0.0285683\ttotal: 2.06s\tremaining: 531ms\n",
      "795:\tlearn: 0.0285445\ttotal: 2.06s\tremaining: 528ms\n",
      "796:\tlearn: 0.0285288\ttotal: 2.06s\tremaining: 525ms\n",
      "797:\tlearn: 0.0285114\ttotal: 2.06s\tremaining: 523ms\n",
      "798:\tlearn: 0.0285017\ttotal: 2.07s\tremaining: 520ms\n",
      "799:\tlearn: 0.0284842\ttotal: 2.07s\tremaining: 517ms\n",
      "800:\tlearn: 0.0284579\ttotal: 2.07s\tremaining: 515ms\n",
      "801:\tlearn: 0.0284287\ttotal: 2.08s\tremaining: 513ms\n",
      "802:\tlearn: 0.0284082\ttotal: 2.08s\tremaining: 510ms\n",
      "803:\tlearn: 0.0283826\ttotal: 2.08s\tremaining: 507ms\n",
      "804:\tlearn: 0.0283312\ttotal: 2.08s\tremaining: 505ms\n",
      "805:\tlearn: 0.0282969\ttotal: 2.08s\tremaining: 502ms\n",
      "806:\tlearn: 0.0282790\ttotal: 2.09s\tremaining: 499ms\n",
      "807:\tlearn: 0.0282363\ttotal: 2.09s\tremaining: 497ms\n",
      "808:\tlearn: 0.0281933\ttotal: 2.09s\tremaining: 495ms\n",
      "809:\tlearn: 0.0281517\ttotal: 2.1s\tremaining: 492ms\n",
      "810:\tlearn: 0.0280956\ttotal: 2.1s\tremaining: 489ms\n",
      "811:\tlearn: 0.0280762\ttotal: 2.1s\tremaining: 487ms\n",
      "812:\tlearn: 0.0280701\ttotal: 2.1s\tremaining: 484ms\n",
      "813:\tlearn: 0.0280559\ttotal: 2.11s\tremaining: 482ms\n",
      "814:\tlearn: 0.0280278\ttotal: 2.11s\tremaining: 479ms\n",
      "815:\tlearn: 0.0279685\ttotal: 2.11s\tremaining: 476ms\n",
      "816:\tlearn: 0.0279382\ttotal: 2.12s\tremaining: 474ms\n",
      "817:\tlearn: 0.0279145\ttotal: 2.12s\tremaining: 471ms\n",
      "818:\tlearn: 0.0278531\ttotal: 2.12s\tremaining: 469ms\n",
      "819:\tlearn: 0.0278432\ttotal: 2.13s\tremaining: 466ms\n",
      "820:\tlearn: 0.0278245\ttotal: 2.13s\tremaining: 464ms\n",
      "821:\tlearn: 0.0278023\ttotal: 2.13s\tremaining: 461ms\n",
      "822:\tlearn: 0.0277716\ttotal: 2.13s\tremaining: 459ms\n",
      "823:\tlearn: 0.0277543\ttotal: 2.13s\tremaining: 456ms\n",
      "824:\tlearn: 0.0277401\ttotal: 2.14s\tremaining: 453ms\n",
      "825:\tlearn: 0.0277239\ttotal: 2.14s\tremaining: 451ms\n",
      "826:\tlearn: 0.0277025\ttotal: 2.14s\tremaining: 448ms\n",
      "827:\tlearn: 0.0276737\ttotal: 2.15s\tremaining: 446ms\n"
     ]
    },
    {
     "name": "stdout",
     "output_type": "stream",
     "text": [
      "828:\tlearn: 0.0276444\ttotal: 2.15s\tremaining: 443ms\n",
      "829:\tlearn: 0.0276118\ttotal: 2.15s\tremaining: 441ms\n",
      "830:\tlearn: 0.0275726\ttotal: 2.15s\tremaining: 438ms\n",
      "831:\tlearn: 0.0275009\ttotal: 2.16s\tremaining: 436ms\n",
      "832:\tlearn: 0.0274949\ttotal: 2.16s\tremaining: 433ms\n",
      "833:\tlearn: 0.0274749\ttotal: 2.16s\tremaining: 430ms\n",
      "834:\tlearn: 0.0274397\ttotal: 2.16s\tremaining: 428ms\n",
      "835:\tlearn: 0.0274041\ttotal: 2.17s\tremaining: 425ms\n",
      "836:\tlearn: 0.0273868\ttotal: 2.17s\tremaining: 422ms\n",
      "837:\tlearn: 0.0273366\ttotal: 2.17s\tremaining: 420ms\n",
      "838:\tlearn: 0.0273046\ttotal: 2.17s\tremaining: 417ms\n",
      "839:\tlearn: 0.0272732\ttotal: 2.18s\tremaining: 415ms\n",
      "840:\tlearn: 0.0272510\ttotal: 2.18s\tremaining: 412ms\n",
      "841:\tlearn: 0.0272422\ttotal: 2.18s\tremaining: 410ms\n",
      "842:\tlearn: 0.0272183\ttotal: 2.19s\tremaining: 407ms\n",
      "843:\tlearn: 0.0271654\ttotal: 2.19s\tremaining: 405ms\n",
      "844:\tlearn: 0.0271476\ttotal: 2.19s\tremaining: 402ms\n",
      "845:\tlearn: 0.0271094\ttotal: 2.19s\tremaining: 399ms\n",
      "846:\tlearn: 0.0270645\ttotal: 2.2s\tremaining: 397ms\n",
      "847:\tlearn: 0.0270547\ttotal: 2.2s\tremaining: 394ms\n",
      "848:\tlearn: 0.0270258\ttotal: 2.2s\tremaining: 392ms\n",
      "849:\tlearn: 0.0269894\ttotal: 2.21s\tremaining: 389ms\n",
      "850:\tlearn: 0.0269779\ttotal: 2.21s\tremaining: 387ms\n",
      "851:\tlearn: 0.0269611\ttotal: 2.21s\tremaining: 384ms\n",
      "852:\tlearn: 0.0269036\ttotal: 2.21s\tremaining: 381ms\n",
      "853:\tlearn: 0.0268559\ttotal: 2.21s\tremaining: 379ms\n",
      "854:\tlearn: 0.0268325\ttotal: 2.22s\tremaining: 376ms\n",
      "855:\tlearn: 0.0267404\ttotal: 2.22s\tremaining: 374ms\n",
      "856:\tlearn: 0.0267216\ttotal: 2.22s\tremaining: 371ms\n",
      "857:\tlearn: 0.0267094\ttotal: 2.23s\tremaining: 369ms\n",
      "858:\tlearn: 0.0266772\ttotal: 2.23s\tremaining: 366ms\n",
      "859:\tlearn: 0.0266495\ttotal: 2.23s\tremaining: 363ms\n",
      "860:\tlearn: 0.0265792\ttotal: 2.23s\tremaining: 361ms\n",
      "861:\tlearn: 0.0264837\ttotal: 2.24s\tremaining: 358ms\n",
      "862:\tlearn: 0.0264497\ttotal: 2.24s\tremaining: 356ms\n",
      "863:\tlearn: 0.0264198\ttotal: 2.24s\tremaining: 353ms\n",
      "864:\tlearn: 0.0263912\ttotal: 2.25s\tremaining: 351ms\n",
      "865:\tlearn: 0.0263706\ttotal: 2.25s\tremaining: 348ms\n",
      "866:\tlearn: 0.0263636\ttotal: 2.25s\tremaining: 345ms\n",
      "867:\tlearn: 0.0263459\ttotal: 2.25s\tremaining: 343ms\n",
      "868:\tlearn: 0.0263388\ttotal: 2.26s\tremaining: 340ms\n",
      "869:\tlearn: 0.0263136\ttotal: 2.26s\tremaining: 338ms\n",
      "870:\tlearn: 0.0262931\ttotal: 2.26s\tremaining: 335ms\n",
      "871:\tlearn: 0.0262721\ttotal: 2.26s\tremaining: 332ms\n",
      "872:\tlearn: 0.0262498\ttotal: 2.27s\tremaining: 330ms\n",
      "873:\tlearn: 0.0262351\ttotal: 2.27s\tremaining: 327ms\n",
      "874:\tlearn: 0.0262009\ttotal: 2.27s\tremaining: 324ms\n",
      "875:\tlearn: 0.0261766\ttotal: 2.27s\tremaining: 322ms\n",
      "876:\tlearn: 0.0260681\ttotal: 2.28s\tremaining: 319ms\n",
      "877:\tlearn: 0.0260583\ttotal: 2.28s\tremaining: 317ms\n",
      "878:\tlearn: 0.0260430\ttotal: 2.28s\tremaining: 314ms\n",
      "879:\tlearn: 0.0260223\ttotal: 2.28s\tremaining: 312ms\n",
      "880:\tlearn: 0.0260038\ttotal: 2.29s\tremaining: 309ms\n",
      "881:\tlearn: 0.0259857\ttotal: 2.29s\tremaining: 306ms\n",
      "882:\tlearn: 0.0259664\ttotal: 2.29s\tremaining: 304ms\n",
      "883:\tlearn: 0.0259610\ttotal: 2.29s\tremaining: 301ms\n",
      "884:\tlearn: 0.0259105\ttotal: 2.3s\tremaining: 298ms\n",
      "885:\tlearn: 0.0258987\ttotal: 2.3s\tremaining: 296ms\n",
      "886:\tlearn: 0.0258833\ttotal: 2.3s\tremaining: 293ms\n",
      "887:\tlearn: 0.0258686\ttotal: 2.3s\tremaining: 291ms\n",
      "888:\tlearn: 0.0258339\ttotal: 2.31s\tremaining: 288ms\n",
      "889:\tlearn: 0.0258140\ttotal: 2.31s\tremaining: 285ms\n",
      "890:\tlearn: 0.0257858\ttotal: 2.31s\tremaining: 283ms\n",
      "891:\tlearn: 0.0257696\ttotal: 2.31s\tremaining: 280ms\n",
      "892:\tlearn: 0.0257226\ttotal: 2.32s\tremaining: 278ms\n",
      "893:\tlearn: 0.0257028\ttotal: 2.32s\tremaining: 275ms\n",
      "894:\tlearn: 0.0256638\ttotal: 2.32s\tremaining: 272ms\n",
      "895:\tlearn: 0.0256453\ttotal: 2.32s\tremaining: 270ms\n",
      "896:\tlearn: 0.0256236\ttotal: 2.33s\tremaining: 267ms\n",
      "897:\tlearn: 0.0256091\ttotal: 2.33s\tremaining: 265ms\n",
      "898:\tlearn: 0.0255845\ttotal: 2.33s\tremaining: 262ms\n",
      "899:\tlearn: 0.0255601\ttotal: 2.33s\tremaining: 259ms\n",
      "900:\tlearn: 0.0255460\ttotal: 2.34s\tremaining: 257ms\n",
      "901:\tlearn: 0.0254916\ttotal: 2.34s\tremaining: 254ms\n",
      "902:\tlearn: 0.0254790\ttotal: 2.34s\tremaining: 252ms\n",
      "903:\tlearn: 0.0254098\ttotal: 2.35s\tremaining: 249ms\n",
      "904:\tlearn: 0.0253946\ttotal: 2.35s\tremaining: 247ms\n",
      "905:\tlearn: 0.0253613\ttotal: 2.35s\tremaining: 244ms\n",
      "906:\tlearn: 0.0253423\ttotal: 2.35s\tremaining: 241ms\n",
      "907:\tlearn: 0.0253272\ttotal: 2.36s\tremaining: 239ms\n",
      "908:\tlearn: 0.0253034\ttotal: 2.36s\tremaining: 236ms\n",
      "909:\tlearn: 0.0252908\ttotal: 2.36s\tremaining: 234ms\n",
      "910:\tlearn: 0.0252768\ttotal: 2.37s\tremaining: 231ms\n",
      "911:\tlearn: 0.0252676\ttotal: 2.37s\tremaining: 228ms\n",
      "912:\tlearn: 0.0252596\ttotal: 2.37s\tremaining: 226ms\n",
      "913:\tlearn: 0.0252188\ttotal: 2.37s\tremaining: 223ms\n",
      "914:\tlearn: 0.0252048\ttotal: 2.38s\tremaining: 221ms\n",
      "915:\tlearn: 0.0251916\ttotal: 2.38s\tremaining: 218ms\n",
      "916:\tlearn: 0.0251778\ttotal: 2.38s\tremaining: 216ms\n",
      "917:\tlearn: 0.0251286\ttotal: 2.38s\tremaining: 213ms\n",
      "918:\tlearn: 0.0251089\ttotal: 2.39s\tremaining: 210ms\n",
      "919:\tlearn: 0.0250673\ttotal: 2.39s\tremaining: 208ms\n",
      "920:\tlearn: 0.0250552\ttotal: 2.39s\tremaining: 205ms\n",
      "921:\tlearn: 0.0250287\ttotal: 2.39s\tremaining: 203ms\n",
      "922:\tlearn: 0.0250200\ttotal: 2.4s\tremaining: 200ms\n",
      "923:\tlearn: 0.0250031\ttotal: 2.4s\tremaining: 197ms\n",
      "924:\tlearn: 0.0249955\ttotal: 2.4s\tremaining: 195ms\n",
      "925:\tlearn: 0.0249484\ttotal: 2.4s\tremaining: 192ms\n",
      "926:\tlearn: 0.0248955\ttotal: 2.41s\tremaining: 189ms\n",
      "927:\tlearn: 0.0248731\ttotal: 2.41s\tremaining: 187ms\n",
      "928:\tlearn: 0.0248661\ttotal: 2.41s\tremaining: 184ms\n",
      "929:\tlearn: 0.0248594\ttotal: 2.41s\tremaining: 182ms\n",
      "930:\tlearn: 0.0248454\ttotal: 2.42s\tremaining: 179ms\n",
      "931:\tlearn: 0.0248316\ttotal: 2.42s\tremaining: 176ms\n",
      "932:\tlearn: 0.0248076\ttotal: 2.42s\tremaining: 174ms\n",
      "933:\tlearn: 0.0247732\ttotal: 2.42s\tremaining: 171ms\n",
      "934:\tlearn: 0.0247114\ttotal: 2.43s\tremaining: 169ms\n",
      "935:\tlearn: 0.0247031\ttotal: 2.43s\tremaining: 166ms\n",
      "936:\tlearn: 0.0246921\ttotal: 2.43s\tremaining: 163ms\n",
      "937:\tlearn: 0.0246723\ttotal: 2.43s\tremaining: 161ms\n",
      "938:\tlearn: 0.0246557\ttotal: 2.44s\tremaining: 158ms\n",
      "939:\tlearn: 0.0246303\ttotal: 2.44s\tremaining: 156ms\n",
      "940:\tlearn: 0.0246027\ttotal: 2.44s\tremaining: 153ms\n",
      "941:\tlearn: 0.0245909\ttotal: 2.44s\tremaining: 150ms\n",
      "942:\tlearn: 0.0245803\ttotal: 2.44s\tremaining: 148ms\n",
      "943:\tlearn: 0.0245454\ttotal: 2.45s\tremaining: 145ms\n",
      "944:\tlearn: 0.0245292\ttotal: 2.45s\tremaining: 143ms\n",
      "945:\tlearn: 0.0244939\ttotal: 2.45s\tremaining: 140ms\n",
      "946:\tlearn: 0.0244236\ttotal: 2.46s\tremaining: 137ms\n",
      "947:\tlearn: 0.0243881\ttotal: 2.46s\tremaining: 135ms\n",
      "948:\tlearn: 0.0243627\ttotal: 2.46s\tremaining: 132ms\n",
      "949:\tlearn: 0.0243516\ttotal: 2.46s\tremaining: 130ms\n",
      "950:\tlearn: 0.0243452\ttotal: 2.47s\tremaining: 127ms\n",
      "951:\tlearn: 0.0243372\ttotal: 2.47s\tremaining: 125ms\n",
      "952:\tlearn: 0.0243311\ttotal: 2.47s\tremaining: 122ms\n",
      "953:\tlearn: 0.0243073\ttotal: 2.47s\tremaining: 119ms\n",
      "954:\tlearn: 0.0242951\ttotal: 2.48s\tremaining: 117ms\n",
      "955:\tlearn: 0.0242792\ttotal: 2.48s\tremaining: 114ms\n",
      "956:\tlearn: 0.0242715\ttotal: 2.48s\tremaining: 112ms\n",
      "957:\tlearn: 0.0242580\ttotal: 2.48s\tremaining: 109ms\n",
      "958:\tlearn: 0.0242501\ttotal: 2.49s\tremaining: 106ms\n",
      "959:\tlearn: 0.0242133\ttotal: 2.49s\tremaining: 104ms\n",
      "960:\tlearn: 0.0241971\ttotal: 2.49s\tremaining: 101ms\n",
      "961:\tlearn: 0.0241621\ttotal: 2.5s\tremaining: 98.6ms\n",
      "962:\tlearn: 0.0241548\ttotal: 2.5s\tremaining: 96ms\n",
      "963:\tlearn: 0.0241485\ttotal: 2.5s\tremaining: 93.4ms\n",
      "964:\tlearn: 0.0241233\ttotal: 2.5s\tremaining: 90.8ms\n",
      "965:\tlearn: 0.0241011\ttotal: 2.51s\tremaining: 88.2ms\n",
      "966:\tlearn: 0.0240828\ttotal: 2.51s\tremaining: 85.6ms\n",
      "967:\tlearn: 0.0240578\ttotal: 2.51s\tremaining: 83ms\n",
      "968:\tlearn: 0.0240146\ttotal: 2.51s\tremaining: 80.4ms\n",
      "969:\tlearn: 0.0239928\ttotal: 2.52s\tremaining: 77.8ms\n",
      "970:\tlearn: 0.0239745\ttotal: 2.52s\tremaining: 75.2ms\n",
      "971:\tlearn: 0.0239386\ttotal: 2.52s\tremaining: 72.6ms\n",
      "972:\tlearn: 0.0239021\ttotal: 2.52s\tremaining: 70ms\n",
      "973:\tlearn: 0.0238917\ttotal: 2.53s\tremaining: 67.4ms\n",
      "974:\tlearn: 0.0238346\ttotal: 2.53s\tremaining: 64.8ms\n",
      "975:\tlearn: 0.0238224\ttotal: 2.53s\tremaining: 62.2ms\n",
      "976:\tlearn: 0.0238091\ttotal: 2.53s\tremaining: 59.6ms\n",
      "977:\tlearn: 0.0237552\ttotal: 2.54s\tremaining: 57ms\n",
      "978:\tlearn: 0.0237482\ttotal: 2.54s\tremaining: 54.4ms\n",
      "979:\tlearn: 0.0237147\ttotal: 2.54s\tremaining: 51.9ms\n",
      "980:\tlearn: 0.0236946\ttotal: 2.54s\tremaining: 49.3ms\n",
      "981:\tlearn: 0.0236763\ttotal: 2.55s\tremaining: 46.7ms\n",
      "982:\tlearn: 0.0236346\ttotal: 2.55s\tremaining: 44.1ms\n",
      "983:\tlearn: 0.0236150\ttotal: 2.55s\tremaining: 41.5ms\n",
      "984:\tlearn: 0.0235737\ttotal: 2.55s\tremaining: 38.9ms\n",
      "985:\tlearn: 0.0235615\ttotal: 2.56s\tremaining: 36.3ms\n",
      "986:\tlearn: 0.0235455\ttotal: 2.56s\tremaining: 33.7ms\n",
      "987:\tlearn: 0.0235296\ttotal: 2.56s\tremaining: 31.1ms\n",
      "988:\tlearn: 0.0235068\ttotal: 2.56s\tremaining: 28.5ms\n",
      "989:\tlearn: 0.0234941\ttotal: 2.56s\tremaining: 25.9ms\n",
      "990:\tlearn: 0.0234712\ttotal: 2.57s\tremaining: 23.3ms\n",
      "991:\tlearn: 0.0234422\ttotal: 2.57s\tremaining: 20.7ms\n",
      "992:\tlearn: 0.0234352\ttotal: 2.57s\tremaining: 18.1ms\n",
      "993:\tlearn: 0.0234247\ttotal: 2.58s\tremaining: 15.6ms\n",
      "994:\tlearn: 0.0234116\ttotal: 2.58s\tremaining: 13ms\n",
      "995:\tlearn: 0.0233911\ttotal: 2.58s\tremaining: 10.4ms\n",
      "996:\tlearn: 0.0233483\ttotal: 2.58s\tremaining: 7.78ms\n",
      "997:\tlearn: 0.0233022\ttotal: 2.59s\tremaining: 5.18ms\n",
      "998:\tlearn: 0.0232785\ttotal: 2.59s\tremaining: 2.59ms\n",
      "999:\tlearn: 0.0232648\ttotal: 2.59s\tremaining: 0us\n"
     ]
    },
    {
     "name": "stderr",
     "output_type": "stream",
     "text": [
      "/home/user/.local/lib/python3.10/site-packages/sklearn/preprocessing/_label.py:154: DataConversionWarning: A column-vector y was passed when a 1d array was expected. Please change the shape of y to (n_samples, ), for example using ravel().\n",
      "  y = column_or_1d(y, warn=True)\n"
     ]
    },
    {
     "name": "stdout",
     "output_type": "stream",
     "text": [
      "SCORE: 0.9840107761192802\n",
      "Learning rate set to 0.084774\n",
      "0:\tlearn: 1.7959156\ttotal: 2.38ms\tremaining: 2.38s\n",
      "1:\tlearn: 1.6603088\ttotal: 4.5ms\tremaining: 2.24s\n",
      "2:\tlearn: 1.5510529\ttotal: 6.71ms\tremaining: 2.23s\n",
      "3:\tlearn: 1.4243889\ttotal: 9.17ms\tremaining: 2.28s\n",
      "4:\tlearn: 1.3398998\ttotal: 11.8ms\tremaining: 2.35s\n",
      "5:\tlearn: 1.2614573\ttotal: 14.6ms\tremaining: 2.42s\n",
      "6:\tlearn: 1.1862128\ttotal: 16.9ms\tremaining: 2.39s\n",
      "7:\tlearn: 1.1264092\ttotal: 19.2ms\tremaining: 2.38s\n",
      "8:\tlearn: 1.0651645\ttotal: 21.4ms\tremaining: 2.36s\n",
      "9:\tlearn: 1.0134331\ttotal: 23.6ms\tremaining: 2.34s\n",
      "10:\tlearn: 0.9587298\ttotal: 25.9ms\tremaining: 2.33s\n",
      "11:\tlearn: 0.9113105\ttotal: 28.2ms\tremaining: 2.32s\n",
      "12:\tlearn: 0.8658733\ttotal: 30.6ms\tremaining: 2.32s\n",
      "13:\tlearn: 0.8247430\ttotal: 32.9ms\tremaining: 2.31s\n",
      "14:\tlearn: 0.7868941\ttotal: 35.3ms\tremaining: 2.31s\n",
      "15:\tlearn: 0.7509175\ttotal: 37.5ms\tremaining: 2.31s\n",
      "16:\tlearn: 0.7187398\ttotal: 39.8ms\tremaining: 2.3s\n",
      "17:\tlearn: 0.6880370\ttotal: 42.1ms\tremaining: 2.29s\n",
      "18:\tlearn: 0.6597614\ttotal: 44.4ms\tremaining: 2.29s\n",
      "19:\tlearn: 0.6310780\ttotal: 46.7ms\tremaining: 2.29s\n",
      "20:\tlearn: 0.6058946\ttotal: 49ms\tremaining: 2.28s\n",
      "21:\tlearn: 0.5800892\ttotal: 51.2ms\tremaining: 2.28s\n",
      "22:\tlearn: 0.5543855\ttotal: 53.4ms\tremaining: 2.27s\n",
      "23:\tlearn: 0.5320147\ttotal: 55.5ms\tremaining: 2.26s\n",
      "24:\tlearn: 0.5109525\ttotal: 58.4ms\tremaining: 2.28s\n",
      "25:\tlearn: 0.4912100\ttotal: 61.6ms\tremaining: 2.31s\n",
      "26:\tlearn: 0.4717856\ttotal: 64.1ms\tremaining: 2.31s\n",
      "27:\tlearn: 0.4542442\ttotal: 66.4ms\tremaining: 2.3s\n",
      "28:\tlearn: 0.4376075\ttotal: 68.7ms\tremaining: 2.3s\n",
      "29:\tlearn: 0.4223304\ttotal: 71.1ms\tremaining: 2.3s\n",
      "30:\tlearn: 0.4070240\ttotal: 73.7ms\tremaining: 2.3s\n",
      "31:\tlearn: 0.3914612\ttotal: 76.1ms\tremaining: 2.3s\n",
      "32:\tlearn: 0.3768624\ttotal: 78.4ms\tremaining: 2.3s\n",
      "33:\tlearn: 0.3632480\ttotal: 80.7ms\tremaining: 2.29s\n",
      "34:\tlearn: 0.3511609\ttotal: 82.9ms\tremaining: 2.29s\n",
      "35:\tlearn: 0.3388917\ttotal: 85.2ms\tremaining: 2.28s\n",
      "36:\tlearn: 0.3270075\ttotal: 87.6ms\tremaining: 2.28s\n",
      "37:\tlearn: 0.3158888\ttotal: 90.1ms\tremaining: 2.28s\n",
      "38:\tlearn: 0.3054334\ttotal: 92.5ms\tremaining: 2.28s\n",
      "39:\tlearn: 0.2953332\ttotal: 94.8ms\tremaining: 2.27s\n",
      "40:\tlearn: 0.2861554\ttotal: 97.1ms\tremaining: 2.27s\n",
      "41:\tlearn: 0.2773691\ttotal: 99.4ms\tremaining: 2.27s\n",
      "42:\tlearn: 0.2680308\ttotal: 102ms\tremaining: 2.27s\n",
      "43:\tlearn: 0.2601501\ttotal: 104ms\tremaining: 2.26s\n",
      "44:\tlearn: 0.2521988\ttotal: 106ms\tremaining: 2.26s\n",
      "45:\tlearn: 0.2445364\ttotal: 109ms\tremaining: 2.26s\n",
      "46:\tlearn: 0.2372305\ttotal: 111ms\tremaining: 2.25s\n",
      "47:\tlearn: 0.2299783\ttotal: 114ms\tremaining: 2.25s\n",
      "48:\tlearn: 0.2234281\ttotal: 116ms\tremaining: 2.25s\n",
      "49:\tlearn: 0.2171907\ttotal: 118ms\tremaining: 2.25s\n",
      "50:\tlearn: 0.2114996\ttotal: 121ms\tremaining: 2.24s\n",
      "51:\tlearn: 0.2057213\ttotal: 123ms\tremaining: 2.24s\n",
      "52:\tlearn: 0.2003513\ttotal: 125ms\tremaining: 2.24s\n",
      "53:\tlearn: 0.1947918\ttotal: 128ms\tremaining: 2.24s\n",
      "54:\tlearn: 0.1900205\ttotal: 130ms\tremaining: 2.24s\n",
      "55:\tlearn: 0.1851969\ttotal: 133ms\tremaining: 2.23s\n",
      "56:\tlearn: 0.1806694\ttotal: 135ms\tremaining: 2.23s\n",
      "57:\tlearn: 0.1761152\ttotal: 138ms\tremaining: 2.24s\n",
      "58:\tlearn: 0.1720879\ttotal: 140ms\tremaining: 2.23s\n",
      "59:\tlearn: 0.1678711\ttotal: 143ms\tremaining: 2.23s\n",
      "60:\tlearn: 0.1643597\ttotal: 145ms\tremaining: 2.23s\n",
      "61:\tlearn: 0.1608102\ttotal: 147ms\tremaining: 2.23s\n",
      "62:\tlearn: 0.1570709\ttotal: 150ms\tremaining: 2.23s\n",
      "63:\tlearn: 0.1533702\ttotal: 152ms\tremaining: 2.23s\n",
      "64:\tlearn: 0.1503394\ttotal: 155ms\tremaining: 2.23s\n",
      "65:\tlearn: 0.1474499\ttotal: 157ms\tremaining: 2.23s\n",
      "66:\tlearn: 0.1442315\ttotal: 160ms\tremaining: 2.23s\n",
      "67:\tlearn: 0.1420313\ttotal: 162ms\tremaining: 2.23s\n",
      "68:\tlearn: 0.1395241\ttotal: 165ms\tremaining: 2.22s\n",
      "69:\tlearn: 0.1370904\ttotal: 167ms\tremaining: 2.22s\n",
      "70:\tlearn: 0.1342689\ttotal: 170ms\tremaining: 2.22s\n",
      "71:\tlearn: 0.1316367\ttotal: 172ms\tremaining: 2.22s\n",
      "72:\tlearn: 0.1290380\ttotal: 176ms\tremaining: 2.23s\n",
      "73:\tlearn: 0.1265411\ttotal: 178ms\tremaining: 2.23s\n",
      "74:\tlearn: 0.1241901\ttotal: 181ms\tremaining: 2.23s\n",
      "75:\tlearn: 0.1218649\ttotal: 183ms\tremaining: 2.23s\n",
      "76:\tlearn: 0.1200783\ttotal: 186ms\tremaining: 2.22s\n",
      "77:\tlearn: 0.1181356\ttotal: 188ms\tremaining: 2.22s\n",
      "78:\tlearn: 0.1162298\ttotal: 191ms\tremaining: 2.22s\n",
      "79:\tlearn: 0.1142976\ttotal: 194ms\tremaining: 2.23s\n",
      "80:\tlearn: 0.1127440\ttotal: 197ms\tremaining: 2.24s\n",
      "81:\tlearn: 0.1110567\ttotal: 200ms\tremaining: 2.23s\n",
      "82:\tlearn: 0.1099421\ttotal: 202ms\tremaining: 2.23s\n",
      "83:\tlearn: 0.1091663\ttotal: 205ms\tremaining: 2.23s\n",
      "84:\tlearn: 0.1074604\ttotal: 207ms\tremaining: 2.23s\n",
      "85:\tlearn: 0.1059776\ttotal: 209ms\tremaining: 2.23s\n",
      "86:\tlearn: 0.1049849\ttotal: 212ms\tremaining: 2.23s\n",
      "87:\tlearn: 0.1038023\ttotal: 215ms\tremaining: 2.22s\n",
      "88:\tlearn: 0.1026272\ttotal: 217ms\tremaining: 2.23s\n",
      "89:\tlearn: 0.1014523\ttotal: 220ms\tremaining: 2.22s\n",
      "90:\tlearn: 0.1002066\ttotal: 222ms\tremaining: 2.22s\n",
      "91:\tlearn: 0.0992115\ttotal: 225ms\tremaining: 2.22s\n",
      "92:\tlearn: 0.0978578\ttotal: 227ms\tremaining: 2.22s\n",
      "93:\tlearn: 0.0974103\ttotal: 230ms\tremaining: 2.21s\n",
      "94:\tlearn: 0.0961726\ttotal: 232ms\tremaining: 2.21s\n",
      "95:\tlearn: 0.0954422\ttotal: 235ms\tremaining: 2.21s\n",
      "96:\tlearn: 0.0948006\ttotal: 237ms\tremaining: 2.21s\n",
      "97:\tlearn: 0.0939707\ttotal: 240ms\tremaining: 2.21s\n",
      "98:\tlearn: 0.0929152\ttotal: 242ms\tremaining: 2.2s\n",
      "99:\tlearn: 0.0919937\ttotal: 245ms\tremaining: 2.2s\n",
      "100:\tlearn: 0.0908925\ttotal: 247ms\tremaining: 2.2s\n",
      "101:\tlearn: 0.0902629\ttotal: 250ms\tremaining: 2.2s\n",
      "102:\tlearn: 0.0898418\ttotal: 252ms\tremaining: 2.19s\n",
      "103:\tlearn: 0.0891926\ttotal: 254ms\tremaining: 2.19s\n",
      "104:\tlearn: 0.0884245\ttotal: 257ms\tremaining: 2.19s\n",
      "105:\tlearn: 0.0878528\ttotal: 259ms\tremaining: 2.19s\n",
      "106:\tlearn: 0.0873424\ttotal: 262ms\tremaining: 2.19s\n",
      "107:\tlearn: 0.0866455\ttotal: 265ms\tremaining: 2.19s\n",
      "108:\tlearn: 0.0860985\ttotal: 268ms\tremaining: 2.19s\n",
      "109:\tlearn: 0.0858030\ttotal: 271ms\tremaining: 2.19s\n",
      "110:\tlearn: 0.0855781\ttotal: 273ms\tremaining: 2.19s\n",
      "111:\tlearn: 0.0853679\ttotal: 276ms\tremaining: 2.19s\n",
      "112:\tlearn: 0.0847373\ttotal: 278ms\tremaining: 2.18s\n",
      "113:\tlearn: 0.0845426\ttotal: 280ms\tremaining: 2.18s\n",
      "114:\tlearn: 0.0838641\ttotal: 283ms\tremaining: 2.18s\n",
      "115:\tlearn: 0.0835336\ttotal: 285ms\tremaining: 2.17s\n",
      "116:\tlearn: 0.0832685\ttotal: 288ms\tremaining: 2.17s\n",
      "117:\tlearn: 0.0827527\ttotal: 290ms\tremaining: 2.17s\n",
      "118:\tlearn: 0.0822963\ttotal: 293ms\tremaining: 2.17s\n",
      "119:\tlearn: 0.0817521\ttotal: 295ms\tremaining: 2.16s\n",
      "120:\tlearn: 0.0813354\ttotal: 298ms\tremaining: 2.16s\n",
      "121:\tlearn: 0.0812103\ttotal: 300ms\tremaining: 2.16s\n",
      "122:\tlearn: 0.0807194\ttotal: 302ms\tremaining: 2.16s\n",
      "123:\tlearn: 0.0804492\ttotal: 305ms\tremaining: 2.15s\n",
      "124:\tlearn: 0.0800176\ttotal: 307ms\tremaining: 2.15s\n",
      "125:\tlearn: 0.0795473\ttotal: 310ms\tremaining: 2.15s\n",
      "126:\tlearn: 0.0792924\ttotal: 312ms\tremaining: 2.14s\n",
      "127:\tlearn: 0.0786228\ttotal: 315ms\tremaining: 2.14s\n",
      "128:\tlearn: 0.0783033\ttotal: 317ms\tremaining: 2.14s\n",
      "129:\tlearn: 0.0780983\ttotal: 320ms\tremaining: 2.14s\n",
      "130:\tlearn: 0.0776739\ttotal: 322ms\tremaining: 2.14s\n",
      "131:\tlearn: 0.0773578\ttotal: 325ms\tremaining: 2.13s\n",
      "132:\tlearn: 0.0768844\ttotal: 327ms\tremaining: 2.13s\n",
      "133:\tlearn: 0.0764595\ttotal: 330ms\tremaining: 2.13s\n",
      "134:\tlearn: 0.0760360\ttotal: 332ms\tremaining: 2.13s\n",
      "135:\tlearn: 0.0756533\ttotal: 335ms\tremaining: 2.13s\n",
      "136:\tlearn: 0.0754324\ttotal: 337ms\tremaining: 2.12s\n",
      "137:\tlearn: 0.0751473\ttotal: 340ms\tremaining: 2.12s\n",
      "138:\tlearn: 0.0748361\ttotal: 342ms\tremaining: 2.12s\n",
      "139:\tlearn: 0.0742765\ttotal: 344ms\tremaining: 2.12s\n",
      "140:\tlearn: 0.0740420\ttotal: 347ms\tremaining: 2.11s\n",
      "141:\tlearn: 0.0738304\ttotal: 349ms\tremaining: 2.11s\n",
      "142:\tlearn: 0.0735369\ttotal: 352ms\tremaining: 2.11s\n",
      "143:\tlearn: 0.0732134\ttotal: 355ms\tremaining: 2.11s\n",
      "144:\tlearn: 0.0728602\ttotal: 358ms\tremaining: 2.11s\n",
      "145:\tlearn: 0.0727618\ttotal: 360ms\tremaining: 2.11s\n",
      "146:\tlearn: 0.0724931\ttotal: 362ms\tremaining: 2.1s\n",
      "147:\tlearn: 0.0721297\ttotal: 365ms\tremaining: 2.1s\n",
      "148:\tlearn: 0.0717556\ttotal: 368ms\tremaining: 2.1s\n",
      "149:\tlearn: 0.0716237\ttotal: 371ms\tremaining: 2.1s\n",
      "150:\tlearn: 0.0715751\ttotal: 373ms\tremaining: 2.1s\n",
      "151:\tlearn: 0.0712988\ttotal: 376ms\tremaining: 2.1s\n",
      "152:\tlearn: 0.0710343\ttotal: 378ms\tremaining: 2.09s\n",
      "153:\tlearn: 0.0706650\ttotal: 380ms\tremaining: 2.09s\n",
      "154:\tlearn: 0.0704489\ttotal: 383ms\tremaining: 2.09s\n",
      "155:\tlearn: 0.0701864\ttotal: 385ms\tremaining: 2.08s\n",
      "156:\tlearn: 0.0700427\ttotal: 388ms\tremaining: 2.08s\n",
      "157:\tlearn: 0.0699387\ttotal: 390ms\tremaining: 2.08s\n",
      "158:\tlearn: 0.0698075\ttotal: 393ms\tremaining: 2.08s\n",
      "159:\tlearn: 0.0696166\ttotal: 395ms\tremaining: 2.08s\n",
      "160:\tlearn: 0.0694443\ttotal: 398ms\tremaining: 2.07s\n",
      "161:\tlearn: 0.0692963\ttotal: 400ms\tremaining: 2.07s\n",
      "162:\tlearn: 0.0691268\ttotal: 403ms\tremaining: 2.07s\n",
      "163:\tlearn: 0.0688601\ttotal: 405ms\tremaining: 2.06s\n",
      "164:\tlearn: 0.0686164\ttotal: 408ms\tremaining: 2.06s\n",
      "165:\tlearn: 0.0685350\ttotal: 410ms\tremaining: 2.06s\n",
      "166:\tlearn: 0.0683346\ttotal: 414ms\tremaining: 2.06s\n",
      "167:\tlearn: 0.0681926\ttotal: 416ms\tremaining: 2.06s\n",
      "168:\tlearn: 0.0679655\ttotal: 418ms\tremaining: 2.06s\n",
      "169:\tlearn: 0.0679073\ttotal: 421ms\tremaining: 2.06s\n",
      "170:\tlearn: 0.0676619\ttotal: 423ms\tremaining: 2.05s\n",
      "171:\tlearn: 0.0674288\ttotal: 426ms\tremaining: 2.05s\n",
      "172:\tlearn: 0.0673317\ttotal: 429ms\tremaining: 2.05s\n",
      "173:\tlearn: 0.0668957\ttotal: 431ms\tremaining: 2.05s\n",
      "174:\tlearn: 0.0667452\ttotal: 434ms\tremaining: 2.04s\n",
      "175:\tlearn: 0.0666944\ttotal: 436ms\tremaining: 2.04s\n",
      "176:\tlearn: 0.0665412\ttotal: 439ms\tremaining: 2.04s\n",
      "177:\tlearn: 0.0663369\ttotal: 441ms\tremaining: 2.04s\n",
      "178:\tlearn: 0.0662828\ttotal: 444ms\tremaining: 2.03s\n",
      "179:\tlearn: 0.0661642\ttotal: 446ms\tremaining: 2.03s\n",
      "180:\tlearn: 0.0661178\ttotal: 448ms\tremaining: 2.03s\n",
      "181:\tlearn: 0.0658258\ttotal: 451ms\tremaining: 2.02s\n",
      "182:\tlearn: 0.0656509\ttotal: 453ms\tremaining: 2.02s\n",
      "183:\tlearn: 0.0653560\ttotal: 456ms\tremaining: 2.02s\n",
      "184:\tlearn: 0.0652845\ttotal: 458ms\tremaining: 2.02s\n",
      "185:\tlearn: 0.0652125\ttotal: 460ms\tremaining: 2.01s\n",
      "186:\tlearn: 0.0648340\ttotal: 463ms\tremaining: 2.01s\n",
      "187:\tlearn: 0.0646374\ttotal: 465ms\tremaining: 2.01s\n",
      "188:\tlearn: 0.0645369\ttotal: 468ms\tremaining: 2.01s\n",
      "189:\tlearn: 0.0642689\ttotal: 470ms\tremaining: 2s\n",
      "190:\tlearn: 0.0641033\ttotal: 473ms\tremaining: 2s\n",
      "191:\tlearn: 0.0638752\ttotal: 475ms\tremaining: 2s\n",
      "192:\tlearn: 0.0636988\ttotal: 478ms\tremaining: 2s\n",
      "193:\tlearn: 0.0635332\ttotal: 480ms\tremaining: 1.99s\n",
      "194:\tlearn: 0.0633432\ttotal: 482ms\tremaining: 1.99s\n",
      "195:\tlearn: 0.0633021\ttotal: 485ms\tremaining: 1.99s\n",
      "196:\tlearn: 0.0632453\ttotal: 487ms\tremaining: 1.99s\n",
      "197:\tlearn: 0.0628789\ttotal: 490ms\tremaining: 1.98s\n",
      "198:\tlearn: 0.0627160\ttotal: 492ms\tremaining: 1.98s\n",
      "199:\tlearn: 0.0625057\ttotal: 495ms\tremaining: 1.98s\n",
      "200:\tlearn: 0.0623242\ttotal: 497ms\tremaining: 1.98s\n",
      "201:\tlearn: 0.0621116\ttotal: 500ms\tremaining: 1.97s\n",
      "202:\tlearn: 0.0618768\ttotal: 502ms\tremaining: 1.97s\n",
      "203:\tlearn: 0.0615974\ttotal: 505ms\tremaining: 1.97s\n",
      "204:\tlearn: 0.0614360\ttotal: 507ms\tremaining: 1.97s\n",
      "205:\tlearn: 0.0611147\ttotal: 510ms\tremaining: 1.96s\n",
      "206:\tlearn: 0.0610709\ttotal: 512ms\tremaining: 1.96s\n",
      "207:\tlearn: 0.0609399\ttotal: 514ms\tremaining: 1.96s\n",
      "208:\tlearn: 0.0607645\ttotal: 517ms\tremaining: 1.96s\n",
      "209:\tlearn: 0.0605606\ttotal: 520ms\tremaining: 1.95s\n",
      "210:\tlearn: 0.0603943\ttotal: 522ms\tremaining: 1.95s\n",
      "211:\tlearn: 0.0602141\ttotal: 524ms\tremaining: 1.95s\n",
      "212:\tlearn: 0.0600883\ttotal: 527ms\tremaining: 1.95s\n",
      "213:\tlearn: 0.0600614\ttotal: 529ms\tremaining: 1.94s\n",
      "214:\tlearn: 0.0599298\ttotal: 532ms\tremaining: 1.94s\n",
      "215:\tlearn: 0.0598046\ttotal: 534ms\tremaining: 1.94s\n",
      "216:\tlearn: 0.0597202\ttotal: 537ms\tremaining: 1.94s\n",
      "217:\tlearn: 0.0595725\ttotal: 539ms\tremaining: 1.93s\n",
      "218:\tlearn: 0.0593808\ttotal: 542ms\tremaining: 1.93s\n",
      "219:\tlearn: 0.0592764\ttotal: 544ms\tremaining: 1.93s\n",
      "220:\tlearn: 0.0591117\ttotal: 547ms\tremaining: 1.93s\n",
      "221:\tlearn: 0.0590721\ttotal: 549ms\tremaining: 1.92s\n",
      "222:\tlearn: 0.0589945\ttotal: 551ms\tremaining: 1.92s\n",
      "223:\tlearn: 0.0589067\ttotal: 554ms\tremaining: 1.92s\n",
      "224:\tlearn: 0.0585538\ttotal: 556ms\tremaining: 1.92s\n",
      "225:\tlearn: 0.0583327\ttotal: 559ms\tremaining: 1.91s\n",
      "226:\tlearn: 0.0581116\ttotal: 561ms\tremaining: 1.91s\n",
      "227:\tlearn: 0.0580463\ttotal: 564ms\tremaining: 1.91s\n",
      "228:\tlearn: 0.0578768\ttotal: 566ms\tremaining: 1.91s\n",
      "229:\tlearn: 0.0577275\ttotal: 569ms\tremaining: 1.9s\n",
      "230:\tlearn: 0.0576090\ttotal: 571ms\tremaining: 1.9s\n",
      "231:\tlearn: 0.0574775\ttotal: 574ms\tremaining: 1.9s\n",
      "232:\tlearn: 0.0573902\ttotal: 576ms\tremaining: 1.9s\n",
      "233:\tlearn: 0.0572733\ttotal: 579ms\tremaining: 1.89s\n"
     ]
    },
    {
     "name": "stdout",
     "output_type": "stream",
     "text": [
      "234:\tlearn: 0.0571744\ttotal: 582ms\tremaining: 1.9s\n",
      "235:\tlearn: 0.0570533\ttotal: 585ms\tremaining: 1.89s\n",
      "236:\tlearn: 0.0569129\ttotal: 588ms\tremaining: 1.89s\n",
      "237:\tlearn: 0.0568037\ttotal: 590ms\tremaining: 1.89s\n",
      "238:\tlearn: 0.0567302\ttotal: 592ms\tremaining: 1.89s\n",
      "239:\tlearn: 0.0565714\ttotal: 595ms\tremaining: 1.88s\n",
      "240:\tlearn: 0.0564759\ttotal: 597ms\tremaining: 1.88s\n",
      "241:\tlearn: 0.0563903\ttotal: 600ms\tremaining: 1.88s\n",
      "242:\tlearn: 0.0563560\ttotal: 602ms\tremaining: 1.88s\n",
      "243:\tlearn: 0.0562725\ttotal: 605ms\tremaining: 1.87s\n",
      "244:\tlearn: 0.0561471\ttotal: 607ms\tremaining: 1.87s\n",
      "245:\tlearn: 0.0560142\ttotal: 609ms\tremaining: 1.87s\n",
      "246:\tlearn: 0.0559423\ttotal: 612ms\tremaining: 1.86s\n",
      "247:\tlearn: 0.0558757\ttotal: 614ms\tremaining: 1.86s\n",
      "248:\tlearn: 0.0557643\ttotal: 616ms\tremaining: 1.86s\n",
      "249:\tlearn: 0.0556769\ttotal: 619ms\tremaining: 1.86s\n",
      "250:\tlearn: 0.0555491\ttotal: 621ms\tremaining: 1.85s\n",
      "251:\tlearn: 0.0555064\ttotal: 624ms\tremaining: 1.85s\n",
      "252:\tlearn: 0.0554154\ttotal: 626ms\tremaining: 1.85s\n",
      "253:\tlearn: 0.0553367\ttotal: 629ms\tremaining: 1.84s\n",
      "254:\tlearn: 0.0552729\ttotal: 631ms\tremaining: 1.84s\n",
      "255:\tlearn: 0.0551026\ttotal: 633ms\tremaining: 1.84s\n",
      "256:\tlearn: 0.0550148\ttotal: 636ms\tremaining: 1.84s\n",
      "257:\tlearn: 0.0549926\ttotal: 638ms\tremaining: 1.83s\n",
      "258:\tlearn: 0.0548915\ttotal: 641ms\tremaining: 1.83s\n",
      "259:\tlearn: 0.0547992\ttotal: 643ms\tremaining: 1.83s\n",
      "260:\tlearn: 0.0546190\ttotal: 645ms\tremaining: 1.83s\n",
      "261:\tlearn: 0.0545735\ttotal: 648ms\tremaining: 1.82s\n",
      "262:\tlearn: 0.0543059\ttotal: 651ms\tremaining: 1.82s\n",
      "263:\tlearn: 0.0541856\ttotal: 653ms\tremaining: 1.82s\n",
      "264:\tlearn: 0.0541065\ttotal: 655ms\tremaining: 1.82s\n",
      "265:\tlearn: 0.0539967\ttotal: 658ms\tremaining: 1.81s\n",
      "266:\tlearn: 0.0537485\ttotal: 660ms\tremaining: 1.81s\n",
      "267:\tlearn: 0.0535698\ttotal: 663ms\tremaining: 1.81s\n",
      "268:\tlearn: 0.0535195\ttotal: 666ms\tremaining: 1.81s\n",
      "269:\tlearn: 0.0533527\ttotal: 668ms\tremaining: 1.81s\n",
      "270:\tlearn: 0.0532135\ttotal: 671ms\tremaining: 1.8s\n",
      "271:\tlearn: 0.0531554\ttotal: 673ms\tremaining: 1.8s\n",
      "272:\tlearn: 0.0530658\ttotal: 676ms\tremaining: 1.8s\n",
      "273:\tlearn: 0.0530092\ttotal: 678ms\tremaining: 1.8s\n",
      "274:\tlearn: 0.0528513\ttotal: 680ms\tremaining: 1.79s\n",
      "275:\tlearn: 0.0527661\ttotal: 683ms\tremaining: 1.79s\n",
      "276:\tlearn: 0.0526508\ttotal: 685ms\tremaining: 1.79s\n",
      "277:\tlearn: 0.0526088\ttotal: 688ms\tremaining: 1.78s\n",
      "278:\tlearn: 0.0525622\ttotal: 690ms\tremaining: 1.78s\n",
      "279:\tlearn: 0.0524267\ttotal: 692ms\tremaining: 1.78s\n",
      "280:\tlearn: 0.0523650\ttotal: 695ms\tremaining: 1.78s\n",
      "281:\tlearn: 0.0522285\ttotal: 697ms\tremaining: 1.77s\n",
      "282:\tlearn: 0.0521425\ttotal: 700ms\tremaining: 1.77s\n",
      "283:\tlearn: 0.0520946\ttotal: 702ms\tremaining: 1.77s\n",
      "284:\tlearn: 0.0520296\ttotal: 704ms\tremaining: 1.77s\n",
      "285:\tlearn: 0.0518397\ttotal: 707ms\tremaining: 1.76s\n",
      "286:\tlearn: 0.0517997\ttotal: 709ms\tremaining: 1.76s\n",
      "287:\tlearn: 0.0517727\ttotal: 712ms\tremaining: 1.76s\n",
      "288:\tlearn: 0.0516347\ttotal: 714ms\tremaining: 1.76s\n",
      "289:\tlearn: 0.0515115\ttotal: 716ms\tremaining: 1.75s\n",
      "290:\tlearn: 0.0514243\ttotal: 719ms\tremaining: 1.75s\n",
      "291:\tlearn: 0.0512524\ttotal: 721ms\tremaining: 1.75s\n",
      "292:\tlearn: 0.0511327\ttotal: 724ms\tremaining: 1.75s\n",
      "293:\tlearn: 0.0511086\ttotal: 726ms\tremaining: 1.74s\n",
      "294:\tlearn: 0.0510127\ttotal: 729ms\tremaining: 1.74s\n",
      "295:\tlearn: 0.0509768\ttotal: 731ms\tremaining: 1.74s\n",
      "296:\tlearn: 0.0509356\ttotal: 734ms\tremaining: 1.74s\n",
      "297:\tlearn: 0.0508430\ttotal: 737ms\tremaining: 1.74s\n",
      "298:\tlearn: 0.0507921\ttotal: 740ms\tremaining: 1.73s\n",
      "299:\tlearn: 0.0507491\ttotal: 742ms\tremaining: 1.73s\n",
      "300:\tlearn: 0.0506987\ttotal: 745ms\tremaining: 1.73s\n",
      "301:\tlearn: 0.0506644\ttotal: 747ms\tremaining: 1.73s\n",
      "302:\tlearn: 0.0505532\ttotal: 750ms\tremaining: 1.73s\n",
      "303:\tlearn: 0.0504767\ttotal: 753ms\tremaining: 1.72s\n",
      "304:\tlearn: 0.0503950\ttotal: 756ms\tremaining: 1.72s\n",
      "305:\tlearn: 0.0503333\ttotal: 758ms\tremaining: 1.72s\n",
      "306:\tlearn: 0.0503027\ttotal: 760ms\tremaining: 1.72s\n",
      "307:\tlearn: 0.0502305\ttotal: 764ms\tremaining: 1.72s\n",
      "308:\tlearn: 0.0501610\ttotal: 766ms\tremaining: 1.71s\n",
      "309:\tlearn: 0.0501159\ttotal: 768ms\tremaining: 1.71s\n",
      "310:\tlearn: 0.0500769\ttotal: 771ms\tremaining: 1.71s\n",
      "311:\tlearn: 0.0499628\ttotal: 773ms\tremaining: 1.71s\n",
      "312:\tlearn: 0.0498873\ttotal: 776ms\tremaining: 1.7s\n",
      "313:\tlearn: 0.0498470\ttotal: 778ms\tremaining: 1.7s\n",
      "314:\tlearn: 0.0497232\ttotal: 781ms\tremaining: 1.7s\n",
      "315:\tlearn: 0.0496887\ttotal: 783ms\tremaining: 1.7s\n",
      "316:\tlearn: 0.0495194\ttotal: 786ms\tremaining: 1.69s\n",
      "317:\tlearn: 0.0494098\ttotal: 788ms\tremaining: 1.69s\n",
      "318:\tlearn: 0.0493660\ttotal: 791ms\tremaining: 1.69s\n",
      "319:\tlearn: 0.0492015\ttotal: 793ms\tremaining: 1.69s\n",
      "320:\tlearn: 0.0489875\ttotal: 796ms\tremaining: 1.68s\n",
      "321:\tlearn: 0.0489512\ttotal: 798ms\tremaining: 1.68s\n",
      "322:\tlearn: 0.0487843\ttotal: 801ms\tremaining: 1.68s\n",
      "323:\tlearn: 0.0486566\ttotal: 803ms\tremaining: 1.68s\n",
      "324:\tlearn: 0.0486021\ttotal: 806ms\tremaining: 1.67s\n",
      "325:\tlearn: 0.0484972\ttotal: 808ms\tremaining: 1.67s\n",
      "326:\tlearn: 0.0484530\ttotal: 811ms\tremaining: 1.67s\n",
      "327:\tlearn: 0.0484181\ttotal: 813ms\tremaining: 1.67s\n",
      "328:\tlearn: 0.0483444\ttotal: 816ms\tremaining: 1.66s\n",
      "329:\tlearn: 0.0483134\ttotal: 819ms\tremaining: 1.66s\n",
      "330:\tlearn: 0.0482258\ttotal: 822ms\tremaining: 1.66s\n",
      "331:\tlearn: 0.0481014\ttotal: 825ms\tremaining: 1.66s\n",
      "332:\tlearn: 0.0480031\ttotal: 828ms\tremaining: 1.66s\n",
      "333:\tlearn: 0.0479158\ttotal: 830ms\tremaining: 1.66s\n",
      "334:\tlearn: 0.0478435\ttotal: 833ms\tremaining: 1.65s\n",
      "335:\tlearn: 0.0478114\ttotal: 835ms\tremaining: 1.65s\n",
      "336:\tlearn: 0.0477518\ttotal: 838ms\tremaining: 1.65s\n",
      "337:\tlearn: 0.0476069\ttotal: 840ms\tremaining: 1.65s\n",
      "338:\tlearn: 0.0475521\ttotal: 843ms\tremaining: 1.64s\n",
      "339:\tlearn: 0.0475157\ttotal: 845ms\tremaining: 1.64s\n",
      "340:\tlearn: 0.0474789\ttotal: 848ms\tremaining: 1.64s\n",
      "341:\tlearn: 0.0474237\ttotal: 850ms\tremaining: 1.64s\n",
      "342:\tlearn: 0.0474006\ttotal: 853ms\tremaining: 1.63s\n",
      "343:\tlearn: 0.0473104\ttotal: 855ms\tremaining: 1.63s\n",
      "344:\tlearn: 0.0472381\ttotal: 858ms\tremaining: 1.63s\n",
      "345:\tlearn: 0.0472005\ttotal: 860ms\tremaining: 1.63s\n",
      "346:\tlearn: 0.0470913\ttotal: 863ms\tremaining: 1.62s\n",
      "347:\tlearn: 0.0469727\ttotal: 865ms\tremaining: 1.62s\n",
      "348:\tlearn: 0.0468217\ttotal: 868ms\tremaining: 1.62s\n",
      "349:\tlearn: 0.0467623\ttotal: 870ms\tremaining: 1.62s\n",
      "350:\tlearn: 0.0467305\ttotal: 873ms\tremaining: 1.61s\n",
      "351:\tlearn: 0.0465338\ttotal: 875ms\tremaining: 1.61s\n",
      "352:\tlearn: 0.0463377\ttotal: 878ms\tremaining: 1.61s\n",
      "353:\tlearn: 0.0462500\ttotal: 880ms\tremaining: 1.61s\n",
      "354:\tlearn: 0.0461944\ttotal: 883ms\tremaining: 1.6s\n",
      "355:\tlearn: 0.0461544\ttotal: 885ms\tremaining: 1.6s\n",
      "356:\tlearn: 0.0460782\ttotal: 888ms\tremaining: 1.6s\n",
      "357:\tlearn: 0.0460102\ttotal: 890ms\tremaining: 1.59s\n",
      "358:\tlearn: 0.0459612\ttotal: 892ms\tremaining: 1.59s\n",
      "359:\tlearn: 0.0458736\ttotal: 895ms\tremaining: 1.59s\n",
      "360:\tlearn: 0.0458144\ttotal: 897ms\tremaining: 1.59s\n",
      "361:\tlearn: 0.0457150\ttotal: 900ms\tremaining: 1.59s\n",
      "362:\tlearn: 0.0456436\ttotal: 902ms\tremaining: 1.58s\n",
      "363:\tlearn: 0.0456142\ttotal: 905ms\tremaining: 1.58s\n",
      "364:\tlearn: 0.0455725\ttotal: 907ms\tremaining: 1.58s\n",
      "365:\tlearn: 0.0455013\ttotal: 910ms\tremaining: 1.57s\n",
      "366:\tlearn: 0.0454304\ttotal: 912ms\tremaining: 1.57s\n",
      "367:\tlearn: 0.0453490\ttotal: 915ms\tremaining: 1.57s\n",
      "368:\tlearn: 0.0452652\ttotal: 917ms\tremaining: 1.57s\n",
      "369:\tlearn: 0.0452238\ttotal: 920ms\tremaining: 1.56s\n",
      "370:\tlearn: 0.0451809\ttotal: 922ms\tremaining: 1.56s\n",
      "371:\tlearn: 0.0450619\ttotal: 925ms\tremaining: 1.56s\n",
      "372:\tlearn: 0.0450177\ttotal: 927ms\tremaining: 1.56s\n",
      "373:\tlearn: 0.0449611\ttotal: 930ms\tremaining: 1.55s\n",
      "374:\tlearn: 0.0448970\ttotal: 932ms\tremaining: 1.55s\n",
      "375:\tlearn: 0.0448279\ttotal: 935ms\tremaining: 1.55s\n",
      "376:\tlearn: 0.0448016\ttotal: 937ms\tremaining: 1.55s\n",
      "377:\tlearn: 0.0447628\ttotal: 939ms\tremaining: 1.54s\n",
      "378:\tlearn: 0.0447226\ttotal: 942ms\tremaining: 1.54s\n",
      "379:\tlearn: 0.0446571\ttotal: 944ms\tremaining: 1.54s\n",
      "380:\tlearn: 0.0446162\ttotal: 947ms\tremaining: 1.54s\n",
      "381:\tlearn: 0.0445896\ttotal: 949ms\tremaining: 1.53s\n",
      "382:\tlearn: 0.0444985\ttotal: 952ms\tremaining: 1.53s\n",
      "383:\tlearn: 0.0444523\ttotal: 954ms\tremaining: 1.53s\n",
      "384:\tlearn: 0.0444409\ttotal: 957ms\tremaining: 1.53s\n",
      "385:\tlearn: 0.0443831\ttotal: 959ms\tremaining: 1.52s\n",
      "386:\tlearn: 0.0443205\ttotal: 962ms\tremaining: 1.52s\n",
      "387:\tlearn: 0.0442883\ttotal: 964ms\tremaining: 1.52s\n",
      "388:\tlearn: 0.0442093\ttotal: 967ms\tremaining: 1.52s\n",
      "389:\tlearn: 0.0441864\ttotal: 969ms\tremaining: 1.51s\n",
      "390:\tlearn: 0.0441550\ttotal: 972ms\tremaining: 1.51s\n",
      "391:\tlearn: 0.0441103\ttotal: 975ms\tremaining: 1.51s\n",
      "392:\tlearn: 0.0440357\ttotal: 978ms\tremaining: 1.51s\n",
      "393:\tlearn: 0.0439510\ttotal: 981ms\tremaining: 1.51s\n",
      "394:\tlearn: 0.0439169\ttotal: 983ms\tremaining: 1.51s\n",
      "395:\tlearn: 0.0438632\ttotal: 986ms\tremaining: 1.5s\n",
      "396:\tlearn: 0.0437802\ttotal: 988ms\tremaining: 1.5s\n",
      "397:\tlearn: 0.0436598\ttotal: 991ms\tremaining: 1.5s\n",
      "398:\tlearn: 0.0436362\ttotal: 993ms\tremaining: 1.5s\n",
      "399:\tlearn: 0.0435671\ttotal: 996ms\tremaining: 1.49s\n",
      "400:\tlearn: 0.0434838\ttotal: 999ms\tremaining: 1.49s\n",
      "401:\tlearn: 0.0434279\ttotal: 1s\tremaining: 1.49s\n",
      "402:\tlearn: 0.0432384\ttotal: 1s\tremaining: 1.49s\n",
      "403:\tlearn: 0.0431768\ttotal: 1.01s\tremaining: 1.48s\n",
      "404:\tlearn: 0.0430607\ttotal: 1.01s\tremaining: 1.48s\n",
      "405:\tlearn: 0.0430409\ttotal: 1.01s\tremaining: 1.48s\n",
      "406:\tlearn: 0.0429800\ttotal: 1.01s\tremaining: 1.48s\n",
      "407:\tlearn: 0.0428814\ttotal: 1.02s\tremaining: 1.47s\n",
      "408:\tlearn: 0.0428465\ttotal: 1.02s\tremaining: 1.47s\n",
      "409:\tlearn: 0.0427675\ttotal: 1.02s\tremaining: 1.47s\n",
      "410:\tlearn: 0.0426788\ttotal: 1.02s\tremaining: 1.47s\n",
      "411:\tlearn: 0.0426060\ttotal: 1.02s\tremaining: 1.46s\n",
      "412:\tlearn: 0.0425281\ttotal: 1.03s\tremaining: 1.46s\n",
      "413:\tlearn: 0.0423692\ttotal: 1.03s\tremaining: 1.46s\n",
      "414:\tlearn: 0.0423384\ttotal: 1.03s\tremaining: 1.46s\n",
      "415:\tlearn: 0.0421533\ttotal: 1.03s\tremaining: 1.45s\n",
      "416:\tlearn: 0.0420648\ttotal: 1.04s\tremaining: 1.45s\n",
      "417:\tlearn: 0.0419710\ttotal: 1.04s\tremaining: 1.45s\n",
      "418:\tlearn: 0.0419448\ttotal: 1.04s\tremaining: 1.45s\n",
      "419:\tlearn: 0.0418900\ttotal: 1.04s\tremaining: 1.44s\n",
      "420:\tlearn: 0.0418587\ttotal: 1.05s\tremaining: 1.44s\n",
      "421:\tlearn: 0.0417543\ttotal: 1.05s\tremaining: 1.44s\n",
      "422:\tlearn: 0.0417314\ttotal: 1.05s\tremaining: 1.44s\n",
      "423:\tlearn: 0.0416873\ttotal: 1.06s\tremaining: 1.43s\n",
      "424:\tlearn: 0.0416524\ttotal: 1.06s\tremaining: 1.43s\n",
      "425:\tlearn: 0.0416163\ttotal: 1.06s\tremaining: 1.43s\n",
      "426:\tlearn: 0.0415489\ttotal: 1.06s\tremaining: 1.43s\n",
      "427:\tlearn: 0.0415154\ttotal: 1.07s\tremaining: 1.42s\n",
      "428:\tlearn: 0.0414639\ttotal: 1.07s\tremaining: 1.42s\n",
      "429:\tlearn: 0.0413773\ttotal: 1.07s\tremaining: 1.42s\n",
      "430:\tlearn: 0.0413100\ttotal: 1.07s\tremaining: 1.42s\n",
      "431:\tlearn: 0.0412794\ttotal: 1.08s\tremaining: 1.42s\n",
      "432:\tlearn: 0.0412530\ttotal: 1.08s\tremaining: 1.41s\n",
      "433:\tlearn: 0.0412158\ttotal: 1.08s\tremaining: 1.41s\n",
      "434:\tlearn: 0.0411310\ttotal: 1.08s\tremaining: 1.41s\n",
      "435:\tlearn: 0.0410435\ttotal: 1.09s\tremaining: 1.4s\n",
      "436:\tlearn: 0.0409691\ttotal: 1.09s\tremaining: 1.4s\n",
      "437:\tlearn: 0.0409455\ttotal: 1.09s\tremaining: 1.4s\n",
      "438:\tlearn: 0.0409130\ttotal: 1.09s\tremaining: 1.4s\n",
      "439:\tlearn: 0.0408748\ttotal: 1.09s\tremaining: 1.39s\n",
      "440:\tlearn: 0.0407655\ttotal: 1.1s\tremaining: 1.39s\n",
      "441:\tlearn: 0.0407155\ttotal: 1.1s\tremaining: 1.39s\n",
      "442:\tlearn: 0.0406783\ttotal: 1.1s\tremaining: 1.39s\n",
      "443:\tlearn: 0.0406523\ttotal: 1.1s\tremaining: 1.38s\n",
      "444:\tlearn: 0.0406103\ttotal: 1.11s\tremaining: 1.38s\n",
      "445:\tlearn: 0.0405306\ttotal: 1.11s\tremaining: 1.38s\n",
      "446:\tlearn: 0.0404727\ttotal: 1.11s\tremaining: 1.38s\n",
      "447:\tlearn: 0.0403635\ttotal: 1.11s\tremaining: 1.37s\n",
      "448:\tlearn: 0.0403268\ttotal: 1.12s\tremaining: 1.37s\n",
      "449:\tlearn: 0.0403019\ttotal: 1.12s\tremaining: 1.37s\n",
      "450:\tlearn: 0.0401879\ttotal: 1.12s\tremaining: 1.37s\n",
      "451:\tlearn: 0.0401661\ttotal: 1.12s\tremaining: 1.36s\n",
      "452:\tlearn: 0.0401014\ttotal: 1.13s\tremaining: 1.36s\n",
      "453:\tlearn: 0.0400020\ttotal: 1.13s\tremaining: 1.36s\n",
      "454:\tlearn: 0.0399633\ttotal: 1.13s\tremaining: 1.36s\n",
      "455:\tlearn: 0.0399028\ttotal: 1.14s\tremaining: 1.35s\n",
      "456:\tlearn: 0.0397866\ttotal: 1.14s\tremaining: 1.35s\n",
      "457:\tlearn: 0.0397088\ttotal: 1.14s\tremaining: 1.35s\n",
      "458:\tlearn: 0.0396786\ttotal: 1.14s\tremaining: 1.35s\n",
      "459:\tlearn: 0.0395861\ttotal: 1.15s\tremaining: 1.34s\n",
      "460:\tlearn: 0.0395619\ttotal: 1.15s\tremaining: 1.34s\n",
      "461:\tlearn: 0.0395442\ttotal: 1.15s\tremaining: 1.34s\n",
      "462:\tlearn: 0.0395027\ttotal: 1.15s\tremaining: 1.34s\n",
      "463:\tlearn: 0.0393947\ttotal: 1.16s\tremaining: 1.34s\n",
      "464:\tlearn: 0.0393319\ttotal: 1.16s\tremaining: 1.33s\n",
      "465:\tlearn: 0.0392567\ttotal: 1.16s\tremaining: 1.33s\n"
     ]
    },
    {
     "name": "stdout",
     "output_type": "stream",
     "text": [
      "466:\tlearn: 0.0392271\ttotal: 1.17s\tremaining: 1.33s\n",
      "467:\tlearn: 0.0391957\ttotal: 1.17s\tremaining: 1.33s\n",
      "468:\tlearn: 0.0391703\ttotal: 1.17s\tremaining: 1.33s\n",
      "469:\tlearn: 0.0391388\ttotal: 1.17s\tremaining: 1.32s\n",
      "470:\tlearn: 0.0391117\ttotal: 1.18s\tremaining: 1.32s\n",
      "471:\tlearn: 0.0390864\ttotal: 1.18s\tremaining: 1.32s\n",
      "472:\tlearn: 0.0390439\ttotal: 1.18s\tremaining: 1.32s\n",
      "473:\tlearn: 0.0389634\ttotal: 1.18s\tremaining: 1.31s\n",
      "474:\tlearn: 0.0389131\ttotal: 1.19s\tremaining: 1.31s\n",
      "475:\tlearn: 0.0388921\ttotal: 1.19s\tremaining: 1.31s\n",
      "476:\tlearn: 0.0388705\ttotal: 1.19s\tremaining: 1.31s\n",
      "477:\tlearn: 0.0388199\ttotal: 1.19s\tremaining: 1.3s\n",
      "478:\tlearn: 0.0387529\ttotal: 1.2s\tremaining: 1.3s\n",
      "479:\tlearn: 0.0387047\ttotal: 1.2s\tremaining: 1.3s\n",
      "480:\tlearn: 0.0386673\ttotal: 1.2s\tremaining: 1.3s\n",
      "481:\tlearn: 0.0386221\ttotal: 1.2s\tremaining: 1.29s\n",
      "482:\tlearn: 0.0386061\ttotal: 1.21s\tremaining: 1.29s\n",
      "483:\tlearn: 0.0385052\ttotal: 1.21s\tremaining: 1.29s\n",
      "484:\tlearn: 0.0384501\ttotal: 1.21s\tremaining: 1.29s\n",
      "485:\tlearn: 0.0384152\ttotal: 1.21s\tremaining: 1.28s\n",
      "486:\tlearn: 0.0383952\ttotal: 1.22s\tremaining: 1.28s\n",
      "487:\tlearn: 0.0383378\ttotal: 1.22s\tremaining: 1.28s\n",
      "488:\tlearn: 0.0382745\ttotal: 1.22s\tremaining: 1.28s\n",
      "489:\tlearn: 0.0382034\ttotal: 1.22s\tremaining: 1.27s\n",
      "490:\tlearn: 0.0381105\ttotal: 1.23s\tremaining: 1.27s\n",
      "491:\tlearn: 0.0380603\ttotal: 1.23s\tremaining: 1.27s\n",
      "492:\tlearn: 0.0380329\ttotal: 1.23s\tremaining: 1.27s\n",
      "493:\tlearn: 0.0379511\ttotal: 1.23s\tremaining: 1.26s\n",
      "494:\tlearn: 0.0379063\ttotal: 1.24s\tremaining: 1.26s\n",
      "495:\tlearn: 0.0378286\ttotal: 1.24s\tremaining: 1.26s\n",
      "496:\tlearn: 0.0377673\ttotal: 1.24s\tremaining: 1.26s\n",
      "497:\tlearn: 0.0377511\ttotal: 1.24s\tremaining: 1.25s\n",
      "498:\tlearn: 0.0375540\ttotal: 1.25s\tremaining: 1.25s\n",
      "499:\tlearn: 0.0375018\ttotal: 1.25s\tremaining: 1.25s\n",
      "500:\tlearn: 0.0374827\ttotal: 1.25s\tremaining: 1.25s\n",
      "501:\tlearn: 0.0374584\ttotal: 1.25s\tremaining: 1.24s\n",
      "502:\tlearn: 0.0374184\ttotal: 1.26s\tremaining: 1.24s\n",
      "503:\tlearn: 0.0373770\ttotal: 1.26s\tremaining: 1.24s\n",
      "504:\tlearn: 0.0373238\ttotal: 1.26s\tremaining: 1.24s\n",
      "505:\tlearn: 0.0372232\ttotal: 1.26s\tremaining: 1.23s\n",
      "506:\tlearn: 0.0371377\ttotal: 1.27s\tremaining: 1.23s\n",
      "507:\tlearn: 0.0370942\ttotal: 1.27s\tremaining: 1.23s\n",
      "508:\tlearn: 0.0369863\ttotal: 1.27s\tremaining: 1.23s\n",
      "509:\tlearn: 0.0369391\ttotal: 1.27s\tremaining: 1.22s\n",
      "510:\tlearn: 0.0368750\ttotal: 1.28s\tremaining: 1.22s\n",
      "511:\tlearn: 0.0368311\ttotal: 1.28s\tremaining: 1.22s\n",
      "512:\tlearn: 0.0367918\ttotal: 1.28s\tremaining: 1.22s\n",
      "513:\tlearn: 0.0367113\ttotal: 1.28s\tremaining: 1.22s\n",
      "514:\tlearn: 0.0366991\ttotal: 1.29s\tremaining: 1.21s\n",
      "515:\tlearn: 0.0366426\ttotal: 1.29s\tremaining: 1.21s\n",
      "516:\tlearn: 0.0366205\ttotal: 1.29s\tremaining: 1.21s\n",
      "517:\tlearn: 0.0365697\ttotal: 1.29s\tremaining: 1.21s\n",
      "518:\tlearn: 0.0365063\ttotal: 1.3s\tremaining: 1.2s\n",
      "519:\tlearn: 0.0364963\ttotal: 1.3s\tremaining: 1.2s\n",
      "520:\tlearn: 0.0364236\ttotal: 1.3s\tremaining: 1.2s\n",
      "521:\tlearn: 0.0363815\ttotal: 1.3s\tremaining: 1.2s\n",
      "522:\tlearn: 0.0363183\ttotal: 1.31s\tremaining: 1.19s\n",
      "523:\tlearn: 0.0362344\ttotal: 1.31s\tremaining: 1.19s\n",
      "524:\tlearn: 0.0361189\ttotal: 1.31s\tremaining: 1.19s\n",
      "525:\tlearn: 0.0360920\ttotal: 1.31s\tremaining: 1.19s\n",
      "526:\tlearn: 0.0360391\ttotal: 1.32s\tremaining: 1.18s\n",
      "527:\tlearn: 0.0359574\ttotal: 1.32s\tremaining: 1.18s\n",
      "528:\tlearn: 0.0359111\ttotal: 1.32s\tremaining: 1.18s\n",
      "529:\tlearn: 0.0358768\ttotal: 1.32s\tremaining: 1.17s\n",
      "530:\tlearn: 0.0358344\ttotal: 1.33s\tremaining: 1.17s\n",
      "531:\tlearn: 0.0357849\ttotal: 1.33s\tremaining: 1.17s\n",
      "532:\tlearn: 0.0357339\ttotal: 1.33s\tremaining: 1.17s\n",
      "533:\tlearn: 0.0356775\ttotal: 1.33s\tremaining: 1.16s\n",
      "534:\tlearn: 0.0356569\ttotal: 1.34s\tremaining: 1.16s\n",
      "535:\tlearn: 0.0356343\ttotal: 1.34s\tremaining: 1.16s\n",
      "536:\tlearn: 0.0356116\ttotal: 1.34s\tremaining: 1.16s\n",
      "537:\tlearn: 0.0355704\ttotal: 1.34s\tremaining: 1.15s\n",
      "538:\tlearn: 0.0354821\ttotal: 1.35s\tremaining: 1.15s\n",
      "539:\tlearn: 0.0354290\ttotal: 1.35s\tremaining: 1.15s\n",
      "540:\tlearn: 0.0353297\ttotal: 1.35s\tremaining: 1.15s\n",
      "541:\tlearn: 0.0352953\ttotal: 1.35s\tremaining: 1.14s\n",
      "542:\tlearn: 0.0352804\ttotal: 1.36s\tremaining: 1.14s\n",
      "543:\tlearn: 0.0351910\ttotal: 1.36s\tremaining: 1.14s\n",
      "544:\tlearn: 0.0351129\ttotal: 1.36s\tremaining: 1.14s\n",
      "545:\tlearn: 0.0350987\ttotal: 1.36s\tremaining: 1.14s\n",
      "546:\tlearn: 0.0350822\ttotal: 1.37s\tremaining: 1.13s\n",
      "547:\tlearn: 0.0350179\ttotal: 1.37s\tremaining: 1.13s\n",
      "548:\tlearn: 0.0349318\ttotal: 1.37s\tremaining: 1.13s\n",
      "549:\tlearn: 0.0349108\ttotal: 1.38s\tremaining: 1.13s\n",
      "550:\tlearn: 0.0348743\ttotal: 1.38s\tremaining: 1.12s\n",
      "551:\tlearn: 0.0348309\ttotal: 1.38s\tremaining: 1.12s\n",
      "552:\tlearn: 0.0347968\ttotal: 1.38s\tremaining: 1.12s\n",
      "553:\tlearn: 0.0347207\ttotal: 1.39s\tremaining: 1.11s\n",
      "554:\tlearn: 0.0346743\ttotal: 1.39s\tremaining: 1.11s\n",
      "555:\tlearn: 0.0346605\ttotal: 1.39s\tremaining: 1.11s\n",
      "556:\tlearn: 0.0346132\ttotal: 1.39s\tremaining: 1.11s\n",
      "557:\tlearn: 0.0346014\ttotal: 1.4s\tremaining: 1.11s\n",
      "558:\tlearn: 0.0345762\ttotal: 1.4s\tremaining: 1.1s\n",
      "559:\tlearn: 0.0345436\ttotal: 1.4s\tremaining: 1.1s\n",
      "560:\tlearn: 0.0345051\ttotal: 1.4s\tremaining: 1.1s\n",
      "561:\tlearn: 0.0344559\ttotal: 1.41s\tremaining: 1.1s\n",
      "562:\tlearn: 0.0344127\ttotal: 1.41s\tremaining: 1.09s\n",
      "563:\tlearn: 0.0343283\ttotal: 1.41s\tremaining: 1.09s\n",
      "564:\tlearn: 0.0342930\ttotal: 1.41s\tremaining: 1.09s\n",
      "565:\tlearn: 0.0342186\ttotal: 1.42s\tremaining: 1.09s\n",
      "566:\tlearn: 0.0341845\ttotal: 1.42s\tremaining: 1.08s\n",
      "567:\tlearn: 0.0341630\ttotal: 1.42s\tremaining: 1.08s\n",
      "568:\tlearn: 0.0341265\ttotal: 1.42s\tremaining: 1.08s\n",
      "569:\tlearn: 0.0341062\ttotal: 1.43s\tremaining: 1.08s\n",
      "570:\tlearn: 0.0339910\ttotal: 1.43s\tremaining: 1.07s\n",
      "571:\tlearn: 0.0339320\ttotal: 1.43s\tremaining: 1.07s\n",
      "572:\tlearn: 0.0339148\ttotal: 1.43s\tremaining: 1.07s\n",
      "573:\tlearn: 0.0338118\ttotal: 1.44s\tremaining: 1.06s\n",
      "574:\tlearn: 0.0337579\ttotal: 1.44s\tremaining: 1.06s\n",
      "575:\tlearn: 0.0337402\ttotal: 1.44s\tremaining: 1.06s\n",
      "576:\tlearn: 0.0337252\ttotal: 1.44s\tremaining: 1.06s\n",
      "577:\tlearn: 0.0336920\ttotal: 1.45s\tremaining: 1.05s\n",
      "578:\tlearn: 0.0336479\ttotal: 1.45s\tremaining: 1.05s\n",
      "579:\tlearn: 0.0336284\ttotal: 1.46s\tremaining: 1.05s\n",
      "580:\tlearn: 0.0336013\ttotal: 1.46s\tremaining: 1.05s\n",
      "581:\tlearn: 0.0335837\ttotal: 1.46s\tremaining: 1.05s\n",
      "582:\tlearn: 0.0335450\ttotal: 1.46s\tremaining: 1.05s\n",
      "583:\tlearn: 0.0335302\ttotal: 1.47s\tremaining: 1.04s\n",
      "584:\tlearn: 0.0334555\ttotal: 1.47s\tremaining: 1.04s\n",
      "585:\tlearn: 0.0333864\ttotal: 1.47s\tremaining: 1.04s\n",
      "586:\tlearn: 0.0333427\ttotal: 1.47s\tremaining: 1.04s\n",
      "587:\tlearn: 0.0333156\ttotal: 1.48s\tremaining: 1.03s\n",
      "588:\tlearn: 0.0332837\ttotal: 1.48s\tremaining: 1.03s\n",
      "589:\tlearn: 0.0332752\ttotal: 1.48s\tremaining: 1.03s\n",
      "590:\tlearn: 0.0332609\ttotal: 1.48s\tremaining: 1.03s\n",
      "591:\tlearn: 0.0331858\ttotal: 1.49s\tremaining: 1.02s\n",
      "592:\tlearn: 0.0331454\ttotal: 1.49s\tremaining: 1.02s\n",
      "593:\tlearn: 0.0331306\ttotal: 1.49s\tremaining: 1.02s\n",
      "594:\tlearn: 0.0331113\ttotal: 1.49s\tremaining: 1.01s\n",
      "595:\tlearn: 0.0330869\ttotal: 1.49s\tremaining: 1.01s\n",
      "596:\tlearn: 0.0330084\ttotal: 1.5s\tremaining: 1.01s\n",
      "597:\tlearn: 0.0329603\ttotal: 1.5s\tremaining: 1.01s\n",
      "598:\tlearn: 0.0329162\ttotal: 1.5s\tremaining: 1s\n",
      "599:\tlearn: 0.0328866\ttotal: 1.5s\tremaining: 1s\n",
      "600:\tlearn: 0.0328757\ttotal: 1.51s\tremaining: 1s\n",
      "601:\tlearn: 0.0328270\ttotal: 1.51s\tremaining: 998ms\n",
      "602:\tlearn: 0.0327992\ttotal: 1.51s\tremaining: 995ms\n",
      "603:\tlearn: 0.0327855\ttotal: 1.51s\tremaining: 993ms\n",
      "604:\tlearn: 0.0327363\ttotal: 1.52s\tremaining: 990ms\n",
      "605:\tlearn: 0.0327142\ttotal: 1.52s\tremaining: 988ms\n",
      "606:\tlearn: 0.0326951\ttotal: 1.52s\tremaining: 985ms\n",
      "607:\tlearn: 0.0326328\ttotal: 1.52s\tremaining: 983ms\n",
      "608:\tlearn: 0.0325731\ttotal: 1.53s\tremaining: 980ms\n",
      "609:\tlearn: 0.0325385\ttotal: 1.53s\tremaining: 978ms\n",
      "610:\tlearn: 0.0325182\ttotal: 1.53s\tremaining: 975ms\n",
      "611:\tlearn: 0.0324811\ttotal: 1.53s\tremaining: 973ms\n",
      "612:\tlearn: 0.0324213\ttotal: 1.54s\tremaining: 970ms\n",
      "613:\tlearn: 0.0324000\ttotal: 1.54s\tremaining: 968ms\n",
      "614:\tlearn: 0.0323375\ttotal: 1.54s\tremaining: 965ms\n",
      "615:\tlearn: 0.0322849\ttotal: 1.54s\tremaining: 962ms\n",
      "616:\tlearn: 0.0322225\ttotal: 1.55s\tremaining: 960ms\n",
      "617:\tlearn: 0.0321964\ttotal: 1.55s\tremaining: 958ms\n",
      "618:\tlearn: 0.0321536\ttotal: 1.55s\tremaining: 955ms\n",
      "619:\tlearn: 0.0320978\ttotal: 1.55s\tremaining: 953ms\n",
      "620:\tlearn: 0.0320497\ttotal: 1.56s\tremaining: 951ms\n",
      "621:\tlearn: 0.0320332\ttotal: 1.56s\tremaining: 948ms\n",
      "622:\tlearn: 0.0319786\ttotal: 1.56s\tremaining: 946ms\n",
      "623:\tlearn: 0.0319119\ttotal: 1.56s\tremaining: 943ms\n",
      "624:\tlearn: 0.0318861\ttotal: 1.57s\tremaining: 941ms\n",
      "625:\tlearn: 0.0318621\ttotal: 1.57s\tremaining: 938ms\n",
      "626:\tlearn: 0.0318230\ttotal: 1.57s\tremaining: 936ms\n",
      "627:\tlearn: 0.0318020\ttotal: 1.57s\tremaining: 934ms\n",
      "628:\tlearn: 0.0317616\ttotal: 1.58s\tremaining: 931ms\n",
      "629:\tlearn: 0.0317243\ttotal: 1.58s\tremaining: 928ms\n",
      "630:\tlearn: 0.0316494\ttotal: 1.58s\tremaining: 926ms\n",
      "631:\tlearn: 0.0316126\ttotal: 1.59s\tremaining: 924ms\n",
      "632:\tlearn: 0.0315465\ttotal: 1.59s\tremaining: 921ms\n",
      "633:\tlearn: 0.0314926\ttotal: 1.59s\tremaining: 919ms\n",
      "634:\tlearn: 0.0314738\ttotal: 1.59s\tremaining: 916ms\n",
      "635:\tlearn: 0.0314104\ttotal: 1.6s\tremaining: 914ms\n",
      "636:\tlearn: 0.0313923\ttotal: 1.6s\tremaining: 911ms\n",
      "637:\tlearn: 0.0313438\ttotal: 1.6s\tremaining: 909ms\n",
      "638:\tlearn: 0.0313293\ttotal: 1.6s\tremaining: 906ms\n",
      "639:\tlearn: 0.0313187\ttotal: 1.61s\tremaining: 904ms\n",
      "640:\tlearn: 0.0312809\ttotal: 1.61s\tremaining: 901ms\n",
      "641:\tlearn: 0.0312694\ttotal: 1.61s\tremaining: 899ms\n",
      "642:\tlearn: 0.0312348\ttotal: 1.61s\tremaining: 896ms\n",
      "643:\tlearn: 0.0311858\ttotal: 1.62s\tremaining: 894ms\n",
      "644:\tlearn: 0.0311347\ttotal: 1.62s\tremaining: 891ms\n",
      "645:\tlearn: 0.0311179\ttotal: 1.62s\tremaining: 889ms\n",
      "646:\tlearn: 0.0310869\ttotal: 1.62s\tremaining: 886ms\n",
      "647:\tlearn: 0.0310488\ttotal: 1.63s\tremaining: 884ms\n",
      "648:\tlearn: 0.0310060\ttotal: 1.63s\tremaining: 881ms\n",
      "649:\tlearn: 0.0309905\ttotal: 1.63s\tremaining: 879ms\n",
      "650:\tlearn: 0.0309445\ttotal: 1.63s\tremaining: 876ms\n",
      "651:\tlearn: 0.0309218\ttotal: 1.64s\tremaining: 874ms\n",
      "652:\tlearn: 0.0308671\ttotal: 1.64s\tremaining: 871ms\n",
      "653:\tlearn: 0.0308605\ttotal: 1.64s\tremaining: 869ms\n",
      "654:\tlearn: 0.0308291\ttotal: 1.64s\tremaining: 866ms\n",
      "655:\tlearn: 0.0307421\ttotal: 1.65s\tremaining: 864ms\n",
      "656:\tlearn: 0.0307184\ttotal: 1.65s\tremaining: 861ms\n",
      "657:\tlearn: 0.0306842\ttotal: 1.65s\tremaining: 859ms\n",
      "658:\tlearn: 0.0306517\ttotal: 1.65s\tremaining: 856ms\n",
      "659:\tlearn: 0.0306406\ttotal: 1.66s\tremaining: 854ms\n",
      "660:\tlearn: 0.0305651\ttotal: 1.66s\tremaining: 851ms\n",
      "661:\tlearn: 0.0305057\ttotal: 1.66s\tremaining: 849ms\n",
      "662:\tlearn: 0.0304499\ttotal: 1.66s\tremaining: 846ms\n",
      "663:\tlearn: 0.0304408\ttotal: 1.67s\tremaining: 844ms\n",
      "664:\tlearn: 0.0304033\ttotal: 1.67s\tremaining: 841ms\n",
      "665:\tlearn: 0.0303755\ttotal: 1.67s\tremaining: 838ms\n",
      "666:\tlearn: 0.0303080\ttotal: 1.67s\tremaining: 836ms\n",
      "667:\tlearn: 0.0302643\ttotal: 1.68s\tremaining: 833ms\n",
      "668:\tlearn: 0.0302347\ttotal: 1.68s\tremaining: 831ms\n",
      "669:\tlearn: 0.0301993\ttotal: 1.68s\tremaining: 828ms\n",
      "670:\tlearn: 0.0301915\ttotal: 1.68s\tremaining: 826ms\n",
      "671:\tlearn: 0.0301394\ttotal: 1.69s\tremaining: 823ms\n",
      "672:\tlearn: 0.0300753\ttotal: 1.69s\tremaining: 821ms\n",
      "673:\tlearn: 0.0300401\ttotal: 1.69s\tremaining: 819ms\n",
      "674:\tlearn: 0.0300141\ttotal: 1.7s\tremaining: 816ms\n",
      "675:\tlearn: 0.0299926\ttotal: 1.7s\tremaining: 814ms\n",
      "676:\tlearn: 0.0299333\ttotal: 1.7s\tremaining: 811ms\n",
      "677:\tlearn: 0.0299098\ttotal: 1.7s\tremaining: 809ms\n",
      "678:\tlearn: 0.0298704\ttotal: 1.7s\tremaining: 806ms\n",
      "679:\tlearn: 0.0298335\ttotal: 1.71s\tremaining: 803ms\n",
      "680:\tlearn: 0.0298155\ttotal: 1.71s\tremaining: 801ms\n",
      "681:\tlearn: 0.0297328\ttotal: 1.71s\tremaining: 798ms\n",
      "682:\tlearn: 0.0296920\ttotal: 1.71s\tremaining: 796ms\n",
      "683:\tlearn: 0.0296666\ttotal: 1.72s\tremaining: 793ms\n",
      "684:\tlearn: 0.0296218\ttotal: 1.72s\tremaining: 791ms\n",
      "685:\tlearn: 0.0295694\ttotal: 1.72s\tremaining: 788ms\n",
      "686:\tlearn: 0.0295236\ttotal: 1.72s\tremaining: 786ms\n",
      "687:\tlearn: 0.0294435\ttotal: 1.73s\tremaining: 783ms\n",
      "688:\tlearn: 0.0294307\ttotal: 1.73s\tremaining: 781ms\n",
      "689:\tlearn: 0.0293749\ttotal: 1.73s\tremaining: 778ms\n",
      "690:\tlearn: 0.0293299\ttotal: 1.73s\tremaining: 775ms\n",
      "691:\tlearn: 0.0292916\ttotal: 1.74s\tremaining: 773ms\n",
      "692:\tlearn: 0.0292395\ttotal: 1.74s\tremaining: 771ms\n",
      "693:\tlearn: 0.0292262\ttotal: 1.74s\tremaining: 768ms\n",
      "694:\tlearn: 0.0292172\ttotal: 1.74s\tremaining: 765ms\n",
      "695:\tlearn: 0.0292057\ttotal: 1.75s\tremaining: 763ms\n"
     ]
    },
    {
     "name": "stdout",
     "output_type": "stream",
     "text": [
      "696:\tlearn: 0.0291657\ttotal: 1.75s\tremaining: 761ms\n",
      "697:\tlearn: 0.0291382\ttotal: 1.75s\tremaining: 758ms\n",
      "698:\tlearn: 0.0291043\ttotal: 1.75s\tremaining: 756ms\n",
      "699:\tlearn: 0.0290934\ttotal: 1.76s\tremaining: 753ms\n",
      "700:\tlearn: 0.0290652\ttotal: 1.76s\tremaining: 751ms\n",
      "701:\tlearn: 0.0290426\ttotal: 1.76s\tremaining: 748ms\n",
      "702:\tlearn: 0.0290288\ttotal: 1.76s\tremaining: 745ms\n",
      "703:\tlearn: 0.0289908\ttotal: 1.77s\tremaining: 743ms\n",
      "704:\tlearn: 0.0289472\ttotal: 1.77s\tremaining: 740ms\n",
      "705:\tlearn: 0.0289333\ttotal: 1.77s\tremaining: 738ms\n",
      "706:\tlearn: 0.0288783\ttotal: 1.77s\tremaining: 735ms\n",
      "707:\tlearn: 0.0288667\ttotal: 1.78s\tremaining: 733ms\n",
      "708:\tlearn: 0.0288408\ttotal: 1.78s\tremaining: 730ms\n",
      "709:\tlearn: 0.0288103\ttotal: 1.78s\tremaining: 728ms\n",
      "710:\tlearn: 0.0288047\ttotal: 1.78s\tremaining: 725ms\n",
      "711:\tlearn: 0.0287730\ttotal: 1.79s\tremaining: 723ms\n",
      "712:\tlearn: 0.0287591\ttotal: 1.79s\tremaining: 720ms\n",
      "713:\tlearn: 0.0286685\ttotal: 1.79s\tremaining: 718ms\n",
      "714:\tlearn: 0.0286383\ttotal: 1.8s\tremaining: 716ms\n",
      "715:\tlearn: 0.0286023\ttotal: 1.8s\tremaining: 714ms\n",
      "716:\tlearn: 0.0285794\ttotal: 1.8s\tremaining: 711ms\n",
      "717:\tlearn: 0.0285483\ttotal: 1.8s\tremaining: 709ms\n",
      "718:\tlearn: 0.0285405\ttotal: 1.81s\tremaining: 706ms\n",
      "719:\tlearn: 0.0284966\ttotal: 1.81s\tremaining: 704ms\n",
      "720:\tlearn: 0.0284604\ttotal: 1.81s\tremaining: 701ms\n",
      "721:\tlearn: 0.0284469\ttotal: 1.81s\tremaining: 698ms\n",
      "722:\tlearn: 0.0284257\ttotal: 1.82s\tremaining: 696ms\n",
      "723:\tlearn: 0.0283850\ttotal: 1.82s\tremaining: 694ms\n",
      "724:\tlearn: 0.0283718\ttotal: 1.82s\tremaining: 691ms\n",
      "725:\tlearn: 0.0283362\ttotal: 1.82s\tremaining: 689ms\n",
      "726:\tlearn: 0.0283158\ttotal: 1.83s\tremaining: 687ms\n",
      "727:\tlearn: 0.0282712\ttotal: 1.83s\tremaining: 684ms\n",
      "728:\tlearn: 0.0282262\ttotal: 1.83s\tremaining: 681ms\n",
      "729:\tlearn: 0.0281932\ttotal: 1.83s\tremaining: 679ms\n",
      "730:\tlearn: 0.0281692\ttotal: 1.84s\tremaining: 676ms\n",
      "731:\tlearn: 0.0281451\ttotal: 1.84s\tremaining: 674ms\n",
      "732:\tlearn: 0.0281137\ttotal: 1.84s\tremaining: 671ms\n",
      "733:\tlearn: 0.0280788\ttotal: 1.84s\tremaining: 669ms\n",
      "734:\tlearn: 0.0280653\ttotal: 1.85s\tremaining: 666ms\n",
      "735:\tlearn: 0.0280536\ttotal: 1.85s\tremaining: 664ms\n",
      "736:\tlearn: 0.0280393\ttotal: 1.85s\tremaining: 661ms\n",
      "737:\tlearn: 0.0280111\ttotal: 1.85s\tremaining: 659ms\n",
      "738:\tlearn: 0.0279974\ttotal: 1.86s\tremaining: 656ms\n",
      "739:\tlearn: 0.0279871\ttotal: 1.86s\tremaining: 654ms\n",
      "740:\tlearn: 0.0279652\ttotal: 1.86s\tremaining: 651ms\n",
      "741:\tlearn: 0.0279590\ttotal: 1.86s\tremaining: 648ms\n",
      "742:\tlearn: 0.0279147\ttotal: 1.87s\tremaining: 646ms\n",
      "743:\tlearn: 0.0278839\ttotal: 1.87s\tremaining: 643ms\n",
      "744:\tlearn: 0.0278354\ttotal: 1.87s\tremaining: 641ms\n",
      "745:\tlearn: 0.0278208\ttotal: 1.87s\tremaining: 638ms\n",
      "746:\tlearn: 0.0278112\ttotal: 1.88s\tremaining: 636ms\n",
      "747:\tlearn: 0.0277329\ttotal: 1.88s\tremaining: 633ms\n",
      "748:\tlearn: 0.0276570\ttotal: 1.88s\tremaining: 631ms\n",
      "749:\tlearn: 0.0276181\ttotal: 1.89s\tremaining: 628ms\n",
      "750:\tlearn: 0.0276089\ttotal: 1.89s\tremaining: 626ms\n",
      "751:\tlearn: 0.0275738\ttotal: 1.89s\tremaining: 623ms\n",
      "752:\tlearn: 0.0275578\ttotal: 1.89s\tremaining: 621ms\n",
      "753:\tlearn: 0.0275197\ttotal: 1.9s\tremaining: 618ms\n",
      "754:\tlearn: 0.0274931\ttotal: 1.9s\tremaining: 616ms\n",
      "755:\tlearn: 0.0274513\ttotal: 1.9s\tremaining: 613ms\n",
      "756:\tlearn: 0.0274238\ttotal: 1.9s\tremaining: 611ms\n",
      "757:\tlearn: 0.0274157\ttotal: 1.91s\tremaining: 608ms\n",
      "758:\tlearn: 0.0273997\ttotal: 1.91s\tremaining: 606ms\n",
      "759:\tlearn: 0.0273856\ttotal: 1.91s\tremaining: 603ms\n",
      "760:\tlearn: 0.0273615\ttotal: 1.91s\tremaining: 601ms\n",
      "761:\tlearn: 0.0273306\ttotal: 1.91s\tremaining: 598ms\n",
      "762:\tlearn: 0.0273119\ttotal: 1.92s\tremaining: 596ms\n",
      "763:\tlearn: 0.0272692\ttotal: 1.92s\tremaining: 593ms\n",
      "764:\tlearn: 0.0272622\ttotal: 1.92s\tremaining: 591ms\n",
      "765:\tlearn: 0.0271960\ttotal: 1.93s\tremaining: 588ms\n",
      "766:\tlearn: 0.0271666\ttotal: 1.93s\tremaining: 586ms\n",
      "767:\tlearn: 0.0271497\ttotal: 1.93s\tremaining: 583ms\n",
      "768:\tlearn: 0.0271361\ttotal: 1.93s\tremaining: 581ms\n",
      "769:\tlearn: 0.0271252\ttotal: 1.94s\tremaining: 578ms\n",
      "770:\tlearn: 0.0270794\ttotal: 1.94s\tremaining: 575ms\n",
      "771:\tlearn: 0.0270502\ttotal: 1.94s\tremaining: 573ms\n",
      "772:\tlearn: 0.0270187\ttotal: 1.94s\tremaining: 570ms\n",
      "773:\tlearn: 0.0270007\ttotal: 1.95s\tremaining: 568ms\n",
      "774:\tlearn: 0.0269517\ttotal: 1.95s\tremaining: 566ms\n",
      "775:\tlearn: 0.0269109\ttotal: 1.95s\tremaining: 563ms\n",
      "776:\tlearn: 0.0268946\ttotal: 1.95s\tremaining: 561ms\n",
      "777:\tlearn: 0.0268756\ttotal: 1.96s\tremaining: 558ms\n",
      "778:\tlearn: 0.0268521\ttotal: 1.96s\tremaining: 555ms\n",
      "779:\tlearn: 0.0268264\ttotal: 1.96s\tremaining: 553ms\n",
      "780:\tlearn: 0.0267622\ttotal: 1.96s\tremaining: 550ms\n",
      "781:\tlearn: 0.0267391\ttotal: 1.97s\tremaining: 548ms\n",
      "782:\tlearn: 0.0267155\ttotal: 1.97s\tremaining: 545ms\n",
      "783:\tlearn: 0.0266943\ttotal: 1.97s\tremaining: 543ms\n",
      "784:\tlearn: 0.0266780\ttotal: 1.97s\tremaining: 540ms\n",
      "785:\tlearn: 0.0266428\ttotal: 1.97s\tremaining: 538ms\n",
      "786:\tlearn: 0.0265940\ttotal: 1.98s\tremaining: 535ms\n",
      "787:\tlearn: 0.0265528\ttotal: 1.98s\tremaining: 533ms\n",
      "788:\tlearn: 0.0265435\ttotal: 1.98s\tremaining: 530ms\n",
      "789:\tlearn: 0.0265357\ttotal: 1.98s\tremaining: 528ms\n",
      "790:\tlearn: 0.0264711\ttotal: 1.99s\tremaining: 525ms\n",
      "791:\tlearn: 0.0264505\ttotal: 1.99s\tremaining: 523ms\n",
      "792:\tlearn: 0.0264203\ttotal: 1.99s\tremaining: 520ms\n",
      "793:\tlearn: 0.0264105\ttotal: 1.99s\tremaining: 517ms\n",
      "794:\tlearn: 0.0263950\ttotal: 2s\tremaining: 515ms\n",
      "795:\tlearn: 0.0263701\ttotal: 2s\tremaining: 512ms\n",
      "796:\tlearn: 0.0263393\ttotal: 2s\tremaining: 510ms\n",
      "797:\tlearn: 0.0263271\ttotal: 2s\tremaining: 507ms\n",
      "798:\tlearn: 0.0262734\ttotal: 2.01s\tremaining: 505ms\n",
      "799:\tlearn: 0.0262423\ttotal: 2.01s\tremaining: 502ms\n",
      "800:\tlearn: 0.0262065\ttotal: 2.01s\tremaining: 500ms\n",
      "801:\tlearn: 0.0261777\ttotal: 2.01s\tremaining: 497ms\n",
      "802:\tlearn: 0.0261525\ttotal: 2.02s\tremaining: 495ms\n",
      "803:\tlearn: 0.0261453\ttotal: 2.02s\tremaining: 492ms\n",
      "804:\tlearn: 0.0261311\ttotal: 2.02s\tremaining: 490ms\n",
      "805:\tlearn: 0.0260940\ttotal: 2.02s\tremaining: 487ms\n",
      "806:\tlearn: 0.0260725\ttotal: 2.03s\tremaining: 485ms\n",
      "807:\tlearn: 0.0260574\ttotal: 2.03s\tremaining: 482ms\n",
      "808:\tlearn: 0.0260270\ttotal: 2.03s\tremaining: 480ms\n",
      "809:\tlearn: 0.0260046\ttotal: 2.03s\tremaining: 477ms\n",
      "810:\tlearn: 0.0259591\ttotal: 2.04s\tremaining: 475ms\n",
      "811:\tlearn: 0.0259223\ttotal: 2.04s\tremaining: 472ms\n",
      "812:\tlearn: 0.0259127\ttotal: 2.04s\tremaining: 470ms\n",
      "813:\tlearn: 0.0258958\ttotal: 2.04s\tremaining: 467ms\n",
      "814:\tlearn: 0.0258824\ttotal: 2.05s\tremaining: 465ms\n",
      "815:\tlearn: 0.0258537\ttotal: 2.05s\tremaining: 462ms\n",
      "816:\tlearn: 0.0257758\ttotal: 2.05s\tremaining: 460ms\n",
      "817:\tlearn: 0.0257550\ttotal: 2.05s\tremaining: 457ms\n",
      "818:\tlearn: 0.0257358\ttotal: 2.06s\tremaining: 455ms\n",
      "819:\tlearn: 0.0256839\ttotal: 2.06s\tremaining: 452ms\n",
      "820:\tlearn: 0.0256659\ttotal: 2.06s\tremaining: 450ms\n",
      "821:\tlearn: 0.0256334\ttotal: 2.06s\tremaining: 447ms\n",
      "822:\tlearn: 0.0256157\ttotal: 2.07s\tremaining: 444ms\n",
      "823:\tlearn: 0.0255760\ttotal: 2.07s\tremaining: 442ms\n",
      "824:\tlearn: 0.0255645\ttotal: 2.07s\tremaining: 439ms\n",
      "825:\tlearn: 0.0255396\ttotal: 2.07s\tremaining: 437ms\n",
      "826:\tlearn: 0.0254963\ttotal: 2.08s\tremaining: 434ms\n",
      "827:\tlearn: 0.0254724\ttotal: 2.08s\tremaining: 432ms\n",
      "828:\tlearn: 0.0254408\ttotal: 2.08s\tremaining: 429ms\n",
      "829:\tlearn: 0.0254236\ttotal: 2.08s\tremaining: 427ms\n",
      "830:\tlearn: 0.0253922\ttotal: 2.09s\tremaining: 424ms\n",
      "831:\tlearn: 0.0253636\ttotal: 2.09s\tremaining: 422ms\n",
      "832:\tlearn: 0.0253254\ttotal: 2.09s\tremaining: 419ms\n",
      "833:\tlearn: 0.0253049\ttotal: 2.09s\tremaining: 417ms\n",
      "834:\tlearn: 0.0252784\ttotal: 2.1s\tremaining: 414ms\n",
      "835:\tlearn: 0.0252396\ttotal: 2.1s\tremaining: 412ms\n",
      "836:\tlearn: 0.0252087\ttotal: 2.1s\tremaining: 409ms\n",
      "837:\tlearn: 0.0251800\ttotal: 2.1s\tremaining: 407ms\n",
      "838:\tlearn: 0.0251715\ttotal: 2.1s\tremaining: 404ms\n",
      "839:\tlearn: 0.0251470\ttotal: 2.11s\tremaining: 402ms\n",
      "840:\tlearn: 0.0251386\ttotal: 2.11s\tremaining: 399ms\n",
      "841:\tlearn: 0.0250799\ttotal: 2.11s\tremaining: 397ms\n",
      "842:\tlearn: 0.0250444\ttotal: 2.12s\tremaining: 394ms\n",
      "843:\tlearn: 0.0250292\ttotal: 2.12s\tremaining: 391ms\n",
      "844:\tlearn: 0.0249930\ttotal: 2.12s\tremaining: 389ms\n",
      "845:\tlearn: 0.0249755\ttotal: 2.13s\tremaining: 387ms\n",
      "846:\tlearn: 0.0249343\ttotal: 2.13s\tremaining: 384ms\n",
      "847:\tlearn: 0.0249092\ttotal: 2.13s\tremaining: 382ms\n",
      "848:\tlearn: 0.0248797\ttotal: 2.13s\tremaining: 380ms\n",
      "849:\tlearn: 0.0248615\ttotal: 2.14s\tremaining: 377ms\n",
      "850:\tlearn: 0.0248349\ttotal: 2.14s\tremaining: 374ms\n",
      "851:\tlearn: 0.0247999\ttotal: 2.14s\tremaining: 372ms\n",
      "852:\tlearn: 0.0247545\ttotal: 2.14s\tremaining: 370ms\n",
      "853:\tlearn: 0.0247216\ttotal: 2.15s\tremaining: 367ms\n",
      "854:\tlearn: 0.0247055\ttotal: 2.15s\tremaining: 365ms\n",
      "855:\tlearn: 0.0246840\ttotal: 2.15s\tremaining: 362ms\n",
      "856:\tlearn: 0.0246681\ttotal: 2.15s\tremaining: 359ms\n",
      "857:\tlearn: 0.0246448\ttotal: 2.16s\tremaining: 357ms\n",
      "858:\tlearn: 0.0246095\ttotal: 2.16s\tremaining: 354ms\n",
      "859:\tlearn: 0.0245946\ttotal: 2.16s\tremaining: 352ms\n",
      "860:\tlearn: 0.0245814\ttotal: 2.16s\tremaining: 349ms\n",
      "861:\tlearn: 0.0245668\ttotal: 2.17s\tremaining: 347ms\n",
      "862:\tlearn: 0.0245463\ttotal: 2.17s\tremaining: 344ms\n",
      "863:\tlearn: 0.0245292\ttotal: 2.17s\tremaining: 342ms\n",
      "864:\tlearn: 0.0244854\ttotal: 2.17s\tremaining: 339ms\n",
      "865:\tlearn: 0.0244640\ttotal: 2.17s\tremaining: 337ms\n",
      "866:\tlearn: 0.0244498\ttotal: 2.18s\tremaining: 334ms\n",
      "867:\tlearn: 0.0244352\ttotal: 2.18s\tremaining: 332ms\n",
      "868:\tlearn: 0.0244257\ttotal: 2.18s\tremaining: 329ms\n",
      "869:\tlearn: 0.0244156\ttotal: 2.19s\tremaining: 327ms\n",
      "870:\tlearn: 0.0243954\ttotal: 2.19s\tremaining: 324ms\n",
      "871:\tlearn: 0.0243632\ttotal: 2.19s\tremaining: 322ms\n",
      "872:\tlearn: 0.0243312\ttotal: 2.19s\tremaining: 319ms\n",
      "873:\tlearn: 0.0243209\ttotal: 2.19s\tremaining: 317ms\n",
      "874:\tlearn: 0.0242754\ttotal: 2.2s\tremaining: 314ms\n",
      "875:\tlearn: 0.0242509\ttotal: 2.2s\tremaining: 311ms\n",
      "876:\tlearn: 0.0242274\ttotal: 2.2s\tremaining: 309ms\n",
      "877:\tlearn: 0.0242060\ttotal: 2.21s\tremaining: 306ms\n",
      "878:\tlearn: 0.0241996\ttotal: 2.21s\tremaining: 304ms\n",
      "879:\tlearn: 0.0241718\ttotal: 2.21s\tremaining: 301ms\n",
      "880:\tlearn: 0.0240901\ttotal: 2.21s\tremaining: 299ms\n",
      "881:\tlearn: 0.0240237\ttotal: 2.21s\tremaining: 296ms\n",
      "882:\tlearn: 0.0239874\ttotal: 2.22s\tremaining: 294ms\n",
      "883:\tlearn: 0.0239648\ttotal: 2.22s\tremaining: 291ms\n",
      "884:\tlearn: 0.0239416\ttotal: 2.22s\tremaining: 289ms\n",
      "885:\tlearn: 0.0239247\ttotal: 2.23s\tremaining: 286ms\n",
      "886:\tlearn: 0.0239146\ttotal: 2.23s\tremaining: 284ms\n",
      "887:\tlearn: 0.0238729\ttotal: 2.23s\tremaining: 281ms\n",
      "888:\tlearn: 0.0238410\ttotal: 2.23s\tremaining: 279ms\n",
      "889:\tlearn: 0.0237883\ttotal: 2.23s\tremaining: 276ms\n",
      "890:\tlearn: 0.0237413\ttotal: 2.24s\tremaining: 274ms\n",
      "891:\tlearn: 0.0237276\ttotal: 2.24s\tremaining: 271ms\n",
      "892:\tlearn: 0.0237055\ttotal: 2.24s\tremaining: 269ms\n",
      "893:\tlearn: 0.0236789\ttotal: 2.25s\tremaining: 266ms\n",
      "894:\tlearn: 0.0236619\ttotal: 2.25s\tremaining: 264ms\n",
      "895:\tlearn: 0.0236358\ttotal: 2.25s\tremaining: 261ms\n",
      "896:\tlearn: 0.0236167\ttotal: 2.25s\tremaining: 259ms\n",
      "897:\tlearn: 0.0235880\ttotal: 2.25s\tremaining: 256ms\n",
      "898:\tlearn: 0.0235582\ttotal: 2.26s\tremaining: 254ms\n",
      "899:\tlearn: 0.0235514\ttotal: 2.26s\tremaining: 251ms\n",
      "900:\tlearn: 0.0235350\ttotal: 2.26s\tremaining: 249ms\n",
      "901:\tlearn: 0.0234943\ttotal: 2.27s\tremaining: 246ms\n",
      "902:\tlearn: 0.0234704\ttotal: 2.27s\tremaining: 244ms\n",
      "903:\tlearn: 0.0234042\ttotal: 2.27s\tremaining: 241ms\n",
      "904:\tlearn: 0.0233836\ttotal: 2.27s\tremaining: 239ms\n",
      "905:\tlearn: 0.0233578\ttotal: 2.27s\tremaining: 236ms\n",
      "906:\tlearn: 0.0233427\ttotal: 2.28s\tremaining: 234ms\n",
      "907:\tlearn: 0.0233234\ttotal: 2.28s\tremaining: 231ms\n",
      "908:\tlearn: 0.0233027\ttotal: 2.28s\tremaining: 228ms\n",
      "909:\tlearn: 0.0232857\ttotal: 2.28s\tremaining: 226ms\n",
      "910:\tlearn: 0.0232772\ttotal: 2.29s\tremaining: 223ms\n",
      "911:\tlearn: 0.0232676\ttotal: 2.29s\tremaining: 221ms\n",
      "912:\tlearn: 0.0232603\ttotal: 2.29s\tremaining: 218ms\n",
      "913:\tlearn: 0.0232521\ttotal: 2.29s\tremaining: 216ms\n",
      "914:\tlearn: 0.0231966\ttotal: 2.3s\tremaining: 213ms\n",
      "915:\tlearn: 0.0231727\ttotal: 2.3s\tremaining: 211ms\n",
      "916:\tlearn: 0.0231564\ttotal: 2.3s\tremaining: 208ms\n",
      "917:\tlearn: 0.0231421\ttotal: 2.3s\tremaining: 206ms\n",
      "918:\tlearn: 0.0230985\ttotal: 2.31s\tremaining: 203ms\n",
      "919:\tlearn: 0.0230867\ttotal: 2.31s\tremaining: 201ms\n",
      "920:\tlearn: 0.0230697\ttotal: 2.31s\tremaining: 198ms\n",
      "921:\tlearn: 0.0230217\ttotal: 2.31s\tremaining: 196ms\n",
      "922:\tlearn: 0.0230030\ttotal: 2.32s\tremaining: 193ms\n",
      "923:\tlearn: 0.0229834\ttotal: 2.32s\tremaining: 191ms\n",
      "924:\tlearn: 0.0229745\ttotal: 2.32s\tremaining: 188ms\n",
      "925:\tlearn: 0.0229646\ttotal: 2.32s\tremaining: 186ms\n",
      "926:\tlearn: 0.0229293\ttotal: 2.33s\tremaining: 183ms\n",
      "927:\tlearn: 0.0228668\ttotal: 2.33s\tremaining: 181ms\n",
      "928:\tlearn: 0.0228464\ttotal: 2.33s\tremaining: 178ms\n",
      "929:\tlearn: 0.0228234\ttotal: 2.33s\tremaining: 176ms\n"
     ]
    },
    {
     "name": "stdout",
     "output_type": "stream",
     "text": [
      "930:\tlearn: 0.0228145\ttotal: 2.33s\tremaining: 173ms\n",
      "931:\tlearn: 0.0228032\ttotal: 2.34s\tremaining: 171ms\n",
      "932:\tlearn: 0.0227809\ttotal: 2.34s\tremaining: 168ms\n",
      "933:\tlearn: 0.0227430\ttotal: 2.34s\tremaining: 166ms\n",
      "934:\tlearn: 0.0227192\ttotal: 2.35s\tremaining: 163ms\n",
      "935:\tlearn: 0.0227015\ttotal: 2.35s\tremaining: 161ms\n",
      "936:\tlearn: 0.0226689\ttotal: 2.35s\tremaining: 158ms\n",
      "937:\tlearn: 0.0226380\ttotal: 2.35s\tremaining: 156ms\n",
      "938:\tlearn: 0.0226251\ttotal: 2.35s\tremaining: 153ms\n",
      "939:\tlearn: 0.0226192\ttotal: 2.36s\tremaining: 151ms\n",
      "940:\tlearn: 0.0225895\ttotal: 2.36s\tremaining: 148ms\n",
      "941:\tlearn: 0.0225711\ttotal: 2.36s\tremaining: 145ms\n",
      "942:\tlearn: 0.0225373\ttotal: 2.37s\tremaining: 143ms\n",
      "943:\tlearn: 0.0225302\ttotal: 2.37s\tremaining: 140ms\n",
      "944:\tlearn: 0.0224767\ttotal: 2.37s\tremaining: 138ms\n",
      "945:\tlearn: 0.0224411\ttotal: 2.37s\tremaining: 135ms\n",
      "946:\tlearn: 0.0224109\ttotal: 2.38s\tremaining: 133ms\n",
      "947:\tlearn: 0.0223569\ttotal: 2.38s\tremaining: 130ms\n",
      "948:\tlearn: 0.0223415\ttotal: 2.38s\tremaining: 128ms\n",
      "949:\tlearn: 0.0223259\ttotal: 2.38s\tremaining: 125ms\n",
      "950:\tlearn: 0.0223098\ttotal: 2.38s\tremaining: 123ms\n",
      "951:\tlearn: 0.0222858\ttotal: 2.39s\tremaining: 120ms\n",
      "952:\tlearn: 0.0222679\ttotal: 2.39s\tremaining: 118ms\n",
      "953:\tlearn: 0.0222540\ttotal: 2.39s\tremaining: 115ms\n",
      "954:\tlearn: 0.0222304\ttotal: 2.39s\tremaining: 113ms\n",
      "955:\tlearn: 0.0222112\ttotal: 2.4s\tremaining: 110ms\n",
      "956:\tlearn: 0.0221975\ttotal: 2.4s\tremaining: 108ms\n",
      "957:\tlearn: 0.0221907\ttotal: 2.4s\tremaining: 105ms\n",
      "958:\tlearn: 0.0221775\ttotal: 2.4s\tremaining: 103ms\n",
      "959:\tlearn: 0.0221471\ttotal: 2.41s\tremaining: 100ms\n",
      "960:\tlearn: 0.0221322\ttotal: 2.41s\tremaining: 97.8ms\n",
      "961:\tlearn: 0.0221106\ttotal: 2.41s\tremaining: 95.3ms\n",
      "962:\tlearn: 0.0221037\ttotal: 2.41s\tremaining: 92.7ms\n",
      "963:\tlearn: 0.0220672\ttotal: 2.42s\tremaining: 90.2ms\n",
      "964:\tlearn: 0.0220500\ttotal: 2.42s\tremaining: 87.7ms\n",
      "965:\tlearn: 0.0220382\ttotal: 2.42s\tremaining: 85.2ms\n",
      "966:\tlearn: 0.0220237\ttotal: 2.42s\tremaining: 82.7ms\n",
      "967:\tlearn: 0.0220020\ttotal: 2.43s\tremaining: 80.2ms\n",
      "968:\tlearn: 0.0219858\ttotal: 2.43s\tremaining: 77.7ms\n",
      "969:\tlearn: 0.0219785\ttotal: 2.43s\tremaining: 75.2ms\n",
      "970:\tlearn: 0.0219704\ttotal: 2.43s\tremaining: 72.7ms\n",
      "971:\tlearn: 0.0219283\ttotal: 2.44s\tremaining: 70.2ms\n",
      "972:\tlearn: 0.0219061\ttotal: 2.44s\tremaining: 67.7ms\n",
      "973:\tlearn: 0.0218863\ttotal: 2.44s\tremaining: 65.1ms\n",
      "974:\tlearn: 0.0218782\ttotal: 2.44s\tremaining: 62.6ms\n",
      "975:\tlearn: 0.0218580\ttotal: 2.44s\tremaining: 60.1ms\n",
      "976:\tlearn: 0.0218442\ttotal: 2.45s\tremaining: 57.6ms\n",
      "977:\tlearn: 0.0218079\ttotal: 2.45s\tremaining: 55.1ms\n",
      "978:\tlearn: 0.0217943\ttotal: 2.45s\tremaining: 52.6ms\n",
      "979:\tlearn: 0.0217790\ttotal: 2.46s\tremaining: 50.1ms\n",
      "980:\tlearn: 0.0217462\ttotal: 2.46s\tremaining: 47.6ms\n",
      "981:\tlearn: 0.0217205\ttotal: 2.46s\tremaining: 45.1ms\n",
      "982:\tlearn: 0.0217062\ttotal: 2.46s\tremaining: 42.6ms\n",
      "983:\tlearn: 0.0217002\ttotal: 2.46s\tremaining: 40.1ms\n",
      "984:\tlearn: 0.0216936\ttotal: 2.47s\tremaining: 37.6ms\n",
      "985:\tlearn: 0.0216832\ttotal: 2.47s\tremaining: 35.1ms\n",
      "986:\tlearn: 0.0216353\ttotal: 2.47s\tremaining: 32.6ms\n",
      "987:\tlearn: 0.0216247\ttotal: 2.47s\tremaining: 30.1ms\n",
      "988:\tlearn: 0.0215973\ttotal: 2.48s\tremaining: 27.5ms\n",
      "989:\tlearn: 0.0215858\ttotal: 2.48s\tremaining: 25ms\n",
      "990:\tlearn: 0.0215610\ttotal: 2.48s\tremaining: 22.5ms\n",
      "991:\tlearn: 0.0215527\ttotal: 2.48s\tremaining: 20ms\n",
      "992:\tlearn: 0.0215275\ttotal: 2.49s\tremaining: 17.5ms\n",
      "993:\tlearn: 0.0214887\ttotal: 2.49s\tremaining: 15ms\n",
      "994:\tlearn: 0.0214818\ttotal: 2.49s\tremaining: 12.5ms\n",
      "995:\tlearn: 0.0214667\ttotal: 2.49s\tremaining: 10ms\n",
      "996:\tlearn: 0.0214461\ttotal: 2.5s\tremaining: 7.51ms\n",
      "997:\tlearn: 0.0213990\ttotal: 2.5s\tremaining: 5.01ms\n",
      "998:\tlearn: 0.0213881\ttotal: 2.5s\tremaining: 2.5ms\n",
      "999:\tlearn: 0.0213701\ttotal: 2.5s\tremaining: 0us\n"
     ]
    },
    {
     "name": "stderr",
     "output_type": "stream",
     "text": [
      "/home/user/.local/lib/python3.10/site-packages/sklearn/preprocessing/_label.py:154: DataConversionWarning: A column-vector y was passed when a 1d array was expected. Please change the shape of y to (n_samples, ), for example using ravel().\n",
      "  y = column_or_1d(y, warn=True)\n"
     ]
    },
    {
     "name": "stdout",
     "output_type": "stream",
     "text": [
      "SCORE: 0.9775526216302629\n",
      "Learning rate set to 0.084774\n",
      "0:\tlearn: 1.7945642\ttotal: 2.43ms\tremaining: 2.42s\n",
      "1:\tlearn: 1.6557400\ttotal: 4.65ms\tremaining: 2.32s\n",
      "2:\tlearn: 1.5341209\ttotal: 6.91ms\tremaining: 2.29s\n",
      "3:\tlearn: 1.4327567\ttotal: 9.18ms\tremaining: 2.29s\n",
      "4:\tlearn: 1.3468700\ttotal: 11.5ms\tremaining: 2.29s\n",
      "5:\tlearn: 1.2705873\ttotal: 13.8ms\tremaining: 2.29s\n",
      "6:\tlearn: 1.1904355\ttotal: 16ms\tremaining: 2.26s\n",
      "7:\tlearn: 1.1248352\ttotal: 18.2ms\tremaining: 2.26s\n",
      "8:\tlearn: 1.0676005\ttotal: 20.4ms\tremaining: 2.25s\n",
      "9:\tlearn: 1.0115190\ttotal: 22.7ms\tremaining: 2.24s\n",
      "10:\tlearn: 0.9584402\ttotal: 25.1ms\tremaining: 2.25s\n",
      "11:\tlearn: 0.9127221\ttotal: 27.6ms\tremaining: 2.27s\n",
      "12:\tlearn: 0.8674390\ttotal: 29.9ms\tremaining: 2.27s\n",
      "13:\tlearn: 0.8286384\ttotal: 32.1ms\tremaining: 2.26s\n",
      "14:\tlearn: 0.7899778\ttotal: 37.1ms\tremaining: 2.43s\n",
      "15:\tlearn: 0.7530814\ttotal: 39.7ms\tremaining: 2.44s\n",
      "16:\tlearn: 0.7203601\ttotal: 42.3ms\tremaining: 2.45s\n",
      "17:\tlearn: 0.6895289\ttotal: 44.9ms\tremaining: 2.45s\n",
      "18:\tlearn: 0.6598752\ttotal: 47.4ms\tremaining: 2.45s\n",
      "19:\tlearn: 0.6308275\ttotal: 50.1ms\tremaining: 2.46s\n",
      "20:\tlearn: 0.6046914\ttotal: 52.6ms\tremaining: 2.45s\n",
      "21:\tlearn: 0.5801834\ttotal: 55.1ms\tremaining: 2.45s\n",
      "22:\tlearn: 0.5548494\ttotal: 57.5ms\tremaining: 2.44s\n",
      "23:\tlearn: 0.5315691\ttotal: 60ms\tremaining: 2.44s\n",
      "24:\tlearn: 0.5122781\ttotal: 62.5ms\tremaining: 2.44s\n",
      "25:\tlearn: 0.4924227\ttotal: 65.1ms\tremaining: 2.44s\n",
      "26:\tlearn: 0.4729455\ttotal: 67.5ms\tremaining: 2.43s\n",
      "27:\tlearn: 0.4549024\ttotal: 70ms\tremaining: 2.43s\n",
      "28:\tlearn: 0.4390885\ttotal: 72.5ms\tremaining: 2.43s\n",
      "29:\tlearn: 0.4222425\ttotal: 75.1ms\tremaining: 2.43s\n",
      "30:\tlearn: 0.4061305\ttotal: 77.6ms\tremaining: 2.43s\n",
      "31:\tlearn: 0.3912407\ttotal: 80.1ms\tremaining: 2.42s\n",
      "32:\tlearn: 0.3766369\ttotal: 82.8ms\tremaining: 2.42s\n",
      "33:\tlearn: 0.3624570\ttotal: 85.4ms\tremaining: 2.42s\n",
      "34:\tlearn: 0.3501973\ttotal: 88ms\tremaining: 2.43s\n",
      "35:\tlearn: 0.3379926\ttotal: 90.6ms\tremaining: 2.43s\n",
      "36:\tlearn: 0.3266805\ttotal: 93.3ms\tremaining: 2.43s\n",
      "37:\tlearn: 0.3150617\ttotal: 95.8ms\tremaining: 2.42s\n",
      "38:\tlearn: 0.3046573\ttotal: 98.4ms\tremaining: 2.42s\n",
      "39:\tlearn: 0.2950761\ttotal: 101ms\tremaining: 2.42s\n",
      "40:\tlearn: 0.2847038\ttotal: 104ms\tremaining: 2.42s\n",
      "41:\tlearn: 0.2752077\ttotal: 106ms\tremaining: 2.42s\n",
      "42:\tlearn: 0.2660423\ttotal: 109ms\tremaining: 2.43s\n",
      "43:\tlearn: 0.2582338\ttotal: 112ms\tremaining: 2.42s\n",
      "44:\tlearn: 0.2497265\ttotal: 114ms\tremaining: 2.42s\n",
      "45:\tlearn: 0.2431162\ttotal: 117ms\tremaining: 2.42s\n",
      "46:\tlearn: 0.2359106\ttotal: 120ms\tremaining: 2.42s\n",
      "47:\tlearn: 0.2288794\ttotal: 122ms\tremaining: 2.42s\n",
      "48:\tlearn: 0.2225005\ttotal: 125ms\tremaining: 2.42s\n",
      "49:\tlearn: 0.2162142\ttotal: 127ms\tremaining: 2.42s\n",
      "50:\tlearn: 0.2097121\ttotal: 131ms\tremaining: 2.43s\n",
      "51:\tlearn: 0.2043967\ttotal: 133ms\tremaining: 2.43s\n",
      "52:\tlearn: 0.1991969\ttotal: 136ms\tremaining: 2.43s\n",
      "53:\tlearn: 0.1942235\ttotal: 139ms\tremaining: 2.43s\n",
      "54:\tlearn: 0.1889283\ttotal: 141ms\tremaining: 2.42s\n",
      "55:\tlearn: 0.1835930\ttotal: 144ms\tremaining: 2.42s\n",
      "56:\tlearn: 0.1794005\ttotal: 147ms\tremaining: 2.42s\n",
      "57:\tlearn: 0.1746302\ttotal: 149ms\tremaining: 2.42s\n",
      "58:\tlearn: 0.1703359\ttotal: 152ms\tremaining: 2.42s\n",
      "59:\tlearn: 0.1665095\ttotal: 155ms\tremaining: 2.42s\n",
      "60:\tlearn: 0.1623134\ttotal: 157ms\tremaining: 2.42s\n",
      "61:\tlearn: 0.1583880\ttotal: 160ms\tremaining: 2.42s\n",
      "62:\tlearn: 0.1550841\ttotal: 163ms\tremaining: 2.42s\n",
      "63:\tlearn: 0.1515635\ttotal: 165ms\tremaining: 2.42s\n",
      "64:\tlearn: 0.1480908\ttotal: 168ms\tremaining: 2.42s\n",
      "65:\tlearn: 0.1448210\ttotal: 171ms\tremaining: 2.42s\n",
      "66:\tlearn: 0.1416238\ttotal: 174ms\tremaining: 2.42s\n",
      "67:\tlearn: 0.1401618\ttotal: 176ms\tremaining: 2.42s\n",
      "68:\tlearn: 0.1376141\ttotal: 179ms\tremaining: 2.42s\n",
      "69:\tlearn: 0.1347692\ttotal: 182ms\tremaining: 2.42s\n",
      "70:\tlearn: 0.1318611\ttotal: 185ms\tremaining: 2.42s\n",
      "71:\tlearn: 0.1296147\ttotal: 187ms\tremaining: 2.41s\n",
      "72:\tlearn: 0.1269634\ttotal: 190ms\tremaining: 2.41s\n",
      "73:\tlearn: 0.1244948\ttotal: 194ms\tremaining: 2.43s\n",
      "74:\tlearn: 0.1219401\ttotal: 199ms\tremaining: 2.46s\n",
      "75:\tlearn: 0.1195703\ttotal: 202ms\tremaining: 2.46s\n",
      "76:\tlearn: 0.1183009\ttotal: 205ms\tremaining: 2.46s\n",
      "77:\tlearn: 0.1165084\ttotal: 207ms\tremaining: 2.45s\n",
      "78:\tlearn: 0.1148795\ttotal: 210ms\tremaining: 2.45s\n",
      "79:\tlearn: 0.1133962\ttotal: 215ms\tremaining: 2.47s\n",
      "80:\tlearn: 0.1116134\ttotal: 217ms\tremaining: 2.47s\n",
      "81:\tlearn: 0.1096331\ttotal: 220ms\tremaining: 2.46s\n",
      "82:\tlearn: 0.1080419\ttotal: 223ms\tremaining: 2.46s\n",
      "83:\tlearn: 0.1066828\ttotal: 225ms\tremaining: 2.45s\n",
      "84:\tlearn: 0.1051338\ttotal: 228ms\tremaining: 2.45s\n",
      "85:\tlearn: 0.1034366\ttotal: 231ms\tremaining: 2.45s\n",
      "86:\tlearn: 0.1020592\ttotal: 233ms\tremaining: 2.45s\n",
      "87:\tlearn: 0.1012324\ttotal: 236ms\tremaining: 2.45s\n",
      "88:\tlearn: 0.1003105\ttotal: 239ms\tremaining: 2.44s\n",
      "89:\tlearn: 0.0990617\ttotal: 241ms\tremaining: 2.44s\n",
      "90:\tlearn: 0.0979552\ttotal: 244ms\tremaining: 2.43s\n",
      "91:\tlearn: 0.0973633\ttotal: 247ms\tremaining: 2.43s\n",
      "92:\tlearn: 0.0959060\ttotal: 249ms\tremaining: 2.43s\n",
      "93:\tlearn: 0.0949110\ttotal: 252ms\tremaining: 2.42s\n",
      "94:\tlearn: 0.0938960\ttotal: 254ms\tremaining: 2.42s\n",
      "95:\tlearn: 0.0930064\ttotal: 256ms\tremaining: 2.41s\n",
      "96:\tlearn: 0.0926062\ttotal: 259ms\tremaining: 2.41s\n",
      "97:\tlearn: 0.0914576\ttotal: 261ms\tremaining: 2.4s\n",
      "98:\tlearn: 0.0907871\ttotal: 264ms\tremaining: 2.4s\n",
      "99:\tlearn: 0.0902508\ttotal: 266ms\tremaining: 2.4s\n",
      "100:\tlearn: 0.0896950\ttotal: 269ms\tremaining: 2.39s\n",
      "101:\tlearn: 0.0892283\ttotal: 271ms\tremaining: 2.39s\n",
      "102:\tlearn: 0.0885002\ttotal: 274ms\tremaining: 2.38s\n",
      "103:\tlearn: 0.0879113\ttotal: 276ms\tremaining: 2.38s\n",
      "104:\tlearn: 0.0872448\ttotal: 279ms\tremaining: 2.37s\n",
      "105:\tlearn: 0.0863718\ttotal: 281ms\tremaining: 2.37s\n",
      "106:\tlearn: 0.0858022\ttotal: 284ms\tremaining: 2.37s\n",
      "107:\tlearn: 0.0855156\ttotal: 286ms\tremaining: 2.36s\n",
      "108:\tlearn: 0.0851376\ttotal: 288ms\tremaining: 2.36s\n",
      "109:\tlearn: 0.0845969\ttotal: 291ms\tremaining: 2.35s\n",
      "110:\tlearn: 0.0840000\ttotal: 293ms\tremaining: 2.35s\n",
      "111:\tlearn: 0.0832789\ttotal: 296ms\tremaining: 2.35s\n",
      "112:\tlearn: 0.0825384\ttotal: 298ms\tremaining: 2.34s\n",
      "113:\tlearn: 0.0822149\ttotal: 301ms\tremaining: 2.34s\n",
      "114:\tlearn: 0.0816851\ttotal: 303ms\tremaining: 2.33s\n",
      "115:\tlearn: 0.0813358\ttotal: 306ms\tremaining: 2.33s\n",
      "116:\tlearn: 0.0808933\ttotal: 308ms\tremaining: 2.33s\n",
      "117:\tlearn: 0.0805549\ttotal: 311ms\tremaining: 2.32s\n",
      "118:\tlearn: 0.0798891\ttotal: 313ms\tremaining: 2.32s\n",
      "119:\tlearn: 0.0790801\ttotal: 316ms\tremaining: 2.31s\n",
      "120:\tlearn: 0.0784038\ttotal: 318ms\tremaining: 2.31s\n",
      "121:\tlearn: 0.0778790\ttotal: 321ms\tremaining: 2.31s\n",
      "122:\tlearn: 0.0776386\ttotal: 323ms\tremaining: 2.3s\n",
      "123:\tlearn: 0.0774395\ttotal: 325ms\tremaining: 2.3s\n",
      "124:\tlearn: 0.0770876\ttotal: 328ms\tremaining: 2.29s\n",
      "125:\tlearn: 0.0767095\ttotal: 330ms\tremaining: 2.29s\n",
      "126:\tlearn: 0.0762314\ttotal: 333ms\tremaining: 2.29s\n",
      "127:\tlearn: 0.0754475\ttotal: 336ms\tremaining: 2.29s\n",
      "128:\tlearn: 0.0752937\ttotal: 338ms\tremaining: 2.28s\n",
      "129:\tlearn: 0.0746008\ttotal: 340ms\tremaining: 2.28s\n",
      "130:\tlearn: 0.0741985\ttotal: 343ms\tremaining: 2.27s\n",
      "131:\tlearn: 0.0740724\ttotal: 346ms\tremaining: 2.27s\n",
      "132:\tlearn: 0.0736516\ttotal: 349ms\tremaining: 2.28s\n",
      "133:\tlearn: 0.0733540\ttotal: 352ms\tremaining: 2.27s\n",
      "134:\tlearn: 0.0728123\ttotal: 354ms\tremaining: 2.27s\n",
      "135:\tlearn: 0.0721939\ttotal: 359ms\tremaining: 2.28s\n",
      "136:\tlearn: 0.0719419\ttotal: 361ms\tremaining: 2.28s\n",
      "137:\tlearn: 0.0715252\ttotal: 364ms\tremaining: 2.27s\n",
      "138:\tlearn: 0.0709587\ttotal: 367ms\tremaining: 2.27s\n",
      "139:\tlearn: 0.0707567\ttotal: 369ms\tremaining: 2.27s\n",
      "140:\tlearn: 0.0704699\ttotal: 372ms\tremaining: 2.27s\n",
      "141:\tlearn: 0.0703993\ttotal: 374ms\tremaining: 2.26s\n",
      "142:\tlearn: 0.0700606\ttotal: 377ms\tremaining: 2.26s\n",
      "143:\tlearn: 0.0699235\ttotal: 379ms\tremaining: 2.25s\n",
      "144:\tlearn: 0.0698633\ttotal: 382ms\tremaining: 2.25s\n",
      "145:\tlearn: 0.0696289\ttotal: 384ms\tremaining: 2.25s\n",
      "146:\tlearn: 0.0694226\ttotal: 389ms\tremaining: 2.26s\n",
      "147:\tlearn: 0.0691244\ttotal: 392ms\tremaining: 2.26s\n",
      "148:\tlearn: 0.0685560\ttotal: 395ms\tremaining: 2.25s\n",
      "149:\tlearn: 0.0683060\ttotal: 397ms\tremaining: 2.25s\n",
      "150:\tlearn: 0.0680346\ttotal: 399ms\tremaining: 2.25s\n",
      "151:\tlearn: 0.0676946\ttotal: 402ms\tremaining: 2.24s\n",
      "152:\tlearn: 0.0674178\ttotal: 407ms\tremaining: 2.25s\n",
      "153:\tlearn: 0.0672394\ttotal: 409ms\tremaining: 2.25s\n",
      "154:\tlearn: 0.0671625\ttotal: 412ms\tremaining: 2.24s\n",
      "155:\tlearn: 0.0669953\ttotal: 414ms\tremaining: 2.24s\n",
      "156:\tlearn: 0.0668674\ttotal: 417ms\tremaining: 2.24s\n",
      "157:\tlearn: 0.0666793\ttotal: 419ms\tremaining: 2.23s\n",
      "158:\tlearn: 0.0665266\ttotal: 422ms\tremaining: 2.23s\n",
      "159:\tlearn: 0.0663432\ttotal: 426ms\tremaining: 2.23s\n",
      "160:\tlearn: 0.0660749\ttotal: 428ms\tremaining: 2.23s\n",
      "161:\tlearn: 0.0657789\ttotal: 431ms\tremaining: 2.23s\n",
      "162:\tlearn: 0.0654158\ttotal: 433ms\tremaining: 2.22s\n",
      "163:\tlearn: 0.0651456\ttotal: 436ms\tremaining: 2.22s\n",
      "164:\tlearn: 0.0647906\ttotal: 438ms\tremaining: 2.22s\n",
      "165:\tlearn: 0.0645203\ttotal: 441ms\tremaining: 2.21s\n",
      "166:\tlearn: 0.0642718\ttotal: 443ms\tremaining: 2.21s\n",
      "167:\tlearn: 0.0641723\ttotal: 446ms\tremaining: 2.21s\n",
      "168:\tlearn: 0.0639074\ttotal: 448ms\tremaining: 2.2s\n",
      "169:\tlearn: 0.0636676\ttotal: 451ms\tremaining: 2.2s\n",
      "170:\tlearn: 0.0634668\ttotal: 453ms\tremaining: 2.2s\n",
      "171:\tlearn: 0.0632626\ttotal: 456ms\tremaining: 2.19s\n",
      "172:\tlearn: 0.0628413\ttotal: 458ms\tremaining: 2.19s\n",
      "173:\tlearn: 0.0624503\ttotal: 461ms\tremaining: 2.19s\n",
      "174:\tlearn: 0.0622626\ttotal: 463ms\tremaining: 2.18s\n",
      "175:\tlearn: 0.0620731\ttotal: 466ms\tremaining: 2.18s\n",
      "176:\tlearn: 0.0617394\ttotal: 469ms\tremaining: 2.18s\n",
      "177:\tlearn: 0.0616145\ttotal: 471ms\tremaining: 2.17s\n",
      "178:\tlearn: 0.0614429\ttotal: 474ms\tremaining: 2.17s\n",
      "179:\tlearn: 0.0613883\ttotal: 476ms\tremaining: 2.17s\n",
      "180:\tlearn: 0.0613457\ttotal: 478ms\tremaining: 2.16s\n",
      "181:\tlearn: 0.0610954\ttotal: 481ms\tremaining: 2.16s\n",
      "182:\tlearn: 0.0605707\ttotal: 483ms\tremaining: 2.16s\n",
      "183:\tlearn: 0.0605313\ttotal: 486ms\tremaining: 2.15s\n",
      "184:\tlearn: 0.0599804\ttotal: 488ms\tremaining: 2.15s\n",
      "185:\tlearn: 0.0597798\ttotal: 491ms\tremaining: 2.15s\n",
      "186:\tlearn: 0.0595290\ttotal: 493ms\tremaining: 2.14s\n",
      "187:\tlearn: 0.0594493\ttotal: 495ms\tremaining: 2.14s\n",
      "188:\tlearn: 0.0592951\ttotal: 498ms\tremaining: 2.14s\n",
      "189:\tlearn: 0.0591183\ttotal: 500ms\tremaining: 2.13s\n",
      "190:\tlearn: 0.0588891\ttotal: 503ms\tremaining: 2.13s\n",
      "191:\tlearn: 0.0585674\ttotal: 505ms\tremaining: 2.13s\n",
      "192:\tlearn: 0.0583630\ttotal: 508ms\tremaining: 2.12s\n",
      "193:\tlearn: 0.0582209\ttotal: 510ms\tremaining: 2.12s\n",
      "194:\tlearn: 0.0580715\ttotal: 513ms\tremaining: 2.12s\n",
      "195:\tlearn: 0.0579301\ttotal: 515ms\tremaining: 2.11s\n",
      "196:\tlearn: 0.0578087\ttotal: 518ms\tremaining: 2.11s\n",
      "197:\tlearn: 0.0577383\ttotal: 520ms\tremaining: 2.11s\n",
      "198:\tlearn: 0.0575898\ttotal: 522ms\tremaining: 2.1s\n",
      "199:\tlearn: 0.0573825\ttotal: 525ms\tremaining: 2.1s\n",
      "200:\tlearn: 0.0571662\ttotal: 527ms\tremaining: 2.1s\n",
      "201:\tlearn: 0.0569804\ttotal: 530ms\tremaining: 2.09s\n",
      "202:\tlearn: 0.0567818\ttotal: 532ms\tremaining: 2.09s\n",
      "203:\tlearn: 0.0566026\ttotal: 535ms\tremaining: 2.08s\n",
      "204:\tlearn: 0.0565654\ttotal: 537ms\tremaining: 2.08s\n",
      "205:\tlearn: 0.0564728\ttotal: 540ms\tremaining: 2.08s\n",
      "206:\tlearn: 0.0562946\ttotal: 542ms\tremaining: 2.08s\n",
      "207:\tlearn: 0.0560947\ttotal: 545ms\tremaining: 2.07s\n",
      "208:\tlearn: 0.0560718\ttotal: 547ms\tremaining: 2.07s\n",
      "209:\tlearn: 0.0558219\ttotal: 549ms\tremaining: 2.07s\n",
      "210:\tlearn: 0.0557940\ttotal: 552ms\tremaining: 2.06s\n",
      "211:\tlearn: 0.0556005\ttotal: 554ms\tremaining: 2.06s\n",
      "212:\tlearn: 0.0554827\ttotal: 557ms\tremaining: 2.06s\n",
      "213:\tlearn: 0.0553621\ttotal: 559ms\tremaining: 2.05s\n",
      "214:\tlearn: 0.0552741\ttotal: 562ms\tremaining: 2.05s\n",
      "215:\tlearn: 0.0551796\ttotal: 564ms\tremaining: 2.05s\n",
      "216:\tlearn: 0.0550598\ttotal: 566ms\tremaining: 2.04s\n",
      "217:\tlearn: 0.0550073\ttotal: 569ms\tremaining: 2.04s\n",
      "218:\tlearn: 0.0548803\ttotal: 571ms\tremaining: 2.04s\n",
      "219:\tlearn: 0.0545644\ttotal: 574ms\tremaining: 2.03s\n",
      "220:\tlearn: 0.0544771\ttotal: 576ms\tremaining: 2.03s\n",
      "221:\tlearn: 0.0543856\ttotal: 578ms\tremaining: 2.03s\n",
      "222:\tlearn: 0.0543067\ttotal: 581ms\tremaining: 2.02s\n"
     ]
    },
    {
     "name": "stdout",
     "output_type": "stream",
     "text": [
      "223:\tlearn: 0.0542369\ttotal: 585ms\tremaining: 2.02s\n",
      "224:\tlearn: 0.0541447\ttotal: 587ms\tremaining: 2.02s\n",
      "225:\tlearn: 0.0540227\ttotal: 590ms\tremaining: 2.02s\n",
      "226:\tlearn: 0.0539149\ttotal: 592ms\tremaining: 2.02s\n",
      "227:\tlearn: 0.0535456\ttotal: 595ms\tremaining: 2.01s\n",
      "228:\tlearn: 0.0535264\ttotal: 597ms\tremaining: 2.01s\n",
      "229:\tlearn: 0.0532450\ttotal: 600ms\tremaining: 2.01s\n",
      "230:\tlearn: 0.0531043\ttotal: 605ms\tremaining: 2.01s\n",
      "231:\tlearn: 0.0530744\ttotal: 609ms\tremaining: 2.02s\n",
      "232:\tlearn: 0.0529837\ttotal: 614ms\tremaining: 2.02s\n",
      "233:\tlearn: 0.0528721\ttotal: 619ms\tremaining: 2.02s\n",
      "234:\tlearn: 0.0527332\ttotal: 624ms\tremaining: 2.03s\n",
      "235:\tlearn: 0.0525569\ttotal: 630ms\tremaining: 2.04s\n",
      "236:\tlearn: 0.0524052\ttotal: 636ms\tremaining: 2.05s\n",
      "237:\tlearn: 0.0523185\ttotal: 640ms\tremaining: 2.05s\n",
      "238:\tlearn: 0.0522083\ttotal: 644ms\tremaining: 2.05s\n",
      "239:\tlearn: 0.0520714\ttotal: 649ms\tremaining: 2.06s\n",
      "240:\tlearn: 0.0519785\ttotal: 653ms\tremaining: 2.06s\n",
      "241:\tlearn: 0.0519565\ttotal: 657ms\tremaining: 2.06s\n",
      "242:\tlearn: 0.0518110\ttotal: 660ms\tremaining: 2.06s\n",
      "243:\tlearn: 0.0516887\ttotal: 666ms\tremaining: 2.06s\n",
      "244:\tlearn: 0.0515918\ttotal: 670ms\tremaining: 2.06s\n",
      "245:\tlearn: 0.0514905\ttotal: 674ms\tremaining: 2.06s\n",
      "246:\tlearn: 0.0513383\ttotal: 676ms\tremaining: 2.06s\n",
      "247:\tlearn: 0.0513191\ttotal: 681ms\tremaining: 2.06s\n",
      "248:\tlearn: 0.0512329\ttotal: 684ms\tremaining: 2.06s\n",
      "249:\tlearn: 0.0512172\ttotal: 688ms\tremaining: 2.06s\n",
      "250:\tlearn: 0.0511659\ttotal: 691ms\tremaining: 2.06s\n",
      "251:\tlearn: 0.0510874\ttotal: 699ms\tremaining: 2.07s\n",
      "252:\tlearn: 0.0509904\ttotal: 702ms\tremaining: 2.07s\n",
      "253:\tlearn: 0.0509023\ttotal: 705ms\tremaining: 2.07s\n",
      "254:\tlearn: 0.0508000\ttotal: 709ms\tremaining: 2.07s\n",
      "255:\tlearn: 0.0507601\ttotal: 713ms\tremaining: 2.07s\n",
      "256:\tlearn: 0.0505161\ttotal: 717ms\tremaining: 2.07s\n",
      "257:\tlearn: 0.0504333\ttotal: 721ms\tremaining: 2.07s\n",
      "258:\tlearn: 0.0503265\ttotal: 726ms\tremaining: 2.08s\n",
      "259:\tlearn: 0.0501227\ttotal: 731ms\tremaining: 2.08s\n",
      "260:\tlearn: 0.0500493\ttotal: 734ms\tremaining: 2.08s\n",
      "261:\tlearn: 0.0499736\ttotal: 739ms\tremaining: 2.08s\n",
      "262:\tlearn: 0.0498264\ttotal: 744ms\tremaining: 2.08s\n",
      "263:\tlearn: 0.0496856\ttotal: 749ms\tremaining: 2.09s\n",
      "264:\tlearn: 0.0493886\ttotal: 752ms\tremaining: 2.08s\n",
      "265:\tlearn: 0.0491071\ttotal: 758ms\tremaining: 2.09s\n",
      "266:\tlearn: 0.0490737\ttotal: 763ms\tremaining: 2.09s\n",
      "267:\tlearn: 0.0490518\ttotal: 767ms\tremaining: 2.09s\n",
      "268:\tlearn: 0.0489366\ttotal: 771ms\tremaining: 2.09s\n",
      "269:\tlearn: 0.0488789\ttotal: 776ms\tremaining: 2.1s\n",
      "270:\tlearn: 0.0487766\ttotal: 781ms\tremaining: 2.1s\n",
      "271:\tlearn: 0.0486221\ttotal: 784ms\tremaining: 2.1s\n",
      "272:\tlearn: 0.0486019\ttotal: 788ms\tremaining: 2.1s\n",
      "273:\tlearn: 0.0485409\ttotal: 792ms\tremaining: 2.1s\n",
      "274:\tlearn: 0.0484859\ttotal: 796ms\tremaining: 2.1s\n",
      "275:\tlearn: 0.0484600\ttotal: 803ms\tremaining: 2.11s\n",
      "276:\tlearn: 0.0483694\ttotal: 808ms\tremaining: 2.11s\n",
      "277:\tlearn: 0.0483308\ttotal: 812ms\tremaining: 2.11s\n",
      "278:\tlearn: 0.0481900\ttotal: 817ms\tremaining: 2.11s\n",
      "279:\tlearn: 0.0481033\ttotal: 820ms\tremaining: 2.11s\n",
      "280:\tlearn: 0.0480424\ttotal: 825ms\tremaining: 2.11s\n",
      "281:\tlearn: 0.0479480\ttotal: 830ms\tremaining: 2.11s\n",
      "282:\tlearn: 0.0479384\ttotal: 833ms\tremaining: 2.11s\n",
      "283:\tlearn: 0.0478775\ttotal: 836ms\tremaining: 2.11s\n",
      "284:\tlearn: 0.0478203\ttotal: 840ms\tremaining: 2.11s\n",
      "285:\tlearn: 0.0477274\ttotal: 842ms\tremaining: 2.1s\n",
      "286:\tlearn: 0.0475718\ttotal: 845ms\tremaining: 2.1s\n",
      "287:\tlearn: 0.0474765\ttotal: 848ms\tremaining: 2.1s\n",
      "288:\tlearn: 0.0473901\ttotal: 850ms\tremaining: 2.09s\n",
      "289:\tlearn: 0.0472278\ttotal: 854ms\tremaining: 2.09s\n",
      "290:\tlearn: 0.0471167\ttotal: 857ms\tremaining: 2.09s\n",
      "291:\tlearn: 0.0470611\ttotal: 859ms\tremaining: 2.08s\n",
      "292:\tlearn: 0.0470178\ttotal: 862ms\tremaining: 2.08s\n",
      "293:\tlearn: 0.0469480\ttotal: 865ms\tremaining: 2.08s\n",
      "294:\tlearn: 0.0468469\ttotal: 867ms\tremaining: 2.07s\n",
      "295:\tlearn: 0.0466960\ttotal: 871ms\tremaining: 2.07s\n",
      "296:\tlearn: 0.0466007\ttotal: 874ms\tremaining: 2.07s\n",
      "297:\tlearn: 0.0464833\ttotal: 876ms\tremaining: 2.06s\n",
      "298:\tlearn: 0.0463783\ttotal: 879ms\tremaining: 2.06s\n",
      "299:\tlearn: 0.0463607\ttotal: 883ms\tremaining: 2.06s\n",
      "300:\tlearn: 0.0463446\ttotal: 888ms\tremaining: 2.06s\n",
      "301:\tlearn: 0.0463061\ttotal: 890ms\tremaining: 2.06s\n",
      "302:\tlearn: 0.0460943\ttotal: 893ms\tremaining: 2.05s\n",
      "303:\tlearn: 0.0459283\ttotal: 896ms\tremaining: 2.05s\n",
      "304:\tlearn: 0.0458568\ttotal: 898ms\tremaining: 2.05s\n",
      "305:\tlearn: 0.0456856\ttotal: 901ms\tremaining: 2.04s\n",
      "306:\tlearn: 0.0455016\ttotal: 904ms\tremaining: 2.04s\n",
      "307:\tlearn: 0.0454463\ttotal: 906ms\tremaining: 2.04s\n",
      "308:\tlearn: 0.0453670\ttotal: 909ms\tremaining: 2.03s\n",
      "309:\tlearn: 0.0453505\ttotal: 911ms\tremaining: 2.03s\n",
      "310:\tlearn: 0.0453020\ttotal: 914ms\tremaining: 2.02s\n",
      "311:\tlearn: 0.0452517\ttotal: 916ms\tremaining: 2.02s\n",
      "312:\tlearn: 0.0452260\ttotal: 920ms\tremaining: 2.02s\n",
      "313:\tlearn: 0.0451662\ttotal: 922ms\tremaining: 2.02s\n",
      "314:\tlearn: 0.0450052\ttotal: 925ms\tremaining: 2.01s\n",
      "315:\tlearn: 0.0448992\ttotal: 927ms\tremaining: 2.01s\n",
      "316:\tlearn: 0.0448793\ttotal: 930ms\tremaining: 2s\n",
      "317:\tlearn: 0.0448309\ttotal: 932ms\tremaining: 2s\n",
      "318:\tlearn: 0.0447001\ttotal: 935ms\tremaining: 2s\n",
      "319:\tlearn: 0.0445652\ttotal: 938ms\tremaining: 1.99s\n",
      "320:\tlearn: 0.0445146\ttotal: 941ms\tremaining: 1.99s\n",
      "321:\tlearn: 0.0444635\ttotal: 943ms\tremaining: 1.99s\n",
      "322:\tlearn: 0.0444467\ttotal: 945ms\tremaining: 1.98s\n",
      "323:\tlearn: 0.0444153\ttotal: 948ms\tremaining: 1.98s\n",
      "324:\tlearn: 0.0443239\ttotal: 950ms\tremaining: 1.97s\n",
      "325:\tlearn: 0.0442541\ttotal: 953ms\tremaining: 1.97s\n",
      "326:\tlearn: 0.0441988\ttotal: 956ms\tremaining: 1.97s\n",
      "327:\tlearn: 0.0439545\ttotal: 958ms\tremaining: 1.96s\n",
      "328:\tlearn: 0.0439078\ttotal: 961ms\tremaining: 1.96s\n",
      "329:\tlearn: 0.0437451\ttotal: 963ms\tremaining: 1.96s\n",
      "330:\tlearn: 0.0436866\ttotal: 965ms\tremaining: 1.95s\n",
      "331:\tlearn: 0.0435516\ttotal: 968ms\tremaining: 1.95s\n",
      "332:\tlearn: 0.0434030\ttotal: 970ms\tremaining: 1.94s\n",
      "333:\tlearn: 0.0433231\ttotal: 973ms\tremaining: 1.94s\n",
      "334:\tlearn: 0.0431743\ttotal: 977ms\tremaining: 1.94s\n",
      "335:\tlearn: 0.0431257\ttotal: 979ms\tremaining: 1.94s\n",
      "336:\tlearn: 0.0429855\ttotal: 982ms\tremaining: 1.93s\n",
      "337:\tlearn: 0.0428226\ttotal: 984ms\tremaining: 1.93s\n",
      "338:\tlearn: 0.0427369\ttotal: 987ms\tremaining: 1.92s\n",
      "339:\tlearn: 0.0426643\ttotal: 989ms\tremaining: 1.92s\n",
      "340:\tlearn: 0.0426451\ttotal: 991ms\tremaining: 1.92s\n",
      "341:\tlearn: 0.0426221\ttotal: 994ms\tremaining: 1.91s\n",
      "342:\tlearn: 0.0426022\ttotal: 996ms\tremaining: 1.91s\n",
      "343:\tlearn: 0.0425516\ttotal: 998ms\tremaining: 1.9s\n",
      "344:\tlearn: 0.0424349\ttotal: 1s\tremaining: 1.9s\n",
      "345:\tlearn: 0.0423118\ttotal: 1s\tremaining: 1.9s\n",
      "346:\tlearn: 0.0421520\ttotal: 1s\tremaining: 1.89s\n",
      "347:\tlearn: 0.0420787\ttotal: 1.01s\tremaining: 1.89s\n",
      "348:\tlearn: 0.0419754\ttotal: 1.01s\tremaining: 1.89s\n",
      "349:\tlearn: 0.0419578\ttotal: 1.01s\tremaining: 1.88s\n",
      "350:\tlearn: 0.0418730\ttotal: 1.01s\tremaining: 1.88s\n",
      "351:\tlearn: 0.0418534\ttotal: 1.02s\tremaining: 1.87s\n",
      "352:\tlearn: 0.0417792\ttotal: 1.02s\tremaining: 1.87s\n",
      "353:\tlearn: 0.0417634\ttotal: 1.02s\tremaining: 1.87s\n",
      "354:\tlearn: 0.0416686\ttotal: 1.02s\tremaining: 1.86s\n",
      "355:\tlearn: 0.0415402\ttotal: 1.03s\tremaining: 1.86s\n",
      "356:\tlearn: 0.0415234\ttotal: 1.03s\tremaining: 1.86s\n",
      "357:\tlearn: 0.0414584\ttotal: 1.03s\tremaining: 1.85s\n",
      "358:\tlearn: 0.0414174\ttotal: 1.03s\tremaining: 1.85s\n",
      "359:\tlearn: 0.0413450\ttotal: 1.04s\tremaining: 1.84s\n",
      "360:\tlearn: 0.0412453\ttotal: 1.04s\tremaining: 1.84s\n",
      "361:\tlearn: 0.0412083\ttotal: 1.04s\tremaining: 1.84s\n",
      "362:\tlearn: 0.0410957\ttotal: 1.04s\tremaining: 1.83s\n",
      "363:\tlearn: 0.0410511\ttotal: 1.05s\tremaining: 1.83s\n",
      "364:\tlearn: 0.0410152\ttotal: 1.05s\tremaining: 1.83s\n",
      "365:\tlearn: 0.0409826\ttotal: 1.05s\tremaining: 1.82s\n",
      "366:\tlearn: 0.0409278\ttotal: 1.05s\tremaining: 1.82s\n",
      "367:\tlearn: 0.0408819\ttotal: 1.06s\tremaining: 1.82s\n",
      "368:\tlearn: 0.0408543\ttotal: 1.06s\tremaining: 1.81s\n",
      "369:\tlearn: 0.0407748\ttotal: 1.06s\tremaining: 1.81s\n",
      "370:\tlearn: 0.0406122\ttotal: 1.07s\tremaining: 1.81s\n",
      "371:\tlearn: 0.0405653\ttotal: 1.07s\tremaining: 1.8s\n",
      "372:\tlearn: 0.0405113\ttotal: 1.07s\tremaining: 1.8s\n",
      "373:\tlearn: 0.0404497\ttotal: 1.07s\tremaining: 1.8s\n",
      "374:\tlearn: 0.0403795\ttotal: 1.08s\tremaining: 1.79s\n",
      "375:\tlearn: 0.0403642\ttotal: 1.08s\tremaining: 1.79s\n",
      "376:\tlearn: 0.0403317\ttotal: 1.08s\tremaining: 1.79s\n",
      "377:\tlearn: 0.0402440\ttotal: 1.08s\tremaining: 1.78s\n",
      "378:\tlearn: 0.0402088\ttotal: 1.09s\tremaining: 1.78s\n",
      "379:\tlearn: 0.0401673\ttotal: 1.09s\tremaining: 1.78s\n",
      "380:\tlearn: 0.0401432\ttotal: 1.09s\tremaining: 1.77s\n",
      "381:\tlearn: 0.0399809\ttotal: 1.09s\tremaining: 1.77s\n",
      "382:\tlearn: 0.0398696\ttotal: 1.1s\tremaining: 1.77s\n",
      "383:\tlearn: 0.0398364\ttotal: 1.1s\tremaining: 1.76s\n",
      "384:\tlearn: 0.0397988\ttotal: 1.1s\tremaining: 1.76s\n",
      "385:\tlearn: 0.0397694\ttotal: 1.1s\tremaining: 1.75s\n",
      "386:\tlearn: 0.0397529\ttotal: 1.11s\tremaining: 1.75s\n",
      "387:\tlearn: 0.0396880\ttotal: 1.11s\tremaining: 1.75s\n",
      "388:\tlearn: 0.0396470\ttotal: 1.11s\tremaining: 1.75s\n",
      "389:\tlearn: 0.0396261\ttotal: 1.11s\tremaining: 1.74s\n",
      "390:\tlearn: 0.0395659\ttotal: 1.12s\tremaining: 1.74s\n",
      "391:\tlearn: 0.0395344\ttotal: 1.12s\tremaining: 1.73s\n",
      "392:\tlearn: 0.0395126\ttotal: 1.12s\tremaining: 1.73s\n",
      "393:\tlearn: 0.0394304\ttotal: 1.12s\tremaining: 1.73s\n",
      "394:\tlearn: 0.0393411\ttotal: 1.13s\tremaining: 1.72s\n",
      "395:\tlearn: 0.0393115\ttotal: 1.13s\tremaining: 1.72s\n",
      "396:\tlearn: 0.0392575\ttotal: 1.13s\tremaining: 1.72s\n",
      "397:\tlearn: 0.0392272\ttotal: 1.13s\tremaining: 1.71s\n",
      "398:\tlearn: 0.0391750\ttotal: 1.14s\tremaining: 1.71s\n",
      "399:\tlearn: 0.0391028\ttotal: 1.14s\tremaining: 1.71s\n",
      "400:\tlearn: 0.0388950\ttotal: 1.14s\tremaining: 1.7s\n",
      "401:\tlearn: 0.0388273\ttotal: 1.14s\tremaining: 1.7s\n",
      "402:\tlearn: 0.0387718\ttotal: 1.15s\tremaining: 1.7s\n",
      "403:\tlearn: 0.0387382\ttotal: 1.15s\tremaining: 1.69s\n",
      "404:\tlearn: 0.0387046\ttotal: 1.15s\tremaining: 1.69s\n",
      "405:\tlearn: 0.0385876\ttotal: 1.15s\tremaining: 1.69s\n",
      "406:\tlearn: 0.0384807\ttotal: 1.16s\tremaining: 1.69s\n",
      "407:\tlearn: 0.0383881\ttotal: 1.16s\tremaining: 1.68s\n",
      "408:\tlearn: 0.0382915\ttotal: 1.16s\tremaining: 1.68s\n",
      "409:\tlearn: 0.0382829\ttotal: 1.17s\tremaining: 1.68s\n",
      "410:\tlearn: 0.0382481\ttotal: 1.17s\tremaining: 1.67s\n"
     ]
    },
    {
     "name": "stdout",
     "output_type": "stream",
     "text": [
      "411:\tlearn: 0.0381836\ttotal: 1.17s\tremaining: 1.67s\n",
      "412:\tlearn: 0.0381707\ttotal: 1.17s\tremaining: 1.67s\n",
      "413:\tlearn: 0.0381612\ttotal: 1.18s\tremaining: 1.66s\n",
      "414:\tlearn: 0.0380509\ttotal: 1.18s\tremaining: 1.66s\n",
      "415:\tlearn: 0.0379778\ttotal: 1.18s\tremaining: 1.66s\n",
      "416:\tlearn: 0.0379092\ttotal: 1.18s\tremaining: 1.65s\n",
      "417:\tlearn: 0.0378986\ttotal: 1.19s\tremaining: 1.65s\n",
      "418:\tlearn: 0.0378496\ttotal: 1.19s\tremaining: 1.65s\n",
      "419:\tlearn: 0.0377746\ttotal: 1.19s\tremaining: 1.64s\n",
      "420:\tlearn: 0.0377457\ttotal: 1.19s\tremaining: 1.64s\n",
      "421:\tlearn: 0.0376893\ttotal: 1.2s\tremaining: 1.64s\n",
      "422:\tlearn: 0.0376328\ttotal: 1.2s\tremaining: 1.64s\n",
      "423:\tlearn: 0.0375666\ttotal: 1.2s\tremaining: 1.63s\n",
      "424:\tlearn: 0.0374982\ttotal: 1.2s\tremaining: 1.63s\n",
      "425:\tlearn: 0.0374405\ttotal: 1.21s\tremaining: 1.63s\n",
      "426:\tlearn: 0.0374033\ttotal: 1.21s\tremaining: 1.62s\n",
      "427:\tlearn: 0.0373434\ttotal: 1.21s\tremaining: 1.62s\n",
      "428:\tlearn: 0.0372686\ttotal: 1.22s\tremaining: 1.62s\n",
      "429:\tlearn: 0.0372383\ttotal: 1.22s\tremaining: 1.61s\n",
      "430:\tlearn: 0.0371283\ttotal: 1.22s\tremaining: 1.61s\n",
      "431:\tlearn: 0.0370913\ttotal: 1.22s\tremaining: 1.61s\n",
      "432:\tlearn: 0.0370444\ttotal: 1.23s\tremaining: 1.61s\n",
      "433:\tlearn: 0.0370349\ttotal: 1.23s\tremaining: 1.6s\n",
      "434:\tlearn: 0.0369776\ttotal: 1.23s\tremaining: 1.6s\n",
      "435:\tlearn: 0.0369056\ttotal: 1.23s\tremaining: 1.6s\n",
      "436:\tlearn: 0.0368783\ttotal: 1.24s\tremaining: 1.59s\n",
      "437:\tlearn: 0.0368114\ttotal: 1.24s\tremaining: 1.59s\n",
      "438:\tlearn: 0.0367756\ttotal: 1.24s\tremaining: 1.59s\n",
      "439:\tlearn: 0.0367198\ttotal: 1.24s\tremaining: 1.58s\n",
      "440:\tlearn: 0.0366644\ttotal: 1.25s\tremaining: 1.58s\n",
      "441:\tlearn: 0.0366291\ttotal: 1.25s\tremaining: 1.58s\n",
      "442:\tlearn: 0.0365948\ttotal: 1.25s\tremaining: 1.57s\n",
      "443:\tlearn: 0.0365789\ttotal: 1.25s\tremaining: 1.57s\n",
      "444:\tlearn: 0.0365577\ttotal: 1.26s\tremaining: 1.57s\n",
      "445:\tlearn: 0.0365196\ttotal: 1.26s\tremaining: 1.56s\n",
      "446:\tlearn: 0.0364796\ttotal: 1.26s\tremaining: 1.56s\n",
      "447:\tlearn: 0.0364681\ttotal: 1.26s\tremaining: 1.56s\n",
      "448:\tlearn: 0.0364039\ttotal: 1.27s\tremaining: 1.56s\n",
      "449:\tlearn: 0.0363701\ttotal: 1.27s\tremaining: 1.55s\n",
      "450:\tlearn: 0.0363195\ttotal: 1.27s\tremaining: 1.55s\n",
      "451:\tlearn: 0.0362590\ttotal: 1.28s\tremaining: 1.55s\n",
      "452:\tlearn: 0.0362251\ttotal: 1.28s\tremaining: 1.54s\n",
      "453:\tlearn: 0.0361975\ttotal: 1.28s\tremaining: 1.54s\n",
      "454:\tlearn: 0.0361495\ttotal: 1.28s\tremaining: 1.54s\n",
      "455:\tlearn: 0.0360611\ttotal: 1.29s\tremaining: 1.53s\n",
      "456:\tlearn: 0.0359917\ttotal: 1.29s\tremaining: 1.53s\n",
      "457:\tlearn: 0.0359660\ttotal: 1.29s\tremaining: 1.53s\n",
      "458:\tlearn: 0.0359309\ttotal: 1.29s\tremaining: 1.52s\n",
      "459:\tlearn: 0.0358424\ttotal: 1.29s\tremaining: 1.52s\n",
      "460:\tlearn: 0.0358025\ttotal: 1.3s\tremaining: 1.52s\n",
      "461:\tlearn: 0.0357332\ttotal: 1.3s\tremaining: 1.51s\n",
      "462:\tlearn: 0.0357146\ttotal: 1.3s\tremaining: 1.51s\n",
      "463:\tlearn: 0.0356574\ttotal: 1.3s\tremaining: 1.51s\n",
      "464:\tlearn: 0.0356260\ttotal: 1.31s\tremaining: 1.5s\n",
      "465:\tlearn: 0.0355448\ttotal: 1.31s\tremaining: 1.5s\n",
      "466:\tlearn: 0.0355215\ttotal: 1.31s\tremaining: 1.5s\n",
      "467:\tlearn: 0.0354685\ttotal: 1.31s\tremaining: 1.5s\n",
      "468:\tlearn: 0.0353646\ttotal: 1.32s\tremaining: 1.49s\n",
      "469:\tlearn: 0.0353150\ttotal: 1.32s\tremaining: 1.49s\n",
      "470:\tlearn: 0.0352291\ttotal: 1.32s\tremaining: 1.49s\n",
      "471:\tlearn: 0.0352164\ttotal: 1.32s\tremaining: 1.48s\n",
      "472:\tlearn: 0.0351604\ttotal: 1.33s\tremaining: 1.48s\n",
      "473:\tlearn: 0.0350523\ttotal: 1.33s\tremaining: 1.48s\n",
      "474:\tlearn: 0.0349956\ttotal: 1.33s\tremaining: 1.47s\n",
      "475:\tlearn: 0.0349410\ttotal: 1.34s\tremaining: 1.47s\n",
      "476:\tlearn: 0.0349184\ttotal: 1.34s\tremaining: 1.47s\n",
      "477:\tlearn: 0.0348998\ttotal: 1.34s\tremaining: 1.47s\n",
      "478:\tlearn: 0.0347949\ttotal: 1.34s\tremaining: 1.46s\n",
      "479:\tlearn: 0.0347817\ttotal: 1.35s\tremaining: 1.46s\n",
      "480:\tlearn: 0.0347274\ttotal: 1.35s\tremaining: 1.46s\n",
      "481:\tlearn: 0.0346429\ttotal: 1.35s\tremaining: 1.45s\n",
      "482:\tlearn: 0.0346211\ttotal: 1.35s\tremaining: 1.45s\n",
      "483:\tlearn: 0.0346017\ttotal: 1.36s\tremaining: 1.45s\n",
      "484:\tlearn: 0.0345497\ttotal: 1.36s\tremaining: 1.44s\n",
      "485:\tlearn: 0.0345073\ttotal: 1.36s\tremaining: 1.44s\n",
      "486:\tlearn: 0.0343887\ttotal: 1.36s\tremaining: 1.44s\n",
      "487:\tlearn: 0.0343317\ttotal: 1.37s\tremaining: 1.44s\n",
      "488:\tlearn: 0.0342801\ttotal: 1.37s\tremaining: 1.43s\n",
      "489:\tlearn: 0.0342195\ttotal: 1.37s\tremaining: 1.43s\n",
      "490:\tlearn: 0.0341976\ttotal: 1.38s\tremaining: 1.43s\n",
      "491:\tlearn: 0.0341800\ttotal: 1.38s\tremaining: 1.42s\n",
      "492:\tlearn: 0.0341659\ttotal: 1.38s\tremaining: 1.42s\n",
      "493:\tlearn: 0.0341244\ttotal: 1.38s\tremaining: 1.42s\n",
      "494:\tlearn: 0.0340627\ttotal: 1.39s\tremaining: 1.41s\n",
      "495:\tlearn: 0.0340456\ttotal: 1.39s\tremaining: 1.41s\n",
      "496:\tlearn: 0.0340001\ttotal: 1.39s\tremaining: 1.41s\n",
      "497:\tlearn: 0.0339657\ttotal: 1.39s\tremaining: 1.4s\n",
      "498:\tlearn: 0.0339562\ttotal: 1.4s\tremaining: 1.4s\n",
      "499:\tlearn: 0.0339370\ttotal: 1.4s\tremaining: 1.4s\n",
      "500:\tlearn: 0.0338812\ttotal: 1.4s\tremaining: 1.4s\n",
      "501:\tlearn: 0.0338504\ttotal: 1.4s\tremaining: 1.39s\n",
      "502:\tlearn: 0.0338268\ttotal: 1.41s\tremaining: 1.39s\n",
      "503:\tlearn: 0.0337964\ttotal: 1.41s\tremaining: 1.39s\n",
      "504:\tlearn: 0.0337792\ttotal: 1.41s\tremaining: 1.38s\n",
      "505:\tlearn: 0.0337418\ttotal: 1.42s\tremaining: 1.38s\n",
      "506:\tlearn: 0.0336958\ttotal: 1.42s\tremaining: 1.38s\n",
      "507:\tlearn: 0.0336511\ttotal: 1.42s\tremaining: 1.38s\n",
      "508:\tlearn: 0.0335582\ttotal: 1.42s\tremaining: 1.37s\n",
      "509:\tlearn: 0.0335173\ttotal: 1.43s\tremaining: 1.37s\n",
      "510:\tlearn: 0.0334564\ttotal: 1.43s\tremaining: 1.37s\n",
      "511:\tlearn: 0.0334214\ttotal: 1.43s\tremaining: 1.36s\n",
      "512:\tlearn: 0.0333753\ttotal: 1.43s\tremaining: 1.36s\n",
      "513:\tlearn: 0.0332516\ttotal: 1.44s\tremaining: 1.36s\n",
      "514:\tlearn: 0.0331842\ttotal: 1.44s\tremaining: 1.35s\n",
      "515:\tlearn: 0.0331515\ttotal: 1.44s\tremaining: 1.35s\n",
      "516:\tlearn: 0.0331111\ttotal: 1.44s\tremaining: 1.35s\n",
      "517:\tlearn: 0.0330594\ttotal: 1.45s\tremaining: 1.34s\n",
      "518:\tlearn: 0.0330159\ttotal: 1.45s\tremaining: 1.34s\n",
      "519:\tlearn: 0.0329972\ttotal: 1.45s\tremaining: 1.34s\n",
      "520:\tlearn: 0.0328824\ttotal: 1.45s\tremaining: 1.33s\n",
      "521:\tlearn: 0.0328263\ttotal: 1.46s\tremaining: 1.33s\n",
      "522:\tlearn: 0.0327900\ttotal: 1.46s\tremaining: 1.33s\n",
      "523:\tlearn: 0.0327568\ttotal: 1.46s\tremaining: 1.33s\n",
      "524:\tlearn: 0.0327433\ttotal: 1.46s\tremaining: 1.32s\n",
      "525:\tlearn: 0.0327147\ttotal: 1.47s\tremaining: 1.32s\n",
      "526:\tlearn: 0.0326750\ttotal: 1.47s\tremaining: 1.32s\n",
      "527:\tlearn: 0.0326137\ttotal: 1.47s\tremaining: 1.31s\n",
      "528:\tlearn: 0.0325557\ttotal: 1.47s\tremaining: 1.31s\n",
      "529:\tlearn: 0.0325385\ttotal: 1.48s\tremaining: 1.31s\n",
      "530:\tlearn: 0.0324838\ttotal: 1.48s\tremaining: 1.3s\n",
      "531:\tlearn: 0.0324680\ttotal: 1.48s\tremaining: 1.3s\n",
      "532:\tlearn: 0.0324466\ttotal: 1.48s\tremaining: 1.3s\n",
      "533:\tlearn: 0.0324233\ttotal: 1.48s\tremaining: 1.29s\n",
      "534:\tlearn: 0.0323973\ttotal: 1.49s\tremaining: 1.29s\n",
      "535:\tlearn: 0.0323600\ttotal: 1.49s\tremaining: 1.29s\n",
      "536:\tlearn: 0.0323143\ttotal: 1.49s\tremaining: 1.29s\n",
      "537:\tlearn: 0.0322350\ttotal: 1.5s\tremaining: 1.28s\n",
      "538:\tlearn: 0.0321573\ttotal: 1.5s\tremaining: 1.28s\n",
      "539:\tlearn: 0.0321349\ttotal: 1.5s\tremaining: 1.28s\n",
      "540:\tlearn: 0.0320636\ttotal: 1.5s\tremaining: 1.27s\n",
      "541:\tlearn: 0.0320062\ttotal: 1.5s\tremaining: 1.27s\n",
      "542:\tlearn: 0.0319420\ttotal: 1.51s\tremaining: 1.27s\n",
      "543:\tlearn: 0.0319085\ttotal: 1.51s\tremaining: 1.26s\n",
      "544:\tlearn: 0.0318537\ttotal: 1.51s\tremaining: 1.26s\n",
      "545:\tlearn: 0.0318391\ttotal: 1.51s\tremaining: 1.26s\n",
      "546:\tlearn: 0.0318109\ttotal: 1.52s\tremaining: 1.26s\n",
      "547:\tlearn: 0.0317503\ttotal: 1.52s\tremaining: 1.25s\n",
      "548:\tlearn: 0.0316989\ttotal: 1.52s\tremaining: 1.25s\n",
      "549:\tlearn: 0.0316748\ttotal: 1.52s\tremaining: 1.25s\n",
      "550:\tlearn: 0.0316018\ttotal: 1.53s\tremaining: 1.24s\n",
      "551:\tlearn: 0.0315848\ttotal: 1.53s\tremaining: 1.24s\n",
      "552:\tlearn: 0.0314880\ttotal: 1.53s\tremaining: 1.24s\n",
      "553:\tlearn: 0.0314267\ttotal: 1.53s\tremaining: 1.24s\n",
      "554:\tlearn: 0.0313582\ttotal: 1.54s\tremaining: 1.23s\n",
      "555:\tlearn: 0.0313215\ttotal: 1.54s\tremaining: 1.23s\n",
      "556:\tlearn: 0.0312927\ttotal: 1.54s\tremaining: 1.23s\n",
      "557:\tlearn: 0.0312478\ttotal: 1.54s\tremaining: 1.22s\n",
      "558:\tlearn: 0.0312120\ttotal: 1.55s\tremaining: 1.22s\n",
      "559:\tlearn: 0.0311954\ttotal: 1.55s\tremaining: 1.22s\n",
      "560:\tlearn: 0.0311577\ttotal: 1.55s\tremaining: 1.21s\n",
      "561:\tlearn: 0.0311155\ttotal: 1.55s\tremaining: 1.21s\n",
      "562:\tlearn: 0.0310864\ttotal: 1.56s\tremaining: 1.21s\n",
      "563:\tlearn: 0.0310701\ttotal: 1.56s\tremaining: 1.21s\n",
      "564:\tlearn: 0.0310403\ttotal: 1.56s\tremaining: 1.2s\n",
      "565:\tlearn: 0.0309711\ttotal: 1.56s\tremaining: 1.2s\n",
      "566:\tlearn: 0.0309501\ttotal: 1.57s\tremaining: 1.2s\n",
      "567:\tlearn: 0.0309233\ttotal: 1.57s\tremaining: 1.19s\n",
      "568:\tlearn: 0.0308723\ttotal: 1.57s\tremaining: 1.19s\n",
      "569:\tlearn: 0.0308523\ttotal: 1.57s\tremaining: 1.19s\n",
      "570:\tlearn: 0.0307838\ttotal: 1.58s\tremaining: 1.19s\n",
      "571:\tlearn: 0.0307461\ttotal: 1.58s\tremaining: 1.18s\n",
      "572:\tlearn: 0.0307130\ttotal: 1.58s\tremaining: 1.18s\n",
      "573:\tlearn: 0.0306517\ttotal: 1.58s\tremaining: 1.18s\n",
      "574:\tlearn: 0.0306161\ttotal: 1.59s\tremaining: 1.17s\n",
      "575:\tlearn: 0.0305554\ttotal: 1.59s\tremaining: 1.17s\n",
      "576:\tlearn: 0.0305461\ttotal: 1.59s\tremaining: 1.17s\n",
      "577:\tlearn: 0.0305026\ttotal: 1.59s\tremaining: 1.16s\n",
      "578:\tlearn: 0.0304709\ttotal: 1.6s\tremaining: 1.16s\n",
      "579:\tlearn: 0.0304024\ttotal: 1.6s\tremaining: 1.16s\n",
      "580:\tlearn: 0.0303518\ttotal: 1.6s\tremaining: 1.16s\n",
      "581:\tlearn: 0.0303424\ttotal: 1.6s\tremaining: 1.15s\n",
      "582:\tlearn: 0.0302835\ttotal: 1.61s\tremaining: 1.15s\n",
      "583:\tlearn: 0.0302400\ttotal: 1.61s\tremaining: 1.15s\n",
      "584:\tlearn: 0.0302101\ttotal: 1.61s\tremaining: 1.14s\n",
      "585:\tlearn: 0.0301883\ttotal: 1.61s\tremaining: 1.14s\n",
      "586:\tlearn: 0.0301400\ttotal: 1.62s\tremaining: 1.14s\n",
      "587:\tlearn: 0.0301328\ttotal: 1.62s\tremaining: 1.13s\n",
      "588:\tlearn: 0.0301176\ttotal: 1.62s\tremaining: 1.13s\n",
      "589:\tlearn: 0.0300591\ttotal: 1.62s\tremaining: 1.13s\n",
      "590:\tlearn: 0.0300059\ttotal: 1.63s\tremaining: 1.13s\n",
      "591:\tlearn: 0.0299777\ttotal: 1.63s\tremaining: 1.12s\n",
      "592:\tlearn: 0.0299509\ttotal: 1.63s\tremaining: 1.12s\n",
      "593:\tlearn: 0.0298614\ttotal: 1.63s\tremaining: 1.12s\n",
      "594:\tlearn: 0.0297990\ttotal: 1.64s\tremaining: 1.11s\n",
      "595:\tlearn: 0.0297839\ttotal: 1.64s\tremaining: 1.11s\n",
      "596:\tlearn: 0.0296874\ttotal: 1.64s\tremaining: 1.11s\n",
      "597:\tlearn: 0.0296797\ttotal: 1.65s\tremaining: 1.11s\n",
      "598:\tlearn: 0.0296423\ttotal: 1.65s\tremaining: 1.1s\n",
      "599:\tlearn: 0.0296104\ttotal: 1.65s\tremaining: 1.1s\n",
      "600:\tlearn: 0.0295847\ttotal: 1.65s\tremaining: 1.1s\n",
      "601:\tlearn: 0.0295133\ttotal: 1.66s\tremaining: 1.09s\n",
      "602:\tlearn: 0.0294992\ttotal: 1.66s\tremaining: 1.09s\n",
      "603:\tlearn: 0.0294186\ttotal: 1.66s\tremaining: 1.09s\n",
      "604:\tlearn: 0.0294117\ttotal: 1.66s\tremaining: 1.09s\n",
      "605:\tlearn: 0.0293756\ttotal: 1.67s\tremaining: 1.08s\n",
      "606:\tlearn: 0.0293379\ttotal: 1.67s\tremaining: 1.08s\n",
      "607:\tlearn: 0.0292910\ttotal: 1.67s\tremaining: 1.08s\n",
      "608:\tlearn: 0.0292674\ttotal: 1.67s\tremaining: 1.07s\n",
      "609:\tlearn: 0.0292031\ttotal: 1.68s\tremaining: 1.07s\n",
      "610:\tlearn: 0.0291569\ttotal: 1.68s\tremaining: 1.07s\n",
      "611:\tlearn: 0.0291123\ttotal: 1.68s\tremaining: 1.06s\n",
      "612:\tlearn: 0.0290328\ttotal: 1.68s\tremaining: 1.06s\n",
      "613:\tlearn: 0.0289801\ttotal: 1.69s\tremaining: 1.06s\n",
      "614:\tlearn: 0.0289673\ttotal: 1.69s\tremaining: 1.06s\n",
      "615:\tlearn: 0.0289378\ttotal: 1.69s\tremaining: 1.05s\n",
      "616:\tlearn: 0.0289101\ttotal: 1.69s\tremaining: 1.05s\n",
      "617:\tlearn: 0.0288805\ttotal: 1.7s\tremaining: 1.05s\n",
      "618:\tlearn: 0.0287777\ttotal: 1.7s\tremaining: 1.04s\n",
      "619:\tlearn: 0.0287239\ttotal: 1.7s\tremaining: 1.04s\n",
      "620:\tlearn: 0.0287056\ttotal: 1.7s\tremaining: 1.04s\n",
      "621:\tlearn: 0.0286893\ttotal: 1.71s\tremaining: 1.04s\n",
      "622:\tlearn: 0.0286211\ttotal: 1.71s\tremaining: 1.03s\n",
      "623:\tlearn: 0.0285766\ttotal: 1.71s\tremaining: 1.03s\n",
      "624:\tlearn: 0.0285429\ttotal: 1.71s\tremaining: 1.03s\n",
      "625:\tlearn: 0.0285286\ttotal: 1.72s\tremaining: 1.02s\n",
      "626:\tlearn: 0.0284912\ttotal: 1.72s\tremaining: 1.02s\n",
      "627:\tlearn: 0.0284769\ttotal: 1.72s\tremaining: 1.02s\n",
      "628:\tlearn: 0.0284448\ttotal: 1.72s\tremaining: 1.02s\n",
      "629:\tlearn: 0.0284326\ttotal: 1.73s\tremaining: 1.01s\n",
      "630:\tlearn: 0.0284069\ttotal: 1.73s\tremaining: 1.01s\n",
      "631:\tlearn: 0.0283904\ttotal: 1.73s\tremaining: 1.01s\n",
      "632:\tlearn: 0.0283181\ttotal: 1.73s\tremaining: 1s\n",
      "633:\tlearn: 0.0283009\ttotal: 1.74s\tremaining: 1s\n",
      "634:\tlearn: 0.0282675\ttotal: 1.74s\tremaining: 1000ms\n",
      "635:\tlearn: 0.0282535\ttotal: 1.74s\tremaining: 997ms\n",
      "636:\tlearn: 0.0282060\ttotal: 1.74s\tremaining: 994ms\n",
      "637:\tlearn: 0.0281829\ttotal: 1.75s\tremaining: 991ms\n",
      "638:\tlearn: 0.0281666\ttotal: 1.75s\tremaining: 989ms\n",
      "639:\tlearn: 0.0281140\ttotal: 1.75s\tremaining: 986ms\n"
     ]
    },
    {
     "name": "stdout",
     "output_type": "stream",
     "text": [
      "640:\tlearn: 0.0280848\ttotal: 1.76s\tremaining: 985ms\n",
      "641:\tlearn: 0.0280295\ttotal: 1.76s\tremaining: 983ms\n",
      "642:\tlearn: 0.0280074\ttotal: 1.76s\tremaining: 980ms\n",
      "643:\tlearn: 0.0279886\ttotal: 1.77s\tremaining: 977ms\n",
      "644:\tlearn: 0.0279175\ttotal: 1.77s\tremaining: 974ms\n",
      "645:\tlearn: 0.0279089\ttotal: 1.77s\tremaining: 973ms\n",
      "646:\tlearn: 0.0278410\ttotal: 1.78s\tremaining: 970ms\n",
      "647:\tlearn: 0.0278002\ttotal: 1.78s\tremaining: 968ms\n",
      "648:\tlearn: 0.0277866\ttotal: 1.78s\tremaining: 965ms\n",
      "649:\tlearn: 0.0277725\ttotal: 1.79s\tremaining: 962ms\n",
      "650:\tlearn: 0.0277586\ttotal: 1.79s\tremaining: 959ms\n",
      "651:\tlearn: 0.0276939\ttotal: 1.79s\tremaining: 957ms\n",
      "652:\tlearn: 0.0276409\ttotal: 1.79s\tremaining: 954ms\n",
      "653:\tlearn: 0.0276029\ttotal: 1.8s\tremaining: 951ms\n",
      "654:\tlearn: 0.0275598\ttotal: 1.8s\tremaining: 949ms\n",
      "655:\tlearn: 0.0275212\ttotal: 1.8s\tremaining: 946ms\n",
      "656:\tlearn: 0.0274845\ttotal: 1.81s\tremaining: 944ms\n",
      "657:\tlearn: 0.0274605\ttotal: 1.81s\tremaining: 941ms\n",
      "658:\tlearn: 0.0274139\ttotal: 1.81s\tremaining: 938ms\n",
      "659:\tlearn: 0.0274006\ttotal: 1.81s\tremaining: 935ms\n",
      "660:\tlearn: 0.0273566\ttotal: 1.82s\tremaining: 932ms\n",
      "661:\tlearn: 0.0273384\ttotal: 1.82s\tremaining: 929ms\n",
      "662:\tlearn: 0.0272887\ttotal: 1.82s\tremaining: 927ms\n",
      "663:\tlearn: 0.0272741\ttotal: 1.82s\tremaining: 924ms\n",
      "664:\tlearn: 0.0272518\ttotal: 1.83s\tremaining: 921ms\n",
      "665:\tlearn: 0.0272162\ttotal: 1.83s\tremaining: 918ms\n",
      "666:\tlearn: 0.0271982\ttotal: 1.83s\tremaining: 916ms\n",
      "667:\tlearn: 0.0271850\ttotal: 1.84s\tremaining: 913ms\n",
      "668:\tlearn: 0.0271525\ttotal: 1.84s\tremaining: 910ms\n",
      "669:\tlearn: 0.0270888\ttotal: 1.84s\tremaining: 907ms\n",
      "670:\tlearn: 0.0270681\ttotal: 1.84s\tremaining: 904ms\n",
      "671:\tlearn: 0.0270486\ttotal: 1.85s\tremaining: 902ms\n",
      "672:\tlearn: 0.0270122\ttotal: 1.85s\tremaining: 899ms\n",
      "673:\tlearn: 0.0269348\ttotal: 1.85s\tremaining: 896ms\n",
      "674:\tlearn: 0.0269210\ttotal: 1.85s\tremaining: 893ms\n",
      "675:\tlearn: 0.0268930\ttotal: 1.86s\tremaining: 890ms\n",
      "676:\tlearn: 0.0268554\ttotal: 1.86s\tremaining: 887ms\n",
      "677:\tlearn: 0.0268285\ttotal: 1.86s\tremaining: 885ms\n",
      "678:\tlearn: 0.0268027\ttotal: 1.86s\tremaining: 882ms\n",
      "679:\tlearn: 0.0267838\ttotal: 1.87s\tremaining: 879ms\n",
      "680:\tlearn: 0.0267286\ttotal: 1.87s\tremaining: 876ms\n",
      "681:\tlearn: 0.0267169\ttotal: 1.87s\tremaining: 874ms\n",
      "682:\tlearn: 0.0266945\ttotal: 1.88s\tremaining: 871ms\n",
      "683:\tlearn: 0.0266376\ttotal: 1.88s\tremaining: 868ms\n",
      "684:\tlearn: 0.0265964\ttotal: 1.88s\tremaining: 865ms\n",
      "685:\tlearn: 0.0265737\ttotal: 1.88s\tremaining: 863ms\n",
      "686:\tlearn: 0.0265574\ttotal: 1.89s\tremaining: 860ms\n",
      "687:\tlearn: 0.0265337\ttotal: 1.89s\tremaining: 857ms\n",
      "688:\tlearn: 0.0264754\ttotal: 1.89s\tremaining: 854ms\n",
      "689:\tlearn: 0.0264447\ttotal: 1.9s\tremaining: 852ms\n",
      "690:\tlearn: 0.0264317\ttotal: 1.9s\tremaining: 849ms\n",
      "691:\tlearn: 0.0264179\ttotal: 1.9s\tremaining: 846ms\n",
      "692:\tlearn: 0.0263330\ttotal: 1.9s\tremaining: 843ms\n",
      "693:\tlearn: 0.0262607\ttotal: 1.91s\tremaining: 841ms\n",
      "694:\tlearn: 0.0262422\ttotal: 1.91s\tremaining: 838ms\n",
      "695:\tlearn: 0.0262164\ttotal: 1.91s\tremaining: 835ms\n",
      "696:\tlearn: 0.0262037\ttotal: 1.91s\tremaining: 832ms\n",
      "697:\tlearn: 0.0261337\ttotal: 1.92s\tremaining: 829ms\n",
      "698:\tlearn: 0.0261268\ttotal: 1.92s\tremaining: 826ms\n",
      "699:\tlearn: 0.0261090\ttotal: 1.92s\tremaining: 823ms\n",
      "700:\tlearn: 0.0260926\ttotal: 1.92s\tremaining: 820ms\n",
      "701:\tlearn: 0.0260654\ttotal: 1.93s\tremaining: 818ms\n",
      "702:\tlearn: 0.0260531\ttotal: 1.93s\tremaining: 815ms\n",
      "703:\tlearn: 0.0260225\ttotal: 1.93s\tremaining: 812ms\n",
      "704:\tlearn: 0.0260025\ttotal: 1.93s\tremaining: 809ms\n",
      "705:\tlearn: 0.0259704\ttotal: 1.94s\tremaining: 806ms\n",
      "706:\tlearn: 0.0259382\ttotal: 1.94s\tremaining: 803ms\n",
      "707:\tlearn: 0.0258512\ttotal: 1.94s\tremaining: 801ms\n",
      "708:\tlearn: 0.0258344\ttotal: 1.94s\tremaining: 798ms\n",
      "709:\tlearn: 0.0257972\ttotal: 1.95s\tremaining: 795ms\n",
      "710:\tlearn: 0.0257848\ttotal: 1.95s\tremaining: 792ms\n",
      "711:\tlearn: 0.0257590\ttotal: 1.95s\tremaining: 789ms\n",
      "712:\tlearn: 0.0256765\ttotal: 1.95s\tremaining: 786ms\n",
      "713:\tlearn: 0.0256374\ttotal: 1.96s\tremaining: 784ms\n",
      "714:\tlearn: 0.0256054\ttotal: 1.96s\tremaining: 781ms\n",
      "715:\tlearn: 0.0255515\ttotal: 1.96s\tremaining: 778ms\n",
      "716:\tlearn: 0.0255346\ttotal: 1.96s\tremaining: 775ms\n",
      "717:\tlearn: 0.0255145\ttotal: 1.97s\tremaining: 772ms\n",
      "718:\tlearn: 0.0255041\ttotal: 1.97s\tremaining: 770ms\n",
      "719:\tlearn: 0.0254972\ttotal: 1.97s\tremaining: 767ms\n",
      "720:\tlearn: 0.0254799\ttotal: 1.97s\tremaining: 764ms\n",
      "721:\tlearn: 0.0254558\ttotal: 1.98s\tremaining: 761ms\n",
      "722:\tlearn: 0.0254239\ttotal: 1.98s\tremaining: 758ms\n",
      "723:\tlearn: 0.0253932\ttotal: 1.98s\tremaining: 756ms\n",
      "724:\tlearn: 0.0253514\ttotal: 1.98s\tremaining: 753ms\n",
      "725:\tlearn: 0.0253214\ttotal: 1.99s\tremaining: 750ms\n",
      "726:\tlearn: 0.0253045\ttotal: 1.99s\tremaining: 747ms\n",
      "727:\tlearn: 0.0252814\ttotal: 1.99s\tremaining: 744ms\n",
      "728:\tlearn: 0.0252740\ttotal: 1.99s\tremaining: 741ms\n",
      "729:\tlearn: 0.0252627\ttotal: 2s\tremaining: 739ms\n",
      "730:\tlearn: 0.0251908\ttotal: 2s\tremaining: 736ms\n",
      "731:\tlearn: 0.0251783\ttotal: 2s\tremaining: 733ms\n",
      "732:\tlearn: 0.0251704\ttotal: 2s\tremaining: 730ms\n",
      "733:\tlearn: 0.0250942\ttotal: 2.01s\tremaining: 727ms\n",
      "734:\tlearn: 0.0250835\ttotal: 2.01s\tremaining: 725ms\n",
      "735:\tlearn: 0.0250692\ttotal: 2.01s\tremaining: 722ms\n",
      "736:\tlearn: 0.0250152\ttotal: 2.01s\tremaining: 719ms\n",
      "737:\tlearn: 0.0249879\ttotal: 2.02s\tremaining: 716ms\n",
      "738:\tlearn: 0.0249433\ttotal: 2.02s\tremaining: 713ms\n",
      "739:\tlearn: 0.0249294\ttotal: 2.02s\tremaining: 710ms\n",
      "740:\tlearn: 0.0249004\ttotal: 2.02s\tremaining: 708ms\n",
      "741:\tlearn: 0.0248332\ttotal: 2.03s\tremaining: 705ms\n",
      "742:\tlearn: 0.0248227\ttotal: 2.03s\tremaining: 702ms\n",
      "743:\tlearn: 0.0247823\ttotal: 2.03s\tremaining: 699ms\n",
      "744:\tlearn: 0.0247581\ttotal: 2.03s\tremaining: 696ms\n",
      "745:\tlearn: 0.0247098\ttotal: 2.04s\tremaining: 694ms\n",
      "746:\tlearn: 0.0246851\ttotal: 2.04s\tremaining: 691ms\n",
      "747:\tlearn: 0.0246737\ttotal: 2.04s\tremaining: 688ms\n",
      "748:\tlearn: 0.0246380\ttotal: 2.04s\tremaining: 685ms\n",
      "749:\tlearn: 0.0245893\ttotal: 2.05s\tremaining: 682ms\n",
      "750:\tlearn: 0.0245437\ttotal: 2.05s\tremaining: 679ms\n",
      "751:\tlearn: 0.0245160\ttotal: 2.05s\tremaining: 677ms\n",
      "752:\tlearn: 0.0244968\ttotal: 2.05s\tremaining: 674ms\n",
      "753:\tlearn: 0.0244526\ttotal: 2.06s\tremaining: 671ms\n",
      "754:\tlearn: 0.0244369\ttotal: 2.06s\tremaining: 668ms\n",
      "755:\tlearn: 0.0244150\ttotal: 2.06s\tremaining: 666ms\n",
      "756:\tlearn: 0.0243955\ttotal: 2.06s\tremaining: 663ms\n",
      "757:\tlearn: 0.0243863\ttotal: 2.07s\tremaining: 660ms\n",
      "758:\tlearn: 0.0243674\ttotal: 2.07s\tremaining: 657ms\n",
      "759:\tlearn: 0.0243299\ttotal: 2.07s\tremaining: 654ms\n",
      "760:\tlearn: 0.0243194\ttotal: 2.07s\tremaining: 651ms\n",
      "761:\tlearn: 0.0242876\ttotal: 2.08s\tremaining: 649ms\n",
      "762:\tlearn: 0.0242706\ttotal: 2.08s\tremaining: 646ms\n",
      "763:\tlearn: 0.0242557\ttotal: 2.08s\tremaining: 643ms\n",
      "764:\tlearn: 0.0242213\ttotal: 2.08s\tremaining: 640ms\n",
      "765:\tlearn: 0.0241958\ttotal: 2.09s\tremaining: 637ms\n",
      "766:\tlearn: 0.0241798\ttotal: 2.09s\tremaining: 634ms\n",
      "767:\tlearn: 0.0241690\ttotal: 2.09s\tremaining: 632ms\n",
      "768:\tlearn: 0.0241408\ttotal: 2.09s\tremaining: 629ms\n",
      "769:\tlearn: 0.0241262\ttotal: 2.1s\tremaining: 626ms\n",
      "770:\tlearn: 0.0240967\ttotal: 2.1s\tremaining: 623ms\n",
      "771:\tlearn: 0.0240790\ttotal: 2.1s\tremaining: 620ms\n",
      "772:\tlearn: 0.0240679\ttotal: 2.1s\tremaining: 618ms\n",
      "773:\tlearn: 0.0240397\ttotal: 2.1s\tremaining: 615ms\n",
      "774:\tlearn: 0.0240313\ttotal: 2.11s\tremaining: 612ms\n",
      "775:\tlearn: 0.0240137\ttotal: 2.11s\tremaining: 609ms\n",
      "776:\tlearn: 0.0239693\ttotal: 2.11s\tremaining: 606ms\n",
      "777:\tlearn: 0.0239393\ttotal: 2.12s\tremaining: 604ms\n",
      "778:\tlearn: 0.0239082\ttotal: 2.12s\tremaining: 601ms\n",
      "779:\tlearn: 0.0238990\ttotal: 2.12s\tremaining: 598ms\n",
      "780:\tlearn: 0.0238700\ttotal: 2.12s\tremaining: 595ms\n",
      "781:\tlearn: 0.0238138\ttotal: 2.13s\tremaining: 593ms\n",
      "782:\tlearn: 0.0237964\ttotal: 2.13s\tremaining: 590ms\n",
      "783:\tlearn: 0.0237639\ttotal: 2.13s\tremaining: 588ms\n",
      "784:\tlearn: 0.0237501\ttotal: 2.13s\tremaining: 585ms\n",
      "785:\tlearn: 0.0237334\ttotal: 2.14s\tremaining: 582ms\n",
      "786:\tlearn: 0.0236993\ttotal: 2.14s\tremaining: 579ms\n",
      "787:\tlearn: 0.0236587\ttotal: 2.14s\tremaining: 576ms\n",
      "788:\tlearn: 0.0236264\ttotal: 2.15s\tremaining: 574ms\n",
      "789:\tlearn: 0.0236160\ttotal: 2.15s\tremaining: 571ms\n",
      "790:\tlearn: 0.0235889\ttotal: 2.15s\tremaining: 568ms\n",
      "791:\tlearn: 0.0235785\ttotal: 2.15s\tremaining: 565ms\n",
      "792:\tlearn: 0.0235516\ttotal: 2.15s\tremaining: 563ms\n",
      "793:\tlearn: 0.0235144\ttotal: 2.16s\tremaining: 560ms\n",
      "794:\tlearn: 0.0234873\ttotal: 2.16s\tremaining: 557ms\n",
      "795:\tlearn: 0.0234670\ttotal: 2.16s\tremaining: 554ms\n",
      "796:\tlearn: 0.0234375\ttotal: 2.16s\tremaining: 551ms\n",
      "797:\tlearn: 0.0234312\ttotal: 2.17s\tremaining: 549ms\n",
      "798:\tlearn: 0.0234051\ttotal: 2.17s\tremaining: 546ms\n",
      "799:\tlearn: 0.0233889\ttotal: 2.17s\tremaining: 543ms\n",
      "800:\tlearn: 0.0233676\ttotal: 2.18s\tremaining: 541ms\n",
      "801:\tlearn: 0.0233594\ttotal: 2.18s\tremaining: 538ms\n",
      "802:\tlearn: 0.0233478\ttotal: 2.18s\tremaining: 535ms\n",
      "803:\tlearn: 0.0232899\ttotal: 2.18s\tremaining: 532ms\n",
      "804:\tlearn: 0.0232645\ttotal: 2.19s\tremaining: 529ms\n",
      "805:\tlearn: 0.0232217\ttotal: 2.19s\tremaining: 527ms\n",
      "806:\tlearn: 0.0231930\ttotal: 2.19s\tremaining: 524ms\n",
      "807:\tlearn: 0.0231757\ttotal: 2.19s\tremaining: 521ms\n",
      "808:\tlearn: 0.0231638\ttotal: 2.19s\tremaining: 518ms\n",
      "809:\tlearn: 0.0231594\ttotal: 2.2s\tremaining: 516ms\n",
      "810:\tlearn: 0.0231222\ttotal: 2.2s\tremaining: 513ms\n",
      "811:\tlearn: 0.0230983\ttotal: 2.2s\tremaining: 510ms\n",
      "812:\tlearn: 0.0230835\ttotal: 2.21s\tremaining: 508ms\n",
      "813:\tlearn: 0.0230749\ttotal: 2.21s\tremaining: 505ms\n",
      "814:\tlearn: 0.0230463\ttotal: 2.21s\tremaining: 502ms\n",
      "815:\tlearn: 0.0230326\ttotal: 2.21s\tremaining: 499ms\n",
      "816:\tlearn: 0.0230131\ttotal: 2.22s\tremaining: 497ms\n",
      "817:\tlearn: 0.0230002\ttotal: 2.22s\tremaining: 494ms\n",
      "818:\tlearn: 0.0229921\ttotal: 2.22s\tremaining: 491ms\n",
      "819:\tlearn: 0.0229657\ttotal: 2.22s\tremaining: 488ms\n",
      "820:\tlearn: 0.0229509\ttotal: 2.23s\tremaining: 486ms\n",
      "821:\tlearn: 0.0229199\ttotal: 2.23s\tremaining: 483ms\n",
      "822:\tlearn: 0.0229099\ttotal: 2.23s\tremaining: 480ms\n",
      "823:\tlearn: 0.0228775\ttotal: 2.23s\tremaining: 477ms\n",
      "824:\tlearn: 0.0228365\ttotal: 2.24s\tremaining: 475ms\n",
      "825:\tlearn: 0.0228106\ttotal: 2.24s\tremaining: 472ms\n",
      "826:\tlearn: 0.0227731\ttotal: 2.24s\tremaining: 469ms\n",
      "827:\tlearn: 0.0227651\ttotal: 2.24s\tremaining: 466ms\n",
      "828:\tlearn: 0.0227428\ttotal: 2.25s\tremaining: 463ms\n",
      "829:\tlearn: 0.0227267\ttotal: 2.25s\tremaining: 461ms\n",
      "830:\tlearn: 0.0227176\ttotal: 2.25s\tremaining: 458ms\n",
      "831:\tlearn: 0.0227102\ttotal: 2.25s\tremaining: 455ms\n",
      "832:\tlearn: 0.0227057\ttotal: 2.26s\tremaining: 452ms\n",
      "833:\tlearn: 0.0226926\ttotal: 2.26s\tremaining: 450ms\n",
      "834:\tlearn: 0.0226723\ttotal: 2.26s\tremaining: 447ms\n",
      "835:\tlearn: 0.0226636\ttotal: 2.26s\tremaining: 444ms\n",
      "836:\tlearn: 0.0226594\ttotal: 2.27s\tremaining: 441ms\n",
      "837:\tlearn: 0.0226425\ttotal: 2.27s\tremaining: 439ms\n",
      "838:\tlearn: 0.0226270\ttotal: 2.27s\tremaining: 436ms\n",
      "839:\tlearn: 0.0226101\ttotal: 2.27s\tremaining: 433ms\n",
      "840:\tlearn: 0.0226004\ttotal: 2.27s\tremaining: 430ms\n",
      "841:\tlearn: 0.0225766\ttotal: 2.28s\tremaining: 427ms\n",
      "842:\tlearn: 0.0225591\ttotal: 2.28s\tremaining: 425ms\n",
      "843:\tlearn: 0.0225518\ttotal: 2.28s\tremaining: 422ms\n",
      "844:\tlearn: 0.0225325\ttotal: 2.29s\tremaining: 419ms\n",
      "845:\tlearn: 0.0224931\ttotal: 2.29s\tremaining: 416ms\n",
      "846:\tlearn: 0.0224883\ttotal: 2.29s\tremaining: 414ms\n",
      "847:\tlearn: 0.0224658\ttotal: 2.29s\tremaining: 411ms\n",
      "848:\tlearn: 0.0224485\ttotal: 2.29s\tremaining: 408ms\n",
      "849:\tlearn: 0.0224317\ttotal: 2.3s\tremaining: 405ms\n",
      "850:\tlearn: 0.0223926\ttotal: 2.3s\tremaining: 403ms\n",
      "851:\tlearn: 0.0223653\ttotal: 2.3s\tremaining: 400ms\n",
      "852:\tlearn: 0.0223281\ttotal: 2.3s\tremaining: 397ms\n",
      "853:\tlearn: 0.0223015\ttotal: 2.31s\tremaining: 394ms\n",
      "854:\tlearn: 0.0222841\ttotal: 2.31s\tremaining: 392ms\n",
      "855:\tlearn: 0.0222551\ttotal: 2.31s\tremaining: 389ms\n",
      "856:\tlearn: 0.0221934\ttotal: 2.31s\tremaining: 386ms\n",
      "857:\tlearn: 0.0221784\ttotal: 2.32s\tremaining: 384ms\n",
      "858:\tlearn: 0.0221664\ttotal: 2.32s\tremaining: 381ms\n",
      "859:\tlearn: 0.0221248\ttotal: 2.32s\tremaining: 378ms\n",
      "860:\tlearn: 0.0221129\ttotal: 2.32s\tremaining: 375ms\n",
      "861:\tlearn: 0.0220797\ttotal: 2.33s\tremaining: 373ms\n",
      "862:\tlearn: 0.0220446\ttotal: 2.33s\tremaining: 370ms\n",
      "863:\tlearn: 0.0220386\ttotal: 2.33s\tremaining: 367ms\n",
      "864:\tlearn: 0.0220020\ttotal: 2.33s\tremaining: 364ms\n",
      "865:\tlearn: 0.0219798\ttotal: 2.34s\tremaining: 362ms\n",
      "866:\tlearn: 0.0219665\ttotal: 2.34s\tremaining: 359ms\n",
      "867:\tlearn: 0.0219542\ttotal: 2.34s\tremaining: 356ms\n"
     ]
    },
    {
     "name": "stdout",
     "output_type": "stream",
     "text": [
      "868:\tlearn: 0.0219491\ttotal: 2.35s\tremaining: 354ms\n",
      "869:\tlearn: 0.0219375\ttotal: 2.35s\tremaining: 351ms\n",
      "870:\tlearn: 0.0219098\ttotal: 2.35s\tremaining: 348ms\n",
      "871:\tlearn: 0.0219027\ttotal: 2.35s\tremaining: 346ms\n",
      "872:\tlearn: 0.0218841\ttotal: 2.36s\tremaining: 343ms\n",
      "873:\tlearn: 0.0218617\ttotal: 2.36s\tremaining: 340ms\n",
      "874:\tlearn: 0.0218521\ttotal: 2.36s\tremaining: 337ms\n",
      "875:\tlearn: 0.0218486\ttotal: 2.36s\tremaining: 335ms\n",
      "876:\tlearn: 0.0218310\ttotal: 2.37s\tremaining: 332ms\n",
      "877:\tlearn: 0.0218237\ttotal: 2.37s\tremaining: 329ms\n",
      "878:\tlearn: 0.0218062\ttotal: 2.37s\tremaining: 326ms\n",
      "879:\tlearn: 0.0217916\ttotal: 2.37s\tremaining: 324ms\n",
      "880:\tlearn: 0.0217759\ttotal: 2.38s\tremaining: 321ms\n",
      "881:\tlearn: 0.0217650\ttotal: 2.38s\tremaining: 318ms\n",
      "882:\tlearn: 0.0217440\ttotal: 2.38s\tremaining: 316ms\n",
      "883:\tlearn: 0.0217350\ttotal: 2.38s\tremaining: 313ms\n",
      "884:\tlearn: 0.0217142\ttotal: 2.39s\tremaining: 310ms\n",
      "885:\tlearn: 0.0217094\ttotal: 2.39s\tremaining: 307ms\n",
      "886:\tlearn: 0.0217019\ttotal: 2.39s\tremaining: 305ms\n",
      "887:\tlearn: 0.0216929\ttotal: 2.39s\tremaining: 302ms\n",
      "888:\tlearn: 0.0216709\ttotal: 2.4s\tremaining: 299ms\n",
      "889:\tlearn: 0.0216545\ttotal: 2.4s\tremaining: 296ms\n",
      "890:\tlearn: 0.0216330\ttotal: 2.4s\tremaining: 294ms\n",
      "891:\tlearn: 0.0216045\ttotal: 2.4s\tremaining: 291ms\n",
      "892:\tlearn: 0.0215902\ttotal: 2.4s\tremaining: 288ms\n",
      "893:\tlearn: 0.0215818\ttotal: 2.41s\tremaining: 286ms\n",
      "894:\tlearn: 0.0215525\ttotal: 2.41s\tremaining: 283ms\n",
      "895:\tlearn: 0.0215465\ttotal: 2.41s\tremaining: 280ms\n",
      "896:\tlearn: 0.0215313\ttotal: 2.42s\tremaining: 277ms\n",
      "897:\tlearn: 0.0215157\ttotal: 2.42s\tremaining: 275ms\n",
      "898:\tlearn: 0.0214304\ttotal: 2.42s\tremaining: 272ms\n",
      "899:\tlearn: 0.0214256\ttotal: 2.42s\tremaining: 269ms\n",
      "900:\tlearn: 0.0214189\ttotal: 2.42s\tremaining: 267ms\n",
      "901:\tlearn: 0.0214029\ttotal: 2.43s\tremaining: 264ms\n",
      "902:\tlearn: 0.0213945\ttotal: 2.43s\tremaining: 261ms\n",
      "903:\tlearn: 0.0213673\ttotal: 2.43s\tremaining: 258ms\n",
      "904:\tlearn: 0.0213607\ttotal: 2.44s\tremaining: 256ms\n",
      "905:\tlearn: 0.0213371\ttotal: 2.44s\tremaining: 253ms\n",
      "906:\tlearn: 0.0213114\ttotal: 2.44s\tremaining: 250ms\n",
      "907:\tlearn: 0.0212955\ttotal: 2.44s\tremaining: 248ms\n",
      "908:\tlearn: 0.0212616\ttotal: 2.45s\tremaining: 245ms\n",
      "909:\tlearn: 0.0212423\ttotal: 2.45s\tremaining: 242ms\n",
      "910:\tlearn: 0.0212383\ttotal: 2.45s\tremaining: 239ms\n",
      "911:\tlearn: 0.0212159\ttotal: 2.45s\tremaining: 237ms\n",
      "912:\tlearn: 0.0211991\ttotal: 2.46s\tremaining: 234ms\n",
      "913:\tlearn: 0.0211901\ttotal: 2.46s\tremaining: 231ms\n",
      "914:\tlearn: 0.0211606\ttotal: 2.46s\tremaining: 229ms\n",
      "915:\tlearn: 0.0211548\ttotal: 2.46s\tremaining: 226ms\n",
      "916:\tlearn: 0.0211395\ttotal: 2.47s\tremaining: 223ms\n",
      "917:\tlearn: 0.0211254\ttotal: 2.47s\tremaining: 221ms\n",
      "918:\tlearn: 0.0211029\ttotal: 2.47s\tremaining: 218ms\n",
      "919:\tlearn: 0.0210932\ttotal: 2.47s\tremaining: 215ms\n",
      "920:\tlearn: 0.0210405\ttotal: 2.48s\tremaining: 212ms\n",
      "921:\tlearn: 0.0210157\ttotal: 2.48s\tremaining: 210ms\n",
      "922:\tlearn: 0.0210016\ttotal: 2.48s\tremaining: 207ms\n",
      "923:\tlearn: 0.0209721\ttotal: 2.48s\tremaining: 204ms\n",
      "924:\tlearn: 0.0209600\ttotal: 2.49s\tremaining: 202ms\n",
      "925:\tlearn: 0.0209524\ttotal: 2.49s\tremaining: 199ms\n",
      "926:\tlearn: 0.0209171\ttotal: 2.49s\tremaining: 196ms\n",
      "927:\tlearn: 0.0209041\ttotal: 2.49s\tremaining: 194ms\n",
      "928:\tlearn: 0.0208916\ttotal: 2.5s\tremaining: 191ms\n",
      "929:\tlearn: 0.0208651\ttotal: 2.5s\tremaining: 188ms\n",
      "930:\tlearn: 0.0208473\ttotal: 2.5s\tremaining: 185ms\n",
      "931:\tlearn: 0.0208396\ttotal: 2.5s\tremaining: 183ms\n",
      "932:\tlearn: 0.0208322\ttotal: 2.51s\tremaining: 180ms\n",
      "933:\tlearn: 0.0208112\ttotal: 2.51s\tremaining: 177ms\n",
      "934:\tlearn: 0.0207843\ttotal: 2.51s\tremaining: 175ms\n",
      "935:\tlearn: 0.0207628\ttotal: 2.51s\tremaining: 172ms\n",
      "936:\tlearn: 0.0207420\ttotal: 2.52s\tremaining: 169ms\n",
      "937:\tlearn: 0.0207022\ttotal: 2.52s\tremaining: 167ms\n",
      "938:\tlearn: 0.0206966\ttotal: 2.52s\tremaining: 164ms\n",
      "939:\tlearn: 0.0206814\ttotal: 2.52s\tremaining: 161ms\n",
      "940:\tlearn: 0.0206760\ttotal: 2.53s\tremaining: 158ms\n",
      "941:\tlearn: 0.0206686\ttotal: 2.53s\tremaining: 156ms\n",
      "942:\tlearn: 0.0206629\ttotal: 2.53s\tremaining: 153ms\n",
      "943:\tlearn: 0.0206338\ttotal: 2.54s\tremaining: 150ms\n",
      "944:\tlearn: 0.0206166\ttotal: 2.54s\tremaining: 148ms\n",
      "945:\tlearn: 0.0205967\ttotal: 2.54s\tremaining: 145ms\n",
      "946:\tlearn: 0.0205721\ttotal: 2.54s\tremaining: 142ms\n",
      "947:\tlearn: 0.0205559\ttotal: 2.55s\tremaining: 140ms\n",
      "948:\tlearn: 0.0205492\ttotal: 2.55s\tremaining: 137ms\n",
      "949:\tlearn: 0.0205426\ttotal: 2.55s\tremaining: 134ms\n",
      "950:\tlearn: 0.0205269\ttotal: 2.55s\tremaining: 132ms\n",
      "951:\tlearn: 0.0205104\ttotal: 2.56s\tremaining: 129ms\n",
      "952:\tlearn: 0.0204959\ttotal: 2.56s\tremaining: 126ms\n",
      "953:\tlearn: 0.0204781\ttotal: 2.56s\tremaining: 124ms\n",
      "954:\tlearn: 0.0204451\ttotal: 2.56s\tremaining: 121ms\n",
      "955:\tlearn: 0.0204347\ttotal: 2.57s\tremaining: 118ms\n",
      "956:\tlearn: 0.0204167\ttotal: 2.57s\tremaining: 115ms\n",
      "957:\tlearn: 0.0203783\ttotal: 2.57s\tremaining: 113ms\n",
      "958:\tlearn: 0.0203726\ttotal: 2.58s\tremaining: 110ms\n",
      "959:\tlearn: 0.0203506\ttotal: 2.58s\tremaining: 107ms\n",
      "960:\tlearn: 0.0203352\ttotal: 2.58s\tremaining: 105ms\n",
      "961:\tlearn: 0.0203034\ttotal: 2.58s\tremaining: 102ms\n",
      "962:\tlearn: 0.0202866\ttotal: 2.58s\tremaining: 99.4ms\n",
      "963:\tlearn: 0.0202631\ttotal: 2.59s\tremaining: 96.7ms\n",
      "964:\tlearn: 0.0202446\ttotal: 2.59s\tremaining: 94ms\n",
      "965:\tlearn: 0.0202277\ttotal: 2.59s\tremaining: 91.3ms\n",
      "966:\tlearn: 0.0202152\ttotal: 2.6s\tremaining: 88.6ms\n",
      "967:\tlearn: 0.0202029\ttotal: 2.6s\tremaining: 85.9ms\n",
      "968:\tlearn: 0.0201968\ttotal: 2.6s\tremaining: 83.2ms\n",
      "969:\tlearn: 0.0201741\ttotal: 2.6s\tremaining: 80.5ms\n",
      "970:\tlearn: 0.0201657\ttotal: 2.61s\tremaining: 77.8ms\n",
      "971:\tlearn: 0.0201393\ttotal: 2.61s\tremaining: 75.2ms\n",
      "972:\tlearn: 0.0201059\ttotal: 2.61s\tremaining: 72.5ms\n",
      "973:\tlearn: 0.0200995\ttotal: 2.61s\tremaining: 69.8ms\n",
      "974:\tlearn: 0.0200664\ttotal: 2.62s\tremaining: 67.1ms\n",
      "975:\tlearn: 0.0200563\ttotal: 2.62s\tremaining: 64.4ms\n",
      "976:\tlearn: 0.0200357\ttotal: 2.62s\tremaining: 61.7ms\n",
      "977:\tlearn: 0.0200070\ttotal: 2.62s\tremaining: 59ms\n",
      "978:\tlearn: 0.0199933\ttotal: 2.63s\tremaining: 56.3ms\n",
      "979:\tlearn: 0.0199852\ttotal: 2.63s\tremaining: 53.7ms\n",
      "980:\tlearn: 0.0199688\ttotal: 2.63s\tremaining: 51ms\n",
      "981:\tlearn: 0.0199483\ttotal: 2.63s\tremaining: 48.3ms\n",
      "982:\tlearn: 0.0199378\ttotal: 2.64s\tremaining: 45.6ms\n",
      "983:\tlearn: 0.0199318\ttotal: 2.64s\tremaining: 42.9ms\n",
      "984:\tlearn: 0.0199239\ttotal: 2.64s\tremaining: 40.2ms\n",
      "985:\tlearn: 0.0198952\ttotal: 2.65s\tremaining: 37.6ms\n",
      "986:\tlearn: 0.0198757\ttotal: 2.65s\tremaining: 34.9ms\n",
      "987:\tlearn: 0.0198603\ttotal: 2.65s\tremaining: 32.2ms\n",
      "988:\tlearn: 0.0198469\ttotal: 2.65s\tremaining: 29.5ms\n",
      "989:\tlearn: 0.0198354\ttotal: 2.65s\tremaining: 26.8ms\n",
      "990:\tlearn: 0.0198297\ttotal: 2.66s\tremaining: 24.1ms\n",
      "991:\tlearn: 0.0197745\ttotal: 2.66s\tremaining: 21.5ms\n",
      "992:\tlearn: 0.0197582\ttotal: 2.66s\tremaining: 18.8ms\n",
      "993:\tlearn: 0.0197527\ttotal: 2.67s\tremaining: 16.1ms\n",
      "994:\tlearn: 0.0197424\ttotal: 2.67s\tremaining: 13.4ms\n",
      "995:\tlearn: 0.0197207\ttotal: 2.67s\tremaining: 10.7ms\n",
      "996:\tlearn: 0.0196990\ttotal: 2.67s\tremaining: 8.04ms\n",
      "997:\tlearn: 0.0196846\ttotal: 2.67s\tremaining: 5.36ms\n",
      "998:\tlearn: 0.0196672\ttotal: 2.68s\tremaining: 2.68ms\n",
      "999:\tlearn: 0.0196264\ttotal: 2.68s\tremaining: 0us\n",
      "SCORE: 0.97306585164758\n",
      "CPU times: user 1h 15min 10s, sys: 7min 54s, total: 1h 23min 4s\n",
      "Wall time: 13min 50s\n"
     ]
    },
    {
     "name": "stderr",
     "output_type": "stream",
     "text": [
      "/home/user/.local/lib/python3.10/site-packages/sklearn/preprocessing/_label.py:154: DataConversionWarning: A column-vector y was passed when a 1d array was expected. Please change the shape of y to (n_samples, ), for example using ravel().\n",
      "  y = column_or_1d(y, warn=True)\n"
     ]
    },
    {
     "data": {
      "text/plain": [
       "(0.9767248627084575,\n",
       " [0.9721398421484589,\n",
       "  0.9768552219967054,\n",
       "  0.9840107761192802,\n",
       "  0.9775526216302629,\n",
       "  0.97306585164758])"
      ]
     },
     "execution_count": 303,
     "metadata": {},
     "output_type": "execute_result"
    }
   ],
   "source": [
    "%%time\n",
    "# THIS IS BEST ON PUBLIC\n",
    "# k = 7\n",
    "knn = Pipeline([('scaler', StandardScaler()),\n",
    "                ('knn', KNeighborsClassifier(7, weights='distance', p=2))])\n",
    "logreg = Pipeline([('scaler', StandardScaler()),\n",
    "                   ('logreg', LogisticRegression(penalty='l1', C=0.5, solver='liblinear', random_state=228))])\n",
    "svc = Pipeline([('min_max', StandardScaler()),\n",
    "                ('svc', SVC(C=4.00000000001, kernel='rbf', random_state=228))])\n",
    "mlp = Pipeline([('min_max', StandardScaler()),\n",
    "                ('mlp', MLPClassifier(max_iter=500, hidden_layer_sizes=(50, ), activation='tanh', random_state=228))])\n",
    "rf = RandomForestClassifier(n_estimators=500, max_features='log2', min_samples_split=3, random_state=228)\n",
    "lgbm_1 = LGBMClassifier(boosting_type='dart', learning_rate=0.2, n_estimators=150, random_state=228)\n",
    "lgbm_2 = Pipeline([\n",
    "    ('dropper', FeaturesFilter([i for i, c in enumerate(X_train.columns) if '=' not in c])),\n",
    "    ('lgbm', LGBMClassifier(boosting_type='gbdt', learning_rate=0.1, n_estimators=100, random_state=18))\n",
    "])\n",
    "ctb = CatBoostClassifier(n_estimators=300, depth=6, random_state=228, verbose=False)\n",
    "\n",
    "estimators = [\n",
    "    ('knn', knn),\n",
    "    ('logreg', logreg),\n",
    "    ('svc', svc),\n",
    "    ('mlp', mlp),\n",
    "    ('rf', rf),\n",
    "    ('lgbm_1', lgbm_1),\n",
    "    ('lgbm_2', lgbm_2),\n",
    "    ('ctb', ctb)\n",
    "]\n",
    "clf = StackingClassifier(estimators=estimators, final_estimator=CatBoostClassifier(max_depth=2, random_state=228))\n",
    "scores, model = cross_val_score(clf, X_train, y_train)\n",
    "np.mean(scores), scores"
   ]
  },
  {
   "cell_type": "code",
   "execution_count": 310,
   "metadata": {},
   "outputs": [
    {
     "name": "stderr",
     "output_type": "stream",
     "text": [
      "/home/user/.local/lib/python3.10/site-packages/sklearn/preprocessing/_label.py:154: DataConversionWarning: A column-vector y was passed when a 1d array was expected. Please change the shape of y to (n_samples, ), for example using ravel().\n",
      "  y = column_or_1d(y, warn=True)\n"
     ]
    },
    {
     "name": "stdout",
     "output_type": "stream",
     "text": [
      "SCORE: 0.9762615179549673\n"
     ]
    },
    {
     "name": "stderr",
     "output_type": "stream",
     "text": [
      "/home/user/.local/lib/python3.10/site-packages/sklearn/preprocessing/_label.py:154: DataConversionWarning: A column-vector y was passed when a 1d array was expected. Please change the shape of y to (n_samples, ), for example using ravel().\n",
      "  y = column_or_1d(y, warn=True)\n"
     ]
    },
    {
     "name": "stdout",
     "output_type": "stream",
     "text": [
      "SCORE: 0.9758206309503307\n"
     ]
    },
    {
     "name": "stderr",
     "output_type": "stream",
     "text": [
      "/home/user/.local/lib/python3.10/site-packages/sklearn/preprocessing/_label.py:154: DataConversionWarning: A column-vector y was passed when a 1d array was expected. Please change the shape of y to (n_samples, ), for example using ravel().\n",
      "  y = column_or_1d(y, warn=True)\n"
     ]
    },
    {
     "name": "stdout",
     "output_type": "stream",
     "text": [
      "SCORE: 0.9810062409718879\n"
     ]
    },
    {
     "name": "stderr",
     "output_type": "stream",
     "text": [
      "/home/user/.local/lib/python3.10/site-packages/sklearn/preprocessing/_label.py:154: DataConversionWarning: A column-vector y was passed when a 1d array was expected. Please change the shape of y to (n_samples, ), for example using ravel().\n",
      "  y = column_or_1d(y, warn=True)\n"
     ]
    },
    {
     "name": "stdout",
     "output_type": "stream",
     "text": [
      "SCORE: 0.9746045844457726\n",
      "SCORE: 0.9728745710978691\n",
      "CPU times: user 1min 58s, sys: 16.9 s, total: 2min 15s\n",
      "Wall time: 14min 49s\n"
     ]
    },
    {
     "name": "stderr",
     "output_type": "stream",
     "text": [
      "/home/user/.local/lib/python3.10/site-packages/sklearn/preprocessing/_label.py:154: DataConversionWarning: A column-vector y was passed when a 1d array was expected. Please change the shape of y to (n_samples, ), for example using ravel().\n",
      "  y = column_or_1d(y, warn=True)\n"
     ]
    },
    {
     "data": {
      "text/plain": [
       "(0.9761135090841655,\n",
       " [0.9762615179549673,\n",
       "  0.9758206309503307,\n",
       "  0.9810062409718879,\n",
       "  0.9746045844457726,\n",
       "  0.9728745710978691])"
      ]
     },
     "execution_count": 310,
     "metadata": {},
     "output_type": "execute_result"
    }
   ],
   "source": [
    "%%time\n",
    "# PUBLIC: 0.984110\n",
    "knn = Pipeline([('scaler', StandardScaler()),\n",
    "                ('knn', KNeighborsClassifier(7, weights='distance', p=2))])\n",
    "logreg = Pipeline([('scaler', StandardScaler()),\n",
    "                   ('logreg', LogisticRegression(penalty='l1', C=0.5, solver='liblinear', random_state=228))])\n",
    "svc = Pipeline([('min_max', StandardScaler()),\n",
    "                ('svc', SVC(C=4, kernel='rbf', random_state=228))])\n",
    "mlp = Pipeline([('min_max', StandardScaler()),\n",
    "                ('mlp', MLPClassifier(max_iter=500, hidden_layer_sizes=(50, ), activation='tanh', random_state=228))])\n",
    "rf = RandomForestClassifier(n_estimators=500, max_features='log2', min_samples_split=3, random_state=228)\n",
    "lgbm_1 = LGBMClassifier(boosting_type='dart', learning_rate=0.2, n_estimators=150, random_state=228)\n",
    "lgbm_2 = Pipeline([\n",
    "    ('dropper', FeaturesFilter([i for i, c in enumerate(X_train.columns) if '=' not in c])),\n",
    "    ('lgbm', LGBMClassifier(boosting_type='gbdt', learning_rate=0.1, n_estimators=100, random_state=18))\n",
    "])\n",
    "lgbm_3 = LGBMClassifier(boosting_type='gbdt', learning_rate=0.1, n_estimators=500, random_state=228228)\n",
    "ctb = CatBoostClassifier(n_estimators=300, depth=6, random_state=228, verbose=False)\n",
    "\n",
    "estimators = [\n",
    "    ('knn', knn),\n",
    "    ('logreg', logreg),\n",
    "    ('svc', svc),\n",
    "    ('mlp', mlp),\n",
    "    ('rf', rf),\n",
    "    ('lgbm_1', lgbm_1),\n",
    "    ('lgbm_2', lgbm_2),\n",
    "    ('lgbm_3', lgbm_3),\n",
    "    ('ctb', ctb)\n",
    "]\n",
    "clf = StackingClassifier(estimators=estimators, final_estimator=CatBoostClassifier(max_depth=2, random_state=228, verbose=False), n_jobs=-1)\n",
    "scores, model = cross_val_score(clf, X_train, y_train)\n",
    "np.mean(scores), scores"
   ]
  },
  {
   "cell_type": "markdown",
   "metadata": {},
   "source": [
    "# Submitting"
   ]
  },
  {
   "cell_type": "code",
   "execution_count": 519,
   "metadata": {
    "ExecuteTime": {
     "end_time": "2022-11-07T17:35:19.928067Z",
     "start_time": "2022-11-07T17:34:36.091090Z"
    }
   },
   "outputs": [
    {
     "name": "stdout",
     "output_type": "stream",
     "text": [
      "CPU times: user 24.8 s, sys: 4.38 s, total: 29.2 s\n",
      "Wall time: 2min 20s\n"
     ]
    },
    {
     "name": "stderr",
     "output_type": "stream",
     "text": [
      "/home/user/.local/lib/python3.10/site-packages/sklearn/preprocessing/_label.py:154: DataConversionWarning: A column-vector y was passed when a 1d array was expected. Please change the shape of y to (n_samples, ), for example using ravel().\n",
      "  y = column_or_1d(y, warn=True)\n"
     ]
    },
    {
     "data": {
      "text/plain": [
       "1.0"
      ]
     },
     "execution_count": 519,
     "metadata": {},
     "output_type": "execute_result"
    }
   ],
   "source": [
    "%%time\n",
    "SEED = 212121\n",
    "knn = Pipeline([('dropper', FeaturesFilter([i for i, c in enumerate(X_train.columns) if '=' not in c and 'distance' not in c])),\n",
    "                ('scaler', StandardScaler()),\n",
    "                ('knn', KNeighborsClassifier(8, weights='distance', p=2))])\n",
    "logreg = Pipeline([('scaler', StandardScaler()),\n",
    "                   ('logreg', LogisticRegression(penalty='l1', C=0.5, solver='liblinear', random_state=SEED))])\n",
    "svc = Pipeline([('dropper', FeaturesFilter([i for i, c in enumerate(X_train.columns) if 'distance' not in c])),\n",
    "                ('scaler', StandardScaler()),\n",
    "                ('svc', SVC(C=2.5, kernel='rbf', random_state=SEED))])\n",
    "mlp = Pipeline([('min_max', StandardScaler()),\n",
    "                ('mlp', MLPClassifier(max_iter=500, hidden_layer_sizes=(50, ), activation='tanh', random_state=SEED))])\n",
    "rf = Pipeline([('dropper', FeaturesFilter([i for i, c in enumerate(X_train.columns) if 'distance' not in c and '=' not in c])),\n",
    "               ('rf', RandomForestClassifier(n_estimators=500, max_features='log2', min_samples_split=3, random_state=228))])\n",
    "lgbm_1 = LGBMClassifier(boosting_type='dart', learning_rate=0.2, n_estimators=150, random_state=SEED)\n",
    "lgbm_2 = Pipeline([\n",
    "    ('dropper', FeaturesFilter([i for i, c in enumerate(X_train.columns) if '=' not in c])),\n",
    "    ('lgbm', LGBMClassifier(boosting_type='gbdt', learning_rate=0.1, n_estimators=200, random_state=SEED + 1))\n",
    "])\n",
    "lgbm_3 = LGBMClassifier(boosting_type='gbdt', learning_rate=0.1, n_estimators=500, random_state=SEED + 2)\n",
    "ctb = CatBoostClassifier(n_estimators=300, depth=6, random_state=228, verbose=False)\n",
    "\n",
    "estimators = [\n",
    "    ('knn', knn),\n",
    "    ('logreg', logreg),\n",
    "    ('svc', svc),\n",
    "    ('mlp', mlp),\n",
    "    ('rf', rf),\n",
    "    ('lgbm_1', lgbm_1),\n",
    "    ('lgbm_2', lgbm_2),\n",
    "#     ('lgbm_3', lgbm_3),\n",
    "    ('ctb', ctb)\n",
    "]\n",
    "clf = StackingClassifier(estimators=estimators, final_estimator=CatBoostClassifier(depth=2, verbose=False, random_state=SEED), n_jobs=-1)\n",
    "clf.fit(X_train.values, y_train)\n",
    "recall_score(y_train, clf.predict(X_train.values), average=\"macro\", zero_division=0)"
   ]
  },
  {
   "cell_type": "code",
   "execution_count": 520,
   "metadata": {},
   "outputs": [
    {
     "name": "stderr",
     "output_type": "stream",
     "text": [
      "/home/user/.local/lib/python3.10/site-packages/sklearn/preprocessing/_label.py:154: DataConversionWarning: A column-vector y was passed when a 1d array was expected. Please change the shape of y to (n_samples, ), for example using ravel().\n",
      "  y = column_or_1d(y, warn=True)\n"
     ]
    },
    {
     "data": {
      "text/html": [
       "<div>\n",
       "<style scoped>\n",
       "    .dataframe tbody tr th:only-of-type {\n",
       "        vertical-align: middle;\n",
       "    }\n",
       "\n",
       "    .dataframe tbody tr th {\n",
       "        vertical-align: top;\n",
       "    }\n",
       "\n",
       "    .dataframe thead th {\n",
       "        text-align: right;\n",
       "    }\n",
       "</style>\n",
       "<table border=\"1\" class=\"dataframe\">\n",
       "  <thead>\n",
       "    <tr style=\"text-align: right;\">\n",
       "      <th></th>\n",
       "      <th>id</th>\n",
       "      <th>crop</th>\n",
       "    </tr>\n",
       "  </thead>\n",
       "  <tbody>\n",
       "    <tr>\n",
       "      <th>0</th>\n",
       "      <td>611</td>\n",
       "      <td>3</td>\n",
       "    </tr>\n",
       "    <tr>\n",
       "      <th>1</th>\n",
       "      <td>6417</td>\n",
       "      <td>2</td>\n",
       "    </tr>\n",
       "    <tr>\n",
       "      <th>2</th>\n",
       "      <td>3352</td>\n",
       "      <td>3</td>\n",
       "    </tr>\n",
       "    <tr>\n",
       "      <th>3</th>\n",
       "      <td>4224</td>\n",
       "      <td>1</td>\n",
       "    </tr>\n",
       "    <tr>\n",
       "      <th>4</th>\n",
       "      <td>3102</td>\n",
       "      <td>6</td>\n",
       "    </tr>\n",
       "    <tr>\n",
       "      <th>...</th>\n",
       "      <td>...</td>\n",
       "      <td>...</td>\n",
       "    </tr>\n",
       "    <tr>\n",
       "      <th>2066</th>\n",
       "      <td>1743</td>\n",
       "      <td>5</td>\n",
       "    </tr>\n",
       "    <tr>\n",
       "      <th>2067</th>\n",
       "      <td>3968</td>\n",
       "      <td>3</td>\n",
       "    </tr>\n",
       "    <tr>\n",
       "      <th>2068</th>\n",
       "      <td>3809</td>\n",
       "      <td>2</td>\n",
       "    </tr>\n",
       "    <tr>\n",
       "      <th>2069</th>\n",
       "      <td>5485</td>\n",
       "      <td>6</td>\n",
       "    </tr>\n",
       "    <tr>\n",
       "      <th>2070</th>\n",
       "      <td>5899</td>\n",
       "      <td>0</td>\n",
       "    </tr>\n",
       "  </tbody>\n",
       "</table>\n",
       "<p>2071 rows × 2 columns</p>\n",
       "</div>"
      ],
      "text/plain": [
       "        id  crop\n",
       "0      611     3\n",
       "1     6417     2\n",
       "2     3352     3\n",
       "3     4224     1\n",
       "4     3102     6\n",
       "...    ...   ...\n",
       "2066  1743     5\n",
       "2067  3968     3\n",
       "2068  3809     2\n",
       "2069  5485     6\n",
       "2070  5899     0\n",
       "\n",
       "[2071 rows x 2 columns]"
      ]
     },
     "execution_count": 520,
     "metadata": {},
     "output_type": "execute_result"
    }
   ],
   "source": [
    "preds = pd.read_csv('sample_solution.csv')\n",
    "preds['crop'] = clf.predict(X_test.values)\n",
    "preds"
   ]
  },
  {
   "cell_type": "code",
   "execution_count": 521,
   "metadata": {},
   "outputs": [],
   "source": [
    "preds.to_csv('stacking_prediction_31.csv', index=False)"
   ]
  },
  {
   "cell_type": "code",
   "execution_count": 466,
   "metadata": {},
   "outputs": [
    {
     "data": {
      "text/html": [
       "<div>\n",
       "<style scoped>\n",
       "    .dataframe tbody tr th:only-of-type {\n",
       "        vertical-align: middle;\n",
       "    }\n",
       "\n",
       "    .dataframe tbody tr th {\n",
       "        vertical-align: top;\n",
       "    }\n",
       "\n",
       "    .dataframe thead th {\n",
       "        text-align: right;\n",
       "    }\n",
       "</style>\n",
       "<table border=\"1\" class=\"dataframe\">\n",
       "  <thead>\n",
       "    <tr style=\"text-align: right;\">\n",
       "      <th></th>\n",
       "      <th>id</th>\n",
       "      <th>crop</th>\n",
       "    </tr>\n",
       "  </thead>\n",
       "  <tbody>\n",
       "    <tr>\n",
       "      <th>0</th>\n",
       "      <td>611</td>\n",
       "      <td>3</td>\n",
       "    </tr>\n",
       "    <tr>\n",
       "      <th>1</th>\n",
       "      <td>6417</td>\n",
       "      <td>2</td>\n",
       "    </tr>\n",
       "    <tr>\n",
       "      <th>2</th>\n",
       "      <td>3352</td>\n",
       "      <td>3</td>\n",
       "    </tr>\n",
       "    <tr>\n",
       "      <th>3</th>\n",
       "      <td>4224</td>\n",
       "      <td>1</td>\n",
       "    </tr>\n",
       "    <tr>\n",
       "      <th>4</th>\n",
       "      <td>3102</td>\n",
       "      <td>6</td>\n",
       "    </tr>\n",
       "    <tr>\n",
       "      <th>...</th>\n",
       "      <td>...</td>\n",
       "      <td>...</td>\n",
       "    </tr>\n",
       "    <tr>\n",
       "      <th>2066</th>\n",
       "      <td>1743</td>\n",
       "      <td>5</td>\n",
       "    </tr>\n",
       "    <tr>\n",
       "      <th>2067</th>\n",
       "      <td>3968</td>\n",
       "      <td>3</td>\n",
       "    </tr>\n",
       "    <tr>\n",
       "      <th>2068</th>\n",
       "      <td>3809</td>\n",
       "      <td>2</td>\n",
       "    </tr>\n",
       "    <tr>\n",
       "      <th>2069</th>\n",
       "      <td>5485</td>\n",
       "      <td>6</td>\n",
       "    </tr>\n",
       "    <tr>\n",
       "      <th>2070</th>\n",
       "      <td>5899</td>\n",
       "      <td>0</td>\n",
       "    </tr>\n",
       "  </tbody>\n",
       "</table>\n",
       "<p>2071 rows × 2 columns</p>\n",
       "</div>"
      ],
      "text/plain": [
       "        id  crop\n",
       "0      611     3\n",
       "1     6417     2\n",
       "2     3352     3\n",
       "3     4224     1\n",
       "4     3102     6\n",
       "...    ...   ...\n",
       "2066  1743     5\n",
       "2067  3968     3\n",
       "2068  3809     2\n",
       "2069  5485     6\n",
       "2070  5899     0\n",
       "\n",
       "[2071 rows x 2 columns]"
      ]
     },
     "execution_count": 466,
     "metadata": {},
     "output_type": "execute_result"
    }
   ],
   "source": [
    "preds_1 = pd.read_csv('stacking_prediction_23.csv')\n",
    "preds_2 = pd.read_csv('stacking_prediction_24.csv')\n",
    "preds_1"
   ]
  },
  {
   "cell_type": "code",
   "execution_count": 467,
   "metadata": {},
   "outputs": [
    {
     "data": {
      "text/plain": [
       "True     2056\n",
       "False      15\n",
       "Name: crop, dtype: int64"
      ]
     },
     "execution_count": 467,
     "metadata": {},
     "output_type": "execute_result"
    }
   ],
   "source": [
    "(preds_1['crop'] == preds_2['crop']).value_counts()"
   ]
  },
  {
   "cell_type": "markdown",
   "metadata": {},
   "source": [
    "# Extra Validation"
   ]
  },
  {
   "cell_type": "code",
   "execution_count": 367,
   "metadata": {
    "scrolled": true
   },
   "outputs": [
    {
     "name": "stdout",
     "output_type": "stream",
     "text": [
      "SCORE: 0.9810606060606061\n",
      "SCORE: 0.9634857895727461\n",
      "SCORE: 0.9637445887445887\n",
      "SCORE: 0.9699792960662525\n",
      "SCORE: 0.9580745341614907\n",
      "SCORE: 0.9637445887445887\n",
      "SCORE: 0.9751082251082251\n",
      "SCORE: 0.9756493506493508\n",
      "SCORE: 0.9759316770186335\n",
      "SCORE: 0.9640269151138715\n",
      "SCORE: 0.9699792960662525\n",
      "SCORE: 0.9878364389233955\n",
      "SCORE: 0.9759316770186335\n",
      "SCORE: 0.9878364389233953\n",
      "SCORE: 0.9940476190476192\n",
      "SCORE: 0.9875541125541127\n",
      "SCORE: 0.9821428571428571\n",
      "SCORE: 0.9634857895727461\n",
      "SCORE: 0.9816252587991718\n",
      "SCORE: 0.9637445887445887\n",
      "SCORE: 0.9875541125541124\n",
      "SCORE: 0.9880952380952381\n",
      "SCORE: 0.9629446640316205\n",
      "SCORE: 0.9816252587991718\n",
      "SCORE: 0.9626651609260305\n",
      "SCORE: 0.975887445887446\n",
      "SCORE: 0.9870129870129871\n",
      "SCORE: 0.9815306122448979\n",
      "SCORE: 0.9392640692640694\n",
      "SCORE: 0.9875541125541124\n",
      "CPU times: user 7min 59s, sys: 36.8 s, total: 8min 35s\n",
      "Wall time: 1min 37s\n"
     ]
    },
    {
     "data": {
      "text/plain": [
       "(0.9746374436467604,\n",
       " [0.9810606060606061,\n",
       "  0.9634857895727461,\n",
       "  0.9637445887445887,\n",
       "  0.9699792960662525,\n",
       "  0.9580745341614907,\n",
       "  0.9637445887445887,\n",
       "  0.9751082251082251,\n",
       "  0.9756493506493508,\n",
       "  0.9759316770186335,\n",
       "  0.9640269151138715,\n",
       "  0.9699792960662525,\n",
       "  0.9878364389233955,\n",
       "  0.9759316770186335,\n",
       "  0.9878364389233953,\n",
       "  0.9940476190476192,\n",
       "  0.9875541125541127,\n",
       "  0.9821428571428571,\n",
       "  0.9634857895727461,\n",
       "  0.9816252587991718,\n",
       "  0.9637445887445887,\n",
       "  0.9875541125541124,\n",
       "  0.9880952380952381,\n",
       "  0.9629446640316205,\n",
       "  0.9816252587991718,\n",
       "  0.9626651609260305,\n",
       "  0.975887445887446,\n",
       "  0.9870129870129871,\n",
       "  0.9815306122448979,\n",
       "  0.9392640692640694,\n",
       "  0.9875541125541124])"
      ]
     },
     "execution_count": 367,
     "metadata": {},
     "output_type": "execute_result"
    }
   ],
   "source": [
    "%%time\n",
    "# PUBLIC: 0.977914\n",
    "# k = 10\n",
    "lgbm = Pipeline([\n",
    "    ('dropper', FeaturesFilter([i for i, c in enumerate(X_train.columns) if '=' not in c])),\n",
    "    ('lgbm', LGBMClassifier(boosting_type='gbdt', learning_rate=0.1, n_estimators=200, random_state=18))\n",
    "])\n",
    "scores, model = cross_val_score(lgbm, X_train, y_train, random_state=18, n_splits=30)\n",
    "np.mean(scores), scores"
   ]
  },
  {
   "cell_type": "code",
   "execution_count": 371,
   "metadata": {
    "scrolled": true
   },
   "outputs": [
    {
     "name": "stdout",
     "output_type": "stream",
     "text": [
      "SCORE: 0.9748494259363824\n",
      "SCORE: 0.9634857895727461\n",
      "SCORE: 0.9637445887445887\n",
      "SCORE: 0.9759316770186335\n",
      "SCORE: 0.9580745341614907\n",
      "SCORE: 0.9696969696969696\n",
      "SCORE: 0.9688970449840015\n",
      "SCORE: 0.9756493506493508\n",
      "SCORE: 0.9759316770186335\n",
      "SCORE: 0.9640269151138715\n",
      "SCORE: 0.9580745341614907\n",
      "SCORE: 0.9878364389233955\n",
      "SCORE: 0.9821428571428571\n",
      "SCORE: 0.9818840579710145\n",
      "SCORE: 0.9940476190476192\n",
      "SCORE: 0.9810606060606062\n",
      "SCORE: 0.9821428571428571\n",
      "SCORE: 0.9629446640316207\n",
      "SCORE: 0.9816252587991718\n",
      "SCORE: 0.9577922077922079\n",
      "SCORE: 0.9756493506493508\n",
      "SCORE: 0.9880952380952381\n",
      "SCORE: 0.9694381705251269\n",
      "SCORE: 0.9756728778467909\n",
      "SCORE: 0.9626651609260305\n",
      "SCORE: 0.975887445887446\n",
      "SCORE: 0.9870129870129871\n",
      "SCORE: 0.987482993197279\n",
      "SCORE: 0.9327705627705628\n",
      "SCORE: 0.9875541125541124\n",
      "CPU times: user 6min 20s, sys: 33.5 s, total: 6min 54s\n",
      "Wall time: 1min 23s\n"
     ]
    },
    {
     "data": {
      "text/plain": [
       "(0.9734022657811477,\n",
       " [0.9748494259363824,\n",
       "  0.9634857895727461,\n",
       "  0.9637445887445887,\n",
       "  0.9759316770186335,\n",
       "  0.9580745341614907,\n",
       "  0.9696969696969696,\n",
       "  0.9688970449840015,\n",
       "  0.9756493506493508,\n",
       "  0.9759316770186335,\n",
       "  0.9640269151138715,\n",
       "  0.9580745341614907,\n",
       "  0.9878364389233955,\n",
       "  0.9821428571428571,\n",
       "  0.9818840579710145,\n",
       "  0.9940476190476192,\n",
       "  0.9810606060606062,\n",
       "  0.9821428571428571,\n",
       "  0.9629446640316207,\n",
       "  0.9816252587991718,\n",
       "  0.9577922077922079,\n",
       "  0.9756493506493508,\n",
       "  0.9880952380952381,\n",
       "  0.9694381705251269,\n",
       "  0.9756728778467909,\n",
       "  0.9626651609260305,\n",
       "  0.975887445887446,\n",
       "  0.9870129870129871,\n",
       "  0.987482993197279,\n",
       "  0.9327705627705628,\n",
       "  0.9875541125541124])"
      ]
     },
     "execution_count": 371,
     "metadata": {},
     "output_type": "execute_result"
    }
   ],
   "source": [
    "%%time\n",
    "# PUBLIC: ???\n",
    "# k = 10\n",
    "lgbm = Pipeline([\n",
    "    ('dropper', FeaturesFilter([i for i, c in enumerate(X_train.columns) if '=' not in c])),\n",
    "    ('lgbm', LGBMClassifier(boosting_type='gbdt', learning_rate=0.1, n_estimators=100, random_state=18))\n",
    "])\n",
    "scores, model = cross_val_score(lgbm, X_train, y_train, random_state=18, n_splits=30)\n",
    "np.mean(scores), scores"
   ]
  },
  {
   "cell_type": "code",
   "execution_count": 502,
   "metadata": {},
   "outputs": [
    {
     "name": "stderr",
     "output_type": "stream",
     "text": [
      "/home/user/.local/lib/python3.10/site-packages/sklearn/preprocessing/_label.py:154: DataConversionWarning: A column-vector y was passed when a 1d array was expected. Please change the shape of y to (n_samples, ), for example using ravel().\n",
      "  y = column_or_1d(y, warn=True)\n"
     ]
    },
    {
     "name": "stdout",
     "output_type": "stream",
     "text": [
      "SCORE: 0.9810606060606061\n"
     ]
    },
    {
     "name": "stderr",
     "output_type": "stream",
     "text": [
      "/home/user/.local/lib/python3.10/site-packages/sklearn/preprocessing/_label.py:154: DataConversionWarning: A column-vector y was passed when a 1d array was expected. Please change the shape of y to (n_samples, ), for example using ravel().\n",
      "  y = column_or_1d(y, warn=True)\n"
     ]
    },
    {
     "name": "stdout",
     "output_type": "stream",
     "text": [
      "SCORE: 0.9580745341614907\n"
     ]
    },
    {
     "name": "stderr",
     "output_type": "stream",
     "text": [
      "/home/user/.local/lib/python3.10/site-packages/sklearn/preprocessing/_label.py:154: DataConversionWarning: A column-vector y was passed when a 1d array was expected. Please change the shape of y to (n_samples, ), for example using ravel().\n",
      "  y = column_or_1d(y, warn=True)\n"
     ]
    },
    {
     "name": "stdout",
     "output_type": "stream",
     "text": [
      "SCORE: 0.9696969696969698\n"
     ]
    },
    {
     "name": "stderr",
     "output_type": "stream",
     "text": [
      "/home/user/.local/lib/python3.10/site-packages/sklearn/preprocessing/_label.py:154: DataConversionWarning: A column-vector y was passed when a 1d array was expected. Please change the shape of y to (n_samples, ), for example using ravel().\n",
      "  y = column_or_1d(y, warn=True)\n"
     ]
    },
    {
     "name": "stdout",
     "output_type": "stream",
     "text": [
      "SCORE: 0.9880952380952381\n"
     ]
    },
    {
     "name": "stderr",
     "output_type": "stream",
     "text": [
      "/home/user/.local/lib/python3.10/site-packages/sklearn/preprocessing/_label.py:154: DataConversionWarning: A column-vector y was passed when a 1d array was expected. Please change the shape of y to (n_samples, ), for example using ravel().\n",
      "  y = column_or_1d(y, warn=True)\n"
     ]
    },
    {
     "name": "stdout",
     "output_type": "stream",
     "text": [
      "SCORE: 0.9640269151138716\n"
     ]
    },
    {
     "name": "stderr",
     "output_type": "stream",
     "text": [
      "/home/user/.local/lib/python3.10/site-packages/sklearn/preprocessing/_label.py:154: DataConversionWarning: A column-vector y was passed when a 1d array was expected. Please change the shape of y to (n_samples, ), for example using ravel().\n",
      "  y = column_or_1d(y, warn=True)\n"
     ]
    },
    {
     "name": "stdout",
     "output_type": "stream",
     "text": [
      "SCORE: 0.9691558441558442\n"
     ]
    },
    {
     "name": "stderr",
     "output_type": "stream",
     "text": [
      "/home/user/.local/lib/python3.10/site-packages/sklearn/preprocessing/_label.py:154: DataConversionWarning: A column-vector y was passed when a 1d array was expected. Please change the shape of y to (n_samples, ), for example using ravel().\n",
      "  y = column_or_1d(y, warn=True)\n"
     ]
    },
    {
     "name": "stdout",
     "output_type": "stream",
     "text": [
      "SCORE: 0.9875541125541124\n"
     ]
    },
    {
     "name": "stderr",
     "output_type": "stream",
     "text": [
      "/home/user/.local/lib/python3.10/site-packages/sklearn/preprocessing/_label.py:154: DataConversionWarning: A column-vector y was passed when a 1d array was expected. Please change the shape of y to (n_samples, ), for example using ravel().\n",
      "  y = column_or_1d(y, warn=True)\n"
     ]
    },
    {
     "name": "stdout",
     "output_type": "stream",
     "text": [
      "SCORE: 0.9813429324298889\n"
     ]
    },
    {
     "name": "stderr",
     "output_type": "stream",
     "text": [
      "/home/user/.local/lib/python3.10/site-packages/sklearn/preprocessing/_label.py:154: DataConversionWarning: A column-vector y was passed when a 1d array was expected. Please change the shape of y to (n_samples, ), for example using ravel().\n",
      "  y = column_or_1d(y, warn=True)\n"
     ]
    },
    {
     "name": "stdout",
     "output_type": "stream",
     "text": [
      "SCORE: 0.9818840579710145\n"
     ]
    },
    {
     "name": "stderr",
     "output_type": "stream",
     "text": [
      "/home/user/.local/lib/python3.10/site-packages/sklearn/preprocessing/_label.py:154: DataConversionWarning: A column-vector y was passed when a 1d array was expected. Please change the shape of y to (n_samples, ), for example using ravel().\n",
      "  y = column_or_1d(y, warn=True)\n"
     ]
    },
    {
     "name": "stdout",
     "output_type": "stream",
     "text": [
      "SCORE: 0.9761904761904762\n"
     ]
    },
    {
     "name": "stderr",
     "output_type": "stream",
     "text": [
      "/home/user/.local/lib/python3.10/site-packages/sklearn/preprocessing/_label.py:154: DataConversionWarning: A column-vector y was passed when a 1d array was expected. Please change the shape of y to (n_samples, ), for example using ravel().\n",
      "  y = column_or_1d(y, warn=True)\n"
     ]
    },
    {
     "name": "stdout",
     "output_type": "stream",
     "text": [
      "SCORE: 0.9878364389233955\n"
     ]
    },
    {
     "name": "stderr",
     "output_type": "stream",
     "text": [
      "/home/user/.local/lib/python3.10/site-packages/sklearn/preprocessing/_label.py:154: DataConversionWarning: A column-vector y was passed when a 1d array was expected. Please change the shape of y to (n_samples, ), for example using ravel().\n",
      "  y = column_or_1d(y, warn=True)\n"
     ]
    },
    {
     "name": "stdout",
     "output_type": "stream",
     "text": [
      "SCORE: 0.9937888198757764\n"
     ]
    },
    {
     "name": "stderr",
     "output_type": "stream",
     "text": [
      "/home/user/.local/lib/python3.10/site-packages/sklearn/preprocessing/_label.py:154: DataConversionWarning: A column-vector y was passed when a 1d array was expected. Please change the shape of y to (n_samples, ), for example using ravel().\n",
      "  y = column_or_1d(y, warn=True)\n"
     ]
    },
    {
     "name": "stdout",
     "output_type": "stream",
     "text": [
      "SCORE: 0.9759316770186335\n"
     ]
    },
    {
     "name": "stderr",
     "output_type": "stream",
     "text": [
      "/home/user/.local/lib/python3.10/site-packages/sklearn/preprocessing/_label.py:154: DataConversionWarning: A column-vector y was passed when a 1d array was expected. Please change the shape of y to (n_samples, ), for example using ravel().\n",
      "  y = column_or_1d(y, warn=True)\n"
     ]
    },
    {
     "name": "stdout",
     "output_type": "stream",
     "text": [
      "SCORE: 0.9878364389233953\n"
     ]
    },
    {
     "name": "stderr",
     "output_type": "stream",
     "text": [
      "/home/user/.local/lib/python3.10/site-packages/sklearn/preprocessing/_label.py:154: DataConversionWarning: A column-vector y was passed when a 1d array was expected. Please change the shape of y to (n_samples, ), for example using ravel().\n",
      "  y = column_or_1d(y, warn=True)\n"
     ]
    },
    {
     "name": "stdout",
     "output_type": "stream",
     "text": [
      "SCORE: 0.9940476190476192\n"
     ]
    },
    {
     "name": "stderr",
     "output_type": "stream",
     "text": [
      "/home/user/.local/lib/python3.10/site-packages/sklearn/preprocessing/_label.py:154: DataConversionWarning: A column-vector y was passed when a 1d array was expected. Please change the shape of y to (n_samples, ), for example using ravel().\n",
      "  y = column_or_1d(y, warn=True)\n"
     ]
    },
    {
     "name": "stdout",
     "output_type": "stream",
     "text": [
      "SCORE: 0.9816017316017316\n"
     ]
    },
    {
     "name": "stderr",
     "output_type": "stream",
     "text": [
      "/home/user/.local/lib/python3.10/site-packages/sklearn/preprocessing/_label.py:154: DataConversionWarning: A column-vector y was passed when a 1d array was expected. Please change the shape of y to (n_samples, ), for example using ravel().\n",
      "  y = column_or_1d(y, warn=True)\n"
     ]
    },
    {
     "name": "stdout",
     "output_type": "stream",
     "text": [
      "SCORE: 0.9699792960662527\n"
     ]
    },
    {
     "name": "stderr",
     "output_type": "stream",
     "text": [
      "/home/user/.local/lib/python3.10/site-packages/sklearn/preprocessing/_label.py:154: DataConversionWarning: A column-vector y was passed when a 1d array was expected. Please change the shape of y to (n_samples, ), for example using ravel().\n",
      "  y = column_or_1d(y, warn=True)\n"
     ]
    },
    {
     "name": "stdout",
     "output_type": "stream",
     "text": [
      "SCORE: 0.9694381705251269\n"
     ]
    },
    {
     "name": "stderr",
     "output_type": "stream",
     "text": [
      "/home/user/.local/lib/python3.10/site-packages/sklearn/preprocessing/_label.py:154: DataConversionWarning: A column-vector y was passed when a 1d array was expected. Please change the shape of y to (n_samples, ), for example using ravel().\n",
      "  y = column_or_1d(y, warn=True)\n"
     ]
    },
    {
     "name": "stdout",
     "output_type": "stream",
     "text": [
      "SCORE: 0.9878364389233955\n"
     ]
    },
    {
     "name": "stderr",
     "output_type": "stream",
     "text": [
      "/home/user/.local/lib/python3.10/site-packages/sklearn/preprocessing/_label.py:154: DataConversionWarning: A column-vector y was passed when a 1d array was expected. Please change the shape of y to (n_samples, ), for example using ravel().\n",
      "  y = column_or_1d(y, warn=True)\n"
     ]
    },
    {
     "name": "stdout",
     "output_type": "stream",
     "text": [
      "SCORE: 0.9756493506493508\n"
     ]
    },
    {
     "name": "stderr",
     "output_type": "stream",
     "text": [
      "/home/user/.local/lib/python3.10/site-packages/sklearn/preprocessing/_label.py:154: DataConversionWarning: A column-vector y was passed when a 1d array was expected. Please change the shape of y to (n_samples, ), for example using ravel().\n",
      "  y = column_or_1d(y, warn=True)\n"
     ]
    },
    {
     "name": "stdout",
     "output_type": "stream",
     "text": [
      "SCORE: 0.9875541125541127\n"
     ]
    },
    {
     "name": "stderr",
     "output_type": "stream",
     "text": [
      "/home/user/.local/lib/python3.10/site-packages/sklearn/preprocessing/_label.py:154: DataConversionWarning: A column-vector y was passed when a 1d array was expected. Please change the shape of y to (n_samples, ), for example using ravel().\n",
      "  y = column_or_1d(y, warn=True)\n"
     ]
    },
    {
     "name": "stdout",
     "output_type": "stream",
     "text": [
      "SCORE: 0.9696969696969696\n"
     ]
    },
    {
     "name": "stderr",
     "output_type": "stream",
     "text": [
      "/home/user/.local/lib/python3.10/site-packages/sklearn/preprocessing/_label.py:154: DataConversionWarning: A column-vector y was passed when a 1d array was expected. Please change the shape of y to (n_samples, ), for example using ravel().\n",
      "  y = column_or_1d(y, warn=True)\n"
     ]
    },
    {
     "name": "stdout",
     "output_type": "stream",
     "text": [
      "SCORE: 0.9569922830792397\n"
     ]
    },
    {
     "name": "stderr",
     "output_type": "stream",
     "text": [
      "/home/user/.local/lib/python3.10/site-packages/sklearn/preprocessing/_label.py:154: DataConversionWarning: A column-vector y was passed when a 1d array was expected. Please change the shape of y to (n_samples, ), for example using ravel().\n",
      "  y = column_or_1d(y, warn=True)\n"
     ]
    },
    {
     "name": "stdout",
     "output_type": "stream",
     "text": [
      "SCORE: 0.9878364389233955\n"
     ]
    },
    {
     "name": "stderr",
     "output_type": "stream",
     "text": [
      "/home/user/.local/lib/python3.10/site-packages/sklearn/preprocessing/_label.py:154: DataConversionWarning: A column-vector y was passed when a 1d array was expected. Please change the shape of y to (n_samples, ), for example using ravel().\n",
      "  y = column_or_1d(y, warn=True)\n"
     ]
    },
    {
     "name": "stdout",
     "output_type": "stream",
     "text": [
      "SCORE: 0.9626651609260305\n"
     ]
    },
    {
     "name": "stderr",
     "output_type": "stream",
     "text": [
      "/home/user/.local/lib/python3.10/site-packages/sklearn/preprocessing/_label.py:154: DataConversionWarning: A column-vector y was passed when a 1d array was expected. Please change the shape of y to (n_samples, ), for example using ravel().\n",
      "  y = column_or_1d(y, warn=True)\n"
     ]
    },
    {
     "name": "stdout",
     "output_type": "stream",
     "text": [
      "SCORE: 0.9766666666666666\n"
     ]
    },
    {
     "name": "stderr",
     "output_type": "stream",
     "text": [
      "/home/user/.local/lib/python3.10/site-packages/sklearn/preprocessing/_label.py:154: DataConversionWarning: A column-vector y was passed when a 1d array was expected. Please change the shape of y to (n_samples, ), for example using ravel().\n",
      "  y = column_or_1d(y, warn=True)\n"
     ]
    },
    {
     "name": "stdout",
     "output_type": "stream",
     "text": [
      "SCORE: 0.9639177489177488\n"
     ]
    },
    {
     "name": "stderr",
     "output_type": "stream",
     "text": [
      "/home/user/.local/lib/python3.10/site-packages/sklearn/preprocessing/_label.py:154: DataConversionWarning: A column-vector y was passed when a 1d array was expected. Please change the shape of y to (n_samples, ), for example using ravel().\n",
      "  y = column_or_1d(y, warn=True)\n"
     ]
    },
    {
     "name": "stdout",
     "output_type": "stream",
     "text": [
      "SCORE: 0.9942857142857143\n"
     ]
    },
    {
     "name": "stderr",
     "output_type": "stream",
     "text": [
      "/home/user/.local/lib/python3.10/site-packages/sklearn/preprocessing/_label.py:154: DataConversionWarning: A column-vector y was passed when a 1d array was expected. Please change the shape of y to (n_samples, ), for example using ravel().\n",
      "  y = column_or_1d(y, warn=True)\n"
     ]
    },
    {
     "name": "stdout",
     "output_type": "stream",
     "text": [
      "SCORE: 0.9455194805194804\n",
      "SCORE: 0.9805194805194805\n",
      "CPU times: user 8min 32s, sys: 48.8 s, total: 9min 21s\n",
      "Wall time: 57min 41s\n"
     ]
    },
    {
     "name": "stderr",
     "output_type": "stream",
     "text": [
      "/home/user/.local/lib/python3.10/site-packages/sklearn/preprocessing/_label.py:154: DataConversionWarning: A column-vector y was passed when a 1d array was expected. Please change the shape of y to (n_samples, ), for example using ravel().\n",
      "  y = column_or_1d(y, warn=True)\n"
     ]
    },
    {
     "data": {
      "text/plain": [
       "(0.9768893908024341,\n",
       " [0.9810606060606061,\n",
       "  0.9580745341614907,\n",
       "  0.9696969696969698,\n",
       "  0.9880952380952381,\n",
       "  0.9640269151138716,\n",
       "  0.9691558441558442,\n",
       "  0.9875541125541124,\n",
       "  0.9813429324298889,\n",
       "  0.9818840579710145,\n",
       "  0.9761904761904762,\n",
       "  0.9878364389233955,\n",
       "  0.9937888198757764,\n",
       "  0.9759316770186335,\n",
       "  0.9878364389233953,\n",
       "  0.9940476190476192,\n",
       "  0.9816017316017316,\n",
       "  0.9699792960662527,\n",
       "  0.9694381705251269,\n",
       "  0.9878364389233955,\n",
       "  0.9756493506493508,\n",
       "  0.9875541125541127,\n",
       "  0.9696969696969696,\n",
       "  0.9569922830792397,\n",
       "  0.9878364389233955,\n",
       "  0.9626651609260305,\n",
       "  0.9766666666666666,\n",
       "  0.9639177489177488,\n",
       "  0.9942857142857143,\n",
       "  0.9455194805194804,\n",
       "  0.9805194805194805])"
      ]
     },
     "execution_count": 502,
     "metadata": {},
     "output_type": "execute_result"
    }
   ],
   "source": [
    "%%time\n",
    "# k = 7!!!!!!!!!!!!!\n",
    "SEED = 228\n",
    "knn = Pipeline([('dropper', FeaturesFilter([i for i, c in enumerate(X_train.columns) if '=' not in c and 'distance' not in c])),\n",
    "                ('scaler', StandardScaler()),\n",
    "                ('knn', KNeighborsClassifier(8, weights='distance', p=2))])\n",
    "logreg = Pipeline([('scaler', StandardScaler()),\n",
    "                   ('logreg', LogisticRegression(penalty='l1', C=0.5, solver='liblinear', random_state=SEED))])\n",
    "svc = Pipeline([('dropper', FeaturesFilter([i for i, c in enumerate(X_train.columns) if 'distance' not in c])),\n",
    "                ('scaler', StandardScaler()),\n",
    "                ('svc', SVC(C=2.5, kernel='rbf', random_state=SEED))])\n",
    "mlp = Pipeline([('min_max', StandardScaler()),\n",
    "                ('mlp', MLPClassifier(max_iter=500, hidden_layer_sizes=(50, ), activation='tanh', random_state=SEED))])\n",
    "rf = Pipeline([('dropper', FeaturesFilter([i for i, c in enumerate(X_train.columns) if 'distance' not in c and '=' not in c])),\n",
    "               ('rf', RandomForestClassifier(n_estimators=500, max_features='log2', min_samples_split=3, random_state=228))])\n",
    "lgbm_1 = LGBMClassifier(boosting_type='dart', learning_rate=0.2, n_estimators=150, random_state=SEED)\n",
    "lgbm_2 = Pipeline([\n",
    "    ('dropper', FeaturesFilter([i for i, c in enumerate(X_train.columns) if '=' not in c])),\n",
    "    ('lgbm', LGBMClassifier(boosting_type='gbdt', learning_rate=0.1, n_estimators=200, random_state=SEED + 1))\n",
    "])\n",
    "lgbm_3 = LGBMClassifier(boosting_type='gbdt', learning_rate=0.1, n_estimators=500, random_state=SEED + 2)\n",
    "ctb = CatBoostClassifier(n_estimators=300, depth=6, random_state=228, verbose=False)\n",
    "\n",
    "estimators = [\n",
    "    ('knn', knn),\n",
    "    ('logreg', logreg),\n",
    "    ('svc', svc),\n",
    "    ('mlp', mlp),\n",
    "    ('rf', rf),\n",
    "    ('lgbm_1', lgbm_1),\n",
    "    ('lgbm_2', lgbm_2),\n",
    "#     ('lgbm_3', lgbm_3),\n",
    "    ('ctb', ctb)\n",
    "]\n",
    "clf = StackingClassifier(estimators=estimators, final_estimator=CatBoostClassifier(depth=2, verbose=False, random_state=SEED), n_jobs=-1)\n",
    "scores, model = cross_val_score(clf, X_train, y_train, random_state=18, n_splits=30)\n",
    "np.mean(scores), scores"
   ]
  },
  {
   "cell_type": "code",
   "execution_count": 518,
   "metadata": {},
   "outputs": [
    {
     "name": "stderr",
     "output_type": "stream",
     "text": [
      "/home/user/.local/lib/python3.10/site-packages/sklearn/preprocessing/_label.py:154: DataConversionWarning: A column-vector y was passed when a 1d array was expected. Please change the shape of y to (n_samples, ), for example using ravel().\n",
      "  y = column_or_1d(y, warn=True)\n"
     ]
    },
    {
     "name": "stdout",
     "output_type": "stream",
     "text": [
      "SCORE: 0.9745670995670995\n"
     ]
    },
    {
     "name": "stderr",
     "output_type": "stream",
     "text": [
      "/home/user/.local/lib/python3.10/site-packages/sklearn/preprocessing/_label.py:154: DataConversionWarning: A column-vector y was passed when a 1d array was expected. Please change the shape of y to (n_samples, ), for example using ravel().\n",
      "  y = column_or_1d(y, warn=True)\n"
     ]
    },
    {
     "name": "stdout",
     "output_type": "stream",
     "text": [
      "SCORE: 0.9575334086203652\n"
     ]
    },
    {
     "name": "stderr",
     "output_type": "stream",
     "text": [
      "/home/user/.local/lib/python3.10/site-packages/sklearn/preprocessing/_label.py:154: DataConversionWarning: A column-vector y was passed when a 1d array was expected. Please change the shape of y to (n_samples, ), for example using ravel().\n",
      "  y = column_or_1d(y, warn=True)\n"
     ]
    },
    {
     "name": "stdout",
     "output_type": "stream",
     "text": [
      "SCORE: 0.9756493506493508\n"
     ]
    },
    {
     "name": "stderr",
     "output_type": "stream",
     "text": [
      "/home/user/.local/lib/python3.10/site-packages/sklearn/preprocessing/_label.py:154: DataConversionWarning: A column-vector y was passed when a 1d array was expected. Please change the shape of y to (n_samples, ), for example using ravel().\n",
      "  y = column_or_1d(y, warn=True)\n"
     ]
    },
    {
     "name": "stdout",
     "output_type": "stream",
     "text": [
      "SCORE: 0.9816017316017316\n"
     ]
    },
    {
     "name": "stderr",
     "output_type": "stream",
     "text": [
      "/home/user/.local/lib/python3.10/site-packages/sklearn/preprocessing/_label.py:154: DataConversionWarning: A column-vector y was passed when a 1d array was expected. Please change the shape of y to (n_samples, ), for example using ravel().\n",
      "  y = column_or_1d(y, warn=True)\n"
     ]
    },
    {
     "name": "stdout",
     "output_type": "stream",
     "text": [
      "SCORE: 0.9640269151138716\n"
     ]
    },
    {
     "name": "stderr",
     "output_type": "stream",
     "text": [
      "/home/user/.local/lib/python3.10/site-packages/sklearn/preprocessing/_label.py:154: DataConversionWarning: A column-vector y was passed when a 1d array was expected. Please change the shape of y to (n_samples, ), for example using ravel().\n",
      "  y = column_or_1d(y, warn=True)\n"
     ]
    },
    {
     "name": "stdout",
     "output_type": "stream",
     "text": [
      "SCORE: 0.9632034632034632\n"
     ]
    },
    {
     "name": "stderr",
     "output_type": "stream",
     "text": [
      "/home/user/.local/lib/python3.10/site-packages/sklearn/preprocessing/_label.py:154: DataConversionWarning: A column-vector y was passed when a 1d array was expected. Please change the shape of y to (n_samples, ), for example using ravel().\n",
      "  y = column_or_1d(y, warn=True)\n"
     ]
    },
    {
     "name": "stdout",
     "output_type": "stream",
     "text": [
      "SCORE: 0.9751082251082251\n"
     ]
    },
    {
     "name": "stderr",
     "output_type": "stream",
     "text": [
      "/home/user/.local/lib/python3.10/site-packages/sklearn/preprocessing/_label.py:154: DataConversionWarning: A column-vector y was passed when a 1d array was expected. Please change the shape of y to (n_samples, ), for example using ravel().\n",
      "  y = column_or_1d(y, warn=True)\n"
     ]
    },
    {
     "name": "stdout",
     "output_type": "stream",
     "text": [
      "SCORE: 0.9875541125541127\n"
     ]
    },
    {
     "name": "stderr",
     "output_type": "stream",
     "text": [
      "/home/user/.local/lib/python3.10/site-packages/sklearn/preprocessing/_label.py:154: DataConversionWarning: A column-vector y was passed when a 1d array was expected. Please change the shape of y to (n_samples, ), for example using ravel().\n",
      "  y = column_or_1d(y, warn=True)\n"
     ]
    },
    {
     "name": "stdout",
     "output_type": "stream",
     "text": [
      "SCORE: 0.9818840579710145\n"
     ]
    },
    {
     "name": "stderr",
     "output_type": "stream",
     "text": [
      "/home/user/.local/lib/python3.10/site-packages/sklearn/preprocessing/_label.py:154: DataConversionWarning: A column-vector y was passed when a 1d array was expected. Please change the shape of y to (n_samples, ), for example using ravel().\n",
      "  y = column_or_1d(y, warn=True)\n"
     ]
    },
    {
     "name": "stdout",
     "output_type": "stream",
     "text": [
      "SCORE: 0.9821428571428571\n"
     ]
    },
    {
     "name": "stderr",
     "output_type": "stream",
     "text": [
      "/home/user/.local/lib/python3.10/site-packages/sklearn/preprocessing/_label.py:154: DataConversionWarning: A column-vector y was passed when a 1d array was expected. Please change the shape of y to (n_samples, ), for example using ravel().\n",
      "  y = column_or_1d(y, warn=True)\n"
     ]
    },
    {
     "name": "stdout",
     "output_type": "stream",
     "text": [
      "SCORE: 0.9880952380952381\n"
     ]
    },
    {
     "name": "stderr",
     "output_type": "stream",
     "text": [
      "/home/user/.local/lib/python3.10/site-packages/sklearn/preprocessing/_label.py:154: DataConversionWarning: A column-vector y was passed when a 1d array was expected. Please change the shape of y to (n_samples, ), for example using ravel().\n",
      "  y = column_or_1d(y, warn=True)\n"
     ]
    },
    {
     "name": "stdout",
     "output_type": "stream",
     "text": [
      "SCORE: 0.9937888198757764\n"
     ]
    },
    {
     "name": "stderr",
     "output_type": "stream",
     "text": [
      "/home/user/.local/lib/python3.10/site-packages/sklearn/preprocessing/_label.py:154: DataConversionWarning: A column-vector y was passed when a 1d array was expected. Please change the shape of y to (n_samples, ), for example using ravel().\n",
      "  y = column_or_1d(y, warn=True)\n"
     ]
    },
    {
     "name": "stdout",
     "output_type": "stream",
     "text": [
      "SCORE: 0.9759316770186335\n"
     ]
    },
    {
     "name": "stderr",
     "output_type": "stream",
     "text": [
      "/home/user/.local/lib/python3.10/site-packages/sklearn/preprocessing/_label.py:154: DataConversionWarning: A column-vector y was passed when a 1d array was expected. Please change the shape of y to (n_samples, ), for example using ravel().\n",
      "  y = column_or_1d(y, warn=True)\n"
     ]
    },
    {
     "name": "stdout",
     "output_type": "stream",
     "text": [
      "SCORE: 0.9937888198757764\n"
     ]
    },
    {
     "name": "stderr",
     "output_type": "stream",
     "text": [
      "/home/user/.local/lib/python3.10/site-packages/sklearn/preprocessing/_label.py:154: DataConversionWarning: A column-vector y was passed when a 1d array was expected. Please change the shape of y to (n_samples, ), for example using ravel().\n",
      "  y = column_or_1d(y, warn=True)\n"
     ]
    },
    {
     "name": "stdout",
     "output_type": "stream",
     "text": [
      "SCORE: 0.9816017316017316\n"
     ]
    },
    {
     "name": "stderr",
     "output_type": "stream",
     "text": [
      "/home/user/.local/lib/python3.10/site-packages/sklearn/preprocessing/_label.py:154: DataConversionWarning: A column-vector y was passed when a 1d array was expected. Please change the shape of y to (n_samples, ), for example using ravel().\n",
      "  y = column_or_1d(y, warn=True)\n"
     ]
    },
    {
     "name": "stdout",
     "output_type": "stream",
     "text": [
      "SCORE: 0.9816017316017316\n"
     ]
    },
    {
     "name": "stderr",
     "output_type": "stream",
     "text": [
      "/home/user/.local/lib/python3.10/site-packages/sklearn/preprocessing/_label.py:154: DataConversionWarning: A column-vector y was passed when a 1d array was expected. Please change the shape of y to (n_samples, ), for example using ravel().\n",
      "  y = column_or_1d(y, warn=True)\n"
     ]
    },
    {
     "name": "stdout",
     "output_type": "stream",
     "text": [
      "SCORE: 0.9759316770186335\n"
     ]
    },
    {
     "name": "stderr",
     "output_type": "stream",
     "text": [
      "/home/user/.local/lib/python3.10/site-packages/sklearn/preprocessing/_label.py:154: DataConversionWarning: A column-vector y was passed when a 1d array was expected. Please change the shape of y to (n_samples, ), for example using ravel().\n",
      "  y = column_or_1d(y, warn=True)\n"
     ]
    },
    {
     "name": "stdout",
     "output_type": "stream",
     "text": [
      "SCORE: 0.9813429324298889\n"
     ]
    },
    {
     "name": "stderr",
     "output_type": "stream",
     "text": [
      "/home/user/.local/lib/python3.10/site-packages/sklearn/preprocessing/_label.py:154: DataConversionWarning: A column-vector y was passed when a 1d array was expected. Please change the shape of y to (n_samples, ), for example using ravel().\n",
      "  y = column_or_1d(y, warn=True)\n"
     ]
    },
    {
     "name": "stdout",
     "output_type": "stream",
     "text": [
      "SCORE: 0.9878364389233955\n"
     ]
    },
    {
     "name": "stderr",
     "output_type": "stream",
     "text": [
      "/home/user/.local/lib/python3.10/site-packages/sklearn/preprocessing/_label.py:154: DataConversionWarning: A column-vector y was passed when a 1d array was expected. Please change the shape of y to (n_samples, ), for example using ravel().\n",
      "  y = column_or_1d(y, warn=True)\n"
     ]
    },
    {
     "name": "stdout",
     "output_type": "stream",
     "text": [
      "SCORE: 0.9696969696969696\n"
     ]
    },
    {
     "name": "stderr",
     "output_type": "stream",
     "text": [
      "/home/user/.local/lib/python3.10/site-packages/sklearn/preprocessing/_label.py:154: DataConversionWarning: A column-vector y was passed when a 1d array was expected. Please change the shape of y to (n_samples, ), for example using ravel().\n",
      "  y = column_or_1d(y, warn=True)\n"
     ]
    },
    {
     "name": "stdout",
     "output_type": "stream",
     "text": [
      "SCORE: 0.9816017316017316\n"
     ]
    },
    {
     "name": "stderr",
     "output_type": "stream",
     "text": [
      "/home/user/.local/lib/python3.10/site-packages/sklearn/preprocessing/_label.py:154: DataConversionWarning: A column-vector y was passed when a 1d array was expected. Please change the shape of y to (n_samples, ), for example using ravel().\n",
      "  y = column_or_1d(y, warn=True)\n"
     ]
    },
    {
     "name": "stdout",
     "output_type": "stream",
     "text": [
      "SCORE: 0.9880952380952381\n"
     ]
    },
    {
     "name": "stderr",
     "output_type": "stream",
     "text": [
      "/home/user/.local/lib/python3.10/site-packages/sklearn/preprocessing/_label.py:154: DataConversionWarning: A column-vector y was passed when a 1d array was expected. Please change the shape of y to (n_samples, ), for example using ravel().\n",
      "  y = column_or_1d(y, warn=True)\n"
     ]
    },
    {
     "name": "stdout",
     "output_type": "stream",
     "text": [
      "SCORE: 0.9569922830792396\n"
     ]
    },
    {
     "name": "stderr",
     "output_type": "stream",
     "text": [
      "/home/user/.local/lib/python3.10/site-packages/sklearn/preprocessing/_label.py:154: DataConversionWarning: A column-vector y was passed when a 1d array was expected. Please change the shape of y to (n_samples, ), for example using ravel().\n",
      "  y = column_or_1d(y, warn=True)\n"
     ]
    },
    {
     "name": "stdout",
     "output_type": "stream",
     "text": [
      "SCORE: 0.9818840579710145\n"
     ]
    },
    {
     "name": "stderr",
     "output_type": "stream",
     "text": [
      "/home/user/.local/lib/python3.10/site-packages/sklearn/preprocessing/_label.py:154: DataConversionWarning: A column-vector y was passed when a 1d array was expected. Please change the shape of y to (n_samples, ), for example using ravel().\n",
      "  y = column_or_1d(y, warn=True)\n"
     ]
    },
    {
     "name": "stdout",
     "output_type": "stream",
     "text": [
      "SCORE: 0.9626651609260305\n"
     ]
    },
    {
     "name": "stderr",
     "output_type": "stream",
     "text": [
      "/home/user/.local/lib/python3.10/site-packages/sklearn/preprocessing/_label.py:154: DataConversionWarning: A column-vector y was passed when a 1d array was expected. Please change the shape of y to (n_samples, ), for example using ravel().\n",
      "  y = column_or_1d(y, warn=True)\n"
     ]
    },
    {
     "name": "stdout",
     "output_type": "stream",
     "text": [
      "SCORE: 0.9766666666666666\n"
     ]
    },
    {
     "name": "stderr",
     "output_type": "stream",
     "text": [
      "/home/user/.local/lib/python3.10/site-packages/sklearn/preprocessing/_label.py:154: DataConversionWarning: A column-vector y was passed when a 1d array was expected. Please change the shape of y to (n_samples, ), for example using ravel().\n",
      "  y = column_or_1d(y, warn=True)\n"
     ]
    },
    {
     "name": "stdout",
     "output_type": "stream",
     "text": [
      "SCORE: 0.9701731601731601\n"
     ]
    },
    {
     "name": "stderr",
     "output_type": "stream",
     "text": [
      "/home/user/.local/lib/python3.10/site-packages/sklearn/preprocessing/_label.py:154: DataConversionWarning: A column-vector y was passed when a 1d array was expected. Please change the shape of y to (n_samples, ), for example using ravel().\n",
      "  y = column_or_1d(y, warn=True)\n"
     ]
    },
    {
     "name": "stdout",
     "output_type": "stream",
     "text": [
      "SCORE: 0.9942857142857143\n"
     ]
    },
    {
     "name": "stderr",
     "output_type": "stream",
     "text": [
      "/home/user/.local/lib/python3.10/site-packages/sklearn/preprocessing/_label.py:154: DataConversionWarning: A column-vector y was passed when a 1d array was expected. Please change the shape of y to (n_samples, ), for example using ravel().\n",
      "  y = column_or_1d(y, warn=True)\n"
     ]
    },
    {
     "name": "stdout",
     "output_type": "stream",
     "text": [
      "SCORE: 0.9457575757575757\n",
      "SCORE: 0.987012987012987\n",
      "CPU times: user 8min 56s, sys: 56.8 s, total: 9min 53s\n",
      "Wall time: 1h 19s\n"
     ]
    },
    {
     "name": "stderr",
     "output_type": "stream",
     "text": [
      "/home/user/.local/lib/python3.10/site-packages/sklearn/preprocessing/_label.py:154: DataConversionWarning: A column-vector y was passed when a 1d array was expected. Please change the shape of y to (n_samples, ), for example using ravel().\n",
      "  y = column_or_1d(y, warn=True)\n"
     ]
    },
    {
     "data": {
      "text/plain": [
       "(0.9772673944413075,\n",
       " [0.9745670995670995,\n",
       "  0.9575334086203652,\n",
       "  0.9756493506493508,\n",
       "  0.9816017316017316,\n",
       "  0.9640269151138716,\n",
       "  0.9632034632034632,\n",
       "  0.9751082251082251,\n",
       "  0.9875541125541127,\n",
       "  0.9818840579710145,\n",
       "  0.9821428571428571,\n",
       "  0.9880952380952381,\n",
       "  0.9937888198757764,\n",
       "  0.9759316770186335,\n",
       "  0.9937888198757764,\n",
       "  0.9816017316017316,\n",
       "  0.9816017316017316,\n",
       "  0.9759316770186335,\n",
       "  0.9813429324298889,\n",
       "  0.9878364389233955,\n",
       "  0.9696969696969696,\n",
       "  0.9816017316017316,\n",
       "  0.9880952380952381,\n",
       "  0.9569922830792396,\n",
       "  0.9818840579710145,\n",
       "  0.9626651609260305,\n",
       "  0.9766666666666666,\n",
       "  0.9701731601731601,\n",
       "  0.9942857142857143,\n",
       "  0.9457575757575757,\n",
       "  0.987012987012987])"
      ]
     },
     "execution_count": 518,
     "metadata": {},
     "output_type": "execute_result"
    }
   ],
   "source": [
    "%%time\n",
    "# PUBLIC: 0.984290\n",
    "# k = 8!!!!!!!!!!!!!\n",
    "SEED = 21\n",
    "knn = Pipeline([('dropper', FeaturesFilter([i for i, c in enumerate(X_train.columns) if '=' not in c and 'distance' not in c])),\n",
    "                ('scaler', StandardScaler()),\n",
    "                ('knn', KNeighborsClassifier(8, weights='distance', p=2))])\n",
    "logreg = Pipeline([('scaler', StandardScaler()),\n",
    "                   ('logreg', LogisticRegression(penalty='l1', C=0.5, solver='liblinear', random_state=SEED))])\n",
    "svc = Pipeline([('dropper', FeaturesFilter([i for i, c in enumerate(X_train.columns) if 'distance' not in c])),\n",
    "                ('scaler', StandardScaler()),\n",
    "                ('svc', SVC(C=2.5, kernel='rbf', random_state=SEED))])\n",
    "mlp = Pipeline([('min_max', StandardScaler()),\n",
    "                ('mlp', MLPClassifier(max_iter=500, hidden_layer_sizes=(50, ), activation='tanh', random_state=SEED))])\n",
    "rf = Pipeline([('dropper', FeaturesFilter([i for i, c in enumerate(X_train.columns) if 'distance' not in c and '=' not in c])),\n",
    "               ('rf', RandomForestClassifier(n_estimators=500, max_features='log2', min_samples_split=3, random_state=228))])\n",
    "lgbm_1 = LGBMClassifier(boosting_type='dart', learning_rate=0.2, n_estimators=150, random_state=SEED)\n",
    "lgbm_2 = Pipeline([\n",
    "    ('dropper', FeaturesFilter([i for i, c in enumerate(X_train.columns) if '=' not in c])),\n",
    "    ('lgbm', LGBMClassifier(boosting_type='gbdt', learning_rate=0.1, n_estimators=200, random_state=SEED + 1))\n",
    "])\n",
    "ctb = CatBoostClassifier(n_estimators=300, depth=6, random_state=228, verbose=False)\n",
    "\n",
    "estimators = [\n",
    "    ('knn', knn),\n",
    "    ('logreg', logreg),\n",
    "    ('svc', svc),\n",
    "    ('mlp', mlp),\n",
    "    ('rf', rf),\n",
    "    ('lgbm_1', lgbm_1),\n",
    "    ('lgbm_2', lgbm_2),\n",
    "    ('ctb', ctb)\n",
    "]\n",
    "clf = StackingClassifier(estimators=estimators, final_estimator=CatBoostClassifier(depth=2, verbose=False, random_state=SEED), n_jobs=-1)\n",
    "scores, model = cross_val_score(clf, X_train, y_train, random_state=18, n_splits=30)\n",
    "np.mean(scores), scores"
   ]
  },
  {
   "cell_type": "code",
   "execution_count": 33,
   "metadata": {},
   "outputs": [
    {
     "name": "stdout",
     "output_type": "stream",
     "text": [
      "68.8 µs ± 664 ns per loop (mean ± std. dev. of 7 runs, 10000 loops each)\n"
     ]
    }
   ],
   "source": [
    "%%timeit\n",
    "arr = np.ones(100_000)\n",
    "arr = arr / 10\n",
    "arr.shape"
   ]
  },
  {
   "cell_type": "code",
   "execution_count": 34,
   "metadata": {},
   "outputs": [
    {
     "name": "stdout",
     "output_type": "stream",
     "text": [
      "67.5 µs ± 116 ns per loop (mean ± std. dev. of 7 runs, 10000 loops each)\n"
     ]
    }
   ],
   "source": [
    "%%timeit\n",
    "arr = np.ones(100_000)\n",
    "arr /= 10\n",
    "arr.shape"
   ]
  },
  {
   "cell_type": "code",
   "execution_count": 37,
   "metadata": {},
   "outputs": [
    {
     "data": {
      "text/plain": [
       "(100000,)"
      ]
     },
     "execution_count": 37,
     "metadata": {},
     "output_type": "execute_result"
    }
   ],
   "source": [
    "arr = np.ones(100_000)\n",
    "np.divide(arr, 10, out=arr)\n",
    "arr.shape"
   ]
  },
  {
   "cell_type": "code",
   "execution_count": 47,
   "metadata": {},
   "outputs": [
    {
     "name": "stdout",
     "output_type": "stream",
     "text": [
      "2022-11-12 22:55:10.290126 max RSS 1976968\n",
      "Top prefixes: [('arr', 4), ('imp', 1), ('\\n', 1)]\n",
      "2022-11-12 22:55:15.192973\n",
      "Top 3 lines\n",
      "#1: python3.10/linecache.py:137: 258.6 KiB\n",
      "    lines = fp.readlines()\n",
      "#2: core/compilerop.py:101: 75.3 KiB\n",
      "    return compile(source, filename, symbol, self.flags | PyCF_ONLY_AST, 1)\n",
      "#3: python3.10/tokenize.py:530: 18.6 KiB\n",
      "    spos, epos, pos = (lnum, start), (lnum, end), end\n",
      "231 other: 169.9 KiB\n",
      "Total allocated size: 522.3 KiB\n"
     ]
    }
   ],
   "source": [
    "from collections import Counter\n",
    "import linecache\n",
    "import os\n",
    "import tracemalloc\n",
    "from datetime import datetime\n",
    "from queue import Queue, Empty\n",
    "from resource import getrusage, RUSAGE_SELF\n",
    "from threading import Thread\n",
    "from time import sleep\n",
    "\n",
    "def memory_monitor(command_queue: Queue, poll_interval=1):\n",
    "    tracemalloc.start()\n",
    "    old_max = 0\n",
    "    snapshot = None\n",
    "    while True:\n",
    "        try:\n",
    "            command_queue.get(timeout=poll_interval)\n",
    "            if snapshot is not None:\n",
    "                print(datetime.now())\n",
    "                display_top(snapshot)\n",
    "\n",
    "            return\n",
    "        except Empty:\n",
    "            max_rss = getrusage(RUSAGE_SELF).ru_maxrss\n",
    "            if max_rss > old_max:\n",
    "                old_max = max_rss\n",
    "                snapshot = tracemalloc.take_snapshot()\n",
    "                print(datetime.now(), 'max RSS', max_rss)\n",
    "\n",
    "\n",
    "def count_prefixes():\n",
    "    sleep(2)  # Start up time.\n",
    "    counts = Counter()\n",
    "    fname = '/home/user/innopolis/test.py'\n",
    "    with open(fname) as words:\n",
    "        words = list(words)\n",
    "        for word in words:\n",
    "            prefix = word[:3]\n",
    "            counts[prefix] += 1\n",
    "            sleep(0.0001)\n",
    "    most_common = counts.most_common(3)\n",
    "    sleep(3)  # Shut down time.\n",
    "    return most_common\n",
    "\n",
    "\n",
    "def main():\n",
    "    queue = Queue()\n",
    "    poll_interval = 0.1\n",
    "    monitor_thread = Thread(target=memory_monitor, args=(queue, poll_interval))\n",
    "    monitor_thread.start()\n",
    "    try:\n",
    "        most_common = count_prefixes()\n",
    "        print('Top prefixes:', most_common)\n",
    "    finally:\n",
    "        queue.put('stop')\n",
    "        monitor_thread.join()\n",
    "\n",
    "\n",
    "def display_top(snapshot, key_type='lineno', limit=3):\n",
    "    snapshot = snapshot.filter_traces((\n",
    "        tracemalloc.Filter(False, \"<frozen importlib._bootstrap>\"),\n",
    "        tracemalloc.Filter(False, \"<unknown>\"),\n",
    "    ))\n",
    "    top_stats = snapshot.statistics(key_type)\n",
    "\n",
    "    print(\"Top %s lines\" % limit)\n",
    "    for index, stat in enumerate(top_stats[:limit], 1):\n",
    "        frame = stat.traceback[0]\n",
    "        # replace \"/path/to/module/file.py\" with \"module/file.py\"\n",
    "        filename = os.sep.join(frame.filename.split(os.sep)[-2:])\n",
    "        print(\"#%s: %s:%s: %.1f KiB\"\n",
    "              % (index, filename, frame.lineno, stat.size / 1024))\n",
    "        line = linecache.getline(frame.filename, frame.lineno).strip()\n",
    "        if line:\n",
    "            print('    %s' % line)\n",
    "\n",
    "    other = top_stats[limit:]\n",
    "    if other:\n",
    "        size = sum(stat.size for stat in other)\n",
    "        print(\"%s other: %.1f KiB\" % (len(other), size / 1024))\n",
    "    total = sum(stat.size for stat in top_stats)\n",
    "    print(\"Total allocated size: %.1f KiB\" % (total / 1024))\n",
    "\n",
    "\n",
    "main()"
   ]
  },
  {
   "cell_type": "code",
   "execution_count": 471,
   "metadata": {},
   "outputs": [
    {
     "name": "stderr",
     "output_type": "stream",
     "text": [
      "/home/user/.local/lib/python3.10/site-packages/sklearn/preprocessing/_label.py:154: DataConversionWarning: A column-vector y was passed when a 1d array was expected. Please change the shape of y to (n_samples, ), for example using ravel().\n",
      "  y = column_or_1d(y, warn=True)\n"
     ]
    },
    {
     "name": "stdout",
     "output_type": "stream",
     "text": [
      "SCORE: 0.9745670995670995\n"
     ]
    },
    {
     "name": "stderr",
     "output_type": "stream",
     "text": [
      "/home/user/.local/lib/python3.10/site-packages/sklearn/preprocessing/_label.py:154: DataConversionWarning: A column-vector y was passed when a 1d array was expected. Please change the shape of y to (n_samples, ), for example using ravel().\n",
      "  y = column_or_1d(y, warn=True)\n"
     ]
    },
    {
     "name": "stdout",
     "output_type": "stream",
     "text": [
      "SCORE: 0.9515810276679841\n"
     ]
    },
    {
     "name": "stderr",
     "output_type": "stream",
     "text": [
      "/home/user/.local/lib/python3.10/site-packages/sklearn/preprocessing/_label.py:154: DataConversionWarning: A column-vector y was passed when a 1d array was expected. Please change the shape of y to (n_samples, ), for example using ravel().\n",
      "  y = column_or_1d(y, warn=True)\n"
     ]
    },
    {
     "name": "stdout",
     "output_type": "stream",
     "text": [
      "SCORE: 0.9816017316017316\n"
     ]
    },
    {
     "name": "stderr",
     "output_type": "stream",
     "text": [
      "/home/user/.local/lib/python3.10/site-packages/sklearn/preprocessing/_label.py:154: DataConversionWarning: A column-vector y was passed when a 1d array was expected. Please change the shape of y to (n_samples, ), for example using ravel().\n",
      "  y = column_or_1d(y, warn=True)\n"
     ]
    },
    {
     "name": "stdout",
     "output_type": "stream",
     "text": [
      "SCORE: 0.9880952380952381\n"
     ]
    },
    {
     "name": "stderr",
     "output_type": "stream",
     "text": [
      "/home/user/.local/lib/python3.10/site-packages/sklearn/preprocessing/_label.py:154: DataConversionWarning: A column-vector y was passed when a 1d array was expected. Please change the shape of y to (n_samples, ), for example using ravel().\n",
      "  y = column_or_1d(y, warn=True)\n"
     ]
    },
    {
     "name": "stdout",
     "output_type": "stream",
     "text": [
      "SCORE: 0.9640269151138716\n"
     ]
    },
    {
     "name": "stderr",
     "output_type": "stream",
     "text": [
      "/home/user/.local/lib/python3.10/site-packages/sklearn/preprocessing/_label.py:154: DataConversionWarning: A column-vector y was passed when a 1d array was expected. Please change the shape of y to (n_samples, ), for example using ravel().\n",
      "  y = column_or_1d(y, warn=True)\n"
     ]
    },
    {
     "name": "stdout",
     "output_type": "stream",
     "text": [
      "SCORE: 0.9572510822510824\n"
     ]
    },
    {
     "name": "stderr",
     "output_type": "stream",
     "text": [
      "/home/user/.local/lib/python3.10/site-packages/sklearn/preprocessing/_label.py:154: DataConversionWarning: A column-vector y was passed when a 1d array was expected. Please change the shape of y to (n_samples, ), for example using ravel().\n",
      "  y = column_or_1d(y, warn=True)\n"
     ]
    },
    {
     "name": "stdout",
     "output_type": "stream",
     "text": [
      "SCORE: 0.9875541125541124\n"
     ]
    },
    {
     "name": "stderr",
     "output_type": "stream",
     "text": [
      "/home/user/.local/lib/python3.10/site-packages/sklearn/preprocessing/_label.py:154: DataConversionWarning: A column-vector y was passed when a 1d array was expected. Please change the shape of y to (n_samples, ), for example using ravel().\n",
      "  y = column_or_1d(y, warn=True)\n"
     ]
    },
    {
     "name": "stdout",
     "output_type": "stream",
     "text": [
      "SCORE: 0.9875541125541127\n"
     ]
    },
    {
     "name": "stderr",
     "output_type": "stream",
     "text": [
      "/home/user/.local/lib/python3.10/site-packages/sklearn/preprocessing/_label.py:154: DataConversionWarning: A column-vector y was passed when a 1d array was expected. Please change the shape of y to (n_samples, ), for example using ravel().\n",
      "  y = column_or_1d(y, warn=True)\n"
     ]
    },
    {
     "name": "stdout",
     "output_type": "stream",
     "text": [
      "SCORE: 0.9818840579710145\n"
     ]
    },
    {
     "name": "stderr",
     "output_type": "stream",
     "text": [
      "/home/user/.local/lib/python3.10/site-packages/sklearn/preprocessing/_label.py:154: DataConversionWarning: A column-vector y was passed when a 1d array was expected. Please change the shape of y to (n_samples, ), for example using ravel().\n",
      "  y = column_or_1d(y, warn=True)\n"
     ]
    },
    {
     "name": "stdout",
     "output_type": "stream",
     "text": [
      "SCORE: 0.9821428571428571\n"
     ]
    },
    {
     "name": "stderr",
     "output_type": "stream",
     "text": [
      "/home/user/.local/lib/python3.10/site-packages/sklearn/preprocessing/_label.py:154: DataConversionWarning: A column-vector y was passed when a 1d array was expected. Please change the shape of y to (n_samples, ), for example using ravel().\n",
      "  y = column_or_1d(y, warn=True)\n"
     ]
    },
    {
     "name": "stdout",
     "output_type": "stream",
     "text": [
      "SCORE: 0.9878364389233955\n"
     ]
    },
    {
     "name": "stderr",
     "output_type": "stream",
     "text": [
      "/home/user/.local/lib/python3.10/site-packages/sklearn/preprocessing/_label.py:154: DataConversionWarning: A column-vector y was passed when a 1d array was expected. Please change the shape of y to (n_samples, ), for example using ravel().\n",
      "  y = column_or_1d(y, warn=True)\n"
     ]
    },
    {
     "name": "stdout",
     "output_type": "stream",
     "text": [
      "SCORE: 0.9878364389233955\n"
     ]
    },
    {
     "name": "stderr",
     "output_type": "stream",
     "text": [
      "/home/user/.local/lib/python3.10/site-packages/sklearn/preprocessing/_label.py:154: DataConversionWarning: A column-vector y was passed when a 1d array was expected. Please change the shape of y to (n_samples, ), for example using ravel().\n",
      "  y = column_or_1d(y, warn=True)\n"
     ]
    },
    {
     "name": "stdout",
     "output_type": "stream",
     "text": [
      "SCORE: 0.9759316770186335\n"
     ]
    },
    {
     "name": "stderr",
     "output_type": "stream",
     "text": [
      "/home/user/.local/lib/python3.10/site-packages/sklearn/preprocessing/_label.py:154: DataConversionWarning: A column-vector y was passed when a 1d array was expected. Please change the shape of y to (n_samples, ), for example using ravel().\n",
      "  y = column_or_1d(y, warn=True)\n"
     ]
    },
    {
     "name": "stdout",
     "output_type": "stream",
     "text": [
      "SCORE: 0.9937888198757764\n"
     ]
    },
    {
     "name": "stderr",
     "output_type": "stream",
     "text": [
      "/home/user/.local/lib/python3.10/site-packages/sklearn/preprocessing/_label.py:154: DataConversionWarning: A column-vector y was passed when a 1d array was expected. Please change the shape of y to (n_samples, ), for example using ravel().\n",
      "  y = column_or_1d(y, warn=True)\n"
     ]
    },
    {
     "name": "stdout",
     "output_type": "stream",
     "text": [
      "SCORE: 0.9821428571428571\n"
     ]
    },
    {
     "name": "stderr",
     "output_type": "stream",
     "text": [
      "/home/user/.local/lib/python3.10/site-packages/sklearn/preprocessing/_label.py:154: DataConversionWarning: A column-vector y was passed when a 1d array was expected. Please change the shape of y to (n_samples, ), for example using ravel().\n",
      "  y = column_or_1d(y, warn=True)\n"
     ]
    },
    {
     "name": "stdout",
     "output_type": "stream",
     "text": [
      "SCORE: 0.9816017316017316\n"
     ]
    },
    {
     "name": "stderr",
     "output_type": "stream",
     "text": [
      "/home/user/.local/lib/python3.10/site-packages/sklearn/preprocessing/_label.py:154: DataConversionWarning: A column-vector y was passed when a 1d array was expected. Please change the shape of y to (n_samples, ), for example using ravel().\n",
      "  y = column_or_1d(y, warn=True)\n"
     ]
    },
    {
     "name": "stdout",
     "output_type": "stream",
     "text": [
      "SCORE: 0.9761904761904763\n"
     ]
    },
    {
     "name": "stderr",
     "output_type": "stream",
     "text": [
      "/home/user/.local/lib/python3.10/site-packages/sklearn/preprocessing/_label.py:154: DataConversionWarning: A column-vector y was passed when a 1d array was expected. Please change the shape of y to (n_samples, ), for example using ravel().\n",
      "  y = column_or_1d(y, warn=True)\n"
     ]
    },
    {
     "name": "stdout",
     "output_type": "stream",
     "text": [
      "SCORE: 0.9694381705251269\n"
     ]
    },
    {
     "name": "stderr",
     "output_type": "stream",
     "text": [
      "/home/user/.local/lib/python3.10/site-packages/sklearn/preprocessing/_label.py:154: DataConversionWarning: A column-vector y was passed when a 1d array was expected. Please change the shape of y to (n_samples, ), for example using ravel().\n",
      "  y = column_or_1d(y, warn=True)\n"
     ]
    },
    {
     "name": "stdout",
     "output_type": "stream",
     "text": [
      "SCORE: 0.9878364389233955\n"
     ]
    },
    {
     "name": "stderr",
     "output_type": "stream",
     "text": [
      "/home/user/.local/lib/python3.10/site-packages/sklearn/preprocessing/_label.py:154: DataConversionWarning: A column-vector y was passed when a 1d array was expected. Please change the shape of y to (n_samples, ), for example using ravel().\n",
      "  y = column_or_1d(y, warn=True)\n"
     ]
    },
    {
     "name": "stdout",
     "output_type": "stream",
     "text": [
      "SCORE: 0.9761904761904762\n"
     ]
    },
    {
     "name": "stderr",
     "output_type": "stream",
     "text": [
      "/home/user/.local/lib/python3.10/site-packages/sklearn/preprocessing/_label.py:154: DataConversionWarning: A column-vector y was passed when a 1d array was expected. Please change the shape of y to (n_samples, ), for example using ravel().\n",
      "  y = column_or_1d(y, warn=True)\n"
     ]
    },
    {
     "name": "stdout",
     "output_type": "stream",
     "text": [
      "SCORE: 0.9935064935064936\n"
     ]
    },
    {
     "name": "stderr",
     "output_type": "stream",
     "text": [
      "/home/user/.local/lib/python3.10/site-packages/sklearn/preprocessing/_label.py:154: DataConversionWarning: A column-vector y was passed when a 1d array was expected. Please change the shape of y to (n_samples, ), for example using ravel().\n",
      "  y = column_or_1d(y, warn=True)\n"
     ]
    },
    {
     "name": "stdout",
     "output_type": "stream",
     "text": [
      "SCORE: 0.9821428571428571\n"
     ]
    },
    {
     "name": "stderr",
     "output_type": "stream",
     "text": [
      "/home/user/.local/lib/python3.10/site-packages/sklearn/preprocessing/_label.py:154: DataConversionWarning: A column-vector y was passed when a 1d array was expected. Please change the shape of y to (n_samples, ), for example using ravel().\n",
      "  y = column_or_1d(y, warn=True)\n"
     ]
    },
    {
     "name": "stdout",
     "output_type": "stream",
     "text": [
      "SCORE: 0.9688970449840015\n"
     ]
    },
    {
     "name": "stderr",
     "output_type": "stream",
     "text": [
      "/home/user/.local/lib/python3.10/site-packages/sklearn/preprocessing/_label.py:154: DataConversionWarning: A column-vector y was passed when a 1d array was expected. Please change the shape of y to (n_samples, ), for example using ravel().\n",
      "  y = column_or_1d(y, warn=True)\n"
     ]
    },
    {
     "name": "stdout",
     "output_type": "stream",
     "text": [
      "SCORE: 0.9875776397515528\n"
     ]
    },
    {
     "name": "stderr",
     "output_type": "stream",
     "text": [
      "/home/user/.local/lib/python3.10/site-packages/sklearn/preprocessing/_label.py:154: DataConversionWarning: A column-vector y was passed when a 1d array was expected. Please change the shape of y to (n_samples, ), for example using ravel().\n",
      "  y = column_or_1d(y, warn=True)\n"
     ]
    },
    {
     "name": "stdout",
     "output_type": "stream",
     "text": [
      "SCORE: 0.9691586674195369\n"
     ]
    },
    {
     "name": "stderr",
     "output_type": "stream",
     "text": [
      "/home/user/.local/lib/python3.10/site-packages/sklearn/preprocessing/_label.py:154: DataConversionWarning: A column-vector y was passed when a 1d array was expected. Please change the shape of y to (n_samples, ), for example using ravel().\n",
      "  y = column_or_1d(y, warn=True)\n"
     ]
    },
    {
     "name": "stdout",
     "output_type": "stream",
     "text": [
      "SCORE: 0.9826190476190477\n"
     ]
    },
    {
     "name": "stderr",
     "output_type": "stream",
     "text": [
      "/home/user/.local/lib/python3.10/site-packages/sklearn/preprocessing/_label.py:154: DataConversionWarning: A column-vector y was passed when a 1d array was expected. Please change the shape of y to (n_samples, ), for example using ravel().\n",
      "  y = column_or_1d(y, warn=True)\n"
     ]
    },
    {
     "name": "stdout",
     "output_type": "stream",
     "text": [
      "SCORE: 0.9820779220779221\n"
     ]
    },
    {
     "name": "stderr",
     "output_type": "stream",
     "text": [
      "/home/user/.local/lib/python3.10/site-packages/sklearn/preprocessing/_label.py:154: DataConversionWarning: A column-vector y was passed when a 1d array was expected. Please change the shape of y to (n_samples, ), for example using ravel().\n",
      "  y = column_or_1d(y, warn=True)\n"
     ]
    },
    {
     "name": "stdout",
     "output_type": "stream",
     "text": [
      "SCORE: 0.9942857142857143\n"
     ]
    },
    {
     "name": "stderr",
     "output_type": "stream",
     "text": [
      "/home/user/.local/lib/python3.10/site-packages/sklearn/preprocessing/_label.py:154: DataConversionWarning: A column-vector y was passed when a 1d array was expected. Please change the shape of y to (n_samples, ), for example using ravel().\n",
      "  y = column_or_1d(y, warn=True)\n"
     ]
    },
    {
     "name": "stdout",
     "output_type": "stream",
     "text": [
      "SCORE: 0.9512337662337662\n",
      "SCORE: 0.987012987012987\n",
      "CPU times: user 11min 18s, sys: 1min 6s, total: 12min 25s\n",
      "Wall time: 1h 7min 3s\n"
     ]
    },
    {
     "name": "stderr",
     "output_type": "stream",
     "text": [
      "/home/user/.local/lib/python3.10/site-packages/sklearn/preprocessing/_label.py:154: DataConversionWarning: A column-vector y was passed when a 1d array was expected. Please change the shape of y to (n_samples, ), for example using ravel().\n",
      "  y = column_or_1d(y, warn=True)\n"
     ]
    },
    {
     "data": {
      "text/plain": [
       "(0.9791187966622751,\n",
       " [0.9745670995670995,\n",
       "  0.9515810276679841,\n",
       "  0.9816017316017316,\n",
       "  0.9880952380952381,\n",
       "  0.9640269151138716,\n",
       "  0.9572510822510824,\n",
       "  0.9875541125541124,\n",
       "  0.9875541125541127,\n",
       "  0.9818840579710145,\n",
       "  0.9821428571428571,\n",
       "  0.9878364389233955,\n",
       "  0.9878364389233955,\n",
       "  0.9759316770186335,\n",
       "  0.9937888198757764,\n",
       "  0.9821428571428571,\n",
       "  0.9816017316017316,\n",
       "  0.9761904761904763,\n",
       "  0.9694381705251269,\n",
       "  0.9878364389233955,\n",
       "  0.9761904761904762,\n",
       "  0.9935064935064936,\n",
       "  0.9821428571428571,\n",
       "  0.9688970449840015,\n",
       "  0.9875776397515528,\n",
       "  0.9691586674195369,\n",
       "  0.9826190476190477,\n",
       "  0.9820779220779221,\n",
       "  0.9942857142857143,\n",
       "  0.9512337662337662,\n",
       "  0.987012987012987])"
      ]
     },
     "execution_count": 471,
     "metadata": {},
     "output_type": "execute_result"
    }
   ],
   "source": [
    "%%time\n",
    "# PUBLIC: 0.983460\n",
    "# k = 8!!!!!!!!!!!!!\n",
    "SEED = 228\n",
    "knn = Pipeline([('dropper', FeaturesFilter([i for i, c in enumerate(X_train.columns) if '=' not in c and 'distance' not in c])),\n",
    "                ('scaler', StandardScaler()),\n",
    "                ('knn', KNeighborsClassifier(8, weights='distance', p=2))])\n",
    "logreg = Pipeline([('scaler', StandardScaler()),\n",
    "                   ('logreg', LogisticRegression(penalty='l1', C=0.5, solver='liblinear', random_state=SEED))])\n",
    "svc = Pipeline([('dropper', FeaturesFilter([i for i, c in enumerate(X_train.columns) if 'distance' not in c])),\n",
    "                ('scaler', StandardScaler()),\n",
    "                ('svc', SVC(C=2.5, kernel='rbf', random_state=SEED))])\n",
    "mlp = Pipeline([('min_max', StandardScaler()),\n",
    "                ('mlp', MLPClassifier(max_iter=500, hidden_layer_sizes=(50, ), activation='tanh', random_state=SEED))])\n",
    "rf = Pipeline([('dropper', FeaturesFilter([i for i, c in enumerate(X_train.columns) if 'distance' not in c and '=' not in c])),\n",
    "               ('rf', RandomForestClassifier(n_estimators=500, max_features='log2', min_samples_split=3, random_state=228))])\n",
    "lgbm_1 = LGBMClassifier(boosting_type='dart', learning_rate=0.2, n_estimators=150, random_state=SEED)\n",
    "lgbm_2 = Pipeline([\n",
    "    ('dropper', FeaturesFilter([i for i, c in enumerate(X_train.columns) if '=' not in c])),\n",
    "    ('lgbm', LGBMClassifier(boosting_type='gbdt', learning_rate=0.1, n_estimators=200, random_state=SEED + 1))\n",
    "])\n",
    "ctb = CatBoostClassifier(n_estimators=300, depth=6, random_state=228, verbose=False)\n",
    "\n",
    "estimators = [\n",
    "    ('knn', knn),\n",
    "    ('logreg', logreg),\n",
    "    ('svc', svc),\n",
    "    ('mlp', mlp),\n",
    "    ('rf', rf),\n",
    "    ('lgbm_1', lgbm_1),\n",
    "    ('lgbm_2', lgbm_2),\n",
    "    ('ctb', ctb)\n",
    "]\n",
    "clf = StackingClassifier(estimators=estimators, final_estimator=CatBoostClassifier(depth=2, verbose=False, random_state=SEED), n_jobs=-1)\n",
    "scores, model = cross_val_score(clf, X_train, y_train, random_state=18, n_splits=30)\n",
    "np.mean(scores), scores"
   ]
  },
  {
   "cell_type": "code",
   "execution_count": 395,
   "metadata": {},
   "outputs": [
    {
     "name": "stderr",
     "output_type": "stream",
     "text": [
      "/home/user/.local/lib/python3.10/site-packages/sklearn/preprocessing/_label.py:154: DataConversionWarning: A column-vector y was passed when a 1d array was expected. Please change the shape of y to (n_samples, ), for example using ravel().\n",
      "  y = column_or_1d(y, warn=True)\n"
     ]
    },
    {
     "name": "stdout",
     "output_type": "stream",
     "text": [
      "SCORE: 0.9745670995670995\n"
     ]
    },
    {
     "name": "stderr",
     "output_type": "stream",
     "text": [
      "/home/user/.local/lib/python3.10/site-packages/sklearn/preprocessing/_label.py:154: DataConversionWarning: A column-vector y was passed when a 1d array was expected. Please change the shape of y to (n_samples, ), for example using ravel().\n",
      "  y = column_or_1d(y, warn=True)\n"
     ]
    },
    {
     "name": "stdout",
     "output_type": "stream",
     "text": [
      "SCORE: 0.9696969696969698\n"
     ]
    },
    {
     "name": "stderr",
     "output_type": "stream",
     "text": [
      "/home/user/.local/lib/python3.10/site-packages/sklearn/preprocessing/_label.py:154: DataConversionWarning: A column-vector y was passed when a 1d array was expected. Please change the shape of y to (n_samples, ), for example using ravel().\n",
      "  y = column_or_1d(y, warn=True)\n"
     ]
    },
    {
     "name": "stdout",
     "output_type": "stream",
     "text": [
      "SCORE: 0.9637445887445887\n"
     ]
    },
    {
     "name": "stderr",
     "output_type": "stream",
     "text": [
      "/home/user/.local/lib/python3.10/site-packages/sklearn/preprocessing/_label.py:154: DataConversionWarning: A column-vector y was passed when a 1d array was expected. Please change the shape of y to (n_samples, ), for example using ravel().\n",
      "  y = column_or_1d(y, warn=True)\n"
     ]
    },
    {
     "name": "stdout",
     "output_type": "stream",
     "text": [
      "SCORE: 0.9821428571428571\n"
     ]
    },
    {
     "name": "stderr",
     "output_type": "stream",
     "text": [
      "/home/user/.local/lib/python3.10/site-packages/sklearn/preprocessing/_label.py:154: DataConversionWarning: A column-vector y was passed when a 1d array was expected. Please change the shape of y to (n_samples, ), for example using ravel().\n",
      "  y = column_or_1d(y, warn=True)\n"
     ]
    },
    {
     "name": "stdout",
     "output_type": "stream",
     "text": [
      "SCORE: 0.9640269151138716\n"
     ]
    },
    {
     "name": "stderr",
     "output_type": "stream",
     "text": [
      "/home/user/.local/lib/python3.10/site-packages/sklearn/preprocessing/_label.py:154: DataConversionWarning: A column-vector y was passed when a 1d array was expected. Please change the shape of y to (n_samples, ), for example using ravel().\n",
      "  y = column_or_1d(y, warn=True)\n"
     ]
    },
    {
     "name": "stdout",
     "output_type": "stream",
     "text": [
      "SCORE: 0.9632034632034632\n"
     ]
    },
    {
     "name": "stderr",
     "output_type": "stream",
     "text": [
      "/home/user/.local/lib/python3.10/site-packages/sklearn/preprocessing/_label.py:154: DataConversionWarning: A column-vector y was passed when a 1d array was expected. Please change the shape of y to (n_samples, ), for example using ravel().\n",
      "  y = column_or_1d(y, warn=True)\n"
     ]
    },
    {
     "name": "stdout",
     "output_type": "stream",
     "text": [
      "SCORE: 0.9751082251082251\n"
     ]
    },
    {
     "name": "stderr",
     "output_type": "stream",
     "text": [
      "/home/user/.local/lib/python3.10/site-packages/sklearn/preprocessing/_label.py:154: DataConversionWarning: A column-vector y was passed when a 1d array was expected. Please change the shape of y to (n_samples, ), for example using ravel().\n",
      "  y = column_or_1d(y, warn=True)\n"
     ]
    },
    {
     "name": "stdout",
     "output_type": "stream",
     "text": [
      "SCORE: 0.9878364389233955\n"
     ]
    },
    {
     "name": "stderr",
     "output_type": "stream",
     "text": [
      "/home/user/.local/lib/python3.10/site-packages/sklearn/preprocessing/_label.py:154: DataConversionWarning: A column-vector y was passed when a 1d array was expected. Please change the shape of y to (n_samples, ), for example using ravel().\n",
      "  y = column_or_1d(y, warn=True)\n"
     ]
    },
    {
     "name": "stdout",
     "output_type": "stream",
     "text": [
      "SCORE: 0.9878364389233953\n"
     ]
    },
    {
     "name": "stderr",
     "output_type": "stream",
     "text": [
      "/home/user/.local/lib/python3.10/site-packages/sklearn/preprocessing/_label.py:154: DataConversionWarning: A column-vector y was passed when a 1d array was expected. Please change the shape of y to (n_samples, ), for example using ravel().\n",
      "  y = column_or_1d(y, warn=True)\n"
     ]
    },
    {
     "name": "stdout",
     "output_type": "stream",
     "text": [
      "SCORE: 0.9759316770186335\n"
     ]
    },
    {
     "name": "stderr",
     "output_type": "stream",
     "text": [
      "/home/user/.local/lib/python3.10/site-packages/sklearn/preprocessing/_label.py:154: DataConversionWarning: A column-vector y was passed when a 1d array was expected. Please change the shape of y to (n_samples, ), for example using ravel().\n",
      "  y = column_or_1d(y, warn=True)\n"
     ]
    },
    {
     "name": "stdout",
     "output_type": "stream",
     "text": [
      "SCORE: 0.9821428571428571\n"
     ]
    },
    {
     "name": "stderr",
     "output_type": "stream",
     "text": [
      "/home/user/.local/lib/python3.10/site-packages/sklearn/preprocessing/_label.py:154: DataConversionWarning: A column-vector y was passed when a 1d array was expected. Please change the shape of y to (n_samples, ), for example using ravel().\n",
      "  y = column_or_1d(y, warn=True)\n"
     ]
    },
    {
     "name": "stdout",
     "output_type": "stream",
     "text": [
      "SCORE: 0.9818840579710145\n"
     ]
    },
    {
     "name": "stderr",
     "output_type": "stream",
     "text": [
      "/home/user/.local/lib/python3.10/site-packages/sklearn/preprocessing/_label.py:154: DataConversionWarning: A column-vector y was passed when a 1d array was expected. Please change the shape of y to (n_samples, ), for example using ravel().\n",
      "  y = column_or_1d(y, warn=True)\n"
     ]
    },
    {
     "name": "stdout",
     "output_type": "stream",
     "text": [
      "SCORE: 0.9818840579710145\n"
     ]
    },
    {
     "name": "stderr",
     "output_type": "stream",
     "text": [
      "/home/user/.local/lib/python3.10/site-packages/sklearn/preprocessing/_label.py:154: DataConversionWarning: A column-vector y was passed when a 1d array was expected. Please change the shape of y to (n_samples, ), for example using ravel().\n",
      "  y = column_or_1d(y, warn=True)\n"
     ]
    },
    {
     "name": "stdout",
     "output_type": "stream",
     "text": [
      "SCORE: 0.9937888198757764\n"
     ]
    },
    {
     "name": "stderr",
     "output_type": "stream",
     "text": [
      "/home/user/.local/lib/python3.10/site-packages/sklearn/preprocessing/_label.py:154: DataConversionWarning: A column-vector y was passed when a 1d array was expected. Please change the shape of y to (n_samples, ), for example using ravel().\n",
      "  y = column_or_1d(y, warn=True)\n"
     ]
    },
    {
     "name": "stdout",
     "output_type": "stream",
     "text": [
      "SCORE: 0.9940476190476192\n"
     ]
    },
    {
     "name": "stderr",
     "output_type": "stream",
     "text": [
      "/home/user/.local/lib/python3.10/site-packages/sklearn/preprocessing/_label.py:154: DataConversionWarning: A column-vector y was passed when a 1d array was expected. Please change the shape of y to (n_samples, ), for example using ravel().\n",
      "  y = column_or_1d(y, warn=True)\n"
     ]
    },
    {
     "name": "stdout",
     "output_type": "stream",
     "text": [
      "SCORE: 0.9816017316017316\n"
     ]
    },
    {
     "name": "stderr",
     "output_type": "stream",
     "text": [
      "/home/user/.local/lib/python3.10/site-packages/sklearn/preprocessing/_label.py:154: DataConversionWarning: A column-vector y was passed when a 1d array was expected. Please change the shape of y to (n_samples, ), for example using ravel().\n",
      "  y = column_or_1d(y, warn=True)\n"
     ]
    },
    {
     "name": "stdout",
     "output_type": "stream",
     "text": [
      "SCORE: 0.9761904761904763\n"
     ]
    },
    {
     "name": "stderr",
     "output_type": "stream",
     "text": [
      "/home/user/.local/lib/python3.10/site-packages/sklearn/preprocessing/_label.py:154: DataConversionWarning: A column-vector y was passed when a 1d array was expected. Please change the shape of y to (n_samples, ), for example using ravel().\n",
      "  y = column_or_1d(y, warn=True)\n"
     ]
    },
    {
     "name": "stdout",
     "output_type": "stream",
     "text": [
      "SCORE: 0.9753905514775081\n"
     ]
    },
    {
     "name": "stderr",
     "output_type": "stream",
     "text": [
      "/home/user/.local/lib/python3.10/site-packages/sklearn/preprocessing/_label.py:154: DataConversionWarning: A column-vector y was passed when a 1d array was expected. Please change the shape of y to (n_samples, ), for example using ravel().\n",
      "  y = column_or_1d(y, warn=True)\n"
     ]
    },
    {
     "name": "stdout",
     "output_type": "stream",
     "text": [
      "SCORE: 0.9878364389233955\n"
     ]
    },
    {
     "name": "stderr",
     "output_type": "stream",
     "text": [
      "/home/user/.local/lib/python3.10/site-packages/sklearn/preprocessing/_label.py:154: DataConversionWarning: A column-vector y was passed when a 1d array was expected. Please change the shape of y to (n_samples, ), for example using ravel().\n",
      "  y = column_or_1d(y, warn=True)\n"
     ]
    },
    {
     "name": "stdout",
     "output_type": "stream",
     "text": [
      "SCORE: 0.9821428571428571\n"
     ]
    },
    {
     "name": "stderr",
     "output_type": "stream",
     "text": [
      "/home/user/.local/lib/python3.10/site-packages/sklearn/preprocessing/_label.py:154: DataConversionWarning: A column-vector y was passed when a 1d array was expected. Please change the shape of y to (n_samples, ), for example using ravel().\n",
      "  y = column_or_1d(y, warn=True)\n"
     ]
    },
    {
     "name": "stdout",
     "output_type": "stream",
     "text": [
      "SCORE: 0.9875541125541127\n"
     ]
    },
    {
     "name": "stderr",
     "output_type": "stream",
     "text": [
      "/home/user/.local/lib/python3.10/site-packages/sklearn/preprocessing/_label.py:154: DataConversionWarning: A column-vector y was passed when a 1d array was expected. Please change the shape of y to (n_samples, ), for example using ravel().\n",
      "  y = column_or_1d(y, warn=True)\n"
     ]
    },
    {
     "name": "stdout",
     "output_type": "stream",
     "text": [
      "SCORE: 0.9821428571428571\n"
     ]
    },
    {
     "name": "stderr",
     "output_type": "stream",
     "text": [
      "/home/user/.local/lib/python3.10/site-packages/sklearn/preprocessing/_label.py:154: DataConversionWarning: A column-vector y was passed when a 1d array was expected. Please change the shape of y to (n_samples, ), for example using ravel().\n",
      "  y = column_or_1d(y, warn=True)\n"
     ]
    },
    {
     "name": "stdout",
     "output_type": "stream",
     "text": [
      "SCORE: 0.9569922830792396\n"
     ]
    },
    {
     "name": "stderr",
     "output_type": "stream",
     "text": [
      "/home/user/.local/lib/python3.10/site-packages/sklearn/preprocessing/_label.py:154: DataConversionWarning: A column-vector y was passed when a 1d array was expected. Please change the shape of y to (n_samples, ), for example using ravel().\n",
      "  y = column_or_1d(y, warn=True)\n"
     ]
    },
    {
     "name": "stdout",
     "output_type": "stream",
     "text": [
      "SCORE: 0.9937888198757764\n"
     ]
    },
    {
     "name": "stderr",
     "output_type": "stream",
     "text": [
      "/home/user/.local/lib/python3.10/site-packages/sklearn/preprocessing/_label.py:154: DataConversionWarning: A column-vector y was passed when a 1d array was expected. Please change the shape of y to (n_samples, ), for example using ravel().\n",
      "  y = column_or_1d(y, warn=True)\n"
     ]
    },
    {
     "name": "stdout",
     "output_type": "stream",
     "text": [
      "SCORE: 0.9691586674195369\n"
     ]
    },
    {
     "name": "stderr",
     "output_type": "stream",
     "text": [
      "/home/user/.local/lib/python3.10/site-packages/sklearn/preprocessing/_label.py:154: DataConversionWarning: A column-vector y was passed when a 1d array was expected. Please change the shape of y to (n_samples, ), for example using ravel().\n",
      "  y = column_or_1d(y, warn=True)\n"
     ]
    },
    {
     "name": "stdout",
     "output_type": "stream",
     "text": [
      "SCORE: 0.9823809523809525\n"
     ]
    },
    {
     "name": "stderr",
     "output_type": "stream",
     "text": [
      "/home/user/.local/lib/python3.10/site-packages/sklearn/preprocessing/_label.py:154: DataConversionWarning: A column-vector y was passed when a 1d array was expected. Please change the shape of y to (n_samples, ), for example using ravel().\n",
      "  y = column_or_1d(y, warn=True)\n"
     ]
    },
    {
     "name": "stdout",
     "output_type": "stream",
     "text": [
      "SCORE: 0.9704112554112554\n"
     ]
    },
    {
     "name": "stderr",
     "output_type": "stream",
     "text": [
      "/home/user/.local/lib/python3.10/site-packages/sklearn/preprocessing/_label.py:154: DataConversionWarning: A column-vector y was passed when a 1d array was expected. Please change the shape of y to (n_samples, ), for example using ravel().\n",
      "  y = column_or_1d(y, warn=True)\n"
     ]
    },
    {
     "name": "stdout",
     "output_type": "stream",
     "text": [
      "SCORE: 0.9942857142857143\n"
     ]
    },
    {
     "name": "stderr",
     "output_type": "stream",
     "text": [
      "/home/user/.local/lib/python3.10/site-packages/sklearn/preprocessing/_label.py:154: DataConversionWarning: A column-vector y was passed when a 1d array was expected. Please change the shape of y to (n_samples, ), for example using ravel().\n",
      "  y = column_or_1d(y, warn=True)\n"
     ]
    },
    {
     "name": "stdout",
     "output_type": "stream",
     "text": [
      "SCORE: 0.9571861471861471\n",
      "SCORE: 0.987012987012987\n",
      "CPU times: user 9min 41s, sys: 59 s, total: 10min 40s\n",
      "Wall time: 1h 6min 53s\n"
     ]
    },
    {
     "name": "stderr",
     "output_type": "stream",
     "text": [
      "/home/user/.local/lib/python3.10/site-packages/sklearn/preprocessing/_label.py:154: DataConversionWarning: A column-vector y was passed when a 1d array was expected. Please change the shape of y to (n_samples, ), for example using ravel().\n",
      "  y = column_or_1d(y, warn=True)\n"
     ]
    },
    {
     "data": {
      "text/plain": [
       "(0.978730597904511,\n",
       " [0.9745670995670995,\n",
       "  0.9696969696969698,\n",
       "  0.9637445887445887,\n",
       "  0.9821428571428571,\n",
       "  0.9640269151138716,\n",
       "  0.9632034632034632,\n",
       "  0.9751082251082251,\n",
       "  0.9878364389233955,\n",
       "  0.9878364389233953,\n",
       "  0.9759316770186335,\n",
       "  0.9821428571428571,\n",
       "  0.9818840579710145,\n",
       "  0.9818840579710145,\n",
       "  0.9937888198757764,\n",
       "  0.9940476190476192,\n",
       "  0.9816017316017316,\n",
       "  0.9761904761904763,\n",
       "  0.9753905514775081,\n",
       "  0.9878364389233955,\n",
       "  0.9821428571428571,\n",
       "  0.9875541125541127,\n",
       "  0.9821428571428571,\n",
       "  0.9569922830792396,\n",
       "  0.9937888198757764,\n",
       "  0.9691586674195369,\n",
       "  0.9823809523809525,\n",
       "  0.9704112554112554,\n",
       "  0.9942857142857143,\n",
       "  0.9571861471861471,\n",
       "  0.987012987012987])"
      ]
     },
     "execution_count": 395,
     "metadata": {},
     "output_type": "execute_result"
    }
   ],
   "source": [
    "%%time\n",
    "# PUBLIC: 0.980497\n",
    "# stacking_prediction_19.csv\n",
    "# k = 10!!!!!!!!!!!!!\n",
    "knn = Pipeline([('dropper', FeaturesFilter([i for i, c in enumerate(X_train.columns) if '=' not in c and 'distance' not in c])),\n",
    "                ('scaler', StandardScaler()),\n",
    "                ('knn', KNeighborsClassifier(8, weights='distance', p=2))])\n",
    "logreg = Pipeline([('scaler', StandardScaler()),\n",
    "                   ('logreg', LogisticRegression(penalty='l1', C=0.5, solver='liblinear', random_state=228))])\n",
    "svc = Pipeline([('dropper', FeaturesFilter([i for i, c in enumerate(X_train.columns) if 'distance' not in c])),\n",
    "                ('scaler', StandardScaler()),\n",
    "                ('svc', SVC(C=2.5, kernel='rbf', random_state=228))])\n",
    "mlp = Pipeline([('min_max', StandardScaler()),\n",
    "                ('mlp', MLPClassifier(max_iter=500, hidden_layer_sizes=(50, ), activation='tanh', random_state=228))])\n",
    "rf = Pipeline([('dropper', FeaturesFilter([i for i, c in enumerate(X_train.columns) if 'distance' not in c and '=' not in c])),\n",
    "               ('rf', RandomForestClassifier(n_estimators=500, max_features='log2', min_samples_split=3, random_state=228))])\n",
    "lgbm_1 = LGBMClassifier(boosting_type='dart', learning_rate=0.2, n_estimators=150, random_state=228)\n",
    "lgbm_2 = Pipeline([\n",
    "    ('dropper', FeaturesFilter([i for i, c in enumerate(X_train.columns) if '=' not in c])),\n",
    "    ('lgbm', LGBMClassifier(boosting_type='gbdt', learning_rate=0.1, n_estimators=200, random_state=18))\n",
    "])\n",
    "ctb = CatBoostClassifier(n_estimators=300, depth=6, random_state=228, verbose=False)\n",
    "\n",
    "estimators = [\n",
    "    ('knn', knn),\n",
    "    ('logreg', logreg),\n",
    "    ('svc', svc),\n",
    "    ('mlp', mlp),\n",
    "    ('rf', rf),\n",
    "    ('lgbm_1', lgbm_1),\n",
    "    ('lgbm_2', lgbm_2),\n",
    "    ('ctb', ctb)\n",
    "]\n",
    "clf = StackingClassifier(estimators=estimators, final_estimator=CatBoostClassifier(depth=2, verbose=False, random_state=228), n_jobs=-1)\n",
    "scores, model = cross_val_score(clf, X_train, y_train, random_state=18, n_splits=30)\n",
    "np.mean(scores), scores"
   ]
  },
  {
   "cell_type": "code",
   "execution_count": 390,
   "metadata": {},
   "outputs": [
    {
     "name": "stderr",
     "output_type": "stream",
     "text": [
      "/home/user/.local/lib/python3.10/site-packages/sklearn/preprocessing/_label.py:154: DataConversionWarning: A column-vector y was passed when a 1d array was expected. Please change the shape of y to (n_samples, ), for example using ravel().\n",
      "  y = column_or_1d(y, warn=True)\n"
     ]
    },
    {
     "name": "stdout",
     "output_type": "stream",
     "text": [
      "SCORE: 0.9745670995670995\n"
     ]
    },
    {
     "name": "stderr",
     "output_type": "stream",
     "text": [
      "/home/user/.local/lib/python3.10/site-packages/sklearn/preprocessing/_label.py:154: DataConversionWarning: A column-vector y was passed when a 1d array was expected. Please change the shape of y to (n_samples, ), for example using ravel().\n",
      "  y = column_or_1d(y, warn=True)\n"
     ]
    },
    {
     "name": "stdout",
     "output_type": "stream",
     "text": [
      "SCORE: 0.9575334086203652\n"
     ]
    },
    {
     "name": "stderr",
     "output_type": "stream",
     "text": [
      "/home/user/.local/lib/python3.10/site-packages/sklearn/preprocessing/_label.py:154: DataConversionWarning: A column-vector y was passed when a 1d array was expected. Please change the shape of y to (n_samples, ), for example using ravel().\n",
      "  y = column_or_1d(y, warn=True)\n"
     ]
    },
    {
     "name": "stdout",
     "output_type": "stream",
     "text": [
      "SCORE: 0.9637445887445887\n"
     ]
    },
    {
     "name": "stderr",
     "output_type": "stream",
     "text": [
      "/home/user/.local/lib/python3.10/site-packages/sklearn/preprocessing/_label.py:154: DataConversionWarning: A column-vector y was passed when a 1d array was expected. Please change the shape of y to (n_samples, ), for example using ravel().\n",
      "  y = column_or_1d(y, warn=True)\n"
     ]
    },
    {
     "name": "stdout",
     "output_type": "stream",
     "text": [
      "SCORE: 0.9821428571428571\n"
     ]
    },
    {
     "name": "stderr",
     "output_type": "stream",
     "text": [
      "/home/user/.local/lib/python3.10/site-packages/sklearn/preprocessing/_label.py:154: DataConversionWarning: A column-vector y was passed when a 1d array was expected. Please change the shape of y to (n_samples, ), for example using ravel().\n",
      "  y = column_or_1d(y, warn=True)\n"
     ]
    },
    {
     "name": "stdout",
     "output_type": "stream",
     "text": [
      "SCORE: 0.9580745341614908\n"
     ]
    },
    {
     "name": "stderr",
     "output_type": "stream",
     "text": [
      "/home/user/.local/lib/python3.10/site-packages/sklearn/preprocessing/_label.py:154: DataConversionWarning: A column-vector y was passed when a 1d array was expected. Please change the shape of y to (n_samples, ), for example using ravel().\n",
      "  y = column_or_1d(y, warn=True)\n"
     ]
    },
    {
     "name": "stdout",
     "output_type": "stream",
     "text": [
      "SCORE: 0.9632034632034632\n"
     ]
    },
    {
     "name": "stderr",
     "output_type": "stream",
     "text": [
      "/home/user/.local/lib/python3.10/site-packages/sklearn/preprocessing/_label.py:154: DataConversionWarning: A column-vector y was passed when a 1d array was expected. Please change the shape of y to (n_samples, ), for example using ravel().\n",
      "  y = column_or_1d(y, warn=True)\n"
     ]
    },
    {
     "name": "stdout",
     "output_type": "stream",
     "text": [
      "SCORE: 0.9751082251082251\n"
     ]
    },
    {
     "name": "stderr",
     "output_type": "stream",
     "text": [
      "/home/user/.local/lib/python3.10/site-packages/sklearn/preprocessing/_label.py:154: DataConversionWarning: A column-vector y was passed when a 1d array was expected. Please change the shape of y to (n_samples, ), for example using ravel().\n",
      "  y = column_or_1d(y, warn=True)\n"
     ]
    },
    {
     "name": "stdout",
     "output_type": "stream",
     "text": [
      "SCORE: 0.9937888198757764\n"
     ]
    },
    {
     "name": "stderr",
     "output_type": "stream",
     "text": [
      "/home/user/.local/lib/python3.10/site-packages/sklearn/preprocessing/_label.py:154: DataConversionWarning: A column-vector y was passed when a 1d array was expected. Please change the shape of y to (n_samples, ), for example using ravel().\n",
      "  y = column_or_1d(y, warn=True)\n"
     ]
    },
    {
     "name": "stdout",
     "output_type": "stream",
     "text": [
      "SCORE: 0.9878364389233953\n"
     ]
    },
    {
     "name": "stderr",
     "output_type": "stream",
     "text": [
      "/home/user/.local/lib/python3.10/site-packages/sklearn/preprocessing/_label.py:154: DataConversionWarning: A column-vector y was passed when a 1d array was expected. Please change the shape of y to (n_samples, ), for example using ravel().\n",
      "  y = column_or_1d(y, warn=True)\n"
     ]
    },
    {
     "name": "stdout",
     "output_type": "stream",
     "text": [
      "SCORE: 0.9821428571428571\n"
     ]
    },
    {
     "name": "stderr",
     "output_type": "stream",
     "text": [
      "/home/user/.local/lib/python3.10/site-packages/sklearn/preprocessing/_label.py:154: DataConversionWarning: A column-vector y was passed when a 1d array was expected. Please change the shape of y to (n_samples, ), for example using ravel().\n",
      "  y = column_or_1d(y, warn=True)\n"
     ]
    },
    {
     "name": "stdout",
     "output_type": "stream",
     "text": [
      "SCORE: 0.988095238095238\n"
     ]
    },
    {
     "name": "stderr",
     "output_type": "stream",
     "text": [
      "/home/user/.local/lib/python3.10/site-packages/sklearn/preprocessing/_label.py:154: DataConversionWarning: A column-vector y was passed when a 1d array was expected. Please change the shape of y to (n_samples, ), for example using ravel().\n",
      "  y = column_or_1d(y, warn=True)\n"
     ]
    },
    {
     "name": "stdout",
     "output_type": "stream",
     "text": [
      "SCORE: 0.9878364389233955\n"
     ]
    },
    {
     "name": "stderr",
     "output_type": "stream",
     "text": [
      "/home/user/.local/lib/python3.10/site-packages/sklearn/preprocessing/_label.py:154: DataConversionWarning: A column-vector y was passed when a 1d array was expected. Please change the shape of y to (n_samples, ), for example using ravel().\n",
      "  y = column_or_1d(y, warn=True)\n"
     ]
    },
    {
     "name": "stdout",
     "output_type": "stream",
     "text": [
      "SCORE: 0.9699792960662525\n"
     ]
    },
    {
     "name": "stderr",
     "output_type": "stream",
     "text": [
      "/home/user/.local/lib/python3.10/site-packages/sklearn/preprocessing/_label.py:154: DataConversionWarning: A column-vector y was passed when a 1d array was expected. Please change the shape of y to (n_samples, ), for example using ravel().\n",
      "  y = column_or_1d(y, warn=True)\n"
     ]
    },
    {
     "name": "stdout",
     "output_type": "stream",
     "text": [
      "SCORE: 0.9937888198757764\n"
     ]
    },
    {
     "name": "stderr",
     "output_type": "stream",
     "text": [
      "/home/user/.local/lib/python3.10/site-packages/sklearn/preprocessing/_label.py:154: DataConversionWarning: A column-vector y was passed when a 1d array was expected. Please change the shape of y to (n_samples, ), for example using ravel().\n",
      "  y = column_or_1d(y, warn=True)\n"
     ]
    },
    {
     "name": "stdout",
     "output_type": "stream",
     "text": [
      "SCORE: 0.9880952380952381\n"
     ]
    },
    {
     "name": "stderr",
     "output_type": "stream",
     "text": [
      "/home/user/.local/lib/python3.10/site-packages/sklearn/preprocessing/_label.py:154: DataConversionWarning: A column-vector y was passed when a 1d array was expected. Please change the shape of y to (n_samples, ), for example using ravel().\n",
      "  y = column_or_1d(y, warn=True)\n"
     ]
    },
    {
     "name": "stdout",
     "output_type": "stream",
     "text": [
      "SCORE: 0.9875541125541127\n"
     ]
    },
    {
     "name": "stderr",
     "output_type": "stream",
     "text": [
      "/home/user/.local/lib/python3.10/site-packages/sklearn/preprocessing/_label.py:154: DataConversionWarning: A column-vector y was passed when a 1d array was expected. Please change the shape of y to (n_samples, ), for example using ravel().\n",
      "  y = column_or_1d(y, warn=True)\n"
     ]
    },
    {
     "name": "stdout",
     "output_type": "stream",
     "text": [
      "SCORE: 0.9761904761904763\n"
     ]
    },
    {
     "name": "stderr",
     "output_type": "stream",
     "text": [
      "/home/user/.local/lib/python3.10/site-packages/sklearn/preprocessing/_label.py:154: DataConversionWarning: A column-vector y was passed when a 1d array was expected. Please change the shape of y to (n_samples, ), for example using ravel().\n",
      "  y = column_or_1d(y, warn=True)\n"
     ]
    },
    {
     "name": "stdout",
     "output_type": "stream",
     "text": [
      "SCORE: 0.9813429324298889\n"
     ]
    },
    {
     "name": "stderr",
     "output_type": "stream",
     "text": [
      "/home/user/.local/lib/python3.10/site-packages/sklearn/preprocessing/_label.py:154: DataConversionWarning: A column-vector y was passed when a 1d array was expected. Please change the shape of y to (n_samples, ), for example using ravel().\n",
      "  y = column_or_1d(y, warn=True)\n"
     ]
    },
    {
     "name": "stdout",
     "output_type": "stream",
     "text": [
      "SCORE: 0.9878364389233955\n"
     ]
    },
    {
     "name": "stderr",
     "output_type": "stream",
     "text": [
      "/home/user/.local/lib/python3.10/site-packages/sklearn/preprocessing/_label.py:154: DataConversionWarning: A column-vector y was passed when a 1d array was expected. Please change the shape of y to (n_samples, ), for example using ravel().\n",
      "  y = column_or_1d(y, warn=True)\n"
     ]
    },
    {
     "name": "stdout",
     "output_type": "stream",
     "text": [
      "SCORE: 0.9821428571428571\n"
     ]
    },
    {
     "name": "stderr",
     "output_type": "stream",
     "text": [
      "/home/user/.local/lib/python3.10/site-packages/sklearn/preprocessing/_label.py:154: DataConversionWarning: A column-vector y was passed when a 1d array was expected. Please change the shape of y to (n_samples, ), for example using ravel().\n",
      "  y = column_or_1d(y, warn=True)\n"
     ]
    },
    {
     "name": "stdout",
     "output_type": "stream",
     "text": [
      "SCORE: 0.9875541125541127\n"
     ]
    },
    {
     "name": "stderr",
     "output_type": "stream",
     "text": [
      "/home/user/.local/lib/python3.10/site-packages/sklearn/preprocessing/_label.py:154: DataConversionWarning: A column-vector y was passed when a 1d array was expected. Please change the shape of y to (n_samples, ), for example using ravel().\n",
      "  y = column_or_1d(y, warn=True)\n"
     ]
    },
    {
     "name": "stdout",
     "output_type": "stream",
     "text": [
      "SCORE: 0.988095238095238\n",
      "SCORE: 0.9510399021268586\n"
     ]
    },
    {
     "name": "stderr",
     "output_type": "stream",
     "text": [
      "/home/user/.local/lib/python3.10/site-packages/sklearn/preprocessing/_label.py:154: DataConversionWarning: A column-vector y was passed when a 1d array was expected. Please change the shape of y to (n_samples, ), for example using ravel().\n",
      "  y = column_or_1d(y, warn=True)\n",
      "/home/user/.local/lib/python3.10/site-packages/sklearn/preprocessing/_label.py:154: DataConversionWarning: A column-vector y was passed when a 1d array was expected. Please change the shape of y to (n_samples, ), for example using ravel().\n",
      "  y = column_or_1d(y, warn=True)\n"
     ]
    },
    {
     "name": "stdout",
     "output_type": "stream",
     "text": [
      "SCORE: 0.9937888198757764\n"
     ]
    },
    {
     "name": "stderr",
     "output_type": "stream",
     "text": [
      "/home/user/.local/lib/python3.10/site-packages/sklearn/preprocessing/_label.py:154: DataConversionWarning: A column-vector y was passed when a 1d array was expected. Please change the shape of y to (n_samples, ), for example using ravel().\n",
      "  y = column_or_1d(y, warn=True)\n"
     ]
    },
    {
     "name": "stdout",
     "output_type": "stream",
     "text": [
      "SCORE: 0.9567127799736496\n"
     ]
    },
    {
     "name": "stderr",
     "output_type": "stream",
     "text": [
      "/home/user/.local/lib/python3.10/site-packages/sklearn/preprocessing/_label.py:154: DataConversionWarning: A column-vector y was passed when a 1d array was expected. Please change the shape of y to (n_samples, ), for example using ravel().\n",
      "  y = column_or_1d(y, warn=True)\n"
     ]
    },
    {
     "name": "stdout",
     "output_type": "stream",
     "text": [
      "SCORE: 0.9766666666666666\n"
     ]
    },
    {
     "name": "stderr",
     "output_type": "stream",
     "text": [
      "/home/user/.local/lib/python3.10/site-packages/sklearn/preprocessing/_label.py:154: DataConversionWarning: A column-vector y was passed when a 1d array was expected. Please change the shape of y to (n_samples, ), for example using ravel().\n",
      "  y = column_or_1d(y, warn=True)\n"
     ]
    },
    {
     "name": "stdout",
     "output_type": "stream",
     "text": [
      "SCORE: 0.9696320346320346\n"
     ]
    },
    {
     "name": "stderr",
     "output_type": "stream",
     "text": [
      "/home/user/.local/lib/python3.10/site-packages/sklearn/preprocessing/_label.py:154: DataConversionWarning: A column-vector y was passed when a 1d array was expected. Please change the shape of y to (n_samples, ), for example using ravel().\n",
      "  y = column_or_1d(y, warn=True)\n"
     ]
    },
    {
     "name": "stdout",
     "output_type": "stream",
     "text": [
      "SCORE: 0.9942857142857143\n"
     ]
    },
    {
     "name": "stderr",
     "output_type": "stream",
     "text": [
      "/home/user/.local/lib/python3.10/site-packages/sklearn/preprocessing/_label.py:154: DataConversionWarning: A column-vector y was passed when a 1d array was expected. Please change the shape of y to (n_samples, ), for example using ravel().\n",
      "  y = column_or_1d(y, warn=True)\n"
     ]
    },
    {
     "name": "stdout",
     "output_type": "stream",
     "text": [
      "SCORE: 0.9398051948051948\n",
      "SCORE: 0.987012987012987\n",
      "CPU times: user 10min 57s, sys: 1min 2s, total: 12min\n",
      "Wall time: 1h 24min 6s\n"
     ]
    },
    {
     "name": "stderr",
     "output_type": "stream",
     "text": [
      "/home/user/.local/lib/python3.10/site-packages/sklearn/preprocessing/_label.py:154: DataConversionWarning: A column-vector y was passed when a 1d array was expected. Please change the shape of y to (n_samples, ), for example using ravel().\n",
      "  y = column_or_1d(y, warn=True)\n"
     ]
    },
    {
     "data": {
      "text/plain": [
       "(0.9775199196938328,\n",
       " [0.9745670995670995,\n",
       "  0.9575334086203652,\n",
       "  0.9637445887445887,\n",
       "  0.9821428571428571,\n",
       "  0.9580745341614908,\n",
       "  0.9632034632034632,\n",
       "  0.9751082251082251,\n",
       "  0.9937888198757764,\n",
       "  0.9878364389233953,\n",
       "  0.9821428571428571,\n",
       "  0.988095238095238,\n",
       "  0.9878364389233955,\n",
       "  0.9699792960662525,\n",
       "  0.9937888198757764,\n",
       "  0.9880952380952381,\n",
       "  0.9875541125541127,\n",
       "  0.9761904761904763,\n",
       "  0.9813429324298889,\n",
       "  0.9878364389233955,\n",
       "  0.9821428571428571,\n",
       "  0.9875541125541127,\n",
       "  0.988095238095238,\n",
       "  0.9510399021268586,\n",
       "  0.9937888198757764,\n",
       "  0.9567127799736496,\n",
       "  0.9766666666666666,\n",
       "  0.9696320346320346,\n",
       "  0.9942857142857143,\n",
       "  0.9398051948051948,\n",
       "  0.987012987012987])"
      ]
     },
     "execution_count": 390,
     "metadata": {},
     "output_type": "execute_result"
    }
   ],
   "source": [
    "%%time\n",
    "# PUBLIC: 0.979615\n",
    "# k = 10!!!!!!!!!!!!!\n",
    "knn = Pipeline([('dropper', FeaturesFilter([i for i, c in enumerate(X_train.columns) if '=' not in c and 'distance' not in c])),\n",
    "                ('scaler', StandardScaler()),\n",
    "                ('knn', KNeighborsClassifier(8, weights='distance', p=2))])\n",
    "logreg = Pipeline([('scaler', StandardScaler()),\n",
    "                   ('logreg', LogisticRegression(penalty='l1', C=0.5, solver='liblinear', random_state=228))])\n",
    "svc = Pipeline([('dropper', FeaturesFilter([i for i, c in enumerate(X_train.columns) if 'distance' not in c])),\n",
    "                ('scaler', StandardScaler()),\n",
    "                ('svc', SVC(C=2.5, kernel='rbf', random_state=228))])\n",
    "mlp = Pipeline([('min_max', StandardScaler()),\n",
    "                ('mlp', MLPClassifier(max_iter=500, hidden_layer_sizes=(50, ), activation='tanh', random_state=228))])\n",
    "rf = Pipeline([('dropper', FeaturesFilter([i for i, c in enumerate(X_train.columns) if 'distance' not in c and '=' not in c])),\n",
    "               ('rf', RandomForestClassifier(n_estimators=500, max_features='log2', min_samples_split=3, random_state=228))])\n",
    "lgbm_1 = LGBMClassifier(boosting_type='dart', learning_rate=0.2, n_estimators=150, random_state=228)\n",
    "lgbm_2 = Pipeline([\n",
    "    ('dropper', FeaturesFilter([i for i, c in enumerate(X_train.columns) if '=' not in c])),\n",
    "    ('lgbm', LGBMClassifier(boosting_type='gbdt', learning_rate=0.1, n_estimators=200, random_state=18))\n",
    "])\n",
    "lgbm_3 = LGBMClassifier(boosting_type='gbdt', learning_rate=0.1, n_estimators=500, random_state=228228)\n",
    "ctb = CatBoostClassifier(n_estimators=300, depth=6, random_state=228, verbose=False)\n",
    "\n",
    "estimators = [\n",
    "    ('knn', knn),\n",
    "    ('logreg', logreg),\n",
    "    ('svc', svc),\n",
    "    ('mlp', mlp),\n",
    "    ('rf', rf),\n",
    "    ('lgbm_1', lgbm_1),\n",
    "    ('lgbm_2', lgbm_2),\n",
    "    ('lgbm_3', lgbm_3),\n",
    "    ('ctb', ctb)\n",
    "]\n",
    "clf = StackingClassifier(estimators=estimators, final_estimator=CatBoostClassifier(depth=2, verbose=False, random_state=228), n_jobs=-1)\n",
    "scores, model = cross_val_score(clf, X_train, y_train, random_state=18, n_splits=30)\n",
    "np.mean(scores), scores"
   ]
  },
  {
   "cell_type": "code",
   "execution_count": 319,
   "metadata": {},
   "outputs": [
    {
     "name": "stderr",
     "output_type": "stream",
     "text": [
      "/home/user/.local/lib/python3.10/site-packages/sklearn/preprocessing/_label.py:154: DataConversionWarning: A column-vector y was passed when a 1d array was expected. Please change the shape of y to (n_samples, ), for example using ravel().\n",
      "  y = column_or_1d(y, warn=True)\n"
     ]
    },
    {
     "name": "stdout",
     "output_type": "stream",
     "text": [
      "SCORE: 0.9745670995670995\n"
     ]
    },
    {
     "name": "stderr",
     "output_type": "stream",
     "text": [
      "/home/user/.local/lib/python3.10/site-packages/sklearn/preprocessing/_label.py:154: DataConversionWarning: A column-vector y was passed when a 1d array was expected. Please change the shape of y to (n_samples, ), for example using ravel().\n",
      "  y = column_or_1d(y, warn=True)\n"
     ]
    },
    {
     "name": "stdout",
     "output_type": "stream",
     "text": [
      "SCORE: 0.9577922077922078\n"
     ]
    },
    {
     "name": "stderr",
     "output_type": "stream",
     "text": [
      "/home/user/.local/lib/python3.10/site-packages/sklearn/preprocessing/_label.py:154: DataConversionWarning: A column-vector y was passed when a 1d array was expected. Please change the shape of y to (n_samples, ), for example using ravel().\n",
      "  y = column_or_1d(y, warn=True)\n"
     ]
    },
    {
     "name": "stdout",
     "output_type": "stream",
     "text": [
      "SCORE: 0.9696969696969696\n"
     ]
    },
    {
     "name": "stderr",
     "output_type": "stream",
     "text": [
      "/home/user/.local/lib/python3.10/site-packages/sklearn/preprocessing/_label.py:154: DataConversionWarning: A column-vector y was passed when a 1d array was expected. Please change the shape of y to (n_samples, ), for example using ravel().\n",
      "  y = column_or_1d(y, warn=True)\n"
     ]
    },
    {
     "name": "stdout",
     "output_type": "stream",
     "text": [
      "SCORE: 0.9880952380952381\n"
     ]
    },
    {
     "name": "stderr",
     "output_type": "stream",
     "text": [
      "/home/user/.local/lib/python3.10/site-packages/sklearn/preprocessing/_label.py:154: DataConversionWarning: A column-vector y was passed when a 1d array was expected. Please change the shape of y to (n_samples, ), for example using ravel().\n",
      "  y = column_or_1d(y, warn=True)\n"
     ]
    },
    {
     "name": "stdout",
     "output_type": "stream",
     "text": [
      "SCORE: 0.9461697722567288\n"
     ]
    },
    {
     "name": "stderr",
     "output_type": "stream",
     "text": [
      "/home/user/.local/lib/python3.10/site-packages/sklearn/preprocessing/_label.py:154: DataConversionWarning: A column-vector y was passed when a 1d array was expected. Please change the shape of y to (n_samples, ), for example using ravel().\n",
      "  y = column_or_1d(y, warn=True)\n"
     ]
    },
    {
     "name": "stdout",
     "output_type": "stream",
     "text": [
      "SCORE: 0.9691558441558442\n"
     ]
    },
    {
     "name": "stderr",
     "output_type": "stream",
     "text": [
      "/home/user/.local/lib/python3.10/site-packages/sklearn/preprocessing/_label.py:154: DataConversionWarning: A column-vector y was passed when a 1d array was expected. Please change the shape of y to (n_samples, ), for example using ravel().\n",
      "  y = column_or_1d(y, warn=True)\n"
     ]
    },
    {
     "name": "stdout",
     "output_type": "stream",
     "text": [
      "SCORE: 0.9935064935064936\n"
     ]
    },
    {
     "name": "stderr",
     "output_type": "stream",
     "text": [
      "/home/user/.local/lib/python3.10/site-packages/sklearn/preprocessing/_label.py:154: DataConversionWarning: A column-vector y was passed when a 1d array was expected. Please change the shape of y to (n_samples, ), for example using ravel().\n",
      "  y = column_or_1d(y, warn=True)\n"
     ]
    },
    {
     "name": "stdout",
     "output_type": "stream",
     "text": [
      "SCORE: 0.9759316770186335\n"
     ]
    },
    {
     "name": "stderr",
     "output_type": "stream",
     "text": [
      "/home/user/.local/lib/python3.10/site-packages/sklearn/preprocessing/_label.py:154: DataConversionWarning: A column-vector y was passed when a 1d array was expected. Please change the shape of y to (n_samples, ), for example using ravel().\n",
      "  y = column_or_1d(y, warn=True)\n"
     ]
    },
    {
     "name": "stdout",
     "output_type": "stream",
     "text": [
      "SCORE: 0.96972049689441\n"
     ]
    },
    {
     "name": "stderr",
     "output_type": "stream",
     "text": [
      "/home/user/.local/lib/python3.10/site-packages/sklearn/preprocessing/_label.py:154: DataConversionWarning: A column-vector y was passed when a 1d array was expected. Please change the shape of y to (n_samples, ), for example using ravel().\n",
      "  y = column_or_1d(y, warn=True)\n"
     ]
    },
    {
     "name": "stdout",
     "output_type": "stream",
     "text": [
      "SCORE: 0.9759316770186335\n"
     ]
    },
    {
     "name": "stderr",
     "output_type": "stream",
     "text": [
      "/home/user/.local/lib/python3.10/site-packages/sklearn/preprocessing/_label.py:154: DataConversionWarning: A column-vector y was passed when a 1d array was expected. Please change the shape of y to (n_samples, ), for example using ravel().\n",
      "  y = column_or_1d(y, warn=True)\n"
     ]
    },
    {
     "name": "stdout",
     "output_type": "stream",
     "text": [
      "SCORE: 0.9699792960662525\n"
     ]
    },
    {
     "name": "stderr",
     "output_type": "stream",
     "text": [
      "/home/user/.local/lib/python3.10/site-packages/sklearn/preprocessing/_label.py:154: DataConversionWarning: A column-vector y was passed when a 1d array was expected. Please change the shape of y to (n_samples, ), for example using ravel().\n",
      "  y = column_or_1d(y, warn=True)\n"
     ]
    },
    {
     "name": "stdout",
     "output_type": "stream",
     "text": [
      "SCORE: 0.9937888198757764\n"
     ]
    },
    {
     "name": "stderr",
     "output_type": "stream",
     "text": [
      "/home/user/.local/lib/python3.10/site-packages/sklearn/preprocessing/_label.py:154: DataConversionWarning: A column-vector y was passed when a 1d array was expected. Please change the shape of y to (n_samples, ), for example using ravel().\n",
      "  y = column_or_1d(y, warn=True)\n"
     ]
    },
    {
     "name": "stdout",
     "output_type": "stream",
     "text": [
      "SCORE: 0.9697204968944099\n"
     ]
    },
    {
     "name": "stderr",
     "output_type": "stream",
     "text": [
      "/home/user/.local/lib/python3.10/site-packages/sklearn/preprocessing/_label.py:154: DataConversionWarning: A column-vector y was passed when a 1d array was expected. Please change the shape of y to (n_samples, ), for example using ravel().\n",
      "  y = column_or_1d(y, warn=True)\n"
     ]
    },
    {
     "name": "stdout",
     "output_type": "stream",
     "text": [
      "SCORE: 0.9878364389233953\n"
     ]
    },
    {
     "name": "stderr",
     "output_type": "stream",
     "text": [
      "/home/user/.local/lib/python3.10/site-packages/sklearn/preprocessing/_label.py:154: DataConversionWarning: A column-vector y was passed when a 1d array was expected. Please change the shape of y to (n_samples, ), for example using ravel().\n",
      "  y = column_or_1d(y, warn=True)\n"
     ]
    },
    {
     "name": "stdout",
     "output_type": "stream",
     "text": [
      "SCORE: 0.987012987012987\n"
     ]
    },
    {
     "name": "stderr",
     "output_type": "stream",
     "text": [
      "/home/user/.local/lib/python3.10/site-packages/sklearn/preprocessing/_label.py:154: DataConversionWarning: A column-vector y was passed when a 1d array was expected. Please change the shape of y to (n_samples, ), for example using ravel().\n",
      "  y = column_or_1d(y, warn=True)\n"
     ]
    },
    {
     "name": "stdout",
     "output_type": "stream",
     "text": [
      "SCORE: 0.9875541125541127\n"
     ]
    },
    {
     "name": "stderr",
     "output_type": "stream",
     "text": [
      "/home/user/.local/lib/python3.10/site-packages/sklearn/preprocessing/_label.py:154: DataConversionWarning: A column-vector y was passed when a 1d array was expected. Please change the shape of y to (n_samples, ), for example using ravel().\n",
      "  y = column_or_1d(y, warn=True)\n"
     ]
    },
    {
     "name": "stdout",
     "output_type": "stream",
     "text": [
      "SCORE: 0.9761904761904763\n"
     ]
    },
    {
     "name": "stderr",
     "output_type": "stream",
     "text": [
      "/home/user/.local/lib/python3.10/site-packages/sklearn/preprocessing/_label.py:154: DataConversionWarning: A column-vector y was passed when a 1d array was expected. Please change the shape of y to (n_samples, ), for example using ravel().\n",
      "  y = column_or_1d(y, warn=True)\n"
     ]
    },
    {
     "name": "stdout",
     "output_type": "stream",
     "text": [
      "SCORE: 0.9818840579710145\n"
     ]
    },
    {
     "name": "stderr",
     "output_type": "stream",
     "text": [
      "/home/user/.local/lib/python3.10/site-packages/sklearn/preprocessing/_label.py:154: DataConversionWarning: A column-vector y was passed when a 1d array was expected. Please change the shape of y to (n_samples, ), for example using ravel().\n",
      "  y = column_or_1d(y, warn=True)\n"
     ]
    },
    {
     "name": "stdout",
     "output_type": "stream",
     "text": [
      "SCORE: 0.9878364389233955\n"
     ]
    },
    {
     "name": "stderr",
     "output_type": "stream",
     "text": [
      "/home/user/.local/lib/python3.10/site-packages/sklearn/preprocessing/_label.py:154: DataConversionWarning: A column-vector y was passed when a 1d array was expected. Please change the shape of y to (n_samples, ), for example using ravel().\n",
      "  y = column_or_1d(y, warn=True)\n"
     ]
    },
    {
     "name": "stdout",
     "output_type": "stream",
     "text": [
      "SCORE: 0.9761904761904762\n"
     ]
    },
    {
     "name": "stderr",
     "output_type": "stream",
     "text": [
      "/home/user/.local/lib/python3.10/site-packages/sklearn/preprocessing/_label.py:154: DataConversionWarning: A column-vector y was passed when a 1d array was expected. Please change the shape of y to (n_samples, ), for example using ravel().\n",
      "  y = column_or_1d(y, warn=True)\n"
     ]
    },
    {
     "name": "stdout",
     "output_type": "stream",
     "text": [
      "SCORE: 0.9816017316017316\n"
     ]
    },
    {
     "name": "stderr",
     "output_type": "stream",
     "text": [
      "/home/user/.local/lib/python3.10/site-packages/sklearn/preprocessing/_label.py:154: DataConversionWarning: A column-vector y was passed when a 1d array was expected. Please change the shape of y to (n_samples, ), for example using ravel().\n",
      "  y = column_or_1d(y, warn=True)\n"
     ]
    },
    {
     "name": "stdout",
     "output_type": "stream",
     "text": [
      "SCORE: 0.9816017316017316\n"
     ]
    },
    {
     "name": "stderr",
     "output_type": "stream",
     "text": [
      "/home/user/.local/lib/python3.10/site-packages/sklearn/preprocessing/_label.py:154: DataConversionWarning: A column-vector y was passed when a 1d array was expected. Please change the shape of y to (n_samples, ), for example using ravel().\n",
      "  y = column_or_1d(y, warn=True)\n"
     ]
    },
    {
     "name": "stdout",
     "output_type": "stream",
     "text": [
      "SCORE: 0.9634857895727461\n"
     ]
    },
    {
     "name": "stderr",
     "output_type": "stream",
     "text": [
      "/home/user/.local/lib/python3.10/site-packages/sklearn/preprocessing/_label.py:154: DataConversionWarning: A column-vector y was passed when a 1d array was expected. Please change the shape of y to (n_samples, ), for example using ravel().\n",
      "  y = column_or_1d(y, warn=True)\n"
     ]
    },
    {
     "name": "stdout",
     "output_type": "stream",
     "text": [
      "SCORE: 0.9878364389233955\n"
     ]
    },
    {
     "name": "stderr",
     "output_type": "stream",
     "text": [
      "/home/user/.local/lib/python3.10/site-packages/sklearn/preprocessing/_label.py:154: DataConversionWarning: A column-vector y was passed when a 1d array was expected. Please change the shape of y to (n_samples, ), for example using ravel().\n",
      "  y = column_or_1d(y, warn=True)\n"
     ]
    },
    {
     "name": "stdout",
     "output_type": "stream",
     "text": [
      "SCORE: 0.9626651609260305\n"
     ]
    },
    {
     "name": "stderr",
     "output_type": "stream",
     "text": [
      "/home/user/.local/lib/python3.10/site-packages/sklearn/preprocessing/_label.py:154: DataConversionWarning: A column-vector y was passed when a 1d array was expected. Please change the shape of y to (n_samples, ), for example using ravel().\n",
      "  y = column_or_1d(y, warn=True)\n"
     ]
    },
    {
     "name": "stdout",
     "output_type": "stream",
     "text": [
      "SCORE: 0.9823809523809525\n"
     ]
    },
    {
     "name": "stderr",
     "output_type": "stream",
     "text": [
      "/home/user/.local/lib/python3.10/site-packages/sklearn/preprocessing/_label.py:154: DataConversionWarning: A column-vector y was passed when a 1d array was expected. Please change the shape of y to (n_samples, ), for example using ravel().\n",
      "  y = column_or_1d(y, warn=True)\n"
     ]
    },
    {
     "name": "stdout",
     "output_type": "stream",
     "text": [
      "SCORE: 0.9763636363636363\n"
     ]
    },
    {
     "name": "stderr",
     "output_type": "stream",
     "text": [
      "/home/user/.local/lib/python3.10/site-packages/sklearn/preprocessing/_label.py:154: DataConversionWarning: A column-vector y was passed when a 1d array was expected. Please change the shape of y to (n_samples, ), for example using ravel().\n",
      "  y = column_or_1d(y, warn=True)\n"
     ]
    },
    {
     "name": "stdout",
     "output_type": "stream",
     "text": [
      "SCORE: 0.9942857142857143\n"
     ]
    },
    {
     "name": "stderr",
     "output_type": "stream",
     "text": [
      "/home/user/.local/lib/python3.10/site-packages/sklearn/preprocessing/_label.py:154: DataConversionWarning: A column-vector y was passed when a 1d array was expected. Please change the shape of y to (n_samples, ), for example using ravel().\n",
      "  y = column_or_1d(y, warn=True)\n"
     ]
    },
    {
     "name": "stdout",
     "output_type": "stream",
     "text": [
      "SCORE: 0.9455194805194804\n",
      "SCORE: 0.994047619047619\n",
      "CPU times: user 9min 6s, sys: 58.2 s, total: 10min 4s\n",
      "Wall time: 59min 15s\n"
     ]
    },
    {
     "name": "stderr",
     "output_type": "stream",
     "text": [
      "/home/user/.local/lib/python3.10/site-packages/sklearn/preprocessing/_label.py:154: DataConversionWarning: A column-vector y was passed when a 1d array was expected. Please change the shape of y to (n_samples, ), for example using ravel().\n",
      "  y = column_or_1d(y, warn=True)\n"
     ]
    },
    {
     "data": {
      "text/plain": [
       "(0.9769449777275864,\n",
       " [0.9745670995670995,\n",
       "  0.9577922077922078,\n",
       "  0.9696969696969696,\n",
       "  0.9880952380952381,\n",
       "  0.9461697722567288,\n",
       "  0.9691558441558442,\n",
       "  0.9935064935064936,\n",
       "  0.9759316770186335,\n",
       "  0.96972049689441,\n",
       "  0.9759316770186335,\n",
       "  0.9699792960662525,\n",
       "  0.9937888198757764,\n",
       "  0.9697204968944099,\n",
       "  0.9878364389233953,\n",
       "  0.987012987012987,\n",
       "  0.9875541125541127,\n",
       "  0.9761904761904763,\n",
       "  0.9818840579710145,\n",
       "  0.9878364389233955,\n",
       "  0.9761904761904762,\n",
       "  0.9816017316017316,\n",
       "  0.9816017316017316,\n",
       "  0.9634857895727461,\n",
       "  0.9878364389233955,\n",
       "  0.9626651609260305,\n",
       "  0.9823809523809525,\n",
       "  0.9763636363636363,\n",
       "  0.9942857142857143,\n",
       "  0.9455194805194804,\n",
       "  0.994047619047619])"
      ]
     },
     "execution_count": 319,
     "metadata": {},
     "output_type": "execute_result"
    }
   ],
   "source": [
    "%%time\n",
    "# PUBLIC: 0.984433\n",
    "kd = KDTree(X_train[['x_centroid', 'y_centroid']].values, metric='euclidean')\n",
    "\n",
    "def generate_features(df, mode, df_reference):\n",
    "    nd_cols = [col for col in df.columns if col.startswith('nd')]\n",
    "    for col in nd_cols:\n",
    "        df[f'{col}_bin'] = df[col] > 0.29\n",
    "        \n",
    "    k = 5\n",
    "    if mode == 'train':\n",
    "        k += 1  \n",
    "    distances, indices = kd.query(df[['x_centroid', 'y_centroid']], k=k)\n",
    "    \n",
    "    if mode == 'train':\n",
    "        distances = distances[:, 1:]\n",
    "        indices = indices[:, 1:]\n",
    "        \n",
    "    if mode == \"train\":\n",
    "        k-=1\n",
    "    for i in range(k):\n",
    "        df[f'distance_{i}'] = distances[:, i]\n",
    "        df = df.join(pd.get_dummies(df_reference['crop'].values[indices[:, i]], prefix=f'closest_{i}_label=', prefix_sep=''))\n",
    "\n",
    "    return df\n",
    "\n",
    "\n",
    "knn = Pipeline([('scaler', StandardScaler()),\n",
    "                ('knn', KNeighborsClassifier(7, weights='distance', p=2))])\n",
    "logreg = Pipeline([('scaler', StandardScaler()),\n",
    "                   ('logreg', LogisticRegression(penalty='l1', C=0.5, solver='liblinear', random_state=228))])\n",
    "svc = Pipeline([('min_max', StandardScaler()),\n",
    "                ('svc', SVC(C=4, kernel='rbf', random_state=228))])\n",
    "mlp = Pipeline([('min_max', StandardScaler()),\n",
    "                ('mlp', MLPClassifier(max_iter=500, hidden_layer_sizes=(50, ), activation='tanh', random_state=228))])\n",
    "rf = RandomForestClassifier(n_estimators=500, max_features='log2', min_samples_split=3, random_state=228)\n",
    "lgbm_1 = LGBMClassifier(boosting_type='dart', learning_rate=0.2, n_estimators=150, random_state=228)\n",
    "lgbm_2 = Pipeline([\n",
    "    ('dropper', FeaturesFilter([i for i, c in enumerate(X_train.columns) if '=' not in c])),\n",
    "    ('lgbm', LGBMClassifier(boosting_type='gbdt', learning_rate=0.1, n_estimators=100, random_state=18))\n",
    "])\n",
    "ctb = CatBoostClassifier(n_estimators=300, depth=6, random_state=228, verbose=False)\n",
    "\n",
    "estimators = [\n",
    "    ('knn', knn),\n",
    "    ('logreg', logreg),\n",
    "    ('svc', svc),\n",
    "    ('mlp', mlp),\n",
    "    ('rf', rf),\n",
    "    ('lgbm_1', lgbm_1),\n",
    "    ('lgbm_2', lgbm_2),\n",
    "    ('ctb', ctb)\n",
    "]\n",
    "clf = StackingClassifier(estimators=estimators, final_estimator=CatBoostClassifier(max_depth=2, random_state=228, verbose=False), n_jobs=-1)\n",
    "scores, model = cross_val_score(clf, X_train, y_train, random_state=18, n_splits=30)\n",
    "np.mean(scores), scores"
   ]
  },
  {
   "cell_type": "code",
   "execution_count": 320,
   "metadata": {},
   "outputs": [
    {
     "name": "stderr",
     "output_type": "stream",
     "text": [
      "/home/user/.local/lib/python3.10/site-packages/sklearn/preprocessing/_label.py:154: DataConversionWarning: A column-vector y was passed when a 1d array was expected. Please change the shape of y to (n_samples, ), for example using ravel().\n",
      "  y = column_or_1d(y, warn=True)\n"
     ]
    },
    {
     "name": "stdout",
     "output_type": "stream",
     "text": [
      "SCORE: 0.9686147186147186\n"
     ]
    },
    {
     "name": "stderr",
     "output_type": "stream",
     "text": [
      "/home/user/.local/lib/python3.10/site-packages/sklearn/preprocessing/_label.py:154: DataConversionWarning: A column-vector y was passed when a 1d array was expected. Please change the shape of y to (n_samples, ), for example using ravel().\n",
      "  y = column_or_1d(y, warn=True)\n"
     ]
    },
    {
     "name": "stdout",
     "output_type": "stream",
     "text": [
      "SCORE: 0.9580745341614907\n"
     ]
    },
    {
     "name": "stderr",
     "output_type": "stream",
     "text": [
      "/home/user/.local/lib/python3.10/site-packages/sklearn/preprocessing/_label.py:154: DataConversionWarning: A column-vector y was passed when a 1d array was expected. Please change the shape of y to (n_samples, ), for example using ravel().\n",
      "  y = column_or_1d(y, warn=True)\n"
     ]
    },
    {
     "name": "stdout",
     "output_type": "stream",
     "text": [
      "SCORE: 0.9637445887445887\n"
     ]
    },
    {
     "name": "stderr",
     "output_type": "stream",
     "text": [
      "/home/user/.local/lib/python3.10/site-packages/sklearn/preprocessing/_label.py:154: DataConversionWarning: A column-vector y was passed when a 1d array was expected. Please change the shape of y to (n_samples, ), for example using ravel().\n",
      "  y = column_or_1d(y, warn=True)\n"
     ]
    },
    {
     "name": "stdout",
     "output_type": "stream",
     "text": [
      "SCORE: 0.9880952380952381\n"
     ]
    },
    {
     "name": "stderr",
     "output_type": "stream",
     "text": [
      "/home/user/.local/lib/python3.10/site-packages/sklearn/preprocessing/_label.py:154: DataConversionWarning: A column-vector y was passed when a 1d array was expected. Please change the shape of y to (n_samples, ), for example using ravel().\n",
      "  y = column_or_1d(y, warn=True)\n"
     ]
    },
    {
     "name": "stdout",
     "output_type": "stream",
     "text": [
      "SCORE: 0.9580745341614907\n"
     ]
    },
    {
     "name": "stderr",
     "output_type": "stream",
     "text": [
      "/home/user/.local/lib/python3.10/site-packages/sklearn/preprocessing/_label.py:154: DataConversionWarning: A column-vector y was passed when a 1d array was expected. Please change the shape of y to (n_samples, ), for example using ravel().\n",
      "  y = column_or_1d(y, warn=True)\n"
     ]
    },
    {
     "name": "stdout",
     "output_type": "stream",
     "text": [
      "SCORE: 0.9691558441558442\n"
     ]
    },
    {
     "name": "stderr",
     "output_type": "stream",
     "text": [
      "/home/user/.local/lib/python3.10/site-packages/sklearn/preprocessing/_label.py:154: DataConversionWarning: A column-vector y was passed when a 1d array was expected. Please change the shape of y to (n_samples, ), for example using ravel().\n",
      "  y = column_or_1d(y, warn=True)\n"
     ]
    },
    {
     "name": "stdout",
     "output_type": "stream",
     "text": [
      "SCORE: 0.9935064935064936\n"
     ]
    },
    {
     "name": "stderr",
     "output_type": "stream",
     "text": [
      "/home/user/.local/lib/python3.10/site-packages/sklearn/preprocessing/_label.py:154: DataConversionWarning: A column-vector y was passed when a 1d array was expected. Please change the shape of y to (n_samples, ), for example using ravel().\n",
      "  y = column_or_1d(y, warn=True)\n"
     ]
    },
    {
     "name": "stdout",
     "output_type": "stream",
     "text": [
      "SCORE: 0.9759316770186335\n"
     ]
    },
    {
     "name": "stderr",
     "output_type": "stream",
     "text": [
      "/home/user/.local/lib/python3.10/site-packages/sklearn/preprocessing/_label.py:154: DataConversionWarning: A column-vector y was passed when a 1d array was expected. Please change the shape of y to (n_samples, ), for example using ravel().\n",
      "  y = column_or_1d(y, warn=True)\n"
     ]
    },
    {
     "name": "stdout",
     "output_type": "stream",
     "text": [
      "SCORE: 0.9756728778467909\n"
     ]
    },
    {
     "name": "stderr",
     "output_type": "stream",
     "text": [
      "/home/user/.local/lib/python3.10/site-packages/sklearn/preprocessing/_label.py:154: DataConversionWarning: A column-vector y was passed when a 1d array was expected. Please change the shape of y to (n_samples, ), for example using ravel().\n",
      "  y = column_or_1d(y, warn=True)\n"
     ]
    },
    {
     "name": "stdout",
     "output_type": "stream",
     "text": [
      "SCORE: 0.9699792960662527\n"
     ]
    },
    {
     "name": "stderr",
     "output_type": "stream",
     "text": [
      "/home/user/.local/lib/python3.10/site-packages/sklearn/preprocessing/_label.py:154: DataConversionWarning: A column-vector y was passed when a 1d array was expected. Please change the shape of y to (n_samples, ), for example using ravel().\n",
      "  y = column_or_1d(y, warn=True)\n"
     ]
    },
    {
     "name": "stdout",
     "output_type": "stream",
     "text": [
      "SCORE: 0.9818840579710144\n"
     ]
    },
    {
     "name": "stderr",
     "output_type": "stream",
     "text": [
      "/home/user/.local/lib/python3.10/site-packages/sklearn/preprocessing/_label.py:154: DataConversionWarning: A column-vector y was passed when a 1d array was expected. Please change the shape of y to (n_samples, ), for example using ravel().\n",
      "  y = column_or_1d(y, warn=True)\n"
     ]
    },
    {
     "name": "stdout",
     "output_type": "stream",
     "text": [
      "SCORE: 0.9937888198757764\n"
     ]
    },
    {
     "name": "stderr",
     "output_type": "stream",
     "text": [
      "/home/user/.local/lib/python3.10/site-packages/sklearn/preprocessing/_label.py:154: DataConversionWarning: A column-vector y was passed when a 1d array was expected. Please change the shape of y to (n_samples, ), for example using ravel().\n",
      "  y = column_or_1d(y, warn=True)\n"
     ]
    },
    {
     "name": "stdout",
     "output_type": "stream",
     "text": [
      "SCORE: 0.9759316770186335\n"
     ]
    },
    {
     "name": "stderr",
     "output_type": "stream",
     "text": [
      "/home/user/.local/lib/python3.10/site-packages/sklearn/preprocessing/_label.py:154: DataConversionWarning: A column-vector y was passed when a 1d array was expected. Please change the shape of y to (n_samples, ), for example using ravel().\n",
      "  y = column_or_1d(y, warn=True)\n"
     ]
    },
    {
     "name": "stdout",
     "output_type": "stream",
     "text": [
      "SCORE: 0.9878364389233953\n"
     ]
    },
    {
     "name": "stderr",
     "output_type": "stream",
     "text": [
      "/home/user/.local/lib/python3.10/site-packages/sklearn/preprocessing/_label.py:154: DataConversionWarning: A column-vector y was passed when a 1d array was expected. Please change the shape of y to (n_samples, ), for example using ravel().\n",
      "  y = column_or_1d(y, warn=True)\n"
     ]
    },
    {
     "name": "stdout",
     "output_type": "stream",
     "text": [
      "SCORE: 0.9810606060606062\n"
     ]
    },
    {
     "name": "stderr",
     "output_type": "stream",
     "text": [
      "/home/user/.local/lib/python3.10/site-packages/sklearn/preprocessing/_label.py:154: DataConversionWarning: A column-vector y was passed when a 1d array was expected. Please change the shape of y to (n_samples, ), for example using ravel().\n",
      "  y = column_or_1d(y, warn=True)\n"
     ]
    },
    {
     "name": "stdout",
     "output_type": "stream",
     "text": [
      "SCORE: 0.9935064935064936\n"
     ]
    },
    {
     "name": "stderr",
     "output_type": "stream",
     "text": [
      "/home/user/.local/lib/python3.10/site-packages/sklearn/preprocessing/_label.py:154: DataConversionWarning: A column-vector y was passed when a 1d array was expected. Please change the shape of y to (n_samples, ), for example using ravel().\n",
      "  y = column_or_1d(y, warn=True)\n"
     ]
    },
    {
     "name": "stdout",
     "output_type": "stream",
     "text": [
      "SCORE: 0.9761904761904763\n"
     ]
    },
    {
     "name": "stderr",
     "output_type": "stream",
     "text": [
      "/home/user/.local/lib/python3.10/site-packages/sklearn/preprocessing/_label.py:154: DataConversionWarning: A column-vector y was passed when a 1d array was expected. Please change the shape of y to (n_samples, ), for example using ravel().\n",
      "  y = column_or_1d(y, warn=True)\n"
     ]
    },
    {
     "name": "stdout",
     "output_type": "stream",
     "text": [
      "SCORE: 0.9753905514775081\n"
     ]
    },
    {
     "name": "stderr",
     "output_type": "stream",
     "text": [
      "/home/user/.local/lib/python3.10/site-packages/sklearn/preprocessing/_label.py:154: DataConversionWarning: A column-vector y was passed when a 1d array was expected. Please change the shape of y to (n_samples, ), for example using ravel().\n",
      "  y = column_or_1d(y, warn=True)\n"
     ]
    },
    {
     "name": "stdout",
     "output_type": "stream",
     "text": [
      "SCORE: 0.9878364389233955\n"
     ]
    },
    {
     "name": "stderr",
     "output_type": "stream",
     "text": [
      "/home/user/.local/lib/python3.10/site-packages/sklearn/preprocessing/_label.py:154: DataConversionWarning: A column-vector y was passed when a 1d array was expected. Please change the shape of y to (n_samples, ), for example using ravel().\n",
      "  y = column_or_1d(y, warn=True)\n"
     ]
    },
    {
     "name": "stdout",
     "output_type": "stream",
     "text": [
      "SCORE: 0.9756493506493508\n"
     ]
    },
    {
     "name": "stderr",
     "output_type": "stream",
     "text": [
      "/home/user/.local/lib/python3.10/site-packages/sklearn/preprocessing/_label.py:154: DataConversionWarning: A column-vector y was passed when a 1d array was expected. Please change the shape of y to (n_samples, ), for example using ravel().\n",
      "  y = column_or_1d(y, warn=True)\n"
     ]
    },
    {
     "name": "stdout",
     "output_type": "stream",
     "text": [
      "SCORE: 0.9875541125541127\n"
     ]
    },
    {
     "name": "stderr",
     "output_type": "stream",
     "text": [
      "/home/user/.local/lib/python3.10/site-packages/sklearn/preprocessing/_label.py:154: DataConversionWarning: A column-vector y was passed when a 1d array was expected. Please change the shape of y to (n_samples, ), for example using ravel().\n",
      "  y = column_or_1d(y, warn=True)\n"
     ]
    },
    {
     "name": "stdout",
     "output_type": "stream",
     "text": [
      "SCORE: 0.9821428571428571\n"
     ]
    },
    {
     "name": "stderr",
     "output_type": "stream",
     "text": [
      "/home/user/.local/lib/python3.10/site-packages/sklearn/preprocessing/_label.py:154: DataConversionWarning: A column-vector y was passed when a 1d array was expected. Please change the shape of y to (n_samples, ), for example using ravel().\n",
      "  y = column_or_1d(y, warn=True)\n"
     ]
    },
    {
     "name": "stdout",
     "output_type": "stream",
     "text": [
      "SCORE: 0.9569922830792397\n"
     ]
    },
    {
     "name": "stderr",
     "output_type": "stream",
     "text": [
      "/home/user/.local/lib/python3.10/site-packages/sklearn/preprocessing/_label.py:154: DataConversionWarning: A column-vector y was passed when a 1d array was expected. Please change the shape of y to (n_samples, ), for example using ravel().\n",
      "  y = column_or_1d(y, warn=True)\n"
     ]
    },
    {
     "name": "stdout",
     "output_type": "stream",
     "text": [
      "SCORE: 0.9878364389233955\n"
     ]
    },
    {
     "name": "stderr",
     "output_type": "stream",
     "text": [
      "/home/user/.local/lib/python3.10/site-packages/sklearn/preprocessing/_label.py:154: DataConversionWarning: A column-vector y was passed when a 1d array was expected. Please change the shape of y to (n_samples, ), for example using ravel().\n",
      "  y = column_or_1d(y, warn=True)\n"
     ]
    },
    {
     "name": "stdout",
     "output_type": "stream",
     "text": [
      "SCORE: 0.9626651609260305\n"
     ]
    },
    {
     "name": "stderr",
     "output_type": "stream",
     "text": [
      "/home/user/.local/lib/python3.10/site-packages/sklearn/preprocessing/_label.py:154: DataConversionWarning: A column-vector y was passed when a 1d array was expected. Please change the shape of y to (n_samples, ), for example using ravel().\n",
      "  y = column_or_1d(y, warn=True)\n"
     ]
    },
    {
     "name": "stdout",
     "output_type": "stream",
     "text": [
      "SCORE: 0.9707142857142858\n"
     ]
    },
    {
     "name": "stderr",
     "output_type": "stream",
     "text": [
      "/home/user/.local/lib/python3.10/site-packages/sklearn/preprocessing/_label.py:154: DataConversionWarning: A column-vector y was passed when a 1d array was expected. Please change the shape of y to (n_samples, ), for example using ravel().\n",
      "  y = column_or_1d(y, warn=True)\n"
     ]
    },
    {
     "name": "stdout",
     "output_type": "stream",
     "text": [
      "SCORE: 0.9763636363636363\n"
     ]
    },
    {
     "name": "stderr",
     "output_type": "stream",
     "text": [
      "/home/user/.local/lib/python3.10/site-packages/sklearn/preprocessing/_label.py:154: DataConversionWarning: A column-vector y was passed when a 1d array was expected. Please change the shape of y to (n_samples, ), for example using ravel().\n",
      "  y = column_or_1d(y, warn=True)\n"
     ]
    },
    {
     "name": "stdout",
     "output_type": "stream",
     "text": [
      "SCORE: 0.9942857142857143\n"
     ]
    },
    {
     "name": "stderr",
     "output_type": "stream",
     "text": [
      "/home/user/.local/lib/python3.10/site-packages/sklearn/preprocessing/_label.py:154: DataConversionWarning: A column-vector y was passed when a 1d array was expected. Please change the shape of y to (n_samples, ), for example using ravel().\n",
      "  y = column_or_1d(y, warn=True)\n"
     ]
    },
    {
     "name": "stdout",
     "output_type": "stream",
     "text": [
      "SCORE: 0.9514718614718615\n",
      "SCORE: 0.9810606060606061\n",
      "CPU times: user 10min 9s, sys: 57.5 s, total: 11min 6s\n",
      "Wall time: 1h 6min 48s\n"
     ]
    },
    {
     "name": "stderr",
     "output_type": "stream",
     "text": [
      "/home/user/.local/lib/python3.10/site-packages/sklearn/preprocessing/_label.py:154: DataConversionWarning: A column-vector y was passed when a 1d array was expected. Please change the shape of y to (n_samples, ), for example using ravel().\n",
      "  y = column_or_1d(y, warn=True)\n"
     ]
    },
    {
     "data": {
      "text/plain": [
       "(0.9767003889829977,\n",
       " [0.9686147186147186,\n",
       "  0.9580745341614907,\n",
       "  0.9637445887445887,\n",
       "  0.9880952380952381,\n",
       "  0.9580745341614907,\n",
       "  0.9691558441558442,\n",
       "  0.9935064935064936,\n",
       "  0.9759316770186335,\n",
       "  0.9756728778467909,\n",
       "  0.9699792960662527,\n",
       "  0.9818840579710144,\n",
       "  0.9937888198757764,\n",
       "  0.9759316770186335,\n",
       "  0.9878364389233953,\n",
       "  0.9810606060606062,\n",
       "  0.9935064935064936,\n",
       "  0.9761904761904763,\n",
       "  0.9753905514775081,\n",
       "  0.9878364389233955,\n",
       "  0.9756493506493508,\n",
       "  0.9875541125541127,\n",
       "  0.9821428571428571,\n",
       "  0.9569922830792397,\n",
       "  0.9878364389233955,\n",
       "  0.9626651609260305,\n",
       "  0.9707142857142858,\n",
       "  0.9763636363636363,\n",
       "  0.9942857142857143,\n",
       "  0.9514718614718615,\n",
       "  0.9810606060606061])"
      ]
     },
     "execution_count": 320,
     "metadata": {},
     "output_type": "execute_result"
    }
   ],
   "source": [
    "%%time\n",
    "# PUBLIC: 0.984110\n",
    "knn = Pipeline([('scaler', StandardScaler()),\n",
    "                ('knn', KNeighborsClassifier(7, weights='distance', p=2))])\n",
    "logreg = Pipeline([('scaler', StandardScaler()),\n",
    "                   ('logreg', LogisticRegression(penalty='l1', C=0.5, solver='liblinear', random_state=228))])\n",
    "svc = Pipeline([('min_max', StandardScaler()),\n",
    "                ('svc', SVC(C=4, kernel='rbf', random_state=228))])\n",
    "mlp = Pipeline([('min_max', StandardScaler()),\n",
    "                ('mlp', MLPClassifier(max_iter=500, hidden_layer_sizes=(50, ), activation='tanh', random_state=228))])\n",
    "rf = RandomForestClassifier(n_estimators=500, max_features='log2', min_samples_split=3, random_state=228)\n",
    "lgbm_1 = LGBMClassifier(boosting_type='dart', learning_rate=0.2, n_estimators=150, random_state=228)\n",
    "lgbm_2 = Pipeline([\n",
    "    ('dropper', FeaturesFilter([i for i, c in enumerate(X_train.columns) if '=' not in c])),\n",
    "    ('lgbm', LGBMClassifier(boosting_type='gbdt', learning_rate=0.1, n_estimators=100, random_state=18))\n",
    "])\n",
    "lgbm_3 = LGBMClassifier(boosting_type='gbdt', learning_rate=0.1, n_estimators=500, random_state=228228)\n",
    "ctb = CatBoostClassifier(n_estimators=300, depth=6, random_state=228, verbose=False)\n",
    "\n",
    "estimators = [\n",
    "    ('knn', knn),\n",
    "    ('logreg', logreg),\n",
    "    ('svc', svc),\n",
    "    ('mlp', mlp),\n",
    "    ('rf', rf),\n",
    "    ('lgbm_1', lgbm_1),\n",
    "    ('lgbm_2', lgbm_2),\n",
    "    ('lgbm_3', lgbm_3),\n",
    "    ('ctb', ctb)\n",
    "]\n",
    "clf = StackingClassifier(estimators=estimators, final_estimator=CatBoostClassifier(max_depth=2, random_state=228, verbose=False), n_jobs=-1)\n",
    "scores, model = cross_val_score(clf, X_train, y_train, random_state=18, n_splits=30)\n",
    "np.mean(scores), scores"
   ]
  },
  {
   "cell_type": "code",
   "execution_count": null,
   "metadata": {},
   "outputs": [],
   "source": []
  }
 ],
 "metadata": {
  "colab": {
   "provenance": []
  },
  "kernelspec": {
   "display_name": "Python 3 (ipykernel)",
   "language": "python",
   "name": "python3"
  },
  "language_info": {
   "codemirror_mode": {
    "name": "ipython",
    "version": 3
   },
   "file_extension": ".py",
   "mimetype": "text/x-python",
   "name": "python",
   "nbconvert_exporter": "python",
   "pygments_lexer": "ipython3",
   "version": "3.10.6"
  },
  "varInspector": {
   "cols": {
    "lenName": 16,
    "lenType": 16,
    "lenVar": 40
   },
   "kernels_config": {
    "python": {
     "delete_cmd_postfix": "",
     "delete_cmd_prefix": "del ",
     "library": "var_list.py",
     "varRefreshCmd": "print(var_dic_list())"
    },
    "r": {
     "delete_cmd_postfix": ") ",
     "delete_cmd_prefix": "rm(",
     "library": "var_list.r",
     "varRefreshCmd": "cat(var_dic_list()) "
    }
   },
   "types_to_exclude": [
    "module",
    "function",
    "builtin_function_or_method",
    "instance",
    "_Feature"
   ],
   "window_display": false
  }
 },
 "nbformat": 4,
 "nbformat_minor": 1
}
